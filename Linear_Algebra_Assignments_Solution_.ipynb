{
  "cells": [
    {
      "cell_type": "markdown",
      "source": [
        "# **Linear Equation System**"
      ],
      "metadata": {
        "id": "iA4c1wOOhruX"
      },
      "id": "iA4c1wOOhruX"
    },
    {
      "cell_type": "markdown",
      "source": [
        "### You will work with a simple data set that contains farm yield values of certain food grains\n",
        "\n",
        "you will perform the following tasks:\n",
        "- Load and study the data\n",
        "- Understand the problem\n",
        "- Extract yield values as a matrix from the data\n",
        "- Calculate the number of acres to provide to each farmer to achieve the target yield"
      ],
      "metadata": {
        "id": "inFQEWsxhzDm"
      },
      "id": "inFQEWsxhzDm"
    },
    {
      "cell_type": "markdown",
      "source": [
        "# **`WATCH ALL VIDEOS IN THE PORTAL`**\n",
        "## **`Watch Video 7 : Matrix Equation `**"
      ],
      "metadata": {
        "id": "o8821xleOEQ9"
      },
      "id": "o8821xleOEQ9"
    },
    {
      "cell_type": "markdown",
      "source": [
        "### Task 1 - Load and study the data"
      ],
      "metadata": {
        "id": "G1AIYUp2iTv7"
      },
      "id": "G1AIYUp2iTv7"
    },
    {
      "cell_type": "code",
      "execution_count": 1,
      "id": "9f5c393c",
      "metadata": {
        "id": "9f5c393c"
      },
      "outputs": [],
      "source": [
        "# Import \"numpy\" and \"pandas\" for manipulating numbers, vectors and data frames\n",
        "import numpy as np\n",
        "import pandas as pd\n"
      ]
    },
    {
      "cell_type": "markdown",
      "source": [
        "#### Load the data and study its features such as:\n",
        "- The number of farmers\n",
        "- The number of food grain types\n",
        "- The ranges of yield values"
      ],
      "metadata": {
        "id": "bjTrwXUKiaj_"
      },
      "id": "bjTrwXUKiaj_"
    },
    {
      "cell_type": "code",
      "execution_count": 2,
      "id": "5608a781",
      "metadata": {
        "id": "5608a781"
      },
      "outputs": [],
      "source": [
        "# Read in the \"Farm_Yields.csv\" file as a Pandas Data Frame\n",
        "# Note: Make sure the code and the data are in the same folder or specify the appropriate path for the data\n",
        "df = pd.read_csv(\"/content/Farm_Yields.csv\",index_col=0)\n"
      ]
    },
    {
      "cell_type": "code",
      "execution_count": 3,
      "id": "9385b905",
      "metadata": {
        "id": "9385b905",
        "outputId": "490219f8-f65d-40f0-ba43-18d083e6dd38",
        "colab": {
          "base_uri": "https://localhost:8080/",
          "height": 206
        }
      },
      "outputs": [
        {
          "output_type": "execute_result",
          "data": {
            "text/plain": [
              "         Rice  Wheat  Corn  Millets\n",
              "Farmer                             \n",
              "Ravi       22     20    37       13\n",
              "Saju       18     21    43       15\n",
              "Kishore    17     14    25       28\n",
              "Satish     12     16    52        8"
            ],
            "text/html": [
              "\n",
              "  <div id=\"df-77ec9be1-5faf-4ec4-a1ce-ff7b0e1f6386\">\n",
              "    <div class=\"colab-df-container\">\n",
              "      <div>\n",
              "<style scoped>\n",
              "    .dataframe tbody tr th:only-of-type {\n",
              "        vertical-align: middle;\n",
              "    }\n",
              "\n",
              "    .dataframe tbody tr th {\n",
              "        vertical-align: top;\n",
              "    }\n",
              "\n",
              "    .dataframe thead th {\n",
              "        text-align: right;\n",
              "    }\n",
              "</style>\n",
              "<table border=\"1\" class=\"dataframe\">\n",
              "  <thead>\n",
              "    <tr style=\"text-align: right;\">\n",
              "      <th></th>\n",
              "      <th>Rice</th>\n",
              "      <th>Wheat</th>\n",
              "      <th>Corn</th>\n",
              "      <th>Millets</th>\n",
              "    </tr>\n",
              "    <tr>\n",
              "      <th>Farmer</th>\n",
              "      <th></th>\n",
              "      <th></th>\n",
              "      <th></th>\n",
              "      <th></th>\n",
              "    </tr>\n",
              "  </thead>\n",
              "  <tbody>\n",
              "    <tr>\n",
              "      <th>Ravi</th>\n",
              "      <td>22</td>\n",
              "      <td>20</td>\n",
              "      <td>37</td>\n",
              "      <td>13</td>\n",
              "    </tr>\n",
              "    <tr>\n",
              "      <th>Saju</th>\n",
              "      <td>18</td>\n",
              "      <td>21</td>\n",
              "      <td>43</td>\n",
              "      <td>15</td>\n",
              "    </tr>\n",
              "    <tr>\n",
              "      <th>Kishore</th>\n",
              "      <td>17</td>\n",
              "      <td>14</td>\n",
              "      <td>25</td>\n",
              "      <td>28</td>\n",
              "    </tr>\n",
              "    <tr>\n",
              "      <th>Satish</th>\n",
              "      <td>12</td>\n",
              "      <td>16</td>\n",
              "      <td>52</td>\n",
              "      <td>8</td>\n",
              "    </tr>\n",
              "  </tbody>\n",
              "</table>\n",
              "</div>\n",
              "      <button class=\"colab-df-convert\" onclick=\"convertToInteractive('df-77ec9be1-5faf-4ec4-a1ce-ff7b0e1f6386')\"\n",
              "              title=\"Convert this dataframe to an interactive table.\"\n",
              "              style=\"display:none;\">\n",
              "        \n",
              "  <svg xmlns=\"http://www.w3.org/2000/svg\" height=\"24px\"viewBox=\"0 0 24 24\"\n",
              "       width=\"24px\">\n",
              "    <path d=\"M0 0h24v24H0V0z\" fill=\"none\"/>\n",
              "    <path d=\"M18.56 5.44l.94 2.06.94-2.06 2.06-.94-2.06-.94-.94-2.06-.94 2.06-2.06.94zm-11 1L8.5 8.5l.94-2.06 2.06-.94-2.06-.94L8.5 2.5l-.94 2.06-2.06.94zm10 10l.94 2.06.94-2.06 2.06-.94-2.06-.94-.94-2.06-.94 2.06-2.06.94z\"/><path d=\"M17.41 7.96l-1.37-1.37c-.4-.4-.92-.59-1.43-.59-.52 0-1.04.2-1.43.59L10.3 9.45l-7.72 7.72c-.78.78-.78 2.05 0 2.83L4 21.41c.39.39.9.59 1.41.59.51 0 1.02-.2 1.41-.59l7.78-7.78 2.81-2.81c.8-.78.8-2.07 0-2.86zM5.41 20L4 18.59l7.72-7.72 1.47 1.35L5.41 20z\"/>\n",
              "  </svg>\n",
              "      </button>\n",
              "      \n",
              "  <style>\n",
              "    .colab-df-container {\n",
              "      display:flex;\n",
              "      flex-wrap:wrap;\n",
              "      gap: 12px;\n",
              "    }\n",
              "\n",
              "    .colab-df-convert {\n",
              "      background-color: #E8F0FE;\n",
              "      border: none;\n",
              "      border-radius: 50%;\n",
              "      cursor: pointer;\n",
              "      display: none;\n",
              "      fill: #1967D2;\n",
              "      height: 32px;\n",
              "      padding: 0 0 0 0;\n",
              "      width: 32px;\n",
              "    }\n",
              "\n",
              "    .colab-df-convert:hover {\n",
              "      background-color: #E2EBFA;\n",
              "      box-shadow: 0px 1px 2px rgba(60, 64, 67, 0.3), 0px 1px 3px 1px rgba(60, 64, 67, 0.15);\n",
              "      fill: #174EA6;\n",
              "    }\n",
              "\n",
              "    [theme=dark] .colab-df-convert {\n",
              "      background-color: #3B4455;\n",
              "      fill: #D2E3FC;\n",
              "    }\n",
              "\n",
              "    [theme=dark] .colab-df-convert:hover {\n",
              "      background-color: #434B5C;\n",
              "      box-shadow: 0px 1px 3px 1px rgba(0, 0, 0, 0.15);\n",
              "      filter: drop-shadow(0px 1px 2px rgba(0, 0, 0, 0.3));\n",
              "      fill: #FFFFFF;\n",
              "    }\n",
              "  </style>\n",
              "\n",
              "      <script>\n",
              "        const buttonEl =\n",
              "          document.querySelector('#df-77ec9be1-5faf-4ec4-a1ce-ff7b0e1f6386 button.colab-df-convert');\n",
              "        buttonEl.style.display =\n",
              "          google.colab.kernel.accessAllowed ? 'block' : 'none';\n",
              "\n",
              "        async function convertToInteractive(key) {\n",
              "          const element = document.querySelector('#df-77ec9be1-5faf-4ec4-a1ce-ff7b0e1f6386');\n",
              "          const dataTable =\n",
              "            await google.colab.kernel.invokeFunction('convertToInteractive',\n",
              "                                                     [key], {});\n",
              "          if (!dataTable) return;\n",
              "\n",
              "          const docLinkHtml = 'Like what you see? Visit the ' +\n",
              "            '<a target=\"_blank\" href=https://colab.research.google.com/notebooks/data_table.ipynb>data table notebook</a>'\n",
              "            + ' to learn more about interactive tables.';\n",
              "          element.innerHTML = '';\n",
              "          dataTable['output_type'] = 'display_data';\n",
              "          await google.colab.output.renderOutput(dataTable, element);\n",
              "          const docLink = document.createElement('div');\n",
              "          docLink.innerHTML = docLinkHtml;\n",
              "          element.appendChild(docLink);\n",
              "        }\n",
              "      </script>\n",
              "    </div>\n",
              "  </div>\n",
              "  "
            ]
          },
          "metadata": {},
          "execution_count": 3
        }
      ],
      "source": [
        "# Take a brief look at the data frame using \".head()\"\n",
        "df.head()\n"
      ]
    },
    {
      "cell_type": "markdown",
      "source": [
        "#### Feature Description:\n",
        "\n",
        "- This data set contains the yearly yield values of rice, wheat, corn and millets per acre promised by four farmers.\n",
        "\n",
        "- Farmer = name of the farmer\n",
        "- Rice = amount of rice promised by the farmer in quintals per acre per year\n",
        "- Wheat = amount of wheat promised by the farmer in quintals per acre per year\n",
        "- Corn = amount of corn promised by the farmer in quintals per acre per year\n",
        "- Millets = amount of millets promised by the farmer in quintals per acre per year"
      ],
      "metadata": {
        "id": "gRQcNYVxioXm"
      },
      "id": "gRQcNYVxioXm"
    },
    {
      "cell_type": "code",
      "execution_count": 4,
      "id": "5b5bb00f",
      "metadata": {
        "id": "5b5bb00f",
        "outputId": "dae0531f-7aae-4fca-ec44-17f724b38b74",
        "colab": {
          "base_uri": "https://localhost:8080/"
        }
      },
      "outputs": [
        {
          "output_type": "execute_result",
          "data": {
            "text/plain": [
              "(4, 4)"
            ]
          },
          "metadata": {},
          "execution_count": 4
        }
      ],
      "source": [
        "# Check the dimensions of the data frame using \".shape\"\n",
        "df.shape\n"
      ]
    },
    {
      "cell_type": "code",
      "execution_count": 5,
      "id": "a6b34a1e",
      "metadata": {
        "id": "a6b34a1e",
        "outputId": "0892ad5c-276f-40ce-d123-a8034f62b78d",
        "colab": {
          "base_uri": "https://localhost:8080/"
        }
      },
      "outputs": [
        {
          "output_type": "stream",
          "name": "stdout",
          "text": [
            "<class 'pandas.core.frame.DataFrame'>\n",
            "Index: 4 entries, Ravi to Satish\n",
            "Data columns (total 4 columns):\n",
            " #   Column   Non-Null Count  Dtype\n",
            "---  ------   --------------  -----\n",
            " 0   Rice     4 non-null      int64\n",
            " 1   Wheat    4 non-null      int64\n",
            " 2   Corn     4 non-null      int64\n",
            " 3   Millets  4 non-null      int64\n",
            "dtypes: int64(4)\n",
            "memory usage: 332.0+ bytes\n"
          ]
        }
      ],
      "source": [
        "# View basic information about the data frame using \".info()\"\n",
        "\n",
        "df.info()"
      ]
    },
    {
      "cell_type": "code",
      "execution_count": 6,
      "id": "f0bbb65b",
      "metadata": {
        "id": "f0bbb65b",
        "outputId": "501790cc-8b4b-4bfa-8bcf-15e2c8ff641d",
        "colab": {
          "base_uri": "https://localhost:8080/",
          "height": 175
        }
      },
      "outputs": [
        {
          "output_type": "execute_result",
          "data": {
            "text/plain": [
              "         count   mean        std   min    25%   50%    75%   max\n",
              "Rice       4.0  17.25   4.112988  12.0  15.75  17.5  19.00  22.0\n",
              "Wheat      4.0  17.75   3.304038  14.0  15.50  18.0  20.25  21.0\n",
              "Corn       4.0  39.25  11.324752  25.0  34.00  40.0  45.25  52.0\n",
              "Millets    4.0  16.00   8.524475   8.0  11.75  14.0  18.25  28.0"
            ],
            "text/html": [
              "\n",
              "  <div id=\"df-39befd3c-f439-4dcf-ab15-bb5d9f153da8\">\n",
              "    <div class=\"colab-df-container\">\n",
              "      <div>\n",
              "<style scoped>\n",
              "    .dataframe tbody tr th:only-of-type {\n",
              "        vertical-align: middle;\n",
              "    }\n",
              "\n",
              "    .dataframe tbody tr th {\n",
              "        vertical-align: top;\n",
              "    }\n",
              "\n",
              "    .dataframe thead th {\n",
              "        text-align: right;\n",
              "    }\n",
              "</style>\n",
              "<table border=\"1\" class=\"dataframe\">\n",
              "  <thead>\n",
              "    <tr style=\"text-align: right;\">\n",
              "      <th></th>\n",
              "      <th>count</th>\n",
              "      <th>mean</th>\n",
              "      <th>std</th>\n",
              "      <th>min</th>\n",
              "      <th>25%</th>\n",
              "      <th>50%</th>\n",
              "      <th>75%</th>\n",
              "      <th>max</th>\n",
              "    </tr>\n",
              "  </thead>\n",
              "  <tbody>\n",
              "    <tr>\n",
              "      <th>Rice</th>\n",
              "      <td>4.0</td>\n",
              "      <td>17.25</td>\n",
              "      <td>4.112988</td>\n",
              "      <td>12.0</td>\n",
              "      <td>15.75</td>\n",
              "      <td>17.5</td>\n",
              "      <td>19.00</td>\n",
              "      <td>22.0</td>\n",
              "    </tr>\n",
              "    <tr>\n",
              "      <th>Wheat</th>\n",
              "      <td>4.0</td>\n",
              "      <td>17.75</td>\n",
              "      <td>3.304038</td>\n",
              "      <td>14.0</td>\n",
              "      <td>15.50</td>\n",
              "      <td>18.0</td>\n",
              "      <td>20.25</td>\n",
              "      <td>21.0</td>\n",
              "    </tr>\n",
              "    <tr>\n",
              "      <th>Corn</th>\n",
              "      <td>4.0</td>\n",
              "      <td>39.25</td>\n",
              "      <td>11.324752</td>\n",
              "      <td>25.0</td>\n",
              "      <td>34.00</td>\n",
              "      <td>40.0</td>\n",
              "      <td>45.25</td>\n",
              "      <td>52.0</td>\n",
              "    </tr>\n",
              "    <tr>\n",
              "      <th>Millets</th>\n",
              "      <td>4.0</td>\n",
              "      <td>16.00</td>\n",
              "      <td>8.524475</td>\n",
              "      <td>8.0</td>\n",
              "      <td>11.75</td>\n",
              "      <td>14.0</td>\n",
              "      <td>18.25</td>\n",
              "      <td>28.0</td>\n",
              "    </tr>\n",
              "  </tbody>\n",
              "</table>\n",
              "</div>\n",
              "      <button class=\"colab-df-convert\" onclick=\"convertToInteractive('df-39befd3c-f439-4dcf-ab15-bb5d9f153da8')\"\n",
              "              title=\"Convert this dataframe to an interactive table.\"\n",
              "              style=\"display:none;\">\n",
              "        \n",
              "  <svg xmlns=\"http://www.w3.org/2000/svg\" height=\"24px\"viewBox=\"0 0 24 24\"\n",
              "       width=\"24px\">\n",
              "    <path d=\"M0 0h24v24H0V0z\" fill=\"none\"/>\n",
              "    <path d=\"M18.56 5.44l.94 2.06.94-2.06 2.06-.94-2.06-.94-.94-2.06-.94 2.06-2.06.94zm-11 1L8.5 8.5l.94-2.06 2.06-.94-2.06-.94L8.5 2.5l-.94 2.06-2.06.94zm10 10l.94 2.06.94-2.06 2.06-.94-2.06-.94-.94-2.06-.94 2.06-2.06.94z\"/><path d=\"M17.41 7.96l-1.37-1.37c-.4-.4-.92-.59-1.43-.59-.52 0-1.04.2-1.43.59L10.3 9.45l-7.72 7.72c-.78.78-.78 2.05 0 2.83L4 21.41c.39.39.9.59 1.41.59.51 0 1.02-.2 1.41-.59l7.78-7.78 2.81-2.81c.8-.78.8-2.07 0-2.86zM5.41 20L4 18.59l7.72-7.72 1.47 1.35L5.41 20z\"/>\n",
              "  </svg>\n",
              "      </button>\n",
              "      \n",
              "  <style>\n",
              "    .colab-df-container {\n",
              "      display:flex;\n",
              "      flex-wrap:wrap;\n",
              "      gap: 12px;\n",
              "    }\n",
              "\n",
              "    .colab-df-convert {\n",
              "      background-color: #E8F0FE;\n",
              "      border: none;\n",
              "      border-radius: 50%;\n",
              "      cursor: pointer;\n",
              "      display: none;\n",
              "      fill: #1967D2;\n",
              "      height: 32px;\n",
              "      padding: 0 0 0 0;\n",
              "      width: 32px;\n",
              "    }\n",
              "\n",
              "    .colab-df-convert:hover {\n",
              "      background-color: #E2EBFA;\n",
              "      box-shadow: 0px 1px 2px rgba(60, 64, 67, 0.3), 0px 1px 3px 1px rgba(60, 64, 67, 0.15);\n",
              "      fill: #174EA6;\n",
              "    }\n",
              "\n",
              "    [theme=dark] .colab-df-convert {\n",
              "      background-color: #3B4455;\n",
              "      fill: #D2E3FC;\n",
              "    }\n",
              "\n",
              "    [theme=dark] .colab-df-convert:hover {\n",
              "      background-color: #434B5C;\n",
              "      box-shadow: 0px 1px 3px 1px rgba(0, 0, 0, 0.15);\n",
              "      filter: drop-shadow(0px 1px 2px rgba(0, 0, 0, 0.3));\n",
              "      fill: #FFFFFF;\n",
              "    }\n",
              "  </style>\n",
              "\n",
              "      <script>\n",
              "        const buttonEl =\n",
              "          document.querySelector('#df-39befd3c-f439-4dcf-ab15-bb5d9f153da8 button.colab-df-convert');\n",
              "        buttonEl.style.display =\n",
              "          google.colab.kernel.accessAllowed ? 'block' : 'none';\n",
              "\n",
              "        async function convertToInteractive(key) {\n",
              "          const element = document.querySelector('#df-39befd3c-f439-4dcf-ab15-bb5d9f153da8');\n",
              "          const dataTable =\n",
              "            await google.colab.kernel.invokeFunction('convertToInteractive',\n",
              "                                                     [key], {});\n",
              "          if (!dataTable) return;\n",
              "\n",
              "          const docLinkHtml = 'Like what you see? Visit the ' +\n",
              "            '<a target=\"_blank\" href=https://colab.research.google.com/notebooks/data_table.ipynb>data table notebook</a>'\n",
              "            + ' to learn more about interactive tables.';\n",
              "          element.innerHTML = '';\n",
              "          dataTable['output_type'] = 'display_data';\n",
              "          await google.colab.output.renderOutput(dataTable, element);\n",
              "          const docLink = document.createElement('div');\n",
              "          docLink.innerHTML = docLinkHtml;\n",
              "          element.appendChild(docLink);\n",
              "        }\n",
              "      </script>\n",
              "    </div>\n",
              "  </div>\n",
              "  "
            ]
          },
          "metadata": {},
          "execution_count": 6
        }
      ],
      "source": [
        "# View a statistical summary of the data frame using \".describe()\"\n",
        "# Note: Use \".transpose()\" to make the summary easier to read\n",
        "df.describe().transpose()\n"
      ]
    },
    {
      "cell_type": "markdown",
      "source": [
        "#### Observations\n",
        "\n",
        "- There are 4 rows and 4 columns\n",
        "- Each row contains the yearly yield values of food grains per acre promised by a particular farmer\n",
        "- Each column contains the yearly yield values of a particular food grain per acre from all the farmers"
      ],
      "metadata": {
        "id": "IkwlfDnKi9Li"
      },
      "id": "IkwlfDnKi9Li"
    },
    {
      "cell_type": "markdown",
      "source": [
        "### Task 2 - Understand the problem\n"
      ],
      "metadata": {
        "id": "y-7gKGZujIX2"
      },
      "id": "y-7gKGZujIX2"
    },
    {
      "cell_type": "markdown",
      "source": [
        "#### Problem Statement\n",
        "\n",
        " Assume that the locality served by the four farmers needs the following amounts of food grains in the coming year:\n",
        "- 373 quintals of rice\n",
        "- 394 quintals of wheat\n",
        "- 922 qunitals of corn\n",
        "- 299 quintals of millets"
      ],
      "metadata": {
        "id": "HzPDAaXajOK9"
      },
      "id": "HzPDAaXajOK9"
    },
    {
      "cell_type": "markdown",
      "source": [
        "#### The farm land owner has to decided how many acres to provide to each farmer to achieve this target for his locality\n",
        "\n",
        "- The data contains the yield values of 4 food grains promised by 4 farmers. These yield values are in quintals per acre per year"
      ],
      "metadata": {
        "id": "gORPjfifjvm5"
      },
      "id": "gORPjfifjvm5"
    },
    {
      "cell_type": "markdown",
      "source": [
        "#### **Concept and Logic**\n",
        "1. Let A be matrix of the yield values (4 x 4 matrix)\n",
        "2. Let X be the number of acres to be provided to each farmer (4 x 1 matrix)\n",
        "3. Let B be the total required yield values after one year (4 x 1 matrix)\n",
        "4.  The matrix equation will be A * X = B\n",
        "5. So, we can solve for X using the equation X = inverse(A) * B\n",
        "\n",
        "**Note:** The data has farmer names as rows and food grains as columns. For the matrix equation to be meaningful, the matrix A must have farmer names as columns and food grains as rows"
      ],
      "metadata": {
        "id": "c6-G4hIfkEz5"
      },
      "id": "c6-G4hIfkEz5"
    },
    {
      "cell_type": "markdown",
      "source": [
        "![](https://bytepawn.com/images/axb.PNG)"
      ],
      "metadata": {
        "id": "Bnc_2rThmSkY"
      },
      "id": "Bnc_2rThmSkY"
    },
    {
      "cell_type": "markdown",
      "source": [
        "# **`Watch Video 7 : Linear Equation `**"
      ],
      "metadata": {
        "id": "JfRM4IbyOiql"
      },
      "id": "JfRM4IbyOiql"
    },
    {
      "cell_type": "markdown",
      "source": [
        "### Task 3 - Extract yield values as a matrix from the data"
      ],
      "metadata": {
        "id": "qdgHrS88kmZ8"
      },
      "id": "qdgHrS88kmZ8"
    },
    {
      "cell_type": "markdown",
      "source": [
        "- The farm yield values are in quintals per acre per year\n",
        "- These yield values will form a 4 x 4 matrix (considering all farmers)"
      ],
      "metadata": {
        "id": "3h_8NpqbkrmQ"
      },
      "id": "3h_8NpqbkrmQ"
    },
    {
      "cell_type": "code",
      "execution_count": 7,
      "id": "dec46965",
      "metadata": {
        "id": "dec46965"
      },
      "outputs": [],
      "source": [
        "# Convert the data frame into a matrix using \"np.matrix()\" and call the matrix \"mat_yields\"\n",
        "# Note: This matrix will serve as the coefficient matrix for the system of linear equations that we will develop later\n",
        "# Note: For this reason, each column of the coefficient matrix must correspond to a particular farmer\n",
        "# Note: Take the transpose of the data using \".transpose()\" after converting it into a matrix before storing it in \"mat_yields\"\n",
        "mat_yields =np.matrix(df).transpose() \n"
      ]
    },
    {
      "cell_type": "code",
      "execution_count": 8,
      "id": "5d62ea26",
      "metadata": {
        "id": "5d62ea26",
        "outputId": "4e019787-5b70-40d9-e114-32d018be1ee8",
        "colab": {
          "base_uri": "https://localhost:8080/"
        }
      },
      "outputs": [
        {
          "output_type": "execute_result",
          "data": {
            "text/plain": [
              "matrix([[22, 18, 17, 12],\n",
              "        [20, 21, 14, 16],\n",
              "        [37, 43, 25, 52],\n",
              "        [13, 15, 28,  8]])"
            ]
          },
          "metadata": {},
          "execution_count": 8
        }
      ],
      "source": [
        "# Print the matrix \"mat_yields\"\n",
        "mat_yields"
      ]
    },
    {
      "cell_type": "code",
      "execution_count": 9,
      "id": "3e17035e",
      "metadata": {
        "id": "3e17035e",
        "outputId": "0410856d-1124-4579-b250-47f2f07f66d0",
        "colab": {
          "base_uri": "https://localhost:8080/"
        }
      },
      "outputs": [
        {
          "output_type": "execute_result",
          "data": {
            "text/plain": [
              "(4, 4)"
            ]
          },
          "metadata": {},
          "execution_count": 9
        }
      ],
      "source": [
        "# Check the dimensions of the \"mat_yields\" matrix using \".shape\"\n",
        "mat_yields.shape\n"
      ]
    },
    {
      "cell_type": "markdown",
      "source": [
        "### Observations\n",
        "\n",
        "- The farm yield values for rice, wheat, corn and millets for the 4 farmers is a 4 x 4 matrix\n",
        "- The columns now hold the yield values of particular farmers\n",
        "- The Numpy Matrix holds only values and does not have any indices"
      ],
      "metadata": {
        "id": "4fA-x5G3k0r0"
      },
      "id": "4fA-x5G3k0r0"
    },
    {
      "cell_type": "markdown",
      "source": [
        "### Task 4 - Calculate the number of acres to provide to each farmer to achieve the target yield"
      ],
      "metadata": {
        "id": "IHn-iORsk6I6"
      },
      "id": "IHn-iORsk6I6"
    },
    {
      "cell_type": "markdown",
      "source": [
        "##### The farm yield values for rice, wheat, corn and millets for the 4 farmers is a 4 x 4 matrix. The columns hold the yield values of particular farmers. The locality served by the four farmers needs the following amounts of food grains in the coming year:\n",
        "- 373 quintals of rice\n",
        "- 394 quintals of wheat\n",
        "- 922 qunitals of corn\n",
        "- 299 quintals of millets"
      ],
      "metadata": {
        "id": "YHm7VzySlWjB"
      },
      "id": "YHm7VzySlWjB"
    },
    {
      "cell_type": "code",
      "execution_count": 10,
      "id": "9086c21f",
      "metadata": {
        "id": "9086c21f"
      },
      "outputs": [],
      "source": [
        "# Store the food grain requirements for the coming year in the appropriate order as a matrix called \"mat_food\"\n",
        "# Note: You may store these values as a Numpy List as well but \".shape\" cannot be called on a Numpy List\n",
        "# Note: To store the values as a matrix, pass them as a list to \"np.matrix()\"\n",
        "# Note: Since we want 4 rows for the 4 farmers, you need to use \".transpose()\" to transpose the matrix\n",
        "mat_food =np.matrix([373,394,922,299]).transpose()  \n"
      ]
    },
    {
      "cell_type": "code",
      "execution_count": 11,
      "id": "061716eb",
      "metadata": {
        "id": "061716eb",
        "outputId": "2e7142a9-a9d2-48aa-944b-a5b9445a7476",
        "colab": {
          "base_uri": "https://localhost:8080/"
        }
      },
      "outputs": [
        {
          "output_type": "execute_result",
          "data": {
            "text/plain": [
              "matrix([[373],\n",
              "        [394],\n",
              "        [922],\n",
              "        [299]])"
            ]
          },
          "metadata": {},
          "execution_count": 11
        }
      ],
      "source": [
        "# Print the \"mat_food\" matrix\n",
        "mat_food\n"
      ]
    },
    {
      "cell_type": "code",
      "execution_count": 12,
      "id": "d2de2c9d",
      "metadata": {
        "id": "d2de2c9d",
        "outputId": "2017afaf-243b-42fc-fb0b-a99548c2ea9d",
        "colab": {
          "base_uri": "https://localhost:8080/"
        }
      },
      "outputs": [
        {
          "output_type": "execute_result",
          "data": {
            "text/plain": [
              "(4, 1)"
            ]
          },
          "metadata": {},
          "execution_count": 12
        }
      ],
      "source": [
        "# Check the dimensions of the \"mat_food\" matrix using \".shape\"\n",
        "mat_food.shape\n"
      ]
    },
    {
      "cell_type": "markdown",
      "source": [
        "1. To find the number of acres to be given to each farmer, we will use systems of linear equations\n",
        "2. Let \"X\" be the vector of number of acres to be given to each farmer\n",
        "3. Then, the required matrix equation will be \"mat_yields * X = mat_food\"\n",
        "4. Notice that \"mat_yields\" is a 4 x 4 matrix and mat_food is a 4 x 1 matrix\n",
        "5. Hence, \"X\" will be a 4 x 1 matrix which holds the required number of acres to be given to each farmer\n",
        "6. So, we can rewrite the equation as \"X = inverse of mat_yields * mat_food\""
      ],
      "metadata": {
        "id": "GWA9UCavlqPP"
      },
      "id": "GWA9UCavlqPP"
    },
    {
      "cell_type": "markdown",
      "source": [
        "![](https://i.ytimg.com/vi/aiBgjz5xbyg/maxresdefault.jpg)"
      ],
      "metadata": {
        "id": "KP6k2qEKj0hG"
      },
      "id": "KP6k2qEKj0hG"
    },
    {
      "cell_type": "code",
      "execution_count": 13,
      "id": "f8fa4f7f",
      "metadata": {
        "id": "f8fa4f7f"
      },
      "outputs": [],
      "source": [
        "# Calculate the inverse of the \"mat_yields\" matrix using \"np.linalg.inv()\" and call it \"mat_yields_inv\"\n",
        "mat_yields_inv = np.linalg.inv(mat_yields)\n"
      ]
    },
    {
      "cell_type": "code",
      "execution_count": 14,
      "id": "5636eeac",
      "metadata": {
        "id": "5636eeac",
        "outputId": "57d82118-444e-40c1-b1d0-3510a6d346b6",
        "colab": {
          "base_uri": "https://localhost:8080/"
        }
      },
      "outputs": [
        {
          "output_type": "execute_result",
          "data": {
            "text/plain": [
              "matrix([[ 0.19836957, -0.14855072,  0.00815217, -0.05344203],\n",
              "        [-0.23845109,  0.35778986, -0.05774457,  0.01743659],\n",
              "        [ 0.02275815, -0.07925725,  0.01120924,  0.05151721],\n",
              "        [ 0.04509171, -0.15206069,  0.05579144, -0.00116055]])"
            ]
          },
          "metadata": {},
          "execution_count": 14
        }
      ],
      "source": [
        "# Print the \"mat_yields_inv\" matrix\n",
        "mat_yields_inv\n"
      ]
    },
    {
      "cell_type": "code",
      "execution_count": 15,
      "id": "36a499bc",
      "metadata": {
        "id": "36a499bc",
        "outputId": "c81acd57-6fd4-4255-cce6-b3b565697740",
        "colab": {
          "base_uri": "https://localhost:8080/"
        }
      },
      "outputs": [
        {
          "output_type": "execute_result",
          "data": {
            "text/plain": [
              "(4, 4)"
            ]
          },
          "metadata": {},
          "execution_count": 15
        }
      ],
      "source": [
        "# Check the dimensions of the \"mat_yields_inv\" matrix using \".shape\"\n",
        "mat_yields_inv.shape\n"
      ]
    },
    {
      "cell_type": "markdown",
      "source": [
        "### **Matrix * Vector**\n",
        "\n",
        "![](https://hadrienj.github.io/assets/images/2.2/dot-product.png)"
      ],
      "metadata": {
        "id": "jAYiHc2Vk82t"
      },
      "id": "jAYiHc2Vk82t"
    },
    {
      "cell_type": "code",
      "execution_count": 16,
      "id": "48655813",
      "metadata": {
        "id": "48655813",
        "outputId": "e9f66f9c-a278-4a45-9c2b-7545256d013b",
        "colab": {
          "base_uri": "https://localhost:8080/"
        }
      },
      "outputs": [
        {
          "output_type": "execute_result",
          "data": {
            "text/plain": [
              "matrix([[7.],\n",
              "        [4.],\n",
              "        [3.],\n",
              "        [8.]])"
            ]
          },
          "metadata": {},
          "execution_count": 16
        }
      ],
      "source": [
        "# Multiply the \"mat_yields_inv\" matrix by the \"mat_food\" matrix\n",
        "# Note: The order of multiplication matters\n",
        "# Note: Multiply the matrices using \"mat_yields_inv * mat_food\"\n",
        "mat_yields_inv * mat_food\n"
      ]
    },
    {
      "cell_type": "code",
      "execution_count": 17,
      "id": "7aa59f2a",
      "metadata": {
        "id": "7aa59f2a"
      },
      "outputs": [],
      "source": [
        "# Create a Pandas Series called \"acres\" with index as \"df.index\" and data as the product of the two matrices\n",
        "# Note: You will have to transpose the result back to a 1 x 4 matrix to pass it as data into a series\n",
        "# Note: You will have to convert the resultant matrix into an array using \"np.array()\" and then extract out only the list\n",
        "acres =pd.Series(index=df.index,data=np.array((mat_yields_inv*mat_food).transpose())[0])\n"
      ]
    },
    {
      "cell_type": "code",
      "execution_count": 18,
      "id": "6b4ff3b5",
      "metadata": {
        "id": "6b4ff3b5",
        "outputId": "27334510-650b-49e1-ac37-afa55d323738",
        "colab": {
          "base_uri": "https://localhost:8080/"
        }
      },
      "outputs": [
        {
          "output_type": "execute_result",
          "data": {
            "text/plain": [
              "Farmer\n",
              "Ravi       7.0\n",
              "Saju       4.0\n",
              "Kishore    3.0\n",
              "Satish     8.0\n",
              "dtype: float64"
            ]
          },
          "metadata": {},
          "execution_count": 18
        }
      ],
      "source": [
        "# Print the \"acres\" series\n",
        "acres\n"
      ]
    },
    {
      "cell_type": "markdown",
      "source": [
        "#### Observations\n",
        "\n",
        "- The farmer Ravi will get 7 acres of land\n",
        "- The farmer Saju will get 4 acres of land\n",
        "- The farmer Kishore will get 3 acres of land\n",
        "- The farmer Satish will get 8 acres of land"
      ],
      "metadata": {
        "id": "XVDatYKfl119"
      },
      "id": "XVDatYKfl119"
    },
    {
      "cell_type": "markdown",
      "source": [
        "### Conclusions\n",
        "\n",
        "- From the farm yields data and some target yield, we can calculate the distbution of land between farmers\n",
        "- We can treat the farm yield values of all the farmers as a matrix\n",
        "- We can use matrix equations and matrix inverses to solve such problems"
      ],
      "metadata": {
        "id": "J0jCJL1fl-fX"
      },
      "id": "J0jCJL1fl-fX"
    },
    {
      "cell_type": "markdown",
      "source": [
        "# **FEEDBACK**\n",
        "\n",
        "https://forms.zohopublic.in/cloudyml/form/CloudyMLStatisticsFeedbackForm/formperma/WV946wnf0sDM_tOlH87RxZR9yMceKWGrtuPOyXzzCRc"
      ],
      "metadata": {
        "id": "OFKMq58Ukevd"
      },
      "id": "OFKMq58Ukevd"
    }
  ],
  "metadata": {
    "kernelspec": {
      "display_name": "Python 3",
      "language": "python",
      "name": "python3"
    },
    "language_info": {
      "codemirror_mode": {
        "name": "ipython",
        "version": 3
      },
      "file_extension": ".py",
      "mimetype": "text/x-python",
      "name": "python",
      "nbconvert_exporter": "python",
      "pygments_lexer": "ipython3",
      "version": "3.8.8"
    },
    "colab": {
      "provenance": []
    }
  },
  "nbformat": 4,
  "nbformat_minor": 5
}