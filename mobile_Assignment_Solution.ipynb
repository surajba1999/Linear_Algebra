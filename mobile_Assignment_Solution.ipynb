{
  "cells": [
    {
      "cell_type": "markdown",
      "source": [
        "# <center><u>Mobile Phone Assignment</u> </center>"
      ],
      "metadata": {
        "id": "QvtD0SxEOPGe"
      }
    },
    {
      "cell_type": "markdown",
      "source": [
        "# <center><u>Introduction</u> </center>"
      ],
      "metadata": {
        "id": "xHKXMzNZOYPy"
      }
    },
    {
      "cell_type": "markdown",
      "source": [
        "This Jupyter notebook is part of your learning experience in the study of applied statistics.\n",
        "\n",
        "You will work with a data set that contains mobile phone prices and their specifications.\n",
        "\n",
        "In this exercise, you will perform the following tasks:\n",
        "\n",
        "1 - Load and study the data\n",
        "\n",
        "2 - Obtain the logical conditions for the features \"Blue\", \"Wi_Fi\", \"Tch_Scr\" and \"Ext_Mem\"\n",
        "\n",
        "3 - Obtain the logical conditions for the features \"Px_h\" and \"Px_w\"\n",
        "\n",
        "4 - Obtain the logical conditions for the features \"Scr_h\" and \"Scr_w\"\n",
        "\n",
        "5 - Obtain the logical conditions for the features \"PC\" and \"FC\"\n",
        "\n",
        "6 - Obtain the logical conditions for the features \"Int_Mem\", \"Bty_Pwr\" and \"RAM\"\n",
        "\n",
        "7 - Obtain the logical conditions for the features \"Depth\" and \"Weight\"\n",
        "\n",
        "8 - Subset the data based on all the logical conditions\n",
        "\n",
        "9 - Study the variability of the features in the original data set"
      ],
      "metadata": {
        "id": "_pzTIrVbOcFF"
      }
    },
    {
      "cell_type": "code",
      "execution_count": null,
      "metadata": {
        "id": "wEXybtFON854"
      },
      "outputs": [],
      "source": [
        "###########################################################################"
      ]
    },
    {
      "cell_type": "markdown",
      "source": [
        "## Task 1 - Load and study the data"
      ],
      "metadata": {
        "id": "YCLhIkwFO4Tj"
      }
    },
    {
      "cell_type": "markdown",
      "source": [
        "Import the libraries that will be used in this notebook"
      ],
      "metadata": {
        "id": "CBMdPgPUO89Y"
      }
    },
    {
      "cell_type": "code",
      "execution_count": 1,
      "metadata": {
        "id": "z9ZS2Tw2N857"
      },
      "outputs": [],
      "source": [
        "# Load \"numpy\" and \"pandas\" for manipulating numbers and data frames\n",
        "# Load \"matplotlib.pyplot\" and \"seaborn\" for data visualisation\n",
        "##################### CODE HERE ##########################\n",
        "import numpy as np\n",
        "import pandas as pd\n",
        "import matplotlib.pyplot as plt\n",
        "import seaborn as sns"
      ]
    },
    {
      "cell_type": "markdown",
      "source": [
        "Load the csv file as pandas dataframe. "
      ],
      "metadata": {
        "id": "7rdvm8PDPCgM"
      }
    },
    {
      "cell_type": "code",
      "execution_count": 2,
      "metadata": {
        "id": "7p5Rg_AkN858"
      },
      "outputs": [],
      "source": [
        "# Read in the \"Mobile_Phones.csv\" file as a Pandas Data Frame\n",
        "# Note: Make sure the code and the data are in the same folder or specify the appropriate path\n",
        "##################### CODE HERE ##########################\n",
        "df=pd.read_csv('/content/Mobile_Phones (1).csv',index_col=0)"
      ]
    },
    {
      "cell_type": "markdown",
      "source": [
        "Reference:\n",
        "\n",
        "https://pandas.pydata.org/pandas-docs/stable/reference/api/pandas.DataFrame.head.html"
      ],
      "metadata": {
        "id": "t-pXAaEkPhkS"
      }
    },
    {
      "cell_type": "code",
      "execution_count": 3,
      "metadata": {
        "colab": {
          "base_uri": "https://localhost:8080/",
          "height": 237
        },
        "id": "WdfT3N-iN859",
        "outputId": "90e00c06-03f8-4064-e21b-93b8b1f71a3e"
      },
      "outputs": [
        {
          "output_type": "execute_result",
          "data": {
            "text/plain": [
              "        Blue Wi_Fi Tch_Scr Ext_Mem  Px_h  Px_w  Scr_h  Scr_w  PC  FC  Int_Mem  \\\n",
              "PID                                                                             \n",
              "AAB346A  yes   yes      no      no   780   460      3      1   2   2        8   \n",
              "AAC347I  yes   yes      no      no   780   560      2      1   4   2        8   \n",
              "BAB657J   no   yes      no      no   840   720      2      1   4   2        8   \n",
              "BBD456K   no   yes     yes      no  1280  1120      5      3   6   2       32   \n",
              "CCP761U   no   yes     yes      no  1280  1080      4      3   6   2       16   \n",
              "\n",
              "         Bty_Pwr  RAM  Depth  Weight  Price  \n",
              "PID                                          \n",
              "AAB346A     2800    2      7     320   3297  \n",
              "AAC347I     3000    2      7     280   4500  \n",
              "BAB657J     3300    2      7     400   4898  \n",
              "BBD456K     3000    2      3     300   6900  \n",
              "CCP761U     3000    2      3     210   5600  "
            ],
            "text/html": [
              "\n",
              "  <div id=\"df-f9a66177-ba71-43d2-8404-cc7d9fede11d\">\n",
              "    <div class=\"colab-df-container\">\n",
              "      <div>\n",
              "<style scoped>\n",
              "    .dataframe tbody tr th:only-of-type {\n",
              "        vertical-align: middle;\n",
              "    }\n",
              "\n",
              "    .dataframe tbody tr th {\n",
              "        vertical-align: top;\n",
              "    }\n",
              "\n",
              "    .dataframe thead th {\n",
              "        text-align: right;\n",
              "    }\n",
              "</style>\n",
              "<table border=\"1\" class=\"dataframe\">\n",
              "  <thead>\n",
              "    <tr style=\"text-align: right;\">\n",
              "      <th></th>\n",
              "      <th>Blue</th>\n",
              "      <th>Wi_Fi</th>\n",
              "      <th>Tch_Scr</th>\n",
              "      <th>Ext_Mem</th>\n",
              "      <th>Px_h</th>\n",
              "      <th>Px_w</th>\n",
              "      <th>Scr_h</th>\n",
              "      <th>Scr_w</th>\n",
              "      <th>PC</th>\n",
              "      <th>FC</th>\n",
              "      <th>Int_Mem</th>\n",
              "      <th>Bty_Pwr</th>\n",
              "      <th>RAM</th>\n",
              "      <th>Depth</th>\n",
              "      <th>Weight</th>\n",
              "      <th>Price</th>\n",
              "    </tr>\n",
              "    <tr>\n",
              "      <th>PID</th>\n",
              "      <th></th>\n",
              "      <th></th>\n",
              "      <th></th>\n",
              "      <th></th>\n",
              "      <th></th>\n",
              "      <th></th>\n",
              "      <th></th>\n",
              "      <th></th>\n",
              "      <th></th>\n",
              "      <th></th>\n",
              "      <th></th>\n",
              "      <th></th>\n",
              "      <th></th>\n",
              "      <th></th>\n",
              "      <th></th>\n",
              "      <th></th>\n",
              "    </tr>\n",
              "  </thead>\n",
              "  <tbody>\n",
              "    <tr>\n",
              "      <th>AAB346A</th>\n",
              "      <td>yes</td>\n",
              "      <td>yes</td>\n",
              "      <td>no</td>\n",
              "      <td>no</td>\n",
              "      <td>780</td>\n",
              "      <td>460</td>\n",
              "      <td>3</td>\n",
              "      <td>1</td>\n",
              "      <td>2</td>\n",
              "      <td>2</td>\n",
              "      <td>8</td>\n",
              "      <td>2800</td>\n",
              "      <td>2</td>\n",
              "      <td>7</td>\n",
              "      <td>320</td>\n",
              "      <td>3297</td>\n",
              "    </tr>\n",
              "    <tr>\n",
              "      <th>AAC347I</th>\n",
              "      <td>yes</td>\n",
              "      <td>yes</td>\n",
              "      <td>no</td>\n",
              "      <td>no</td>\n",
              "      <td>780</td>\n",
              "      <td>560</td>\n",
              "      <td>2</td>\n",
              "      <td>1</td>\n",
              "      <td>4</td>\n",
              "      <td>2</td>\n",
              "      <td>8</td>\n",
              "      <td>3000</td>\n",
              "      <td>2</td>\n",
              "      <td>7</td>\n",
              "      <td>280</td>\n",
              "      <td>4500</td>\n",
              "    </tr>\n",
              "    <tr>\n",
              "      <th>BAB657J</th>\n",
              "      <td>no</td>\n",
              "      <td>yes</td>\n",
              "      <td>no</td>\n",
              "      <td>no</td>\n",
              "      <td>840</td>\n",
              "      <td>720</td>\n",
              "      <td>2</td>\n",
              "      <td>1</td>\n",
              "      <td>4</td>\n",
              "      <td>2</td>\n",
              "      <td>8</td>\n",
              "      <td>3300</td>\n",
              "      <td>2</td>\n",
              "      <td>7</td>\n",
              "      <td>400</td>\n",
              "      <td>4898</td>\n",
              "    </tr>\n",
              "    <tr>\n",
              "      <th>BBD456K</th>\n",
              "      <td>no</td>\n",
              "      <td>yes</td>\n",
              "      <td>yes</td>\n",
              "      <td>no</td>\n",
              "      <td>1280</td>\n",
              "      <td>1120</td>\n",
              "      <td>5</td>\n",
              "      <td>3</td>\n",
              "      <td>6</td>\n",
              "      <td>2</td>\n",
              "      <td>32</td>\n",
              "      <td>3000</td>\n",
              "      <td>2</td>\n",
              "      <td>3</td>\n",
              "      <td>300</td>\n",
              "      <td>6900</td>\n",
              "    </tr>\n",
              "    <tr>\n",
              "      <th>CCP761U</th>\n",
              "      <td>no</td>\n",
              "      <td>yes</td>\n",
              "      <td>yes</td>\n",
              "      <td>no</td>\n",
              "      <td>1280</td>\n",
              "      <td>1080</td>\n",
              "      <td>4</td>\n",
              "      <td>3</td>\n",
              "      <td>6</td>\n",
              "      <td>2</td>\n",
              "      <td>16</td>\n",
              "      <td>3000</td>\n",
              "      <td>2</td>\n",
              "      <td>3</td>\n",
              "      <td>210</td>\n",
              "      <td>5600</td>\n",
              "    </tr>\n",
              "  </tbody>\n",
              "</table>\n",
              "</div>\n",
              "      <button class=\"colab-df-convert\" onclick=\"convertToInteractive('df-f9a66177-ba71-43d2-8404-cc7d9fede11d')\"\n",
              "              title=\"Convert this dataframe to an interactive table.\"\n",
              "              style=\"display:none;\">\n",
              "        \n",
              "  <svg xmlns=\"http://www.w3.org/2000/svg\" height=\"24px\"viewBox=\"0 0 24 24\"\n",
              "       width=\"24px\">\n",
              "    <path d=\"M0 0h24v24H0V0z\" fill=\"none\"/>\n",
              "    <path d=\"M18.56 5.44l.94 2.06.94-2.06 2.06-.94-2.06-.94-.94-2.06-.94 2.06-2.06.94zm-11 1L8.5 8.5l.94-2.06 2.06-.94-2.06-.94L8.5 2.5l-.94 2.06-2.06.94zm10 10l.94 2.06.94-2.06 2.06-.94-2.06-.94-.94-2.06-.94 2.06-2.06.94z\"/><path d=\"M17.41 7.96l-1.37-1.37c-.4-.4-.92-.59-1.43-.59-.52 0-1.04.2-1.43.59L10.3 9.45l-7.72 7.72c-.78.78-.78 2.05 0 2.83L4 21.41c.39.39.9.59 1.41.59.51 0 1.02-.2 1.41-.59l7.78-7.78 2.81-2.81c.8-.78.8-2.07 0-2.86zM5.41 20L4 18.59l7.72-7.72 1.47 1.35L5.41 20z\"/>\n",
              "  </svg>\n",
              "      </button>\n",
              "      \n",
              "  <style>\n",
              "    .colab-df-container {\n",
              "      display:flex;\n",
              "      flex-wrap:wrap;\n",
              "      gap: 12px;\n",
              "    }\n",
              "\n",
              "    .colab-df-convert {\n",
              "      background-color: #E8F0FE;\n",
              "      border: none;\n",
              "      border-radius: 50%;\n",
              "      cursor: pointer;\n",
              "      display: none;\n",
              "      fill: #1967D2;\n",
              "      height: 32px;\n",
              "      padding: 0 0 0 0;\n",
              "      width: 32px;\n",
              "    }\n",
              "\n",
              "    .colab-df-convert:hover {\n",
              "      background-color: #E2EBFA;\n",
              "      box-shadow: 0px 1px 2px rgba(60, 64, 67, 0.3), 0px 1px 3px 1px rgba(60, 64, 67, 0.15);\n",
              "      fill: #174EA6;\n",
              "    }\n",
              "\n",
              "    [theme=dark] .colab-df-convert {\n",
              "      background-color: #3B4455;\n",
              "      fill: #D2E3FC;\n",
              "    }\n",
              "\n",
              "    [theme=dark] .colab-df-convert:hover {\n",
              "      background-color: #434B5C;\n",
              "      box-shadow: 0px 1px 3px 1px rgba(0, 0, 0, 0.15);\n",
              "      filter: drop-shadow(0px 1px 2px rgba(0, 0, 0, 0.3));\n",
              "      fill: #FFFFFF;\n",
              "    }\n",
              "  </style>\n",
              "\n",
              "      <script>\n",
              "        const buttonEl =\n",
              "          document.querySelector('#df-f9a66177-ba71-43d2-8404-cc7d9fede11d button.colab-df-convert');\n",
              "        buttonEl.style.display =\n",
              "          google.colab.kernel.accessAllowed ? 'block' : 'none';\n",
              "\n",
              "        async function convertToInteractive(key) {\n",
              "          const element = document.querySelector('#df-f9a66177-ba71-43d2-8404-cc7d9fede11d');\n",
              "          const dataTable =\n",
              "            await google.colab.kernel.invokeFunction('convertToInteractive',\n",
              "                                                     [key], {});\n",
              "          if (!dataTable) return;\n",
              "\n",
              "          const docLinkHtml = 'Like what you see? Visit the ' +\n",
              "            '<a target=\"_blank\" href=https://colab.research.google.com/notebooks/data_table.ipynb>data table notebook</a>'\n",
              "            + ' to learn more about interactive tables.';\n",
              "          element.innerHTML = '';\n",
              "          dataTable['output_type'] = 'display_data';\n",
              "          await google.colab.output.renderOutput(dataTable, element);\n",
              "          const docLink = document.createElement('div');\n",
              "          docLink.innerHTML = docLinkHtml;\n",
              "          element.appendChild(docLink);\n",
              "        }\n",
              "      </script>\n",
              "    </div>\n",
              "  </div>\n",
              "  "
            ]
          },
          "metadata": {},
          "execution_count": 3
        }
      ],
      "source": [
        "# Take a brief look at the data using \".head()\"\n",
        "##################### CODE HERE ##########################\n",
        "df.head()"
      ]
    },
    {
      "cell_type": "code",
      "execution_count": 4,
      "metadata": {
        "colab": {
          "base_uri": "https://localhost:8080/"
        },
        "id": "UqbNB8XzN85-",
        "outputId": "20ec6b09-735f-44b9-cd7c-3bb0fe5e4923"
      },
      "outputs": [
        {
          "output_type": "stream",
          "name": "stdout",
          "text": [
            "The \"Mobile_Phones.csv\" data is a completely fabricated dataset for use.\n",
            "\n",
            "Any resemblance to entities past, present or future is merely a coincidence.\n",
            "\n",
            "PID = a unique identifier for the phone model\n",
            "Blue = whether the phone has bluetooth support or not\n",
            "Wi_Fi = whether the phone has wifi support or not\n",
            "Tch_Scr = whether the phone has touch screen support or not\n",
            "Ext_Mem = whether the phone has external memory support or not\n",
            "Px_h = number of pixels in the vertical axis of the phone\n",
            "Px_w = number of pixels in the horizontal axis of the phone\n",
            "Scr_h = height of the screen of the phone in centimetres (cm)\n",
            "Scr_w = width of the screen of the phone in centimetres (cm)\n",
            "Int_Mem = internal memory of the phone measured in megabytes (MB)\n",
            "Bty_Pwr = maximum energy stored by the phone's battery measured in milli-Ampere-hours (mAh)\n",
            "PC = resolution of the primary camera measued in megapixels (MP)\n",
            "FC = resolution of the front camera measued in megapixels (MP)\n",
            "RAM = random access memory available in the phone measured in gigabytes (GB)\n",
            "Depth = depth of the mobile phone measured in centimetres (cm)\n",
            "Weight = weight of the mobile phone measured in grams (g)\n",
            "Price = selling price of the mobile phone in rupees\n",
            "\n"
          ]
        }
      ],
      "source": [
        "# Study the description of the data\n",
        "# Note: Make sure the code and the data description are in the same folder or specify the appropriate path\n",
        "with open('Mobile_Phones_Feature_Description.txt', 'r') as f:\n",
        "    print(f.read())"
      ]
    },
    {
      "cell_type": "markdown",
      "source": [
        "Reference:-https://pandas.pydata.org/pandas-docs/stable/reference/api/pandas.DataFrame.shape.html"
      ],
      "metadata": {
        "id": "C-Y16SRHPzHi"
      }
    },
    {
      "cell_type": "code",
      "execution_count": 5,
      "metadata": {
        "colab": {
          "base_uri": "https://localhost:8080/"
        },
        "id": "0jdoVTnIN85_",
        "outputId": "3edbf67b-1596-4cf1-953b-da1ed433f5d9"
      },
      "outputs": [
        {
          "output_type": "execute_result",
          "data": {
            "text/plain": [
              "(50, 16)"
            ]
          },
          "metadata": {},
          "execution_count": 5
        }
      ],
      "source": [
        "# Get the dimensions of the data frame using \".shape\"\n",
        "##################### CODE HERE ##########################\n",
        "df.shape"
      ]
    },
    {
      "cell_type": "markdown",
      "source": [
        "Reference:- https://pandas.pydata.org/pandas-docs/stable/reference/api/pandas.DataFrame.index.html"
      ],
      "metadata": {
        "id": "Rku0U7uHP-eR"
      }
    },
    {
      "cell_type": "code",
      "execution_count": 6,
      "metadata": {
        "colab": {
          "base_uri": "https://localhost:8080/"
        },
        "id": "y28qZAzdN86B",
        "outputId": "fa1f6b9f-ce62-49b3-c7d5-5daaad506d8d"
      },
      "outputs": [
        {
          "output_type": "execute_result",
          "data": {
            "text/plain": [
              "Index(['AAB346A', 'AAC347I', 'BAB657J', 'BBD456K', 'CCP761U', 'CCQ674K',\n",
              "       'CTX123L', 'DFR256N', 'DGS789M', 'ENG897N', 'EOP657N', 'ELS333L',\n",
              "       'ETT987D', 'NAJ56GL', 'NBN329S', 'NSD450I', 'PDF768G', 'PDG234M',\n",
              "       'PEL111K', 'PNWD777L', 'POP857R', 'QWR222Y', 'QZR577O', 'RAY344W',\n",
              "       'RBZ451D', 'SDO555G', 'SET568R', 'SFK567Y', 'SSD000L', 'SYL888P',\n",
              "       'TVF078Y', 'TYQ109G', 'TYS938L', 'TYU444Q', 'TYY453J', 'ULI999T',\n",
              "       'UST000T', 'USZ111S', 'VWV532Y', 'VYI666I', 'WER765T', 'WUV902Y',\n",
              "       'WZB298K', 'XKL901R', 'XTL675G', 'XXV567F', 'YTR67TY', 'ZDF789K',\n",
              "       'ZEO567M', 'ZZZ909X'],\n",
              "      dtype='object', name='PID')"
            ]
          },
          "metadata": {},
          "execution_count": 6
        }
      ],
      "source": [
        "# Get the row names of the data frame using \".index\"\n",
        "##################### CODE HERE ##########################\n",
        "df.index"
      ]
    },
    {
      "cell_type": "markdown",
      "source": [
        "Reference:- https://pandas.pydata.org/pandas-docs/stable/reference/api/pandas.DataFrame.columns.html"
      ],
      "metadata": {
        "id": "S8L2xYduQAX0"
      }
    },
    {
      "cell_type": "code",
      "execution_count": 7,
      "metadata": {
        "colab": {
          "base_uri": "https://localhost:8080/"
        },
        "id": "u3wUbIm7N86C",
        "outputId": "2e12f03d-b971-4bf5-e337-887c4f40e02f"
      },
      "outputs": [
        {
          "output_type": "execute_result",
          "data": {
            "text/plain": [
              "Index(['Blue', 'Wi_Fi', 'Tch_Scr', 'Ext_Mem', 'Px_h', 'Px_w', 'Scr_h', 'Scr_w',\n",
              "       'PC', 'FC', 'Int_Mem', 'Bty_Pwr', 'RAM', 'Depth', 'Weight', 'Price'],\n",
              "      dtype='object')"
            ]
          },
          "metadata": {},
          "execution_count": 7
        }
      ],
      "source": [
        "# Get the column names of the data frame using \".columns\"\n",
        "##################### CODE HERE ##########################\n",
        "df.columns"
      ]
    },
    {
      "cell_type": "markdown",
      "source": [
        "Reference:-https://www.w3schools.com/python/pandas/ref_df_info.asp"
      ],
      "metadata": {
        "id": "RSKm0yXBQICb"
      }
    },
    {
      "cell_type": "code",
      "execution_count": 8,
      "metadata": {
        "colab": {
          "base_uri": "https://localhost:8080/"
        },
        "id": "zoJdOWbKN86D",
        "outputId": "c50ace13-173a-446b-9879-e5aceeb758fc"
      },
      "outputs": [
        {
          "output_type": "stream",
          "name": "stdout",
          "text": [
            "<class 'pandas.core.frame.DataFrame'>\n",
            "Index: 50 entries, AAB346A to ZZZ909X\n",
            "Data columns (total 16 columns):\n",
            " #   Column   Non-Null Count  Dtype \n",
            "---  ------   --------------  ----- \n",
            " 0   Blue     50 non-null     object\n",
            " 1   Wi_Fi    50 non-null     object\n",
            " 2   Tch_Scr  50 non-null     object\n",
            " 3   Ext_Mem  50 non-null     object\n",
            " 4   Px_h     50 non-null     int64 \n",
            " 5   Px_w     50 non-null     int64 \n",
            " 6   Scr_h    50 non-null     int64 \n",
            " 7   Scr_w    50 non-null     int64 \n",
            " 8   PC       50 non-null     int64 \n",
            " 9   FC       50 non-null     int64 \n",
            " 10  Int_Mem  50 non-null     int64 \n",
            " 11  Bty_Pwr  50 non-null     int64 \n",
            " 12  RAM      50 non-null     int64 \n",
            " 13  Depth    50 non-null     int64 \n",
            " 14  Weight   50 non-null     int64 \n",
            " 15  Price    50 non-null     int64 \n",
            "dtypes: int64(12), object(4)\n",
            "memory usage: 8.7+ KB\n"
          ]
        }
      ],
      "source": [
        "# Look at basic information about the data frame using \".info()\"\n",
        "##################### CODE HERE ##########################\n",
        "df.info()"
      ]
    },
    {
      "cell_type": "markdown",
      "source": [
        "Observations:\n",
        "\n",
        "There are 50 phones in the data set.\n",
        "\n",
        "There are 17 features in the data set including the \"PID\" feature which is used as the row index labels.\n",
        "\n",
        "There are no missing values in the data set."
      ],
      "metadata": {
        "id": "Yp1sfFKKQQLR"
      }
    },
    {
      "cell_type": "code",
      "execution_count": null,
      "metadata": {
        "id": "F7O4y4kyN86F"
      },
      "outputs": [],
      "source": [
        "###########################################################################"
      ]
    },
    {
      "cell_type": "markdown",
      "source": [
        "<center>Let's try some logical operators to filter the data.<center>"
      ],
      "metadata": {
        "id": "K6wSkK61E57v"
      }
    },
    {
      "cell_type": "markdown",
      "source": [
        "![](https://th.bing.com/th/id/R.0592084daa6518e4fae97f47217ec69e?rik=vNqmiaTVSSo54w&riu=http%3a%2f%2f2.bp.blogspot.com%2f-ujABms6N-Cg%2fTyYwShdTjnI%2fAAAAAAAAAAs%2fktPbHdifidc%2fs1600%2fLogical%2bOperators.PNG&ehk=ww1gl1HB2PcZwPQNHWRUvcQ631Q3mzyHSxL9G4zUKT4%3d&risl=&pid=ImgRaw&r=0,width=700,height=400)"
      ],
      "metadata": {
        "id": "Fjx3ajuFFN5H"
      }
    },
    {
      "cell_type": "markdown",
      "source": [
        "## Task 2 - Obtain the logical conditions for the features \"Blue\", \"Wi_Fi\", \"Tch_Scr\" and \"Ext_Mem\""
      ],
      "metadata": {
        "id": "zBarC8WVQZG7"
      }
    },
    {
      "cell_type": "code",
      "execution_count": 9,
      "metadata": {
        "colab": {
          "base_uri": "https://localhost:8080/"
        },
        "id": "RAV76P19N86G",
        "outputId": "b2d7839a-1a83-4a83-8897-cd751f9a212e"
      },
      "outputs": [
        {
          "output_type": "execute_result",
          "data": {
            "text/plain": [
              "Index(['Blue', 'Wi_Fi', 'Tch_Scr', 'Ext_Mem', 'Px_h', 'Px_w', 'Scr_h', 'Scr_w',\n",
              "       'PC', 'FC', 'Int_Mem', 'Bty_Pwr', 'RAM', 'Depth', 'Weight', 'Price'],\n",
              "      dtype='object')"
            ]
          },
          "metadata": {},
          "execution_count": 9
        }
      ],
      "source": [
        "# Get the feature names of the data frame using \".columns\"\n",
        "##################### CODE HERE ##########################\n",
        "df.columns"
      ]
    },
    {
      "cell_type": "code",
      "execution_count": null,
      "metadata": {
        "id": "4qnHqu_vN86H"
      },
      "outputs": [],
      "source": [
        "# Let's tackle these features: \"Blue\", \"Wi_Fi\", \"Tch_Scr\", \"Ext_Mem\""
      ]
    },
    {
      "cell_type": "code",
      "execution_count": 11,
      "metadata": {
        "id": "8N-jff5hN86I"
      },
      "outputs": [],
      "source": [
        "# The children want phones that have the following: Bluetooth, WiFi, touch screen and external memory support\n",
        "# Create a logical condition for this situation and store the logical values as \"con1\"\n",
        "##################### CODE HERE ##########################\n",
        "con1=((df['Blue']=='yes') & (df['Wi_Fi']=='yes') & (df['Tch_Scr']=='yes') & (df['Ext_Mem']=='yes'))"
      ]
    },
    {
      "cell_type": "markdown",
      "source": [
        "Observations:\n",
        "\n",
        "The features \"Blue\", \"Wi_Fi\", \"Tch_Scr\" and \"Ext_Mem\" are binary in nature.\n",
        "\n",
        "The children want all these features, so the logical condition \"con1\" has been obtained accordingly."
      ],
      "metadata": {
        "id": "KilesitnQjMF"
      }
    },
    {
      "cell_type": "code",
      "execution_count": null,
      "metadata": {
        "id": "vbE3inZmN86K"
      },
      "outputs": [],
      "source": [
        "###########################################################################"
      ]
    },
    {
      "cell_type": "markdown",
      "source": [
        "## Task 3 - Obtain the logical conditions for the features \"Px_h\" and \"Px_w\""
      ],
      "metadata": {
        "id": "n8qZScOZQsj3"
      }
    },
    {
      "cell_type": "code",
      "execution_count": 12,
      "metadata": {
        "colab": {
          "base_uri": "https://localhost:8080/"
        },
        "id": "UgpsX9ZYN86M",
        "outputId": "0694e703-ae72-40f1-81db-478e0035c5af"
      },
      "outputs": [
        {
          "output_type": "execute_result",
          "data": {
            "text/plain": [
              "Index(['Blue', 'Wi_Fi', 'Tch_Scr', 'Ext_Mem', 'Px_h', 'Px_w', 'Scr_h', 'Scr_w',\n",
              "       'PC', 'FC', 'Int_Mem', 'Bty_Pwr', 'RAM', 'Depth', 'Weight', 'Price'],\n",
              "      dtype='object')"
            ]
          },
          "metadata": {},
          "execution_count": 12
        }
      ],
      "source": [
        "# Get the feature names of the data frame using \".columns\"\n",
        "##################### CODE HERE ##########################\n",
        "df.columns"
      ]
    },
    {
      "cell_type": "code",
      "execution_count": null,
      "metadata": {
        "id": "HvY0q-JeN86N"
      },
      "outputs": [],
      "source": [
        "# Let's tackle these features: \"Px_h\", \"Px_w\""
      ]
    },
    {
      "cell_type": "code",
      "execution_count": 13,
      "metadata": {
        "id": "9g8VvPLiN86O"
      },
      "outputs": [],
      "source": [
        "# Create a new feature called \"Px\" which stores the total resolution of the screen\n",
        "# Note: The screen resolution is equal to the product of the \"Px_h\" and \"Px_w\" features\n",
        "##################### CODE HERE ##########################\n",
        "df['Px']=df['Px_h']*df['Px_w']"
      ]
    },
    {
      "cell_type": "code",
      "execution_count": 14,
      "metadata": {
        "colab": {
          "base_uri": "https://localhost:8080/",
          "height": 333
        },
        "id": "nbYsIHpjN86P",
        "outputId": "c7883c12-1c06-4a4c-b88e-9931aa70f1a8"
      },
      "outputs": [
        {
          "output_type": "display_data",
          "data": {
            "text/plain": [
              "<Figure size 900x300 with 1 Axes>"
            ],
            "image/png": "[encoded data removed]"
          },
          "metadata": {}
        }
      ],
      "source": [
        "# Create a histogram of the \"Px\" feature and also show the mean and the median\n",
        "##################### CODE HERE ##########################\n",
        "plt.figure(figsize=(9,3),dpi=100)\n",
        "sns.histplot(data=df,x='Px',color='orange',edgecolor='linen',alpha=0.5,bins=5)\n",
        "plt.title(\"Histogram of Screen Resolution of Phones\")\n",
        "plt.xlabel(\"Screen Resolution in Number of Pixels\")\n",
        "plt.ylabel(\"Count\")\n",
        "plt.vlines(x=df['Px'].mean(),ymin=0,ymax=27,colors='blue',label='Mean')\n",
        "plt.vlines(x=df['Px'].median(),ymin=0,ymax=27,colors='red',label='Median')\n",
        "plt.legend(bbox_to_anchor=(1.3,1));"
      ]
    },
    {
      "cell_type": "code",
      "execution_count": 15,
      "metadata": {
        "id": "SxaYgagyN86Q"
      },
      "outputs": [],
      "source": [
        "# The children want phones that have good screen resolutions\n",
        "# Consider the phones that have screen resolutions greater than or equal to the median value in the data set\n",
        "# Create a logical condition for this situation and store the logical values as \"con2\"\n",
        "##################### CODE HERE ##########################\n",
        "con2=(df['Px']>=df['Px'].median())"
      ]
    },
    {
      "cell_type": "markdown",
      "source": [
        "Observations:\n",
        "\n",
        "The features \"Px_h\" and \"Px_w\" are respectively the number of pixels in the phone screen in the vertical and horizontal axes.\n",
        "\n",
        "We created a new feature called \"Px\" which is the product of the features \"Px_h\" and \"Px_w\".\n",
        "\n",
        "The median has been selected as a threshold in this case.\n",
        "\n",
        "In case it is too strict, we can choose the mean as a threshold."
      ],
      "metadata": {
        "id": "M-DC9VY2RBZQ"
      }
    },
    {
      "cell_type": "code",
      "execution_count": null,
      "metadata": {
        "id": "25BZkyKzN86R"
      },
      "outputs": [],
      "source": [
        "###########################################################################"
      ]
    },
    {
      "cell_type": "markdown",
      "source": [
        "# Task 4 - Obtain the logical conditions for the features \"Scr_h\" and \"Scr_w\""
      ],
      "metadata": {
        "id": "ih3ev8-0RJg5"
      }
    },
    {
      "cell_type": "code",
      "execution_count": 16,
      "metadata": {
        "colab": {
          "base_uri": "https://localhost:8080/"
        },
        "id": "sqrogXqHN86T",
        "outputId": "f8258f5b-cc39-41a3-ac9a-542e80cd297c"
      },
      "outputs": [
        {
          "output_type": "execute_result",
          "data": {
            "text/plain": [
              "Index(['Blue', 'Wi_Fi', 'Tch_Scr', 'Ext_Mem', 'Px_h', 'Px_w', 'Scr_h', 'Scr_w',\n",
              "       'PC', 'FC', 'Int_Mem', 'Bty_Pwr', 'RAM', 'Depth', 'Weight', 'Price',\n",
              "       'Px'],\n",
              "      dtype='object')"
            ]
          },
          "metadata": {},
          "execution_count": 16
        }
      ],
      "source": [
        "# Get the feature names of the data frame using \".columns\"\n",
        "##################### CODE HERE ##########################\n",
        "df.columns"
      ]
    },
    {
      "cell_type": "code",
      "execution_count": null,
      "metadata": {
        "id": "EsEcEKKTN86T"
      },
      "outputs": [],
      "source": [
        "# Let's tackle these features: \"Scr_h\", \"Scr_w\""
      ]
    },
    {
      "cell_type": "code",
      "execution_count": 17,
      "metadata": {
        "id": "qTOcx3FCN86U"
      },
      "outputs": [],
      "source": [
        "# Create a new feature called \"Scr_d\" which stores the length of the diagonal of the screen of the phone\n",
        "# Note: Use the Pythagorean theorem to calculate the diagonal length from the \"Scr_h\" and \"Scr_w\" features\n",
        "##################### CODE HERE ##########################\n",
        "df['Scr_d']=np.sqrt((df['Scr_h'])**2 +(df['Scr_w'])**2)"
      ]
    },
    {
      "cell_type": "code",
      "execution_count": 18,
      "metadata": {
        "colab": {
          "base_uri": "https://localhost:8080/",
          "height": 333
        },
        "id": "83gzdEN7N86U",
        "outputId": "35dd147c-5208-45bb-c62e-e01576586a4c"
      },
      "outputs": [
        {
          "output_type": "display_data",
          "data": {
            "text/plain": [
              "<Figure size 900x300 with 1 Axes>"
            ],
            "image/png": "[encoded data removed]"
          },
          "metadata": {}
        }
      ],
      "source": [
        "# Create a histogram of the \"Scr_d\" feature and also show the quartiles\n",
        "##################### CODE HERE ##########################\n",
        "plt.figure(figsize=(9,3),dpi=100)\n",
        "sns.histplot(data=df,x='Scr_d',color='orange',edgecolor='linen',alpha=0.5,bins=5)\n",
        "plt.vlines(x=df['Scr_d'].quantile([0.25,0.5,0.75]),ymin=0,ymax=20,colors='red')\n",
        "plt.title(\"Histogram of Length of Screen Diagonal of Phones\")\n",
        "plt.xlabel(\"Length of Screen Diagonal in cm\")\n",
        "plt.ylabel(\"Count\");"
      ]
    },
    {
      "cell_type": "code",
      "execution_count": 19,
      "metadata": {
        "id": "aEvL_TPSN86V"
      },
      "outputs": [],
      "source": [
        "# The children want phones that have very good screen sizes\n",
        "# Consider the phones that have screen sizes greater than or equal to the upper quartile value in the data set\n",
        "# Create a logical condition for this situation and store the logical values as \"con3\"\n",
        "##################### CODE HERE ##########################\n",
        "con3=(df['Scr_d']>=df['Scr_d'].quantile(0.75))"
      ]
    },
    {
      "cell_type": "markdown",
      "source": [
        "Observations:\n",
        "\n",
        "The features \"Scr_h\" and \"Scr_w\" are respectively the height and the width of the phone screen.\n",
        "\n",
        "We created a new feature called \"Scr_d\" which is essentially the length of the screen diagonal.\n",
        "\n",
        "The upper quartile has been selected as a threshold in this case as the children were very particular on this point.\n",
        "\n",
        "In case it is too strict, we can choose the mean or the median as a threshold."
      ],
      "metadata": {
        "id": "BKDitmp9RZDe"
      }
    },
    {
      "cell_type": "code",
      "execution_count": null,
      "metadata": {
        "id": "3j7RHLoiN86W"
      },
      "outputs": [],
      "source": [
        "###########################################################################"
      ]
    },
    {
      "cell_type": "markdown",
      "source": [
        "# Task 5 - Obtain the logical conditions for the features \"PC\" and \"FC\""
      ],
      "metadata": {
        "id": "21dZEsZRRikD"
      }
    },
    {
      "cell_type": "code",
      "execution_count": 20,
      "metadata": {
        "colab": {
          "base_uri": "https://localhost:8080/"
        },
        "id": "KrzWCcs6N86Y",
        "outputId": "18ee5843-cf0a-4258-d007-e4bfb32ef503"
      },
      "outputs": [
        {
          "output_type": "execute_result",
          "data": {
            "text/plain": [
              "Index(['Blue', 'Wi_Fi', 'Tch_Scr', 'Ext_Mem', 'Px_h', 'Px_w', 'Scr_h', 'Scr_w',\n",
              "       'PC', 'FC', 'Int_Mem', 'Bty_Pwr', 'RAM', 'Depth', 'Weight', 'Price',\n",
              "       'Px', 'Scr_d'],\n",
              "      dtype='object')"
            ]
          },
          "metadata": {},
          "execution_count": 20
        }
      ],
      "source": [
        "# Get the feature names of the data frame using \".columns\"\n",
        "##################### CODE HERE ##########################\n",
        "df.columns"
      ]
    },
    {
      "cell_type": "code",
      "execution_count": null,
      "metadata": {
        "id": "lCQR8DBRN86Y"
      },
      "outputs": [],
      "source": [
        "# Let's tackle these features: \"PC\", \"FC\""
      ]
    },
    {
      "cell_type": "code",
      "execution_count": 21,
      "metadata": {
        "colab": {
          "base_uri": "https://localhost:8080/",
          "height": 333
        },
        "id": "KtH-XWmqN86Z",
        "outputId": "3ef36ec5-7e23-45b5-c52c-c84fecb4d192"
      },
      "outputs": [
        {
          "output_type": "display_data",
          "data": {
            "text/plain": [
              "<Figure size 900x300 with 1 Axes>"
            ],
            "image/png": "[encoded data removed]"
          },
          "metadata": {}
        }
      ],
      "source": [
        "# Create a histogram of the \"PC\" feature and also show the mean and the median\n",
        "##################### CODE HERE ##########################\n",
        "plt.figure(figsize=(9,3),dpi=100)\n",
        "sns.histplot(data=df,x=\"PC\",color='orange',edgecolor='linen',alpha=0.5,bins=5)\n",
        "plt.title(\"Histogram of Primary Camera Resolution of Phones\")\n",
        "plt.xlabel(\"Primary Camera Resolution in MP\")\n",
        "plt.ylabel(\"Count\")\n",
        "plt.vlines(x=df[\"PC\"].mean(),ymin=0,ymax=27,colors='blue',label='Mean')\n",
        "plt.vlines(x=df[\"PC\"].median(),ymin=0,ymax=27,colors='red',label='Median')\n",
        "plt.legend(bbox_to_anchor=(1.3,1));"
      ]
    },
    {
      "cell_type": "code",
      "execution_count": 22,
      "metadata": {
        "colab": {
          "base_uri": "https://localhost:8080/",
          "height": 333
        },
        "id": "vMp3OWR0N86a",
        "outputId": "b7ee3da4-dc70-4b97-e9fb-58b0ca49eb65"
      },
      "outputs": [
        {
          "output_type": "display_data",
          "data": {
            "text/plain": [
              "<Figure size 900x300 with 1 Axes>"
            ],
            "image/png": "[encoded data removed]"
          },
          "metadata": {}
        }
      ],
      "source": [
        "# Create a histogram of the \"FC\" feature and also show the mean and the median\n",
        "##################### CODE HERE ##########################\n",
        "plt.figure(figsize=(9,3),dpi=100)\n",
        "sns.histplot(data=df,x=\"FC\",color='orange',edgecolor='linen',alpha=0.5,bins=5)\n",
        "plt.title(\"Histogram of Front Camera Resolution of Phones\")\n",
        "plt.xlabel(\"Front Camera Resolution in MP\")\n",
        "plt.ylabel(\"Count\")\n",
        "plt.vlines(x=df[\"FC\"].mean(),ymin=0,ymax=27,colors='blue',label='Mean')\n",
        "plt.vlines(x=df[\"FC\"].median(),ymin=0,ymax=27,colors='red',label='Median')\n",
        "plt.legend(bbox_to_anchor=(1.3,1));"
      ]
    },
    {
      "cell_type": "code",
      "execution_count": 23,
      "metadata": {
        "id": "uwOY8IGoN86a"
      },
      "outputs": [],
      "source": [
        "# The children want phones that have good primary and front camera resolutions\n",
        "# Consider the phones that have primary and front camera resolutions greater than or equal to their respective mean values\n",
        "# Create a logical condition for this situation and store the logical values as \"con4\"\n",
        "##################### CODE HERE ##########################\n",
        "con4=((df['PC']>=df['PC'].mean()) & (df['FC']>=df['FC'].mean()))"
      ]
    },
    {
      "cell_type": "markdown",
      "source": [
        "Observations:\n",
        "\n",
        "The features \"PC\" and \"FC\" are respectively the resolutions of the primary camera and the front camera.\n",
        "\n",
        "The respective means have been selected as thresholds in this case.\n",
        "\n",
        "In case it is too strict, we can choose the respective medians as thresholds."
      ],
      "metadata": {
        "id": "jo7yqfJSRvNT"
      }
    },
    {
      "cell_type": "code",
      "execution_count": null,
      "metadata": {
        "id": "6m8C8Cg2N86c"
      },
      "outputs": [],
      "source": [
        "###########################################################################"
      ]
    },
    {
      "cell_type": "markdown",
      "source": [
        "# Task 6 - Obtain the logical conditions for the features \"Int_Mem\", \"Bty_Pwr\" and \"RAM\""
      ],
      "metadata": {
        "id": "iu0E_MTAR3Pn"
      }
    },
    {
      "cell_type": "code",
      "execution_count": 24,
      "metadata": {
        "colab": {
          "base_uri": "https://localhost:8080/"
        },
        "id": "RdKjvbCZN86d",
        "outputId": "0cf5a6bb-a1e9-4ff9-b137-e38cb0d9dbd3"
      },
      "outputs": [
        {
          "output_type": "execute_result",
          "data": {
            "text/plain": [
              "Index(['Blue', 'Wi_Fi', 'Tch_Scr', 'Ext_Mem', 'Px_h', 'Px_w', 'Scr_h', 'Scr_w',\n",
              "       'PC', 'FC', 'Int_Mem', 'Bty_Pwr', 'RAM', 'Depth', 'Weight', 'Price',\n",
              "       'Px', 'Scr_d'],\n",
              "      dtype='object')"
            ]
          },
          "metadata": {},
          "execution_count": 24
        }
      ],
      "source": [
        "# Get the feature names of the data frame using \".columns\"\n",
        "##################### CODE HERE ##########################\n",
        "df.columns"
      ]
    },
    {
      "cell_type": "code",
      "execution_count": null,
      "metadata": {
        "id": "tnBJk7xFN86d"
      },
      "outputs": [],
      "source": [
        "# Let's tackle these features: \"Int_Mem\", \"Bty_Pwr\", \"RAM\""
      ]
    },
    {
      "cell_type": "code",
      "execution_count": 25,
      "metadata": {
        "colab": {
          "base_uri": "https://localhost:8080/",
          "height": 333
        },
        "id": "YMBT6fVEN86e",
        "outputId": "a7d14150-15ad-4918-d830-107546bdcbb1"
      },
      "outputs": [
        {
          "output_type": "display_data",
          "data": {
            "text/plain": [
              "<Figure size 900x300 with 1 Axes>"
            ],
            "image/png": "[encoded data removed]"
          },
          "metadata": {}
        }
      ],
      "source": [
        "# Create a histogram of the \"Int_Mem\" feature and also show the mean and the median\n",
        "##################### CODE HERE ##########################\n",
        "plt.figure(figsize=(9,3),dpi=100)\n",
        "sns.histplot(data=df,x=\"Int_Mem\",color='orange',edgecolor='linen',alpha=0.5,bins=5)\n",
        "plt.title(\"Histogram of Internal Memory of Phones\")\n",
        "plt.xlabel(\"Internal Memory in MB\")\n",
        "plt.ylabel(\"Count\")\n",
        "plt.vlines(x=df[\"Int_Mem\"].mean(),ymin=0,ymax=39,colors='blue',label='Mean')\n",
        "plt.vlines(x=df[\"Int_Mem\"].median(),ymin=0,ymax=39,colors='red',label='Median')\n",
        "plt.legend(bbox_to_anchor=(1.3,1));"
      ]
    },
    {
      "cell_type": "code",
      "execution_count": 26,
      "metadata": {
        "colab": {
          "base_uri": "https://localhost:8080/",
          "height": 333
        },
        "id": "oPjFp16vN86e",
        "outputId": "33e81ba4-00e4-4ce7-d45f-d31564ab4fd1"
      },
      "outputs": [
        {
          "output_type": "display_data",
          "data": {
            "text/plain": [
              "<Figure size 900x300 with 1 Axes>"
            ],
            "image/png": "[encoded data removed]"
          },
          "metadata": {}
        }
      ],
      "source": [
        "# Create a histogram of the \"Bty_Pwr\" feature and also show the mean and the median\n",
        "##################### CODE HERE ##########################\n",
        "plt.figure(figsize=(9,3),dpi=100)\n",
        "sns.histplot(data=df,x=\"Bty_Pwr\",color='orange',edgecolor='linen',alpha=0.5,bins=5)\n",
        "plt.title(\"Histogram of Battery Power of Phones\")\n",
        "plt.xlabel(\"Battery Power in mAh\")\n",
        "plt.ylabel(\"Count\")\n",
        "plt.vlines(x=df[\"Bty_Pwr\"].mean(),ymin=0,ymax=14,colors='blue',label='Mean')\n",
        "plt.vlines(x=df[\"Bty_Pwr\"].median(),ymin=0,ymax=14,colors='red',label='Median')\n",
        "plt.legend(bbox_to_anchor=(1.3,1));"
      ]
    },
    {
      "cell_type": "code",
      "execution_count": 27,
      "metadata": {
        "colab": {
          "base_uri": "https://localhost:8080/",
          "height": 333
        },
        "id": "TS83YmlQN86f",
        "outputId": "26d749a5-bfda-4177-97ae-671c12ef8354"
      },
      "outputs": [
        {
          "output_type": "display_data",
          "data": {
            "text/plain": [
              "<Figure size 900x300 with 1 Axes>"
            ],
            "image/png": "[encoded data removed]"
          },
          "metadata": {}
        }
      ],
      "source": [
        "# Create a histogram of the \"RAM\" feature and also show the mean and the median\n",
        "##################### CODE HERE ##########################\n",
        "plt.figure(figsize=(9,3),dpi=100)\n",
        "sns.histplot(data=df,x=\"RAM\",color='orange',edgecolor='linen',alpha=0.5,bins=5)\n",
        "plt.title(\"Histogram of RAM of Phones\")\n",
        "plt.xlabel(\"Ram in GB\")\n",
        "plt.ylabel(\"Count\")\n",
        "plt.vlines(x=df[\"RAM\"].mean(),ymin=0,ymax=18,colors='blue',label='Mean')\n",
        "plt.vlines(x=df[\"RAM\"].median(),ymin=0,ymax=18,colors='red',label='Median')\n",
        "plt.legend(bbox_to_anchor=(1.3,1));"
      ]
    },
    {
      "cell_type": "code",
      "execution_count": 28,
      "metadata": {
        "id": "Ty-VGMoDN86g"
      },
      "outputs": [],
      "source": [
        "# The children want phones that have good internal memory, battery power and RAM\n",
        "# Consider the phones that have internal memory, battery power and RAM greater than or equal to their respective mean values\n",
        "# Create a logical condition for this situation and store the logical values as \"con5\"\n",
        "##################### CODE HERE ##########################\n",
        "con5=((df['Int_Mem']>=df['Int_Mem'].mean()) & (df['Bty_Pwr']>=df['Bty_Pwr'].mean()) & (df['RAM']>=df['RAM'].mean()))"
      ]
    },
    {
      "cell_type": "markdown",
      "source": [
        "Observations\n",
        "\n",
        "The features \"Int_Mem\", \"Bty_Pwr\" and \"RAM\" are respectively the internal memory, battery power and RAM of the phones.\n",
        "\n",
        "The respective means have been selected as thresholds in this case.\n",
        "\n",
        ".In case it is too strict, we can choose the respective medians as thresholds"
      ],
      "metadata": {
        "id": "u5RzvXKoSHaw"
      }
    },
    {
      "cell_type": "code",
      "execution_count": null,
      "metadata": {
        "id": "hUeqinkWN86h"
      },
      "outputs": [],
      "source": [
        "###########################################################################"
      ]
    },
    {
      "cell_type": "markdown",
      "source": [
        "# Task 7 - Obtain the logical conditions for the features \"Depth\" and \"Weight\""
      ],
      "metadata": {
        "id": "VVeYghyESO9y"
      }
    },
    {
      "cell_type": "code",
      "execution_count": 29,
      "metadata": {
        "colab": {
          "base_uri": "https://localhost:8080/"
        },
        "id": "z4qy3vyDN86i",
        "outputId": "d9119ac2-be79-48a9-fe1e-f859918f23d7"
      },
      "outputs": [
        {
          "output_type": "execute_result",
          "data": {
            "text/plain": [
              "Index(['Blue', 'Wi_Fi', 'Tch_Scr', 'Ext_Mem', 'Px_h', 'Px_w', 'Scr_h', 'Scr_w',\n",
              "       'PC', 'FC', 'Int_Mem', 'Bty_Pwr', 'RAM', 'Depth', 'Weight', 'Price',\n",
              "       'Px', 'Scr_d'],\n",
              "      dtype='object')"
            ]
          },
          "metadata": {},
          "execution_count": 29
        }
      ],
      "source": [
        "# Get the feature names of the data frame using \".columns\"\n",
        "##################### CODE HERE ##########################\n",
        "df.columns"
      ]
    },
    {
      "cell_type": "code",
      "execution_count": null,
      "metadata": {
        "id": "07nm7-V1N86j"
      },
      "outputs": [],
      "source": [
        "# Let's tackle these features: \"Depth\", \"Weight\""
      ]
    },
    {
      "cell_type": "code",
      "execution_count": 30,
      "metadata": {
        "colab": {
          "base_uri": "https://localhost:8080/",
          "height": 333
        },
        "id": "e88FFbusN86k",
        "outputId": "aa5cecb2-4422-4e91-af45-c12fe3a6faae"
      },
      "outputs": [
        {
          "output_type": "display_data",
          "data": {
            "text/plain": [
              "<Figure size 900x300 with 1 Axes>"
            ],
            "image/png": "[encoded data removed]"
          },
          "metadata": {}
        }
      ],
      "source": [
        "# Create a histogram of the \"Depth\" feature and also show the mean and the median\n",
        "##################### CODE HERE ##########################\n",
        "plt.figure(figsize=(9,3),dpi=100)\n",
        "sns.histplot(data=df,x=\"Depth\",color='orange',edgecolor='linen',alpha=0.5,bins=5)\n",
        "plt.title(\"Histogram of Depth of Phones\")\n",
        "plt.xlabel(\"Depth in cm\")\n",
        "plt.ylabel(\"Count\")\n",
        "plt.vlines(x=df[\"Depth\"].mean(),ymin=0,ymax=31,colors='blue',label='Mean')\n",
        "plt.vlines(x=df[\"Depth\"].median(),ymin=0,ymax=31,colors='red',label='Median')\n",
        "plt.legend(bbox_to_anchor=(1.3,1));"
      ]
    },
    {
      "cell_type": "code",
      "execution_count": 31,
      "metadata": {
        "colab": {
          "base_uri": "https://localhost:8080/",
          "height": 333
        },
        "id": "-lXTqLttN86l",
        "outputId": "14103472-526c-4d2d-d6c5-058e463c9ea7"
      },
      "outputs": [
        {
          "output_type": "display_data",
          "data": {
            "text/plain": [
              "<Figure size 900x300 with 1 Axes>"
            ],
            "image/png": "[encoded data removed]"
          },
          "metadata": {}
        }
      ],
      "source": [
        "# Create a histogram of the \"Weight\" feature and also show the mean and the median\n",
        "##################### CODE HERE ##########################\n",
        "plt.figure(figsize=(9,3),dpi=100)\n",
        "sns.histplot(data=df,x=\"Weight\",color='orange',edgecolor='linen',alpha=0.5,bins=5)\n",
        "plt.title(\"Histogram of Weight of Phones\")\n",
        "plt.xlabel(\"Weight in g\")\n",
        "plt.ylabel(\"Count\")\n",
        "plt.vlines(x=df[\"Weight\"].mean(),ymin=0,ymax=15,colors='blue',label='Mean')\n",
        "plt.vlines(x=df[\"Weight\"].median(),ymin=0,ymax=15,colors='red',label='Median')\n",
        "plt.legend(bbox_to_anchor=(1.3,1));"
      ]
    },
    {
      "cell_type": "code",
      "execution_count": 32,
      "metadata": {
        "id": "7ZYJmwzJN86l"
      },
      "outputs": [],
      "source": [
        "# The children want phones that are light weight and slim\n",
        "# Consider the phones that have depth and weight less than or equal to the respective median values in the data set\n",
        "# Create a logical condition for this situation and store the logical values as \"con6\"\n",
        "##################### CODE HERE ##########################\n",
        "con6=((df['Depth']<=df['Depth'].median()) & (df['Weight']<=df['Weight'].median()))"
      ]
    },
    {
      "cell_type": "markdown",
      "source": [
        "Observations:\n",
        "\n",
        "The features \"Depth\" and \"Weight\" are respectively the depth of the phone and the weight of the phone.\n",
        "\n",
        "The respective medians have been selected as thresholds in this case.\n",
        "\n",
        "In case it is too strict, we can choose the respective means as thresholds."
      ],
      "metadata": {
        "id": "l32BIHsdSbHy"
      }
    },
    {
      "cell_type": "code",
      "execution_count": null,
      "metadata": {
        "id": "vmStV1OFN86n"
      },
      "outputs": [],
      "source": [
        "###########################################################################"
      ]
    },
    {
      "cell_type": "markdown",
      "source": [
        "# Task 8 - Subset the data based on all the logical conditions"
      ],
      "metadata": {
        "id": "3UYMHQseSjZp"
      }
    },
    {
      "cell_type": "code",
      "execution_count": 33,
      "metadata": {
        "id": "iKFweH2xN86o"
      },
      "outputs": [],
      "source": [
        "# Subset the data frame using all the logical conditions that have been stored\n",
        "# Note: All the logical conditions must be satisfied, so choose the logical operator appropriately\n",
        "# Note: Store the subset of the data frame as a new data frame called \"df1\"\n",
        "##################### CODE HERE ##########################\n",
        "df1=df[con1 & con2 & con3 & con4 & con5 & con6]"
      ]
    },
    {
      "cell_type": "code",
      "execution_count": 35,
      "metadata": {
        "colab": {
          "base_uri": "https://localhost:8080/"
        },
        "id": "Y0Bp7BKkN86o",
        "outputId": "73ff64ce-b283-4eff-f354-37e98829c008"
      },
      "outputs": [
        {
          "output_type": "execute_result",
          "data": {
            "text/plain": [
              "(3, 18)"
            ]
          },
          "metadata": {},
          "execution_count": 35
        }
      ],
      "source": [
        "# Get the dimensions of the data frame using \".shape\"\n",
        "##################### CODE HERE ##########################\n",
        "df1.shape"
      ]
    },
    {
      "cell_type": "code",
      "execution_count": 36,
      "metadata": {
        "colab": {
          "base_uri": "https://localhost:8080/",
          "height": 175
        },
        "id": "H5tg2OEkN86p",
        "outputId": "d2764eaf-18b3-4e2c-f4b1-87ac4473e95d"
      },
      "outputs": [
        {
          "output_type": "execute_result",
          "data": {
            "text/plain": [
              "        Blue Wi_Fi Tch_Scr Ext_Mem  Px_h  Px_w  Scr_h  Scr_w  PC  FC  Int_Mem  \\\n",
              "PID                                                                             \n",
              "TVF078Y  yes   yes     yes     yes  2580  2120      8      6  64  32      512   \n",
              "WZB298K  yes   yes     yes     yes  2580  1980      8      6  64  32     1024   \n",
              "TYS938L  yes   yes     yes     yes  2580  2120      8      6  64  32     1024   \n",
              "\n",
              "         Bty_Pwr  RAM  Depth  Weight  Price       Px  Scr_d  \n",
              "PID                                                          \n",
              "TVF078Y     4860    8      3      90  29999  5469600   10.0  \n",
              "WZB298K     5600    8      3     160  39000  5108400   10.0  \n",
              "TYS938L     4860    8      3     120  46777  5469600   10.0  "
            ],
            "text/html": [
              "\n",
              "  <div id=\"df-b2f774fa-9dbb-4c10-af3d-f06fa24f2773\">\n",
              "    <div class=\"colab-df-container\">\n",
              "      <div>\n",
              "<style scoped>\n",
              "    .dataframe tbody tr th:only-of-type {\n",
              "        vertical-align: middle;\n",
              "    }\n",
              "\n",
              "    .dataframe tbody tr th {\n",
              "        vertical-align: top;\n",
              "    }\n",
              "\n",
              "    .dataframe thead th {\n",
              "        text-align: right;\n",
              "    }\n",
              "</style>\n",
              "<table border=\"1\" class=\"dataframe\">\n",
              "  <thead>\n",
              "    <tr style=\"text-align: right;\">\n",
              "      <th></th>\n",
              "      <th>Blue</th>\n",
              "      <th>Wi_Fi</th>\n",
              "      <th>Tch_Scr</th>\n",
              "      <th>Ext_Mem</th>\n",
              "      <th>Px_h</th>\n",
              "      <th>Px_w</th>\n",
              "      <th>Scr_h</th>\n",
              "      <th>Scr_w</th>\n",
              "      <th>PC</th>\n",
              "      <th>FC</th>\n",
              "      <th>Int_Mem</th>\n",
              "      <th>Bty_Pwr</th>\n",
              "      <th>RAM</th>\n",
              "      <th>Depth</th>\n",
              "      <th>Weight</th>\n",
              "      <th>Price</th>\n",
              "      <th>Px</th>\n",
              "      <th>Scr_d</th>\n",
              "    </tr>\n",
              "    <tr>\n",
              "      <th>PID</th>\n",
              "      <th></th>\n",
              "      <th></th>\n",
              "      <th></th>\n",
              "      <th></th>\n",
              "      <th></th>\n",
              "      <th></th>\n",
              "      <th></th>\n",
              "      <th></th>\n",
              "      <th></th>\n",
              "      <th></th>\n",
              "      <th></th>\n",
              "      <th></th>\n",
              "      <th></th>\n",
              "      <th></th>\n",
              "      <th></th>\n",
              "      <th></th>\n",
              "      <th></th>\n",
              "      <th></th>\n",
              "    </tr>\n",
              "  </thead>\n",
              "  <tbody>\n",
              "    <tr>\n",
              "      <th>TVF078Y</th>\n",
              "      <td>yes</td>\n",
              "      <td>yes</td>\n",
              "      <td>yes</td>\n",
              "      <td>yes</td>\n",
              "      <td>2580</td>\n",
              "      <td>2120</td>\n",
              "      <td>8</td>\n",
              "      <td>6</td>\n",
              "      <td>64</td>\n",
              "      <td>32</td>\n",
              "      <td>512</td>\n",
              "      <td>4860</td>\n",
              "      <td>8</td>\n",
              "      <td>3</td>\n",
              "      <td>90</td>\n",
              "      <td>29999</td>\n",
              "      <td>5469600</td>\n",
              "      <td>10.0</td>\n",
              "    </tr>\n",
              "    <tr>\n",
              "      <th>WZB298K</th>\n",
              "      <td>yes</td>\n",
              "      <td>yes</td>\n",
              "      <td>yes</td>\n",
              "      <td>yes</td>\n",
              "      <td>2580</td>\n",
              "      <td>1980</td>\n",
              "      <td>8</td>\n",
              "      <td>6</td>\n",
              "      <td>64</td>\n",
              "      <td>32</td>\n",
              "      <td>1024</td>\n",
              "      <td>5600</td>\n",
              "      <td>8</td>\n",
              "      <td>3</td>\n",
              "      <td>160</td>\n",
              "      <td>39000</td>\n",
              "      <td>5108400</td>\n",
              "      <td>10.0</td>\n",
              "    </tr>\n",
              "    <tr>\n",
              "      <th>TYS938L</th>\n",
              "      <td>yes</td>\n",
              "      <td>yes</td>\n",
              "      <td>yes</td>\n",
              "      <td>yes</td>\n",
              "      <td>2580</td>\n",
              "      <td>2120</td>\n",
              "      <td>8</td>\n",
              "      <td>6</td>\n",
              "      <td>64</td>\n",
              "      <td>32</td>\n",
              "      <td>1024</td>\n",
              "      <td>4860</td>\n",
              "      <td>8</td>\n",
              "      <td>3</td>\n",
              "      <td>120</td>\n",
              "      <td>46777</td>\n",
              "      <td>5469600</td>\n",
              "      <td>10.0</td>\n",
              "    </tr>\n",
              "  </tbody>\n",
              "</table>\n",
              "</div>\n",
              "      <button class=\"colab-df-convert\" onclick=\"convertToInteractive('df-b2f774fa-9dbb-4c10-af3d-f06fa24f2773')\"\n",
              "              title=\"Convert this dataframe to an interactive table.\"\n",
              "              style=\"display:none;\">\n",
              "        \n",
              "  <svg xmlns=\"http://www.w3.org/2000/svg\" height=\"24px\"viewBox=\"0 0 24 24\"\n",
              "       width=\"24px\">\n",
              "    <path d=\"M0 0h24v24H0V0z\" fill=\"none\"/>\n",
              "    <path d=\"M18.56 5.44l.94 2.06.94-2.06 2.06-.94-2.06-.94-.94-2.06-.94 2.06-2.06.94zm-11 1L8.5 8.5l.94-2.06 2.06-.94-2.06-.94L8.5 2.5l-.94 2.06-2.06.94zm10 10l.94 2.06.94-2.06 2.06-.94-2.06-.94-.94-2.06-.94 2.06-2.06.94z\"/><path d=\"M17.41 7.96l-1.37-1.37c-.4-.4-.92-.59-1.43-.59-.52 0-1.04.2-1.43.59L10.3 9.45l-7.72 7.72c-.78.78-.78 2.05 0 2.83L4 21.41c.39.39.9.59 1.41.59.51 0 1.02-.2 1.41-.59l7.78-7.78 2.81-2.81c.8-.78.8-2.07 0-2.86zM5.41 20L4 18.59l7.72-7.72 1.47 1.35L5.41 20z\"/>\n",
              "  </svg>\n",
              "      </button>\n",
              "      \n",
              "  <style>\n",
              "    .colab-df-container {\n",
              "      display:flex;\n",
              "      flex-wrap:wrap;\n",
              "      gap: 12px;\n",
              "    }\n",
              "\n",
              "    .colab-df-convert {\n",
              "      background-color: #E8F0FE;\n",
              "      border: none;\n",
              "      border-radius: 50%;\n",
              "      cursor: pointer;\n",
              "      display: none;\n",
              "      fill: #1967D2;\n",
              "      height: 32px;\n",
              "      padding: 0 0 0 0;\n",
              "      width: 32px;\n",
              "    }\n",
              "\n",
              "    .colab-df-convert:hover {\n",
              "      background-color: #E2EBFA;\n",
              "      box-shadow: 0px 1px 2px rgba(60, 64, 67, 0.3), 0px 1px 3px 1px rgba(60, 64, 67, 0.15);\n",
              "      fill: #174EA6;\n",
              "    }\n",
              "\n",
              "    [theme=dark] .colab-df-convert {\n",
              "      background-color: #3B4455;\n",
              "      fill: #D2E3FC;\n",
              "    }\n",
              "\n",
              "    [theme=dark] .colab-df-convert:hover {\n",
              "      background-color: #434B5C;\n",
              "      box-shadow: 0px 1px 3px 1px rgba(0, 0, 0, 0.15);\n",
              "      filter: drop-shadow(0px 1px 2px rgba(0, 0, 0, 0.3));\n",
              "      fill: #FFFFFF;\n",
              "    }\n",
              "  </style>\n",
              "\n",
              "      <script>\n",
              "        const buttonEl =\n",
              "          document.querySelector('#df-b2f774fa-9dbb-4c10-af3d-f06fa24f2773 button.colab-df-convert');\n",
              "        buttonEl.style.display =\n",
              "          google.colab.kernel.accessAllowed ? 'block' : 'none';\n",
              "\n",
              "        async function convertToInteractive(key) {\n",
              "          const element = document.querySelector('#df-b2f774fa-9dbb-4c10-af3d-f06fa24f2773');\n",
              "          const dataTable =\n",
              "            await google.colab.kernel.invokeFunction('convertToInteractive',\n",
              "                                                     [key], {});\n",
              "          if (!dataTable) return;\n",
              "\n",
              "          const docLinkHtml = 'Like what you see? Visit the ' +\n",
              "            '<a target=\"_blank\" href=https://colab.research.google.com/notebooks/data_table.ipynb>data table notebook</a>'\n",
              "            + ' to learn more about interactive tables.';\n",
              "          element.innerHTML = '';\n",
              "          dataTable['output_type'] = 'display_data';\n",
              "          await google.colab.output.renderOutput(dataTable, element);\n",
              "          const docLink = document.createElement('div');\n",
              "          docLink.innerHTML = docLinkHtml;\n",
              "          element.appendChild(docLink);\n",
              "        }\n",
              "      </script>\n",
              "    </div>\n",
              "  </div>\n",
              "  "
            ]
          },
          "metadata": {},
          "execution_count": 36
        }
      ],
      "source": [
        "# Sort the data frame according to the \"Price\" feature in ascending order and display it\n",
        "##################### CODE HERE ##########################\n",
        "df1.sort_values(by='Price',ascending=True)"
      ]
    },
    {
      "cell_type": "markdown",
      "source": [
        "Observations:\n",
        "\n",
        "Based on all the logical conditions obtained through analysis of the features, we are left with three phones.\n",
        "\n",
        "The most expensive of these phones is the \"TYS938L\" model and the least expensive is the \"TVF078Y\" model.\n",
        "\n",
        "We could let the children choose from these three phones as per their preferences."
      ],
      "metadata": {
        "id": "Zn6iT-HQSocg"
      }
    },
    {
      "cell_type": "code",
      "execution_count": null,
      "metadata": {
        "id": "Wxv_B1DCN86q"
      },
      "outputs": [],
      "source": [
        "###########################################################################"
      ]
    },
    {
      "cell_type": "markdown",
      "source": [
        "# Task 9 - Study the variability of the features in the original data set"
      ],
      "metadata": {
        "id": "O09ZVXlbSvhj"
      }
    },
    {
      "cell_type": "code",
      "execution_count": 37,
      "metadata": {
        "colab": {
          "base_uri": "https://localhost:8080/"
        },
        "id": "J9yLZ_FuN86r",
        "outputId": "47a78d69-a02d-4b34-e5e1-9fba515f9c3e"
      },
      "outputs": [
        {
          "output_type": "execute_result",
          "data": {
            "text/plain": [
              "Index(['Blue', 'Wi_Fi', 'Tch_Scr', 'Ext_Mem', 'Px_h', 'Px_w', 'Scr_h', 'Scr_w',\n",
              "       'PC', 'FC', 'Int_Mem', 'Bty_Pwr', 'RAM', 'Depth', 'Weight', 'Price',\n",
              "       'Px', 'Scr_d'],\n",
              "      dtype='object')"
            ]
          },
          "metadata": {},
          "execution_count": 37
        }
      ],
      "source": [
        "# Get the feature names of the data frame using \".columns\"\n",
        "##################### CODE HERE ##########################\n",
        "df1.columns"
      ]
    },
    {
      "cell_type": "code",
      "execution_count": 38,
      "metadata": {
        "id": "grfzKBDyN86r"
      },
      "outputs": [],
      "source": [
        "# Calculate the ratio of the standard deviation to the mean for all the numerical features in the data frame\n",
        "# Store these values in a new series wherein the rows are the features and the only column is the calculated ratio\n",
        "# Name the series as \"deviations\"\n",
        "##################### CODE HERE ##########################\n",
        "deviations=pd.Series(index=df.columns[4:],dtype='float64')\n",
        "for feature in deviations.index:\n",
        "  deviations.loc[feature]=(df[feature].std())/(df[feature].mean())"
      ]
    },
    {
      "cell_type": "code",
      "execution_count": 39,
      "metadata": {
        "colab": {
          "base_uri": "https://localhost:8080/"
        },
        "id": "sBRqrnVaN86s",
        "outputId": "f596ce24-136b-43d6-8787-e852f2671159"
      },
      "outputs": [
        {
          "output_type": "execute_result",
          "data": {
            "text/plain": [
              "Int_Mem    1.506514\n",
              "Price      0.740868\n",
              "PC         0.715716\n",
              "FC         0.712184\n",
              "RAM        0.479075\n",
              "Scr_w      0.407624\n",
              "Px         0.398680\n",
              "Weight     0.388121\n",
              "Scr_d      0.340469\n",
              "Scr_h      0.314293\n",
              "Depth      0.306072\n",
              "Px_h       0.257998\n",
              "Bty_Pwr    0.256368\n",
              "Px_w       0.256226\n",
              "dtype: float64"
            ]
          },
          "metadata": {},
          "execution_count": 39
        }
      ],
      "source": [
        "# View the \"deviations\" series after sorting it in descending order\n",
        "##################### CODE HERE ##########################\n",
        "deviations.sort_values(ascending=False)"
      ]
    },
    {
      "cell_type": "markdown",
      "source": [
        "Observations:\n",
        "\n",
        "The ratio of the standard deviation to the mean of a feature normalises it in a way.\n",
        "\n",
        "This allows for comparison between multiple features.\n",
        "\n",
        "The most variable feature in the original data set is the internal memory of the phones.\n",
        "\n",
        "The least variable feature in the original data set is the number of screen pixels in the horizontal axis.\n",
        "\n",
        "Although most features don't seem so variable, the prices of the phones are quite variable.\n",
        "\n",
        "Feel free to investigate what could be the cause of this difference in variability.\n",
        "\n",
        "Note: We encourage you to extend this analysis further and see what else you can find.\n",
        "\n",
        "Note: Please refer to the official website of Python and its libraries for various Python documentations."
      ],
      "metadata": {
        "id": "RSypqWHuSzJU"
      }
    },
    {
      "cell_type": "code",
      "execution_count": null,
      "metadata": {
        "id": "NBB2lnWuN86t"
      },
      "outputs": [],
      "source": [
        "###########################################################################"
      ]
    },
    {
      "cell_type": "markdown",
      "source": [
        "# <center><u>Conclusion</u> </center>"
      ],
      "metadata": {
        "id": "WEUsWoyYTRbU"
      }
    },
    {
      "cell_type": "markdown",
      "source": [
        "1. We have used concepts of descriptive statistics to study and work with a data set that contains mobile phone specifications.\n",
        "\n",
        "2. We were able to recommend three phone models to the client which she can then propose to her children."
      ],
      "metadata": {
        "id": "kE4_U-R9TI_d"
      }
    },
    {
      "cell_type": "code",
      "execution_count": null,
      "metadata": {
        "id": "oT9WJaXoN86u"
      },
      "outputs": [],
      "source": [
        "###########################################################################"
      ]
    },
    {
      "cell_type": "markdown",
      "source": [
        "**FEEDBACK**\n",
        "\n",
        "We hope you’ve enjoyed this course so far. We’re committed to help you use \"Stats and maths for data science\" course to its full potential, so that you have a great learning experience. And that’s why we need your help in form of a feedback here.\n",
        "\n",
        "Please fill this feedback form https://forms.zohopublic.in/cloudyml/form/CloudyMLStatisticsFeedbackForm/formperma/WV946wnf0sDM_tOlH87RxZR9yMceKWGrtuPOyXzzCRc"
      ],
      "metadata": {
        "id": "aF6DQ2HuTVr9"
      }
    }
  ],
  "metadata": {
    "colab": {
      "provenance": []
    },
    "kernelspec": {
      "display_name": "Python 3",
      "language": "python",
      "name": "python3"
    },
    "language_info": {
      "codemirror_mode": {
        "name": "ipython",
        "version": 3
      },
      "file_extension": ".py",
      "mimetype": "text/x-python",
      "name": "python",
      "nbconvert_exporter": "python",
      "pygments_lexer": "ipython3",
      "version": "3.8.8"
    }
  },
  "nbformat": 4,
  "nbformat_minor": 0
}