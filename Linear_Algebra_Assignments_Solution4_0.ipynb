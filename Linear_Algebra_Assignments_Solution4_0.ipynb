{
  "cells": [
    {
      "cell_type": "markdown",
      "source": [
        "![](https://betterexplained.com/wp-content/uploads/2012/02/dot_product_components.png)"
      ],
      "metadata": {
        "id": "8Mh98TiX0qpu"
      },
      "id": "8Mh98TiX0qpu"
    },
    {
      "cell_type": "markdown",
      "source": [
        "![](https://www.google.com/url?sa=i&url=https%3A%2F%2Fwww.cuemath.com%2Falgebra%2Fdot-product%2F&psig=AOvVaw1VmXz4YwiM8u56f0WmXdeO&ust=1646985300054000&source=images&cd=vfe&ved=0CAsQjRxqFwoTCLi2hqGJu_YCFQAAAAAdAAAAABAb)"
      ],
      "metadata": {
        "id": "s_uyjZoW2PEU"
      },
      "id": "s_uyjZoW2PEU"
    },
    {
      "cell_type": "markdown",
      "source": [
        "![](https://d138zd1ktt9iqe.cloudfront.net/media/seo_landing_files/matrix-representation-of-dot-product-1626103121.png)"
      ],
      "metadata": {
        "id": "qWq_-Is82Jz-"
      },
      "id": "qWq_-Is82Jz-"
    },
    {
      "cell_type": "markdown",
      "source": [
        "# **`WATCH VIDEOS IN THE PORTAL`**\n",
        "## **`Watch Video 1: Dot Product(Theory)`**"
      ],
      "metadata": {
        "id": "ItqHD-pMZQg-"
      },
      "id": "ItqHD-pMZQg-"
    },
    {
      "cell_type": "markdown",
      "source": [
        "### **CHeck this blog for more on dot product theory+code**\n",
        "https://towardsdatascience.com/dot-product-in-linear-algebra-for-data-science-using-python-f113fb60c8f#:~:text=This%20matrix%20multiplication%20is%20also%20called%20Dot%20Product.&text=Important%20Rule%3A%20You%20can%20only,rows%20of%20the%20second%20matrix.\n"
      ],
      "metadata": {
        "id": "CTKkCrPuZWhj"
      },
      "id": "CTKkCrPuZWhj"
    },
    {
      "cell_type": "markdown",
      "source": [
        "# **TASK**\n",
        "\n",
        "We will be using a fabricated dataset of user ratings for the movies to learn\n",
        "\n",
        "- how we use vector operations in the data science(extracting, finding magnitude, finding angle between vectors)\n",
        "-  how to do dot product in coding and learn to find similarity between user ratings to a certain movie\n",
        "- Learn to find list of movies based on user preference\n",
        "- We will also sort list of movies based on their popularity\n",
        "- We will also recommend movies based on a given similar movie"
      ],
      "metadata": {
        "id": "P91WzirS2kO0"
      },
      "id": "P91WzirS2kO0"
    },
    {
      "cell_type": "markdown",
      "source": [
        "# Task 1 - Load and study the data"
      ],
      "metadata": {
        "id": "3VLZlkPx4Jf9"
      },
      "id": "3VLZlkPx4Jf9"
    },
    {
      "cell_type": "markdown",
      "source": [
        "Notice these things: Load the data and study its features such as:\n",
        "- The number of users\n",
        "- The number of movies\n",
        "- The ranges of ratings"
      ],
      "metadata": {
        "id": "NyNV_gaE4WSz"
      },
      "id": "NyNV_gaE4WSz"
    },
    {
      "cell_type": "code",
      "execution_count": 6,
      "id": "9f5c393c",
      "metadata": {
        "id": "9f5c393c"
      },
      "outputs": [],
      "source": [
        "# Load \"numpy\" and \"pandas\" for manipulating numbers, vectors and data frames\n",
        "import numpy as np\n",
        "import pandas as pd\n"
      ]
    },
    {
      "cell_type": "code",
      "execution_count": 8,
      "id": "5608a781",
      "metadata": {
        "id": "5608a781"
      },
      "outputs": [],
      "source": [
        "# Read in the \"User_Movie_Ratings.csv\" file as a Pandas Data Frame\n",
        "# Note: Make sure the code and the data are in the same folder or specify the appropriate path for the data\n",
        "df =pd.read_csv('/content/User_Movie_Ratings.csv',index_col=0)\n",
        "\n"
      ]
    },
    {
      "cell_type": "markdown",
      "source": [
        "Feature Description:\n",
        "- The data set contains ratings given by users to movies on a scale of 1 to 10.\n",
        "- Each row contains the ratings given to all the movies by a particular user.\n",
        "- Each column contains the ratings given to a particular movie by all the users."
      ],
      "metadata": {
        "id": "SNosEhlb4gaW"
      },
      "id": "SNosEhlb4gaW"
    },
    {
      "cell_type": "code",
      "execution_count": 9,
      "id": "9385b905",
      "metadata": {
        "id": "9385b905",
        "outputId": "1dfaaa4d-0dcb-4740-a300-f545d6b1512c",
        "colab": {
          "base_uri": "https://localhost:8080/",
          "height": 281
        }
      },
      "outputs": [
        {
          "output_type": "execute_result",
          "data": {
            "text/plain": [
              "           Thor  Justice League  Spiderman  The Notebook  Casablanca  \\\n",
              "User                                                                   \n",
              "Arnold        6               5          6             4           5   \n",
              "Ben           9              10          8             3           1   \n",
              "Catherine    10               8          9             5           6   \n",
              "Disha         6               7          7            10           9   \n",
              "Euclid        7               4          3             5           8   \n",
              "\n",
              "           Beauty and the Beast  Dolittle  The Kissing Booth  Annabelle  \\\n",
              "User                                                                      \n",
              "Arnold                        4         9                  8          2   \n",
              "Ben                           1         2                  5          7   \n",
              "Catherine                     7         8                  5          9   \n",
              "Disha                        10         7                  6          5   \n",
              "Euclid                        5         9                 10          8   \n",
              "\n",
              "           Insidious  \n",
              "User                  \n",
              "Arnold             1  \n",
              "Ben                8  \n",
              "Catherine          9  \n",
              "Disha              6  \n",
              "Euclid             7  "
            ],
            "text/html": [
              "\n",
              "  <div id=\"df-e22c86d6-abce-4313-8d1e-8ebbdebe69a3\">\n",
              "    <div class=\"colab-df-container\">\n",
              "      <div>\n",
              "<style scoped>\n",
              "    .dataframe tbody tr th:only-of-type {\n",
              "        vertical-align: middle;\n",
              "    }\n",
              "\n",
              "    .dataframe tbody tr th {\n",
              "        vertical-align: top;\n",
              "    }\n",
              "\n",
              "    .dataframe thead th {\n",
              "        text-align: right;\n",
              "    }\n",
              "</style>\n",
              "<table border=\"1\" class=\"dataframe\">\n",
              "  <thead>\n",
              "    <tr style=\"text-align: right;\">\n",
              "      <th></th>\n",
              "      <th>Thor</th>\n",
              "      <th>Justice League</th>\n",
              "      <th>Spiderman</th>\n",
              "      <th>The Notebook</th>\n",
              "      <th>Casablanca</th>\n",
              "      <th>Beauty and the Beast</th>\n",
              "      <th>Dolittle</th>\n",
              "      <th>The Kissing Booth</th>\n",
              "      <th>Annabelle</th>\n",
              "      <th>Insidious</th>\n",
              "    </tr>\n",
              "    <tr>\n",
              "      <th>User</th>\n",
              "      <th></th>\n",
              "      <th></th>\n",
              "      <th></th>\n",
              "      <th></th>\n",
              "      <th></th>\n",
              "      <th></th>\n",
              "      <th></th>\n",
              "      <th></th>\n",
              "      <th></th>\n",
              "      <th></th>\n",
              "    </tr>\n",
              "  </thead>\n",
              "  <tbody>\n",
              "    <tr>\n",
              "      <th>Arnold</th>\n",
              "      <td>6</td>\n",
              "      <td>5</td>\n",
              "      <td>6</td>\n",
              "      <td>4</td>\n",
              "      <td>5</td>\n",
              "      <td>4</td>\n",
              "      <td>9</td>\n",
              "      <td>8</td>\n",
              "      <td>2</td>\n",
              "      <td>1</td>\n",
              "    </tr>\n",
              "    <tr>\n",
              "      <th>Ben</th>\n",
              "      <td>9</td>\n",
              "      <td>10</td>\n",
              "      <td>8</td>\n",
              "      <td>3</td>\n",
              "      <td>1</td>\n",
              "      <td>1</td>\n",
              "      <td>2</td>\n",
              "      <td>5</td>\n",
              "      <td>7</td>\n",
              "      <td>8</td>\n",
              "    </tr>\n",
              "    <tr>\n",
              "      <th>Catherine</th>\n",
              "      <td>10</td>\n",
              "      <td>8</td>\n",
              "      <td>9</td>\n",
              "      <td>5</td>\n",
              "      <td>6</td>\n",
              "      <td>7</td>\n",
              "      <td>8</td>\n",
              "      <td>5</td>\n",
              "      <td>9</td>\n",
              "      <td>9</td>\n",
              "    </tr>\n",
              "    <tr>\n",
              "      <th>Disha</th>\n",
              "      <td>6</td>\n",
              "      <td>7</td>\n",
              "      <td>7</td>\n",
              "      <td>10</td>\n",
              "      <td>9</td>\n",
              "      <td>10</td>\n",
              "      <td>7</td>\n",
              "      <td>6</td>\n",
              "      <td>5</td>\n",
              "      <td>6</td>\n",
              "    </tr>\n",
              "    <tr>\n",
              "      <th>Euclid</th>\n",
              "      <td>7</td>\n",
              "      <td>4</td>\n",
              "      <td>3</td>\n",
              "      <td>5</td>\n",
              "      <td>8</td>\n",
              "      <td>5</td>\n",
              "      <td>9</td>\n",
              "      <td>10</td>\n",
              "      <td>8</td>\n",
              "      <td>7</td>\n",
              "    </tr>\n",
              "  </tbody>\n",
              "</table>\n",
              "</div>\n",
              "      <button class=\"colab-df-convert\" onclick=\"convertToInteractive('df-e22c86d6-abce-4313-8d1e-8ebbdebe69a3')\"\n",
              "              title=\"Convert this dataframe to an interactive table.\"\n",
              "              style=\"display:none;\">\n",
              "        \n",
              "  <svg xmlns=\"http://www.w3.org/2000/svg\" height=\"24px\"viewBox=\"0 0 24 24\"\n",
              "       width=\"24px\">\n",
              "    <path d=\"M0 0h24v24H0V0z\" fill=\"none\"/>\n",
              "    <path d=\"M18.56 5.44l.94 2.06.94-2.06 2.06-.94-2.06-.94-.94-2.06-.94 2.06-2.06.94zm-11 1L8.5 8.5l.94-2.06 2.06-.94-2.06-.94L8.5 2.5l-.94 2.06-2.06.94zm10 10l.94 2.06.94-2.06 2.06-.94-2.06-.94-.94-2.06-.94 2.06-2.06.94z\"/><path d=\"M17.41 7.96l-1.37-1.37c-.4-.4-.92-.59-1.43-.59-.52 0-1.04.2-1.43.59L10.3 9.45l-7.72 7.72c-.78.78-.78 2.05 0 2.83L4 21.41c.39.39.9.59 1.41.59.51 0 1.02-.2 1.41-.59l7.78-7.78 2.81-2.81c.8-.78.8-2.07 0-2.86zM5.41 20L4 18.59l7.72-7.72 1.47 1.35L5.41 20z\"/>\n",
              "  </svg>\n",
              "      </button>\n",
              "      \n",
              "  <style>\n",
              "    .colab-df-container {\n",
              "      display:flex;\n",
              "      flex-wrap:wrap;\n",
              "      gap: 12px;\n",
              "    }\n",
              "\n",
              "    .colab-df-convert {\n",
              "      background-color: #E8F0FE;\n",
              "      border: none;\n",
              "      border-radius: 50%;\n",
              "      cursor: pointer;\n",
              "      display: none;\n",
              "      fill: #1967D2;\n",
              "      height: 32px;\n",
              "      padding: 0 0 0 0;\n",
              "      width: 32px;\n",
              "    }\n",
              "\n",
              "    .colab-df-convert:hover {\n",
              "      background-color: #E2EBFA;\n",
              "      box-shadow: 0px 1px 2px rgba(60, 64, 67, 0.3), 0px 1px 3px 1px rgba(60, 64, 67, 0.15);\n",
              "      fill: #174EA6;\n",
              "    }\n",
              "\n",
              "    [theme=dark] .colab-df-convert {\n",
              "      background-color: #3B4455;\n",
              "      fill: #D2E3FC;\n",
              "    }\n",
              "\n",
              "    [theme=dark] .colab-df-convert:hover {\n",
              "      background-color: #434B5C;\n",
              "      box-shadow: 0px 1px 3px 1px rgba(0, 0, 0, 0.15);\n",
              "      filter: drop-shadow(0px 1px 2px rgba(0, 0, 0, 0.3));\n",
              "      fill: #FFFFFF;\n",
              "    }\n",
              "  </style>\n",
              "\n",
              "      <script>\n",
              "        const buttonEl =\n",
              "          document.querySelector('#df-e22c86d6-abce-4313-8d1e-8ebbdebe69a3 button.colab-df-convert');\n",
              "        buttonEl.style.display =\n",
              "          google.colab.kernel.accessAllowed ? 'block' : 'none';\n",
              "\n",
              "        async function convertToInteractive(key) {\n",
              "          const element = document.querySelector('#df-e22c86d6-abce-4313-8d1e-8ebbdebe69a3');\n",
              "          const dataTable =\n",
              "            await google.colab.kernel.invokeFunction('convertToInteractive',\n",
              "                                                     [key], {});\n",
              "          if (!dataTable) return;\n",
              "\n",
              "          const docLinkHtml = 'Like what you see? Visit the ' +\n",
              "            '<a target=\"_blank\" href=https://colab.research.google.com/notebooks/data_table.ipynb>data table notebook</a>'\n",
              "            + ' to learn more about interactive tables.';\n",
              "          element.innerHTML = '';\n",
              "          dataTable['output_type'] = 'display_data';\n",
              "          await google.colab.output.renderOutput(dataTable, element);\n",
              "          const docLink = document.createElement('div');\n",
              "          docLink.innerHTML = docLinkHtml;\n",
              "          element.appendChild(docLink);\n",
              "        }\n",
              "      </script>\n",
              "    </div>\n",
              "  </div>\n",
              "  "
            ]
          },
          "metadata": {},
          "execution_count": 9
        }
      ],
      "source": [
        "# Take a brief look at the data frame using \".head()\"\n",
        "df.head()\n"
      ]
    },
    {
      "cell_type": "code",
      "execution_count": 10,
      "id": "5b5bb00f",
      "metadata": {
        "id": "5b5bb00f",
        "outputId": "3b9c9613-8d63-48ac-85dd-a4db7b558e44",
        "colab": {
          "base_uri": "https://localhost:8080/"
        }
      },
      "outputs": [
        {
          "output_type": "execute_result",
          "data": {
            "text/plain": [
              "(20, 10)"
            ]
          },
          "metadata": {},
          "execution_count": 10
        }
      ],
      "source": [
        "# Check the dimensions of the data frame using \".shape\"\n",
        "df.shape\n"
      ]
    },
    {
      "cell_type": "code",
      "execution_count": 11,
      "id": "a6b34a1e",
      "metadata": {
        "id": "a6b34a1e",
        "outputId": "c9950806-b37d-4d7c-ebb2-e713b5a4357f",
        "colab": {
          "base_uri": "https://localhost:8080/"
        }
      },
      "outputs": [
        {
          "output_type": "stream",
          "name": "stdout",
          "text": [
            "<class 'pandas.core.frame.DataFrame'>\n",
            "Index: 20 entries, Arnold to Tavneet\n",
            "Data columns (total 10 columns):\n",
            " #   Column                Non-Null Count  Dtype\n",
            "---  ------                --------------  -----\n",
            " 0   Thor                  20 non-null     int64\n",
            " 1   Justice League        20 non-null     int64\n",
            " 2   Spiderman             20 non-null     int64\n",
            " 3   The Notebook          20 non-null     int64\n",
            " 4   Casablanca            20 non-null     int64\n",
            " 5   Beauty and the Beast  20 non-null     int64\n",
            " 6   Dolittle              20 non-null     int64\n",
            " 7   The Kissing Booth     20 non-null     int64\n",
            " 8   Annabelle             20 non-null     int64\n",
            " 9   Insidious             20 non-null     int64\n",
            "dtypes: int64(10)\n",
            "memory usage: 1.7+ KB\n"
          ]
        }
      ],
      "source": [
        "# View basic information about the data frame using \".info()\"\n",
        "df.info()\n"
      ]
    },
    {
      "cell_type": "code",
      "execution_count": 12,
      "id": "f0bbb65b",
      "metadata": {
        "id": "f0bbb65b",
        "outputId": "df3d7e79-7983-455e-af8a-17e348f12eb5",
        "colab": {
          "base_uri": "https://localhost:8080/",
          "height": 363
        }
      },
      "outputs": [
        {
          "output_type": "execute_result",
          "data": {
            "text/plain": [
              "                      count  mean       std  min   25%  50%   75%   max\n",
              "Thor                   20.0  6.50  2.502630  1.0  5.00  6.5  8.00  10.0\n",
              "Justice League         20.0  6.10  2.381950  1.0  5.00  6.5  8.00  10.0\n",
              "Spiderman              20.0  6.65  2.300458  2.0  4.75  7.5  9.00   9.0\n",
              "The Notebook           20.0  5.60  2.643761  1.0  4.00  5.0  7.00  10.0\n",
              "Casablanca             20.0  5.15  2.852054  1.0  3.50  5.5  8.00   9.0\n",
              "Beauty and the Beast   20.0  5.55  2.855742  1.0  3.50  6.5  8.00  10.0\n",
              "Dolittle               20.0  6.15  3.116594  1.0  3.00  7.0  9.00  10.0\n",
              "The Kissing Booth      20.0  5.70  3.180533  1.0  3.50  6.0  8.25  10.0\n",
              "Annabelle              20.0  5.40  2.817240  1.0  3.50  6.0  7.25  10.0\n",
              "Insidious              20.0  5.55  2.605157  1.0  4.00  5.0  7.25  10.0"
            ],
            "text/html": [
              "\n",
              "  <div id=\"df-c030f149-97eb-4340-bd63-14ff64e7b325\">\n",
              "    <div class=\"colab-df-container\">\n",
              "      <div>\n",
              "<style scoped>\n",
              "    .dataframe tbody tr th:only-of-type {\n",
              "        vertical-align: middle;\n",
              "    }\n",
              "\n",
              "    .dataframe tbody tr th {\n",
              "        vertical-align: top;\n",
              "    }\n",
              "\n",
              "    .dataframe thead th {\n",
              "        text-align: right;\n",
              "    }\n",
              "</style>\n",
              "<table border=\"1\" class=\"dataframe\">\n",
              "  <thead>\n",
              "    <tr style=\"text-align: right;\">\n",
              "      <th></th>\n",
              "      <th>count</th>\n",
              "      <th>mean</th>\n",
              "      <th>std</th>\n",
              "      <th>min</th>\n",
              "      <th>25%</th>\n",
              "      <th>50%</th>\n",
              "      <th>75%</th>\n",
              "      <th>max</th>\n",
              "    </tr>\n",
              "  </thead>\n",
              "  <tbody>\n",
              "    <tr>\n",
              "      <th>Thor</th>\n",
              "      <td>20.0</td>\n",
              "      <td>6.50</td>\n",
              "      <td>2.502630</td>\n",
              "      <td>1.0</td>\n",
              "      <td>5.00</td>\n",
              "      <td>6.5</td>\n",
              "      <td>8.00</td>\n",
              "      <td>10.0</td>\n",
              "    </tr>\n",
              "    <tr>\n",
              "      <th>Justice League</th>\n",
              "      <td>20.0</td>\n",
              "      <td>6.10</td>\n",
              "      <td>2.381950</td>\n",
              "      <td>1.0</td>\n",
              "      <td>5.00</td>\n",
              "      <td>6.5</td>\n",
              "      <td>8.00</td>\n",
              "      <td>10.0</td>\n",
              "    </tr>\n",
              "    <tr>\n",
              "      <th>Spiderman</th>\n",
              "      <td>20.0</td>\n",
              "      <td>6.65</td>\n",
              "      <td>2.300458</td>\n",
              "      <td>2.0</td>\n",
              "      <td>4.75</td>\n",
              "      <td>7.5</td>\n",
              "      <td>9.00</td>\n",
              "      <td>9.0</td>\n",
              "    </tr>\n",
              "    <tr>\n",
              "      <th>The Notebook</th>\n",
              "      <td>20.0</td>\n",
              "      <td>5.60</td>\n",
              "      <td>2.643761</td>\n",
              "      <td>1.0</td>\n",
              "      <td>4.00</td>\n",
              "      <td>5.0</td>\n",
              "      <td>7.00</td>\n",
              "      <td>10.0</td>\n",
              "    </tr>\n",
              "    <tr>\n",
              "      <th>Casablanca</th>\n",
              "      <td>20.0</td>\n",
              "      <td>5.15</td>\n",
              "      <td>2.852054</td>\n",
              "      <td>1.0</td>\n",
              "      <td>3.50</td>\n",
              "      <td>5.5</td>\n",
              "      <td>8.00</td>\n",
              "      <td>9.0</td>\n",
              "    </tr>\n",
              "    <tr>\n",
              "      <th>Beauty and the Beast</th>\n",
              "      <td>20.0</td>\n",
              "      <td>5.55</td>\n",
              "      <td>2.855742</td>\n",
              "      <td>1.0</td>\n",
              "      <td>3.50</td>\n",
              "      <td>6.5</td>\n",
              "      <td>8.00</td>\n",
              "      <td>10.0</td>\n",
              "    </tr>\n",
              "    <tr>\n",
              "      <th>Dolittle</th>\n",
              "      <td>20.0</td>\n",
              "      <td>6.15</td>\n",
              "      <td>3.116594</td>\n",
              "      <td>1.0</td>\n",
              "      <td>3.00</td>\n",
              "      <td>7.0</td>\n",
              "      <td>9.00</td>\n",
              "      <td>10.0</td>\n",
              "    </tr>\n",
              "    <tr>\n",
              "      <th>The Kissing Booth</th>\n",
              "      <td>20.0</td>\n",
              "      <td>5.70</td>\n",
              "      <td>3.180533</td>\n",
              "      <td>1.0</td>\n",
              "      <td>3.50</td>\n",
              "      <td>6.0</td>\n",
              "      <td>8.25</td>\n",
              "      <td>10.0</td>\n",
              "    </tr>\n",
              "    <tr>\n",
              "      <th>Annabelle</th>\n",
              "      <td>20.0</td>\n",
              "      <td>5.40</td>\n",
              "      <td>2.817240</td>\n",
              "      <td>1.0</td>\n",
              "      <td>3.50</td>\n",
              "      <td>6.0</td>\n",
              "      <td>7.25</td>\n",
              "      <td>10.0</td>\n",
              "    </tr>\n",
              "    <tr>\n",
              "      <th>Insidious</th>\n",
              "      <td>20.0</td>\n",
              "      <td>5.55</td>\n",
              "      <td>2.605157</td>\n",
              "      <td>1.0</td>\n",
              "      <td>4.00</td>\n",
              "      <td>5.0</td>\n",
              "      <td>7.25</td>\n",
              "      <td>10.0</td>\n",
              "    </tr>\n",
              "  </tbody>\n",
              "</table>\n",
              "</div>\n",
              "      <button class=\"colab-df-convert\" onclick=\"convertToInteractive('df-c030f149-97eb-4340-bd63-14ff64e7b325')\"\n",
              "              title=\"Convert this dataframe to an interactive table.\"\n",
              "              style=\"display:none;\">\n",
              "        \n",
              "  <svg xmlns=\"http://www.w3.org/2000/svg\" height=\"24px\"viewBox=\"0 0 24 24\"\n",
              "       width=\"24px\">\n",
              "    <path d=\"M0 0h24v24H0V0z\" fill=\"none\"/>\n",
              "    <path d=\"M18.56 5.44l.94 2.06.94-2.06 2.06-.94-2.06-.94-.94-2.06-.94 2.06-2.06.94zm-11 1L8.5 8.5l.94-2.06 2.06-.94-2.06-.94L8.5 2.5l-.94 2.06-2.06.94zm10 10l.94 2.06.94-2.06 2.06-.94-2.06-.94-.94-2.06-.94 2.06-2.06.94z\"/><path d=\"M17.41 7.96l-1.37-1.37c-.4-.4-.92-.59-1.43-.59-.52 0-1.04.2-1.43.59L10.3 9.45l-7.72 7.72c-.78.78-.78 2.05 0 2.83L4 21.41c.39.39.9.59 1.41.59.51 0 1.02-.2 1.41-.59l7.78-7.78 2.81-2.81c.8-.78.8-2.07 0-2.86zM5.41 20L4 18.59l7.72-7.72 1.47 1.35L5.41 20z\"/>\n",
              "  </svg>\n",
              "      </button>\n",
              "      \n",
              "  <style>\n",
              "    .colab-df-container {\n",
              "      display:flex;\n",
              "      flex-wrap:wrap;\n",
              "      gap: 12px;\n",
              "    }\n",
              "\n",
              "    .colab-df-convert {\n",
              "      background-color: #E8F0FE;\n",
              "      border: none;\n",
              "      border-radius: 50%;\n",
              "      cursor: pointer;\n",
              "      display: none;\n",
              "      fill: #1967D2;\n",
              "      height: 32px;\n",
              "      padding: 0 0 0 0;\n",
              "      width: 32px;\n",
              "    }\n",
              "\n",
              "    .colab-df-convert:hover {\n",
              "      background-color: #E2EBFA;\n",
              "      box-shadow: 0px 1px 2px rgba(60, 64, 67, 0.3), 0px 1px 3px 1px rgba(60, 64, 67, 0.15);\n",
              "      fill: #174EA6;\n",
              "    }\n",
              "\n",
              "    [theme=dark] .colab-df-convert {\n",
              "      background-color: #3B4455;\n",
              "      fill: #D2E3FC;\n",
              "    }\n",
              "\n",
              "    [theme=dark] .colab-df-convert:hover {\n",
              "      background-color: #434B5C;\n",
              "      box-shadow: 0px 1px 3px 1px rgba(0, 0, 0, 0.15);\n",
              "      filter: drop-shadow(0px 1px 2px rgba(0, 0, 0, 0.3));\n",
              "      fill: #FFFFFF;\n",
              "    }\n",
              "  </style>\n",
              "\n",
              "      <script>\n",
              "        const buttonEl =\n",
              "          document.querySelector('#df-c030f149-97eb-4340-bd63-14ff64e7b325 button.colab-df-convert');\n",
              "        buttonEl.style.display =\n",
              "          google.colab.kernel.accessAllowed ? 'block' : 'none';\n",
              "\n",
              "        async function convertToInteractive(key) {\n",
              "          const element = document.querySelector('#df-c030f149-97eb-4340-bd63-14ff64e7b325');\n",
              "          const dataTable =\n",
              "            await google.colab.kernel.invokeFunction('convertToInteractive',\n",
              "                                                     [key], {});\n",
              "          if (!dataTable) return;\n",
              "\n",
              "          const docLinkHtml = 'Like what you see? Visit the ' +\n",
              "            '<a target=\"_blank\" href=https://colab.research.google.com/notebooks/data_table.ipynb>data table notebook</a>'\n",
              "            + ' to learn more about interactive tables.';\n",
              "          element.innerHTML = '';\n",
              "          dataTable['output_type'] = 'display_data';\n",
              "          await google.colab.output.renderOutput(dataTable, element);\n",
              "          const docLink = document.createElement('div');\n",
              "          docLink.innerHTML = docLinkHtml;\n",
              "          element.appendChild(docLink);\n",
              "        }\n",
              "      </script>\n",
              "    </div>\n",
              "  </div>\n",
              "  "
            ]
          },
          "metadata": {},
          "execution_count": 12
        }
      ],
      "source": [
        "# View a statistical summary of the data frame using \".describe()\"\n",
        "# Note: Use \".transpose()\" to make the summary easier to read\n",
        "df.describe().transpose()\n"
      ]
    },
    {
      "cell_type": "markdown",
      "source": [
        "# Observations\n",
        "\n",
        "- There are 20 rows and 10 columns in the data\n",
        "- Each row corresponds to the movie ratings given by a particular user\n",
        "- Each column corresponds to the user ratings given to a particular movie\n",
        "- The movie ratings range from 1 to 10 and they are whole numbers"
      ],
      "metadata": {
        "id": "iPp8VALL4yHo"
      },
      "id": "iPp8VALL4yHo"
    },
    {
      "cell_type": "markdown",
      "source": [
        "# Task 2 - Extract vectors from the data"
      ],
      "metadata": {
        "id": "P1cOlnrY7SLP"
      },
      "id": "P1cOlnrY7SLP"
    },
    {
      "cell_type": "markdown",
      "source": [
        "![](https://www.grc.nasa.gov/www/k-12/airplane/Images/vectors.jpg)"
      ],
      "metadata": {
        "id": "tf5Sx6oR8Irl"
      },
      "id": "tf5Sx6oR8Irl"
    },
    {
      "cell_type": "markdown",
      "source": [
        "### **Scalars, Vectors, Matrices in Data Science**"
      ],
      "metadata": {
        "id": "JM5qyO3k8N9s"
      },
      "id": "JM5qyO3k8N9s"
    },
    {
      "cell_type": "markdown",
      "source": [
        "![](https://miro.medium.com/max/957/1*jRyyMAhS_NZxqyv3EoLCvg.png)"
      ],
      "metadata": {
        "id": "JPzpifXz7VDb"
      },
      "id": "JPzpifXz7VDb"
    },
    {
      "cell_type": "markdown",
      "source": [
        "By Looking at the df.head() in previous code, you have seen that there are two types of vectors that we can extract from the data:\n",
        "\n",
        "- Row vectors - these contain the movie ratings given by a particular user\n",
        "- Column vectors - these contain the user ratings given to a particular movie"
      ],
      "metadata": {
        "id": "XfriRUZM8o1I"
      },
      "id": "XfriRUZM8o1I"
    },
    {
      "cell_type": "markdown",
      "source": [
        "## **`Watch Video 2 : Dot Product(Coding)`**"
      ],
      "metadata": {
        "id": "d7l5OFpvZG9p"
      },
      "id": "d7l5OFpvZG9p"
    },
    {
      "cell_type": "markdown",
      "source": [
        "### **This is a nice blog on the use of iloc and loc methods**\n",
        "\n",
        "https://towardsdatascience.com/how-to-use-loc-and-iloc-for-selecting-data-in-pandas-bd09cb4c3d79\n",
        "\n",
        "**NOTE**: open in incognito mode if you are not able to read."
      ],
      "metadata": {
        "id": "-Cw-01AyM6zK"
      },
      "id": "-Cw-01AyM6zK"
    },
    {
      "cell_type": "code",
      "execution_count": 13,
      "id": "465e4d19",
      "metadata": {
        "id": "465e4d19",
        "outputId": "3403d32b-0fc2-4b38-b331-8c087636490d",
        "colab": {
          "base_uri": "https://localhost:8080/"
        }
      },
      "outputs": [
        {
          "output_type": "execute_result",
          "data": {
            "text/plain": [
              "Thor                     9\n",
              "Justice League          10\n",
              "Spiderman                8\n",
              "The Notebook             3\n",
              "Casablanca               1\n",
              "Beauty and the Beast     1\n",
              "Dolittle                 2\n",
              "The Kissing Booth        5\n",
              "Annabelle                7\n",
              "Insidious                8\n",
              "Name: Ben, dtype: int64"
            ]
          },
          "metadata": {},
          "execution_count": 13
        }
      ],
      "source": [
        "# Access the movie ratings vector for the user \"Ben\" using \".loc[]\"\n",
        "df.loc['Ben']"
      ]
    },
    {
      "cell_type": "code",
      "execution_count": 14,
      "id": "c13b04ae",
      "metadata": {
        "id": "c13b04ae",
        "outputId": "407b4801-f521-4e6f-b401-7518c4b18ed3",
        "colab": {
          "base_uri": "https://localhost:8080/"
        }
      },
      "outputs": [
        {
          "output_type": "execute_result",
          "data": {
            "text/plain": [
              "Thor                     3\n",
              "Justice League           3\n",
              "Spiderman                2\n",
              "The Notebook             7\n",
              "Casablanca               8\n",
              "Beauty and the Beast     7\n",
              "Dolittle                10\n",
              "The Kissing Booth        9\n",
              "Annabelle                4\n",
              "Insidious                5\n",
              "Name: Niti, dtype: int64"
            ]
          },
          "metadata": {},
          "execution_count": 14
        }
      ],
      "source": [
        "# Access the movie ratings vector for the user \"Niti\" using \".loc[]\"\n",
        "df.loc['Niti']"
      ]
    },
    {
      "cell_type": "code",
      "execution_count": 15,
      "id": "6a6d0511",
      "metadata": {
        "id": "6a6d0511",
        "outputId": "2c18ec0c-1b2d-4f7d-eae2-d03eeae919e7",
        "colab": {
          "base_uri": "https://localhost:8080/"
        }
      },
      "outputs": [
        {
          "output_type": "execute_result",
          "data": {
            "text/plain": [
              "User\n",
              "Arnold        6\n",
              "Ben           9\n",
              "Catherine    10\n",
              "Disha         6\n",
              "Euclid        7\n",
              "Farhaan       6\n",
              "Gaurav        8\n",
              "Hilbert       6\n",
              "Indira       10\n",
              "Jason        10\n",
              "Kenny         3\n",
              "Lambert       5\n",
              "Manish        7\n",
              "Niti          3\n",
              "Oliver        4\n",
              "Pranav        8\n",
              "Qader         8\n",
              "Ravi          8\n",
              "Sushant       5\n",
              "Tavneet       1\n",
              "Name: Thor, dtype: int64"
            ]
          },
          "metadata": {},
          "execution_count": 15
        }
      ],
      "source": [
        "# Access the user ratings vector for the movie \"Thor\"\n",
        "# Note: You may access column vectors either directly or using \".loc[]\"\n",
        "df['Thor']\n"
      ]
    },
    {
      "cell_type": "code",
      "execution_count": 16,
      "id": "af283d1b",
      "metadata": {
        "id": "af283d1b",
        "outputId": "d718f63d-a4c8-4ced-c0cf-686e6cf33fc9",
        "colab": {
          "base_uri": "https://localhost:8080/"
        }
      },
      "outputs": [
        {
          "output_type": "execute_result",
          "data": {
            "text/plain": [
              "User\n",
              "Arnold        4\n",
              "Ben           1\n",
              "Catherine     7\n",
              "Disha        10\n",
              "Euclid        5\n",
              "Farhaan       7\n",
              "Gaurav        1\n",
              "Hilbert       8\n",
              "Indira        4\n",
              "Jason         6\n",
              "Kenny         8\n",
              "Lambert       8\n",
              "Manish        8\n",
              "Niti          7\n",
              "Oliver        1\n",
              "Pranav        2\n",
              "Qader         6\n",
              "Ravi          8\n",
              "Sushant       2\n",
              "Tavneet       8\n",
              "Name: Beauty and the Beast, dtype: int64"
            ]
          },
          "metadata": {},
          "execution_count": 16
        }
      ],
      "source": [
        "# Access the user ratings vector for the movie \"Beauty and the Beast\"\n",
        "df['Beauty and the Beast']\n",
        "\n"
      ]
    },
    {
      "cell_type": "markdown",
      "source": [
        "# Observations\n",
        "\n",
        "- There are two types of vectors that we can work with:\n",
        "- The movie ratings vectors for a particular user (row vectors) that are 10-long since there are 10 movies in the data set\n",
        "- The user ratings vectors for a particular movie (column vectors) that are 20-long since there are 20 users in the data set"
      ],
      "metadata": {
        "id": "oX9WFtET9RUA"
      },
      "id": "oX9WFtET9RUA"
    },
    {
      "cell_type": "markdown",
      "source": [
        "# Task 3 - Calculate dot products of vectors"
      ],
      "metadata": {
        "id": "0JnpEl4L9bTo"
      },
      "id": "0JnpEl4L9bTo"
    },
    {
      "cell_type": "markdown",
      "source": [
        "Check this documentation for dot product\n",
        "\n",
        "https://numpy.org/doc/stable/reference/generated/numpy.dot.html"
      ],
      "metadata": {
        "id": "VUOQtqywNadK"
      },
      "id": "VUOQtqywNadK"
    },
    {
      "cell_type": "code",
      "execution_count": 17,
      "id": "94e79388",
      "metadata": {
        "id": "94e79388",
        "outputId": "cb3b165a-f253-4b7d-c007-093610947434",
        "colab": {
          "base_uri": "https://localhost:8080/"
        }
      },
      "outputs": [
        {
          "output_type": "execute_result",
          "data": {
            "text/plain": [
              "237"
            ]
          },
          "metadata": {},
          "execution_count": 17
        }
      ],
      "source": [
        "# Calculate the dot product of the movie ratings vectors for the users \"Disha\" and \"Oliver\" using \"np.dot()\"\n",
        "# Note: You must enter two vectors as parameters to \"np.dot()\"\n",
        "np.dot(df.loc['Disha'],df.loc['Oliver'])\n"
      ]
    },
    {
      "cell_type": "code",
      "execution_count": 18,
      "id": "bdb607c8",
      "metadata": {
        "id": "bdb607c8",
        "outputId": "f19f2d5a-3f4a-44b9-95eb-a7a6442c7d51",
        "colab": {
          "base_uri": "https://localhost:8080/"
        }
      },
      "outputs": [
        {
          "output_type": "execute_result",
          "data": {
            "text/plain": [
              "561"
            ]
          },
          "metadata": {},
          "execution_count": 18
        }
      ],
      "source": [
        "# Calculate the dot product of the movie ratings vector for the user \"Disha\" with itself using \"np.dot()\"\n",
        "\n",
        "np.dot(df.loc['Disha'],df.loc['Disha'])"
      ]
    },
    {
      "cell_type": "code",
      "execution_count": 19,
      "id": "f6ac8f93",
      "metadata": {
        "id": "f6ac8f93",
        "outputId": "685bed26-7453-441c-de75-89819c009c86",
        "colab": {
          "base_uri": "https://localhost:8080/"
        }
      },
      "outputs": [
        {
          "output_type": "execute_result",
          "data": {
            "text/plain": [
              "566"
            ]
          },
          "metadata": {},
          "execution_count": 19
        }
      ],
      "source": [
        "# Calculate the dot product of the user ratings vectors for the movies \"Casablanca\" and \"Annabelle\" using \"np.dot()\"\n",
        "np.dot(df['Casablanca'],df['Annabelle'])\n"
      ]
    },
    {
      "cell_type": "code",
      "execution_count": 20,
      "id": "97b9bd2b",
      "metadata": {
        "id": "97b9bd2b",
        "outputId": "16b81f13-759b-4f44-bec1-e2c714eee035",
        "colab": {
          "base_uri": "https://localhost:8080/"
        }
      },
      "outputs": [
        {
          "output_type": "execute_result",
          "data": {
            "text/plain": [
              "685"
            ]
          },
          "metadata": {},
          "execution_count": 20
        }
      ],
      "source": [
        "# Calculate the dot product of the user ratings vector for the movie \"Casablanca\" with itself using \"np.dot()\"\n",
        "np.dot(df['Casablanca'],df['Casablanca'])\n"
      ]
    },
    {
      "cell_type": "markdown",
      "source": [
        "# Observations\n",
        "\n",
        "- Dot products can only be calculated for vectors of the same length\n",
        "- Dot products between movie ratings vectors for a particular user in this data can theoretically range from 10 to 1000\n",
        "- Dot products between user ratings vectors for a particular movie in this data can theoretically range from 20 to 2000"
      ],
      "metadata": {
        "id": "2semdHWp9nKX"
      },
      "id": "2semdHWp9nKX"
    },
    {
      "cell_type": "markdown",
      "source": [
        "# Task 4 - Create a function to calculate magnitudes of vectors"
      ],
      "metadata": {
        "id": "6K3FhCIV-KWO"
      },
      "id": "6K3FhCIV-KWO"
    },
    {
      "cell_type": "markdown",
      "source": [
        "### We will create a function to calculate the magnitude of a vector and use it as a measure of the strength of that vector"
      ],
      "metadata": {
        "id": "EYMsjhz9ERsR"
      },
      "id": "EYMsjhz9ERsR"
    },
    {
      "cell_type": "markdown",
      "source": [
        "![](https://www.onlinemathlearning.com/image-files/magnitude-vector.png)"
      ],
      "metadata": {
        "id": "ogT0IVpGELTh"
      },
      "id": "ogT0IVpGELTh"
    },
    {
      "cell_type": "code",
      "execution_count": 21,
      "id": "9086c21f",
      "metadata": {
        "id": "9086c21f"
      },
      "outputs": [],
      "source": [
        "# Create a function called \"mag()\" which takes in a vector and returns its magnitude\n",
        "# Note: The square root of the dot product of a vector with itself is equal to its magnitude\n",
        "# Note: Use the \"np.dot()\" function to calculate dot products and the \"np.sqrt()\" function to calculate square roots\n",
        "def mag(vec):\n",
        "  return(np.sqrt(np.dot(vec,vec)))\n",
        "\n"
      ]
    },
    {
      "cell_type": "code",
      "execution_count": 22,
      "id": "b65ea200",
      "metadata": {
        "id": "b65ea200",
        "outputId": "2dcc903c-64f8-4fec-a1ac-2664143498c1",
        "colab": {
          "base_uri": "https://localhost:8080/"
        }
      },
      "outputs": [
        {
          "output_type": "execute_result",
          "data": {
            "text/plain": [
              "18.788294228055936"
            ]
          },
          "metadata": {},
          "execution_count": 22
        }
      ],
      "source": [
        "# Use the function \"mag()\" to find the magnitude of the movie ratings vector for the user \"Pranav\"\n",
        "mag(df.loc['Pranav'])\n",
        "\n"
      ]
    },
    {
      "cell_type": "code",
      "execution_count": 23,
      "id": "be1df12d",
      "metadata": {
        "id": "be1df12d",
        "outputId": "fe759615-5199-490d-cbd6-7cea5bde7431",
        "colab": {
          "base_uri": "https://localhost:8080/"
        }
      },
      "outputs": [
        {
          "output_type": "execute_result",
          "data": {
            "text/plain": [
              "29.189039038652847"
            ]
          },
          "metadata": {},
          "execution_count": 23
        }
      ],
      "source": [
        "# Use the function \"mag()\" to find the magnitude of the user ratings vector for the movie \"Justice League\"\n",
        "mag(df['Justice League'])\n",
        "\n"
      ]
    },
    {
      "cell_type": "markdown",
      "source": [
        "# Observations\n",
        "\n",
        "- The magnitude of a vector indicates the strength of the values in that vector\n",
        "- The smaller the magnitude of a vector, the weaker the vector, and vice versa\n",
        "- The larger the magnitude of a vector, the stronger the vector, and vice versa\n",
        "- The magnitudes of the movie ratings vectors for a particular user in this data can theoretically range from 3.16 to 31.6\n",
        "- The magnitudes of the user ratings vectors for a particular movie in this data can theoretically range from 4.47 to 44.7"
      ],
      "metadata": {
        "id": "X7iHwjqEEinp"
      },
      "id": "X7iHwjqEEinp"
    },
    {
      "cell_type": "markdown",
      "source": [
        "# Task 5 - Print a sorted list of users in terms of how much they like movies in general"
      ],
      "metadata": {
        "id": "nsw9YzVEErY8"
      },
      "id": "nsw9YzVEErY8"
    },
    {
      "cell_type": "markdown",
      "source": [
        "### **NOTE**\n",
        "- The magnitude of a vector indicates the strength of the values in that vector\n",
        "- The smaller the magnitude of a vector, the weaker the vector and vice versa\n",
        "- The larger the magnitude of a vector, the stronger the vector and vice versa\n",
        "- We can use the magnitudes of the movie ratings vectors given by particular users to measure their interest in movies"
      ],
      "metadata": {
        "id": "kvFinh5XEyq1"
      },
      "id": "kvFinh5XEyq1"
    },
    {
      "cell_type": "code",
      "execution_count": 24,
      "id": "5f80f2aa",
      "metadata": {
        "id": "5f80f2aa"
      },
      "outputs": [],
      "source": [
        "# Calculate the magnitudes of the movie ratings vectors for all 20 users and sort them in descending order\n",
        "# Note: Use the \"mag()\" function to calculate magnitudes of movie ratings vectors for particular users\n",
        "# Note: Use these magnitudes as a measure of interest of users in watching movies\n",
        "# Note: Store the resulting values in a Pandas Series with index as user names and name the series \"users\"\n",
        "# Note: The \"index\" parameter of the series can be set as \"df.index\"\n",
        "# Note: You may need to specify the \"dtype\" parameter of the series as \"float64\" to avoid some warnings\n",
        "# Note: Use the \".sort_values()\" function with the \"ascending\" parameter set to \"False\"\n",
        "users =pd.Series(index=df.index,dtype='float64') # code here\n",
        "\n",
        "for user in users.index:\n",
        "    # save mag of user from df in users\n",
        "    users.loc[user]=mag(df.loc[user])\n",
        "\n",
        "\n",
        "users=users.sort_values(ascending=False) # sort here"
      ]
    },
    {
      "cell_type": "code",
      "execution_count": 25,
      "id": "3e07f366",
      "metadata": {
        "id": "3e07f366",
        "outputId": "25cd691a-ecf6-4679-db09-815579a890dc",
        "colab": {
          "base_uri": "https://localhost:8080/"
        }
      },
      "outputs": [
        {
          "output_type": "execute_result",
          "data": {
            "text/plain": [
              "User\n",
              "Ravi         27.349589\n",
              "Catherine    24.617067\n",
              "Disha        23.685439\n",
              "Lambert      22.538855\n",
              "Euclid       21.954498\n",
              "Hilbert      20.880613\n",
              "Farhaan      20.639767\n",
              "Indira       20.297783\n",
              "Niti         20.149442\n",
              "Jason        20.149442\n",
              "Ben          19.949937\n",
              "Gaurav       19.798990\n",
              "Manish       19.798990\n",
              "Tavneet      19.339080\n",
              "Pranav       18.788294\n",
              "Qader        18.439089\n",
              "Sushant      17.464249\n",
              "Arnold       17.435596\n",
              "Kenny        16.552945\n",
              "Oliver       12.489996\n",
              "dtype: float64"
            ]
          },
          "metadata": {},
          "execution_count": 25
        }
      ],
      "source": [
        "# Print the \"users\" series\n",
        "users\n",
        "\n"
      ]
    },
    {
      "cell_type": "markdown",
      "source": [
        "# Observations\n",
        "\n",
        "- The user \"Ravi\" has the highest interest in watching movies\n",
        "- The user \"Oliver\" has the least interest in watching movies"
      ],
      "metadata": {
        "id": "PnnetKRkFJGX"
      },
      "id": "PnnetKRkFJGX"
    },
    {
      "cell_type": "markdown",
      "source": [
        "# Task 6 - Print a sorted list of movies in terms of their popularity"
      ],
      "metadata": {
        "id": "YZ5jzJQQFOdP"
      },
      "id": "YZ5jzJQQFOdP"
    },
    {
      "cell_type": "markdown",
      "source": [
        "### **NOTE**\n",
        "\n",
        "- The magnitude of a vector indicates the strength of the values in that vector\n",
        "- The smaller the magnitude of a vector, the weaker the vector, and vice versa\n",
        "- The larger the magnitude of a vector, the stronger the vector, and vice versa\n",
        "- We can use the magnitudes of the user ratings vectors given to particular movies to measure their popularity"
      ],
      "metadata": {
        "id": "LbaXgrB3FRR4"
      },
      "id": "LbaXgrB3FRR4"
    },
    {
      "cell_type": "code",
      "execution_count": 26,
      "id": "d24d56c2",
      "metadata": {
        "id": "d24d56c2"
      },
      "outputs": [],
      "source": [
        "# Calculate the magnitudes of the user ratings vectors for all 10 movies and sort them in descending order\n",
        "# Note: Use the \"mag()\" function to calculate magnitudes of user ratings vectors for particular movies\n",
        "# Note: Use these magnitudes as a measure of the popularity of the movies\n",
        "# Note: Store the resulting values in a Pandas Series with index as movie names and name the series \"movies\"\n",
        "# Note: The \"index\" parameter of the series can be set as \"df.columns\"\n",
        "# Note: You may need to specify the \"dtype\" parameter of the series as \"float64\" to avoid some warnings\n",
        "# Note: Use the \".sort_values()\" function with the \"ascending\" parameter set to \"False\"\n",
        "\n",
        "movies =pd.Series(index=df.columns,dtype='float64') # code here\n",
        "for movie in movies.index:\n",
        "    # save mag for each movie in movies\n",
        "    movies.loc[movie]=np.sqrt(np.dot(df[movie],df[movie]))\n",
        "\n",
        "# sort by values    \n",
        "movies =movies.sort_values(ascending=False)"
      ]
    },
    {
      "cell_type": "code",
      "execution_count": 27,
      "id": "7480b1d0",
      "metadata": {
        "id": "7480b1d0",
        "outputId": "ec552ba6-f77c-4c92-8e6c-21f6c9f349e8",
        "colab": {
          "base_uri": "https://localhost:8080/"
        }
      },
      "outputs": [
        {
          "output_type": "execute_result",
          "data": {
            "text/plain": [
              "Spiderman               31.384710\n",
              "Thor                    31.048349\n",
              "Dolittle                30.675723\n",
              "Justice League          29.189039\n",
              "The Kissing Booth       29.017236\n",
              "Beauty and the Beast    27.766887\n",
              "The Notebook            27.568098\n",
              "Insidious               27.294688\n",
              "Annabelle               27.092434\n",
              "Casablanca              26.172505\n",
              "dtype: float64"
            ]
          },
          "metadata": {},
          "execution_count": 27
        }
      ],
      "source": [
        "# Print the \"movies\" series\n",
        "movies"
      ]
    },
    {
      "cell_type": "markdown",
      "source": [
        "# Observations\n",
        "\n",
        "- The most popular movie is \"Spiderman\"\n",
        "- The least popular movie is \"Casablanca\""
      ],
      "metadata": {
        "id": "8s2soukyFZxh"
      },
      "id": "8s2soukyFZxh"
    },
    {
      "cell_type": "markdown",
      "source": [
        "# Task 7 - Create a function to calculate the angle between two vectors"
      ],
      "metadata": {
        "id": "Ki1YeYFxFen0"
      },
      "id": "Ki1YeYFxFen0"
    },
    {
      "cell_type": "markdown",
      "source": [
        "### **Some Mathematical Insights**:\n",
        "\n",
        "- The angle between any two vectors can be used as a similarity measure between those two vectors.  We will calculate the angle between two vectors using dot products\n",
        "\n",
        "- The algorithm to find the angle between two vectors is as follows:\n",
        "1. Calculate the dot product of the two vectors\n",
        "2. Calculate the magnitudes of the two vectors\n",
        "3. Divide the value obtained in step 1 by the product of the values obtained in step 2\n",
        "4. Find the inverse cosine of the value obtained in step 3\n",
        "\n",
        "### **Note:**\n",
        "- Note: The angle obtained will be in radians\n",
        "- Note: You may code this out step by step or in one line"
      ],
      "metadata": {
        "id": "PDpzqrK7Fhxu"
      },
      "id": "PDpzqrK7Fhxu"
    },
    {
      "cell_type": "code",
      "execution_count": 28,
      "id": "5344bfc9",
      "metadata": {
        "id": "5344bfc9"
      },
      "outputs": [],
      "source": [
        "# Create a function called \"ang()\" which takes in two vectors and returns the angle between them\n",
        "# Note: Use \"np.dot()\" to calculate dot products\n",
        "# Note: Use \"mag()\" to calculate magnitudes\n",
        "# Note: Use \"np.arccos()\" to calculate inverse cosines\n",
        "def ang(vec1, vec2):\n",
        "\n",
        "    # code here\n",
        "  num=np.dot(vec1,vec2)\n",
        "  mag1=mag(vec1)\n",
        "  mag2=mag(vec2)\n",
        "  den=mag1*mag2\n",
        "  angle=np.arccos(num/den)\n",
        "  return(angle)    "
      ]
    },
    {
      "cell_type": "code",
      "execution_count": 29,
      "id": "d86a1e1d",
      "metadata": {
        "id": "d86a1e1d",
        "outputId": "9955d8c4-c26d-4639-b335-ec8b700fff3d",
        "colab": {
          "base_uri": "https://localhost:8080/"
        }
      },
      "outputs": [
        {
          "output_type": "execute_result",
          "data": {
            "text/plain": [
              "0.5678232699739485"
            ]
          },
          "metadata": {},
          "execution_count": 29
        }
      ],
      "source": [
        "# Calculate the angle between the movie ratings vectors for the users \"Ben\" and \"Ravi\" using the function \"ang()\"\n",
        "ang(df.loc['Ben'],df.loc['Ravi'])\n"
      ]
    },
    {
      "cell_type": "code",
      "execution_count": 30,
      "id": "909bd3ff",
      "metadata": {
        "id": "909bd3ff",
        "outputId": "d42e179d-c541-47b8-9da8-6939a049299c",
        "colab": {
          "base_uri": "https://localhost:8080/"
        }
      },
      "outputs": [
        {
          "output_type": "execute_result",
          "data": {
            "text/plain": [
              "0.566621652026982"
            ]
          },
          "metadata": {},
          "execution_count": 30
        }
      ],
      "source": [
        "# Calculate the angle between the user ratings vectors for the movies \"Spiderman\" and \"The Notebook\" using the function \"ang()\"\n",
        "ang(df['Spiderman'],df['The Notebook'])\n",
        "\n"
      ]
    },
    {
      "cell_type": "code",
      "execution_count": 31,
      "id": "f76a0771",
      "metadata": {
        "id": "f76a0771",
        "outputId": "07fb9f76-cef6-43bf-f806-128c6ef8fa2e",
        "colab": {
          "base_uri": "https://localhost:8080/"
        }
      },
      "outputs": [
        {
          "output_type": "stream",
          "name": "stderr",
          "text": [
            "<ipython-input-28-0c69ddacdef9>:12: RuntimeWarning: invalid value encountered in arccos\n",
            "  angle=np.arccos(num/den)\n"
          ]
        },
        {
          "output_type": "execute_result",
          "data": {
            "text/plain": [
              "nan"
            ]
          },
          "metadata": {},
          "execution_count": 31
        }
      ],
      "source": [
        "# Calculate the angle between the user ratings vector for the movie \"Annabelle\" and itself using the function \"ang()\"\n",
        "ang(df['Annabelle'],df['Annabelle'])\n"
      ]
    },
    {
      "cell_type": "markdown",
      "source": [
        "- Notice that you get a \"nan\" value, that is, \"not a number\"\n",
        "- Let's calculate the angle between the user ratings vector for the movie \"Annabelle\" and itself step by step"
      ],
      "metadata": {
        "id": "69ewIsVwK9Qw"
      },
      "id": "69ewIsVwK9Qw"
    },
    {
      "cell_type": "code",
      "execution_count": 32,
      "id": "3e20ae5f",
      "metadata": {
        "id": "3e20ae5f"
      },
      "outputs": [],
      "source": [
        "# First, store the user ratings vector for the movie \"Annabelle\" in two variables \"u\" and \"v\"\n",
        "u =df['Annabelle'] \n",
        "v =df['Annabelle']  "
      ]
    },
    {
      "cell_type": "code",
      "execution_count": 33,
      "id": "1e57b1bf",
      "metadata": {
        "id": "1e57b1bf"
      },
      "outputs": [],
      "source": [
        "# Next, calculate the numerator of the angle formula, that is the dot product of \"u\" and \"v\" and store the value as \"num\"\n",
        "num =np.dot(u,v)"
      ]
    },
    {
      "cell_type": "code",
      "execution_count": 34,
      "id": "de32e2ac",
      "metadata": {
        "id": "de32e2ac",
        "outputId": "6cd1af73-86da-40d6-c0a7-39c84ad070db",
        "colab": {
          "base_uri": "https://localhost:8080/"
        }
      },
      "outputs": [
        {
          "output_type": "execute_result",
          "data": {
            "text/plain": [
              "734"
            ]
          },
          "metadata": {},
          "execution_count": 34
        }
      ],
      "source": [
        "# Print the value of the numerator\n",
        "num"
      ]
    },
    {
      "cell_type": "code",
      "execution_count": 35,
      "id": "31b269fe",
      "metadata": {
        "id": "31b269fe"
      },
      "outputs": [],
      "source": [
        "# Next, calculate the magnitudes of the two vectors \"u\" and \"v\" and store them in two variables \"mag_u\" and \"mag_v\"\n",
        "mag_u =mag(u) \n",
        "mag_v =mag(v) "
      ]
    },
    {
      "cell_type": "code",
      "execution_count": 36,
      "id": "b52420d7",
      "metadata": {
        "id": "b52420d7"
      },
      "outputs": [],
      "source": [
        "# Next, calculate the denominator of the angle formula, that is the product of \"mag_u\" and \"mag_v\" and store the value as \"den\"\n",
        "den = mag_u*mag_v\n"
      ]
    },
    {
      "cell_type": "code",
      "execution_count": 37,
      "id": "34ba5466",
      "metadata": {
        "id": "34ba5466",
        "outputId": "2a4af5b4-5dd4-476b-817d-fac244420e8d",
        "colab": {
          "base_uri": "https://localhost:8080/"
        }
      },
      "outputs": [
        {
          "output_type": "execute_result",
          "data": {
            "text/plain": [
              "733.9999999999999"
            ]
          },
          "metadata": {},
          "execution_count": 37
        }
      ],
      "source": [
        "# Print the value of the denominator\n",
        "den\n"
      ]
    },
    {
      "cell_type": "markdown",
      "source": [
        "- Notice that the denominator is nearly equal to the numerator but slightly less than it. This is because of the precision limitation when storing numbers using Python."
      ],
      "metadata": {
        "id": "-oSZMOG-LwpY"
      },
      "id": "-oSZMOG-LwpY"
    },
    {
      "cell_type": "code",
      "execution_count": 38,
      "id": "cc8ef40f",
      "metadata": {
        "id": "cc8ef40f",
        "outputId": "02b66592-84c7-48b6-8f5e-936212e6cac0",
        "colab": {
          "base_uri": "https://localhost:8080/"
        }
      },
      "outputs": [
        {
          "output_type": "stream",
          "name": "stderr",
          "text": [
            "<ipython-input-38-1e6125f2c95e>:2: RuntimeWarning: invalid value encountered in arccos\n",
            "  np.arccos(num/den)\n"
          ]
        },
        {
          "output_type": "execute_result",
          "data": {
            "text/plain": [
              "nan"
            ]
          },
          "metadata": {},
          "execution_count": 38
        }
      ],
      "source": [
        "# Calculate the inverse cosine of the ratio of the numerator to the denominator\n",
        "np.arccos(num/den)\n"
      ]
    },
    {
      "cell_type": "markdown",
      "source": [
        "- Since this ratio (734 / 733.9999999999999) is greater than 1, no such inverse cosine angle is defined. This can be handled in this case by rounding the denominator.\n",
        "- The values in the vectors (and hence their magnitudes) are large enough that rounding them to whole numbers will work\n",
        "- In case you are working with values where rounding is not an option, you will need to use conditional statements"
      ],
      "metadata": {
        "id": "Nha97RiTMCoC"
      },
      "id": "Nha97RiTMCoC"
    },
    {
      "cell_type": "code",
      "execution_count": 39,
      "id": "34c32bfa",
      "metadata": {
        "id": "34c32bfa"
      },
      "outputs": [],
      "source": [
        "# Redefine the function \"ang()\" by rounding the denominator part of the angle formula\n",
        "def ang(vec1, vec2):\n",
        "    # code here\n",
        "  num=np.dot(vec1,vec2)\n",
        "  mag1=mag(vec1)\n",
        "  mag2=mag(vec2)\n",
        "  den=round(mag1*mag2)\n",
        "  angle=np.arccos(num/den)\n",
        "  return(angle) "
      ]
    },
    {
      "cell_type": "code",
      "execution_count": 40,
      "id": "d35150b9",
      "metadata": {
        "id": "d35150b9",
        "outputId": "3ba50311-0763-4b48-90fa-442874a97110",
        "colab": {
          "base_uri": "https://localhost:8080/"
        }
      },
      "outputs": [
        {
          "output_type": "execute_result",
          "data": {
            "text/plain": [
              "0.0"
            ]
          },
          "metadata": {},
          "execution_count": 40
        }
      ],
      "source": [
        "# Calculate the angle between the user ratings vector for the movie \"Annabelle\" and itself using the function \"ang()\"\n",
        "ang(df['Annabelle'],df['Annabelle'])\n"
      ]
    },
    {
      "cell_type": "markdown",
      "source": [
        "# Observations\n",
        "\n",
        "- The dot product of two vectors can be used to calculate the angle between the two vectors\n",
        "- The angle obtained is in radians\n",
        "- The angle between two vectors measures the similarity between those vectors\n",
        "- The angle between a vector and itself is 0 radians\n",
        "- The smaller the angle between two vectors, the higher their similarity score, and vice versa\n",
        "- The larger the angle between two vectors, the lower their similarity score, and vice versa\n",
        "- To overcome Python's precision limitations, we round the denominator of the angle formula"
      ],
      "metadata": {
        "id": "09WvsBp0Gaqw"
      },
      "id": "09WvsBp0Gaqw"
    },
    {
      "cell_type": "markdown",
      "source": [
        "# Task 8 - Create a function that returns the name of the person who is most similar to a given user\n",
        "\n",
        "- The angle between two vectors can be used as a measure of similarity between the two vectors\n",
        "- The smaller the angle between two vectors, the higher their similarity score, and vice versa\n",
        "- The larger the angle between two vectors, the lower their similarity score, and vice versa\n",
        "- We will create a function that returns the name of the person who is most similar to a given user"
      ],
      "metadata": {
        "id": "7Leev_aMGjQO"
      },
      "id": "7Leev_aMGjQO"
    },
    {
      "cell_type": "code",
      "execution_count": 41,
      "id": "34e7596a",
      "metadata": {
        "id": "34e7596a"
      },
      "outputs": [],
      "source": [
        "# Define a function \"usersim()\" that takes in the name of a user and returns the name of the user most similar to them\n",
        "# Note: Use the \"ang()\" function to measure similarities between users (using their movie ratings vectors)\n",
        "# Note: You may create a temporary Pandas Series within the \"usersim()\" function to store the angle values\n",
        "# Note: The \"index\" parameter of the series can be set as \"df.index\"\n",
        "# Note: You may need to specify the \"dtype\" parameter of the series as \"float64\" to avoid some warnings\n",
        "# Note: You may sort the entries in this series and return the second index entry\n",
        "# Note: Use the \".sort_values()\" function with the default value for the \"ascending\" parameter, which is \"True\"\n",
        "# Note: The first entry after sorting will be trivial\n",
        "def usersim(user1):\n",
        "  temp=pd.Series(index=df.index,dtype='float64')\n",
        "  for user2 in temp.index:\n",
        "    temp.loc[user2]=ang(df.loc[user1],df.loc[user2])\n",
        "  return(temp.sort_values().index[1])\n",
        "    \n",
        " "
      ]
    },
    {
      "cell_type": "code",
      "execution_count": 42,
      "id": "73a542f3",
      "metadata": {
        "id": "73a542f3",
        "outputId": "7e9a5748-bd33-450a-e25d-1b37f7c233d0",
        "colab": {
          "base_uri": "https://localhost:8080/",
          "height": 36
        }
      },
      "outputs": [
        {
          "output_type": "execute_result",
          "data": {
            "text/plain": [
              "'Ravi'"
            ],
            "application/vnd.google.colaboratory.intrinsic+json": {
              "type": "string"
            }
          },
          "metadata": {},
          "execution_count": 42
        }
      ],
      "source": [
        "# Use the function \"usersim()\" to find the name of the user who is most similar to the user \"Manish\"\n",
        "usersim('Manish')"
      ]
    },
    {
      "cell_type": "code",
      "execution_count": 43,
      "id": "0f9274aa",
      "metadata": {
        "id": "0f9274aa",
        "outputId": "27d6f1d1-39db-4f34-fcde-d6b886f1cbc4",
        "colab": {
          "base_uri": "https://localhost:8080/",
          "height": 36
        }
      },
      "outputs": [
        {
          "output_type": "execute_result",
          "data": {
            "text/plain": [
              "'Niti'"
            ],
            "application/vnd.google.colaboratory.intrinsic+json": {
              "type": "string"
            }
          },
          "metadata": {},
          "execution_count": 43
        }
      ],
      "source": [
        "# Use the function \"usersim()\" to find the name of the user who is most similar to the user \"Tavneet\"\n",
        "usersim(\"Tavneet\")\n",
        "\n"
      ]
    },
    {
      "cell_type": "code",
      "execution_count": 44,
      "id": "091d42a9",
      "metadata": {
        "id": "091d42a9",
        "outputId": "c4535f7d-d7d6-4030-eb33-083fc54ffb11",
        "colab": {
          "base_uri": "https://localhost:8080/",
          "height": 36
        }
      },
      "outputs": [
        {
          "output_type": "execute_result",
          "data": {
            "text/plain": [
              "'Qader'"
            ],
            "application/vnd.google.colaboratory.intrinsic+json": {
              "type": "string"
            }
          },
          "metadata": {},
          "execution_count": 44
        }
      ],
      "source": [
        "# Use the function \"usersim()\" to find the name of the user who is most similar to the user \"Indira\"\n",
        "usersim(\"Indira\")\n"
      ]
    },
    {
      "cell_type": "code",
      "execution_count": 45,
      "id": "52199958",
      "metadata": {
        "id": "52199958",
        "outputId": "321419ca-4aad-4ec9-8fc7-f59962332bd8",
        "colab": {
          "base_uri": "https://localhost:8080/",
          "height": 36
        }
      },
      "outputs": [
        {
          "output_type": "execute_result",
          "data": {
            "text/plain": [
              "'Catherine'"
            ],
            "application/vnd.google.colaboratory.intrinsic+json": {
              "type": "string"
            }
          },
          "metadata": {},
          "execution_count": 45
        }
      ],
      "source": [
        "# Use the function \"usersim()\" to find the name of the user who is most similar to the user \"Qader\"\n",
        "usersim(\"Qader\")\n"
      ]
    },
    {
      "cell_type": "markdown",
      "source": [
        "# Observations\n",
        "\n",
        "- The angle between the movie ratings vectors for two particular users is a measure of similarity between the users\n",
        "- The similarity score is not symmetric\n",
        "- Rather it pertains to a specific case (such as a specific user)\n",
        "- This is because it is possible for X to be most similar to Y and Y to be most similar to Z\n",
        "- This happens when X and Z are not as similar to each other as X and Y or Y and Z\n",
        "- Transitivity, on the other hand, is a useful assumption for recommendations"
      ],
      "metadata": {
        "id": "EjYj2oB4Gqni"
      },
      "id": "EjYj2oB4Gqni"
    },
    {
      "cell_type": "markdown",
      "source": [
        "# Task 9 - Create a function that returns the name of the movie that is most similar to a given movie"
      ],
      "metadata": {
        "id": "BCSmjaWuGxIL"
      },
      "id": "BCSmjaWuGxIL"
    },
    {
      "cell_type": "markdown",
      "source": [
        "### **Logic**\n",
        "\n",
        "- The angle between two vectors can be used as a measure of similarity between the two vectors. The smaller the angle between two vectors, the higher their similarity score, and vice versa.\n",
        "- The larger the angle between two vectors, the lower their similarity score, and vice versa\n",
        "\n",
        "**What's Next ?**- We will create a function that returns the name of the movie which is most similar to a given movie"
      ],
      "metadata": {
        "id": "kQ5RKlcWG2ws"
      },
      "id": "kQ5RKlcWG2ws"
    },
    {
      "cell_type": "code",
      "execution_count": 52,
      "id": "49071b40",
      "metadata": {
        "id": "49071b40"
      },
      "outputs": [],
      "source": [
        "# Define a function \"movesim()\" that takes in the name of a movie and returns the name of the movie most similar to it\n",
        "# Note: Use the \"ang()\" function to measure similarities between movies (using their user ratings vectors)\n",
        "# Note: You may create a temporary Pandas Series within the \"moviesim()\" function to store the angle values\n",
        "# Note: The \"index\" parameter of the series can be set as \"df.columns\"\n",
        "# Note: You may need to specify the \"dtype\" parameter of the series as \"float64\" to avoid some warnings\n",
        "# Note: You may sort the entries in this series and return the second index entry\n",
        "# Note: Use the \".sort_values()\" function with the default value for the \"ascending\" parameter, which is \"True\"\n",
        "# Note: The first entry after sorting will be trivial\n",
        "def moviesim(movie1):\n",
        "  temp=pd.Series(index=df.columns,dtype='float64')\n",
        "  for movie2 in temp.index:\n",
        "    temp.loc[movie2]=ang(df[movie1],df[movie2])\n",
        "  return(temp.sort_values().index[1])\n",
        "\n",
        "    # code here"
      ]
    },
    {
      "cell_type": "code",
      "execution_count": 53,
      "id": "5479900e",
      "metadata": {
        "id": "5479900e",
        "outputId": "2f37f0e8-9d1f-4cdc-e242-cb49b16d944f",
        "colab": {
          "base_uri": "https://localhost:8080/",
          "height": 36
        }
      },
      "outputs": [
        {
          "output_type": "execute_result",
          "data": {
            "text/plain": [
              "'The Notebook'"
            ],
            "application/vnd.google.colaboratory.intrinsic+json": {
              "type": "string"
            }
          },
          "metadata": {},
          "execution_count": 53
        }
      ],
      "source": [
        "# Use the function \"moviesim()\" to find the name of the movie that is most similar to the movie \"Casablanca\"\n",
        "moviesim(\"Casablanca\")\n"
      ]
    },
    {
      "cell_type": "code",
      "execution_count": 54,
      "id": "84e85fe1",
      "metadata": {
        "id": "84e85fe1",
        "outputId": "d383de1a-232a-4bf5-9741-351bdeadd964",
        "colab": {
          "base_uri": "https://localhost:8080/",
          "height": 36
        }
      },
      "outputs": [
        {
          "output_type": "execute_result",
          "data": {
            "text/plain": [
              "'Annabelle'"
            ],
            "application/vnd.google.colaboratory.intrinsic+json": {
              "type": "string"
            }
          },
          "metadata": {},
          "execution_count": 54
        }
      ],
      "source": [
        "# Use the function \"moviesim()\" to find the name of the movie that is most similar to the movie \"Insidious\"\n",
        "moviesim(\"Insidious\")\n"
      ]
    },
    {
      "cell_type": "code",
      "execution_count": 55,
      "id": "582beb69",
      "metadata": {
        "id": "582beb69",
        "outputId": "6fc90cb3-fee0-4ddc-daff-e7e3978a0ac4",
        "colab": {
          "base_uri": "https://localhost:8080/",
          "height": 36
        }
      },
      "outputs": [
        {
          "output_type": "execute_result",
          "data": {
            "text/plain": [
              "'Thor'"
            ],
            "application/vnd.google.colaboratory.intrinsic+json": {
              "type": "string"
            }
          },
          "metadata": {},
          "execution_count": 55
        }
      ],
      "source": [
        "# Use the function \"moviesim()\" to find the name of the movie that is most similar to the movie \"Spiderman\"\n",
        "moviesim(\"Spiderman\")\n"
      ]
    },
    {
      "cell_type": "code",
      "execution_count": 56,
      "id": "c6ac6d15",
      "metadata": {
        "id": "c6ac6d15",
        "outputId": "71eeb7ed-41c4-4d7e-ac04-66caf3935ffe",
        "colab": {
          "base_uri": "https://localhost:8080/",
          "height": 36
        }
      },
      "outputs": [
        {
          "output_type": "execute_result",
          "data": {
            "text/plain": [
              "'Justice League'"
            ],
            "application/vnd.google.colaboratory.intrinsic+json": {
              "type": "string"
            }
          },
          "metadata": {},
          "execution_count": 56
        }
      ],
      "source": [
        "# Use the function \"moviesim()\" to find the name of the movie that is most similar to the movie \"Thor\"\n",
        "moviesim(\"Thor\")\n"
      ]
    },
    {
      "cell_type": "markdown",
      "source": [
        "# Observations\n",
        "\n",
        "- The angle between the user ratings vectors for two particular movies is a measure of similarity between the movies\n",
        "- The similarity score is not symmetric\n",
        "- Rather it pertains to a specific case (such as a specific movie)\n",
        "- This is because it is possible for X to be most similar to Y and Y to be most similar to Z\n",
        "- This happens when X and Z are not as similar to each other as X and Y or Y and Z\n",
        "- Transitivity, on the other hand, is a useful assumption for recommendations"
      ],
      "metadata": {
        "id": "Ui6xODbHHLXN"
      },
      "id": "Ui6xODbHHLXN"
    },
    {
      "cell_type": "markdown",
      "source": [
        "# Conclusions\n",
        "\n",
        "- From the user movie ratings data, we can extract movie ratings vectors and user ratings vectors. We can use magnitudes of movie ratings vectors for particular users to measure their interest in movies.\n",
        "- We can use magnitudes of user ratings vectors for particular movies to measure their popularity.\n",
        "- We can use the angle between movies ratings vectors of two users to measure their similarity.\n",
        "- We can use the angle between user ratings vectors of two movies to measure their similarity.\n",
        "- Using these measures, we can recommend similar movies to similar users\n",
        "\n",
        " **This is a very basic look into the working methodology of recommender systems.**"
      ],
      "metadata": {
        "id": "PDD9QveWHQpm"
      },
      "id": "PDD9QveWHQpm"
    },
    {
      "cell_type": "markdown",
      "source": [
        "# **FEEDBACK**\n",
        "\n",
        "https://forms.zohopublic.in/cloudyml/form/CloudyMLStatisticsFeedbackForm/formperma/WV946wnf0sDM_tOlH87RxZR9yMceKWGrtuPOyXzzCRc"
      ],
      "metadata": {
        "id": "nJRZzybfMmxE"
      },
      "id": "nJRZzybfMmxE"
    }
  ],
  "metadata": {
    "kernelspec": {
      "display_name": "Python 3",
      "language": "python",
      "name": "python3"
    },
    "language_info": {
      "codemirror_mode": {
        "name": "ipython",
        "version": 3
      },
      "file_extension": ".py",
      "mimetype": "text/x-python",
      "name": "python",
      "nbconvert_exporter": "python",
      "pygments_lexer": "ipython3",
      "version": "3.8.8"
    },
    "colab": {
      "provenance": []
    }
  },
  "nbformat": 4,
  "nbformat_minor": 5
}