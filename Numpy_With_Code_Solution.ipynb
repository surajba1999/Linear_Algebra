{
  "cells": [
    {
      "cell_type": "markdown",
      "metadata": {
        "id": "v_5a6dEGYukp"
      },
      "source": [
        "# <center> Numpy Basics </center>"
      ]
    },
    {
      "cell_type": "markdown",
      "metadata": {
        "id": "S6iHwE_iYukt"
      },
      "source": [
        "Welcome to section of Numpy. This is one of the \n",
        "the most used Python libraries for data science. NumPy consists of a powerful data structure called multidimensional arrays. Pandas is another powerful Python library that provides fast and easy data analysis platform.\n",
        "\n",
        "NumPy is a library written for scientific computing and data analysis. It stands for numerical python and also known as array oriented computing.\n",
        "\n",
        "The most basic object in NumPy is the ndarray, or simply an array which is an n-dimensional, homogeneous array. By homogenous, we mean that all the elements in a NumPy array have to be of the same data type, which is commonly numeric (float or integer).\n",
        "\n",
        "\n",
        " # Why Numpy?\n",
        " convenience & speed\n",
        " \n",
        " Numpy is much faster than the standard python ways to do computations.\n",
        " \n",
        "Vectorised code typically does not contain explicit looping and indexing etc. (all of this happens behind the scenes, in precompiled C-code), and thus it is much more concise.\n",
        "\n",
        "Also, many Numpy operations are implemented in C which is basically being executed behind the scenes, avoiding the general cost of loops in Python, pointer indirection and per-element dynamic type checking. The speed boost depends on which operations you're performing.\n",
        " \n",
        " NumPy arrays are more compact than lists, i.e. they take much lesser storage space than lists\n",
        " \n",
        " ***Let's get started  with our Numpy Assigment**"
      ]
    },
    {
      "cell_type": "code",
      "execution_count": 1,
      "metadata": {
        "id": "NnhU92SsYukv"
      },
      "outputs": [],
      "source": [
        "#import numpy module with alias np\n",
        "import numpy as np\n",
        "\n"
      ]
    },
    {
      "cell_type": "markdown",
      "metadata": {
        "id": "onEY9HMeYuk0"
      },
      "source": [
        "We can create a NumPy ndarray object by using the array() function.\n",
        "To create an ndarray, we can pass a list, tuple or any array-like object into the array() method, and it will be converted into an ndarray:\n"
      ]
    },
    {
      "cell_type": "code",
      "execution_count": 3,
      "metadata": {
        "id": "BCdPh0rqYuk0"
      },
      "outputs": [],
      "source": [
        "# Define a numpy array passing a list with  1,2 and 3 as elements in it\n",
        "a = np.array([1,2,3])\n",
        "\n",
        "\n"
      ]
    },
    {
      "cell_type": "code",
      "execution_count": 4,
      "metadata": {
        "id": "up-97mFyYuk1",
        "outputId": "1a59ccd9-7c35-4299-b6c5-d346bfafce12",
        "colab": {
          "base_uri": "https://localhost:8080/"
        }
      },
      "outputs": [
        {
          "output_type": "execute_result",
          "data": {
            "text/plain": [
              "array([1, 2, 3])"
            ]
          },
          "metadata": {},
          "execution_count": 4
        }
      ],
      "source": [
        "# print a\n",
        "a\n"
      ]
    },
    {
      "cell_type": "markdown",
      "metadata": {
        "id": "I5wC2n70Yuk2"
      },
      "source": [
        "## Dimensions in Arrays\n",
        "\n",
        "### **`Watch Video 1: Numpy Array Dimension`**\n",
        "\n",
        "Numpy array can be of n dimentions\n",
        "\n",
        "Lets create arrays of different dimentions.\n",
        "\n",
        "a=A numpy array with one single integer 10\n",
        "\n",
        "b=A numpy array passing a list having a list= [1,2,3]\n",
        "\n",
        "c=A numpy array passing nested list having [[1, 2, 3], [4, 5, 6]] as elements\n",
        "\n",
        "d=A numpy array passing nested list having [[[1, 2, 3], [4, 5, 6]], [[1, 2, 3], [4, 5, 6]]] as elements"
      ]
    },
    {
      "cell_type": "code",
      "execution_count": 6,
      "metadata": {
        "id": "75VeuGacYuk3"
      },
      "outputs": [],
      "source": [
        "#define a,b,c and d as instructed above\n",
        "\n",
        "a = np.array(10)\n",
        "b = np.array([1,2,3])\n",
        "c = np.array([[1,2,3],[4,5,6]])\n",
        "d = np.array([[[1,2,3],[4,5,6]],[[1,2,3],[4,5,6]]])\n",
        "\n"
      ]
    },
    {
      "cell_type": "markdown",
      "metadata": {
        "id": "qtUQhJgsYuk5"
      },
      "source": [
        "Are you ready to check its dimention? Use ndim attribute on each variable to check its dimention"
      ]
    },
    {
      "cell_type": "code",
      "execution_count": 7,
      "metadata": {
        "id": "WqRlO_elYuk6",
        "outputId": "8fa8c69e-8614-449b-8f7a-41f99989caa0",
        "colab": {
          "base_uri": "https://localhost:8080/"
        }
      },
      "outputs": [
        {
          "output_type": "stream",
          "name": "stdout",
          "text": [
            "a dimension:  0\n",
            "b dimension:  1\n",
            "c dimension:  2\n",
            "d dimension:  3\n"
          ]
        }
      ],
      "source": [
        "#print dimentions of a,b, c and d\n",
        "print(\"a dimension: \",a.ndim)\n",
        "print(\"b dimension: \",b.ndim)\n",
        "print(\"c dimension: \",c.ndim)\n",
        "print(\"d dimension: \",d.ndim)\n",
        "\n",
        "\n"
      ]
    },
    {
      "cell_type": "markdown",
      "metadata": {
        "id": "GdfDcthEYuk7"
      },
      "source": [
        "Hey hey. Did you see! you have created 0-D,1-DeprecationWarning, 2-D and 3-D arrays.\n",
        "\n",
        "Lets print there shape as well. You can check shape using shape attribute\n",
        "\n"
      ]
    },
    {
      "cell_type": "code",
      "execution_count": 8,
      "metadata": {
        "id": "Dbo7BMcNYuk8",
        "outputId": "c45ee9a3-5644-40c9-9b60-449d5c00ea02",
        "colab": {
          "base_uri": "https://localhost:8080/"
        }
      },
      "outputs": [
        {
          "output_type": "stream",
          "name": "stdout",
          "text": [
            "shape of a:  ()\n",
            "shape of b:  (3,)\n",
            "shape of c:  (2, 3)\n",
            "shape of d:  (2, 2, 3)\n"
          ]
        }
      ],
      "source": [
        "# print shape of each a,b ,c and d\n",
        "print(\"shape of a: \",a.shape)\n",
        "print(\"shape of b: \",b.shape)\n",
        "print(\"shape of c: \",c.shape)\n",
        "print(\"shape of d: \",d.shape)\n",
        "\n",
        "\n",
        "\n"
      ]
    },
    {
      "cell_type": "markdown",
      "metadata": {
        "id": "zznIHO2BYuk8"
      },
      "source": [
        "Lets check data type passed in our array. To check data type you can use dtype attribute"
      ]
    },
    {
      "cell_type": "code",
      "execution_count": 9,
      "metadata": {
        "id": "IqR87PE-Yuk9",
        "outputId": "3675113d-f5fe-4083-bcc8-188e44b5b250",
        "colab": {
          "base_uri": "https://localhost:8080/"
        }
      },
      "outputs": [
        {
          "output_type": "stream",
          "name": "stdout",
          "text": [
            "int64\n",
            "int64\n"
          ]
        }
      ],
      "source": [
        "# print data type of c and d\n",
        "print(c.dtype)\n",
        "print(d.dtype)\n",
        "\n",
        "\n"
      ]
    },
    {
      "cell_type": "markdown",
      "metadata": {
        "id": "bvZI9gIfYuk9"
      },
      "source": [
        "Above output mean our array is having int type elements in it."
      ]
    },
    {
      "cell_type": "markdown",
      "metadata": {
        "id": "JTIMcpHZYuk9"
      },
      "source": [
        "Lets check the type of our variable. To check type of any numpy variable use type() function "
      ]
    },
    {
      "cell_type": "code",
      "execution_count": 10,
      "metadata": {
        "id": "4XscrKR9Yuk9",
        "outputId": "cb790dbf-b54e-4b99-d952-42a5093383b6",
        "colab": {
          "base_uri": "https://localhost:8080/"
        }
      },
      "outputs": [
        {
          "output_type": "stream",
          "name": "stdout",
          "text": [
            "<class 'numpy.ndarray'>\n",
            "<class 'numpy.ndarray'>\n"
          ]
        }
      ],
      "source": [
        "#print type of a and b variable\n",
        "print(type(a))\n",
        "print(type(b))\n",
        "\n",
        "\n",
        "\n"
      ]
    },
    {
      "cell_type": "code",
      "execution_count": 11,
      "metadata": {
        "id": "cmEidey1Yuk9",
        "outputId": "6864722b-42b2-4323-87cc-17542776a931",
        "colab": {
          "base_uri": "https://localhost:8080/"
        }
      },
      "outputs": [
        {
          "output_type": "execute_result",
          "data": {
            "text/plain": [
              "3"
            ]
          },
          "metadata": {},
          "execution_count": 11
        }
      ],
      "source": [
        "# Lets check length of array b, using len() function\n",
        "len(b)"
      ]
    },
    {
      "cell_type": "markdown",
      "metadata": {
        "id": "8k-sX7zmYuk-"
      },
      "source": [
        "Bravo!You have Defined ndarray i.e numpy array in variable a nd b. Also you have successfully learned how to create numpy. "
      ]
    },
    {
      "cell_type": "markdown",
      "metadata": {
        "id": "ujRS0oa7Yuk-"
      },
      "source": [
        "## Performance measurement\n",
        "\n",
        "I mentioned that the key advantages of numpy are convenience and speed of computation.\n",
        "\n",
        "You'll often work with extremely large datasets, and thus it is important point for you to understand how much computation time (and memory) you can save using numpy, compared to standard python lists."
      ]
    },
    {
      "cell_type": "markdown",
      "metadata": {
        "id": "bl8PwahHYuk-"
      },
      "source": [
        "Create two list l1 and l2 where, l1=[10,20,30] and l2=[40,50,60]\n",
        "Also define two numpy arrays l3,l4 where l3 has l1 as element and l4 has l2 as element\n"
      ]
    },
    {
      "cell_type": "code",
      "execution_count": 12,
      "metadata": {
        "id": "-cZT6aZlYuk-"
      },
      "outputs": [],
      "source": [
        "# Define l1,l2,l3 and l4 as stated above.\n",
        "l1 = [10,20,30]\n",
        "l2 = [40,50,60]\n",
        "l3 = np.array(l1)\n",
        "l4 = np.array(l2)\n",
        "\n"
      ]
    },
    {
      "cell_type": "markdown",
      "metadata": {
        "id": "9muN0ZR5Yuk-"
      },
      "source": [
        "Lets multiply each elements of l1 with corresponding elements of l2\n",
        "\n",
        "Here use list comprehention to do so. Lets see how much you remember your work in other assignments.\n",
        "\n",
        "Note: use %timeit as prefix before your line of code inorder to calculate total time taken to run that line<br>\n",
        "eg. %timeit my_code"
      ]
    },
    {
      "cell_type": "code",
      "execution_count": 13,
      "metadata": {
        "id": "Gt0o_ZSCYuk_",
        "outputId": "435c1c7b-9315-4563-c4bc-65a26fde945f",
        "colab": {
          "base_uri": "https://localhost:8080/"
        }
      },
      "outputs": [
        {
          "output_type": "stream",
          "name": "stdout",
          "text": [
            "814 ns ± 284 ns per loop (mean ± std. dev. of 7 runs, 1000000 loops each)\n"
          ]
        }
      ],
      "source": [
        "#code here as instructed above\n",
        "%timeit [l1[i]*l2[i] for i in range(len(l1))]\n",
        "\n"
      ]
    },
    {
      "cell_type": "markdown",
      "metadata": {
        "id": "xT45pl-RYuk_"
      },
      "source": [
        "Lets mulptiply l3 and l4\n",
        "\n",
        "Note: use %timeit as prefix before your line of code inorder to calculate total time taken to run that line"
      ]
    },
    {
      "cell_type": "code",
      "execution_count": 14,
      "metadata": {
        "id": "SceA6IrwYuk_",
        "outputId": "3d2d3fff-7370-40ed-f4c8-d90e08a2988b",
        "colab": {
          "base_uri": "https://localhost:8080/"
        }
      },
      "outputs": [
        {
          "output_type": "stream",
          "name": "stdout",
          "text": [
            "562 ns ± 7.54 ns per loop (mean ± std. dev. of 7 runs, 1000000 loops each)\n"
          ]
        }
      ],
      "source": [
        "\n",
        "%timeit l3*l4\n"
      ]
    },
    {
      "cell_type": "markdown",
      "metadata": {
        "id": "CJrqooYWYuk_"
      },
      "source": [
        "Don't worry if still your one line of code is running. Its because your system is calculating total time taken to run your code.\n",
        "\n",
        "Did you notice buddy! time taken to multiply two lists takes more time than multiplyimg two numpy array.\n",
        "Hence proved that numpy arrays are faster than lists.\n",
        "\n",
        "**Fun Fact time!:**\n",
        "\n",
        "You know in many data science interviews it is asked that what is the difference between list and array.<br>\n",
        "### The answer is: **`Watch Video 2: List Vs Numpy`**\n"
      ]
    },
    {
      "cell_type": "markdown",
      "metadata": {
        "id": "7ANGM0NaYuk_"
      },
      "source": [
        "so in numpy arrays I can do everything without even writing a loop? yes... ohh wao"
      ]
    },
    {
      "cell_type": "markdown",
      "metadata": {
        "id": "tmLk0UDSYuk_"
      },
      "source": [
        "### Creating Numpy array\n",
        "\n",
        "There are multiple ways to create numpy array. Lets walk over them\n",
        "\n",
        "1. Using arrange() function <br>\n",
        "Refer: https://numpy.org/doc/stable/reference/generated/numpy.arange.html"
      ]
    },
    {
      "cell_type": "code",
      "execution_count": 15,
      "metadata": {
        "id": "BnwTOtdDYulA",
        "outputId": "afb4d047-d4e2-4ab8-ad4a-913ae00dd14e",
        "colab": {
          "base_uri": "https://localhost:8080/"
        }
      },
      "outputs": [
        {
          "output_type": "execute_result",
          "data": {
            "text/plain": [
              "array([ 1,  2,  3,  4,  5,  6,  7,  8,  9, 10])"
            ]
          },
          "metadata": {},
          "execution_count": 15
        }
      ],
      "source": [
        "#Create a numpy array using arange with 1 and 11 as parameter in it\n",
        "np.arange(1,11)\n",
        "\n"
      ]
    },
    {
      "cell_type": "markdown",
      "metadata": {
        "id": "QiuRfP4OYulA"
      },
      "source": [
        "This means using arrange we get evenly spaced values within a given interval. Interval? Yes you can mention interval as well as third parameter in it."
      ]
    },
    {
      "cell_type": "code",
      "execution_count": 16,
      "metadata": {
        "id": "TDdTXBZcYulA",
        "outputId": "a5439a44-1826-418d-de5c-8804e11f1fdd",
        "colab": {
          "base_uri": "https://localhost:8080/"
        }
      },
      "outputs": [
        {
          "output_type": "execute_result",
          "data": {
            "text/plain": [
              "array([1, 3, 5, 7, 9])"
            ]
          },
          "metadata": {},
          "execution_count": 16
        }
      ],
      "source": [
        "# Create an array using arange passing 1,11 and 2 as parameter in iter\n",
        "np.arange(1,11,2)\n",
        "\n"
      ]
    },
    {
      "cell_type": "markdown",
      "metadata": {
        "id": "CrR5M5_3YulA"
      },
      "source": [
        "Did you see? you got all odd numbers as you had mentioned interval between 1 and 10. Also note that 11 is excluded and hence arrange function counted till 10\n",
        "\n",
        "2. Using eye Function <br>\n",
        "Refer: https://numpy.org/devdocs/reference/generated/numpy.eye.html"
      ]
    },
    {
      "cell_type": "code",
      "execution_count": 17,
      "metadata": {
        "id": "IFYEePpeYulA",
        "outputId": "27bf31fe-ca7c-4dc6-e2c5-a319907b8d57",
        "colab": {
          "base_uri": "https://localhost:8080/"
        }
      },
      "outputs": [
        {
          "output_type": "execute_result",
          "data": {
            "text/plain": [
              "array([[1., 0., 0.],\n",
              "       [0., 1., 0.],\n",
              "       [0., 0., 1.]])"
            ]
          },
          "metadata": {},
          "execution_count": 17
        }
      ],
      "source": [
        "# create numpy array using eye function with 3 as passed parameter\n",
        "np.eye(3)\n",
        "\n"
      ]
    },
    {
      "cell_type": "markdown",
      "metadata": {
        "id": "wq8pa7MFYulA"
      },
      "source": [
        "Wohoo! eye return a 2-D array with ones on the diagonal and zeros elsewhere.\n",
        "\n",
        "3. Using zero function<br>\n",
        "Refer: https://numpy.org/doc/stable/reference/generated/numpy.zeros.html"
      ]
    },
    {
      "cell_type": "code",
      "execution_count": 18,
      "metadata": {
        "id": "PMINZ5kSYulB",
        "outputId": "cdcdf6af-fde8-461d-960f-1a4ddf173eb8",
        "colab": {
          "base_uri": "https://localhost:8080/"
        }
      },
      "outputs": [
        {
          "output_type": "execute_result",
          "data": {
            "text/plain": [
              "array([[0., 0.],\n",
              "       [0., 0.],\n",
              "       [0., 0.]])"
            ]
          },
          "metadata": {},
          "execution_count": 18
        }
      ],
      "source": [
        "#create a numpy array using zero function with (3,2) as passed parameter\n",
        "np.zeros((3,2))\n",
        "\n"
      ]
    },
    {
      "cell_type": "markdown",
      "metadata": {
        "id": "yZpGcv4JYulB"
      },
      "source": [
        "Zero function returns a new array of given shape and type, filled with zeros.\n",
        "\n",
        "4. Using ones Function <br>\n",
        "Refer: https://numpy.org/doc/stable/reference/generated/numpy.ones.html"
      ]
    },
    {
      "cell_type": "code",
      "execution_count": 19,
      "metadata": {
        "id": "lC7wHtySYulB",
        "outputId": "b52886ba-b7ae-4fa3-e752-570db98072a2",
        "colab": {
          "base_uri": "https://localhost:8080/"
        }
      },
      "outputs": [
        {
          "output_type": "execute_result",
          "data": {
            "text/plain": [
              "array([[1., 1.],\n",
              "       [1., 1.],\n",
              "       [1., 1.]])"
            ]
          },
          "metadata": {},
          "execution_count": 19
        }
      ],
      "source": [
        "#create a numpy array using ones function with (3,2) as passed parameter\n",
        "\n",
        "np.ones((3,2))\n",
        "\n"
      ]
    },
    {
      "cell_type": "markdown",
      "metadata": {
        "id": "LpZnp5Y-YulB"
      },
      "source": [
        "You noticed! ones function returns a new array of given shape and type, filled with ones.\n",
        "\n",
        "5. Using full Function<br>\n",
        "Refer: https://numpy.org/doc/stable/reference/generated/numpy.full.html"
      ]
    },
    {
      "cell_type": "code",
      "execution_count": 21,
      "metadata": {
        "id": "pyjhQr6lYulB",
        "outputId": "b519acf3-2f95-4112-ef6c-1d559a1d4f00",
        "colab": {
          "base_uri": "https://localhost:8080/"
        }
      },
      "outputs": [
        {
          "output_type": "execute_result",
          "data": {
            "text/plain": [
              "array([[2, 2],\n",
              "       [2, 2],\n",
              "       [2, 2]])"
            ]
          },
          "metadata": {},
          "execution_count": 21
        }
      ],
      "source": [
        "#create a numpy array using full function with (3,2) and 2 as passed parameter\n",
        "\n",
        "np.full((3,2),2)\n",
        "\n"
      ]
    },
    {
      "cell_type": "markdown",
      "metadata": {
        "id": "UMa7IWdXYulB"
      },
      "source": [
        "Yeah! full function return a new array of given shape and type, filled with fill_value, here it is 2\n",
        "\n",
        "6. Using diag function<br>\n",
        "Refer: https://numpy.org/doc/stable/reference/generated/numpy.diag.html"
      ]
    },
    {
      "cell_type": "code",
      "execution_count": 22,
      "metadata": {
        "id": "rL49TQxvYulB",
        "outputId": "8e61d854-33f9-444c-a87c-16a26daf2dd1",
        "colab": {
          "base_uri": "https://localhost:8080/"
        }
      },
      "outputs": [
        {
          "output_type": "execute_result",
          "data": {
            "text/plain": [
              "array([[1, 0, 0, 0, 0],\n",
              "       [0, 2, 0, 0, 0],\n",
              "       [0, 0, 3, 0, 0],\n",
              "       [0, 0, 0, 4, 0],\n",
              "       [0, 0, 0, 0, 5]])"
            ]
          },
          "metadata": {},
          "execution_count": 22
        }
      ],
      "source": [
        "#create a numpy array using diag function passing a list [1,2,3,4,5]\n",
        "np.diag([1,2,3,4,5])\n",
        "\n",
        "\n"
      ]
    },
    {
      "cell_type": "markdown",
      "metadata": {
        "id": "0PmYFmtYYulC"
      },
      "source": [
        "Oh yeah! diag function extract a diagonal or construct a diagonal array.\n",
        "\n",
        " 7. Using tile function<br>\n",
        "    Refer: https://numpy.org/doc/stable/reference/generated/numpy.tile.html"
      ]
    },
    {
      "cell_type": "code",
      "execution_count": 23,
      "metadata": {
        "id": "QuYuqowmYulC",
        "outputId": "6de62532-314a-4b29-8b47-11e3e4fa17b0",
        "colab": {
          "base_uri": "https://localhost:8080/"
        }
      },
      "outputs": [
        {
          "output_type": "execute_result",
          "data": {
            "text/plain": [
              "array([[1, 2, 3],\n",
              "       [1, 2, 3],\n",
              "       [1, 2, 3]])"
            ]
          },
          "metadata": {},
          "execution_count": 23
        }
      ],
      "source": [
        "# Create a numpy array v with [1,2,3] as its elements\n",
        "v = np.array([1,2,3])\n",
        "\n",
        "\n",
        "#Use tile function of numpy and pass v and (3,1) as its parametrs\n",
        "np.tile(v,(3,1))\n",
        "\n"
      ]
    },
    {
      "cell_type": "markdown",
      "metadata": {
        "id": "4sp6NFLTYulC"
      },
      "source": [
        "Returns an array by repeating an input array the number of times given by mentioned shape.\n",
        "Here you can see that you stacked 3 copies of v on top of each other\n",
        "\n",
        "8. Using linspace Function<br>\n",
        "Refer: https://numpy.org/doc/stable/reference/generated/numpy.linspace.html"
      ]
    },
    {
      "cell_type": "code",
      "execution_count": 24,
      "metadata": {
        "id": "gcv8tcEEYulC",
        "outputId": "96b622dd-dbf8-44a5-c521-30ae9bb87409",
        "colab": {
          "base_uri": "https://localhost:8080/"
        }
      },
      "outputs": [
        {
          "output_type": "execute_result",
          "data": {
            "text/plain": [
              "array([ 1.        ,  1.49494949,  1.98989899,  2.48484848,  2.97979798,\n",
              "        3.47474747,  3.96969697,  4.46464646,  4.95959596,  5.45454545,\n",
              "        5.94949495,  6.44444444,  6.93939394,  7.43434343,  7.92929293,\n",
              "        8.42424242,  8.91919192,  9.41414141,  9.90909091, 10.4040404 ,\n",
              "       10.8989899 , 11.39393939, 11.88888889, 12.38383838, 12.87878788,\n",
              "       13.37373737, 13.86868687, 14.36363636, 14.85858586, 15.35353535,\n",
              "       15.84848485, 16.34343434, 16.83838384, 17.33333333, 17.82828283,\n",
              "       18.32323232, 18.81818182, 19.31313131, 19.80808081, 20.3030303 ,\n",
              "       20.7979798 , 21.29292929, 21.78787879, 22.28282828, 22.77777778,\n",
              "       23.27272727, 23.76767677, 24.26262626, 24.75757576, 25.25252525,\n",
              "       25.74747475, 26.24242424, 26.73737374, 27.23232323, 27.72727273,\n",
              "       28.22222222, 28.71717172, 29.21212121, 29.70707071, 30.2020202 ,\n",
              "       30.6969697 , 31.19191919, 31.68686869, 32.18181818, 32.67676768,\n",
              "       33.17171717, 33.66666667, 34.16161616, 34.65656566, 35.15151515,\n",
              "       35.64646465, 36.14141414, 36.63636364, 37.13131313, 37.62626263,\n",
              "       38.12121212, 38.61616162, 39.11111111, 39.60606061, 40.1010101 ,\n",
              "       40.5959596 , 41.09090909, 41.58585859, 42.08080808, 42.57575758,\n",
              "       43.07070707, 43.56565657, 44.06060606, 44.55555556, 45.05050505,\n",
              "       45.54545455, 46.04040404, 46.53535354, 47.03030303, 47.52525253,\n",
              "       48.02020202, 48.51515152, 49.01010101, 49.50505051, 50.        ])"
            ]
          },
          "metadata": {},
          "execution_count": 24
        }
      ],
      "source": [
        "# Create an array with 100 values between 1 and 50 using linspace\n",
        "np.linspace(1,50,100)\n",
        "\n"
      ]
    },
    {
      "cell_type": "markdown",
      "metadata": {
        "id": "zLCrrhK2YulC"
      },
      "source": [
        "Wao! linspace returns evenly spaced numbers over a specified interval.\n",
        "\n",
        "Hey but you saw some similar defination for arrange function\n",
        "\n",
        "The main difference both of them is that arange return values with in a range which has a space between values (in other words the step) and linspace returns set of samples with in a given interval.\n",
        "\n",
        "## Numpy Random numbers\n",
        "\n",
        "\n",
        "Fun Fact:\n",
        "\n",
        "You can create a numpy array with random numbers also. How? Uisng random function<br>\n",
        "Lets see how\n",
        "Refer: https://numpy.org/doc/stable/reference/random/generated/numpy.random.rand.html"
      ]
    },
    {
      "cell_type": "code",
      "execution_count": 25,
      "metadata": {
        "id": "a3Dn3SUbYulC"
      },
      "outputs": [],
      "source": [
        "# Generate one random number between 0 and 1 using numpy's random.rand() function.\n",
        "import numpy as np\n",
        "l=np.random.rand()\n",
        "\n"
      ]
    },
    {
      "cell_type": "code",
      "execution_count": 26,
      "metadata": {
        "id": "8mvfqpIQYulC",
        "outputId": "1953b89d-5946-4595-de05-b1391c1ea1c3",
        "colab": {
          "base_uri": "https://localhost:8080/"
        }
      },
      "outputs": [
        {
          "output_type": "execute_result",
          "data": {
            "text/plain": [
              "float"
            ]
          },
          "metadata": {},
          "execution_count": 26
        }
      ],
      "source": [
        "type(l)\n"
      ]
    },
    {
      "cell_type": "markdown",
      "metadata": {
        "id": "Oum8rSKWYulD"
      },
      "source": [
        "Run the above cell again and check if number changes.\n",
        "\n",
        "Yeah it changes. That's so random :)"
      ]
    },
    {
      "cell_type": "code",
      "execution_count": 27,
      "metadata": {
        "id": "f1Go-2JMYulD",
        "outputId": "07dc26cd-b3a6-47a0-ec63-9550558eeaae",
        "colab": {
          "base_uri": "https://localhost:8080/"
        }
      },
      "outputs": [
        {
          "output_type": "execute_result",
          "data": {
            "text/plain": [
              "43.99855639504036"
            ]
          },
          "metadata": {},
          "execution_count": 27
        }
      ],
      "source": [
        "# so let say I want a random value between 2 and 50\n",
        "\n",
        "50*np.random.random()+2\n"
      ]
    },
    {
      "cell_type": "markdown",
      "metadata": {
        "id": "PBN2TFr_YulD"
      },
      "source": [
        "Run the above cell again and check if number changes and its between 2 to 50.\n",
        "\n",
        "Now lets create an array with random numbers 0 to 1 of shape 3X3"
      ]
    },
    {
      "cell_type": "code",
      "execution_count": 28,
      "metadata": {
        "id": "rPRFdcKuYulD",
        "outputId": "b11174e7-1ca3-44f4-c93a-dd8b6557da99",
        "colab": {
          "base_uri": "https://localhost:8080/"
        }
      },
      "outputs": [
        {
          "output_type": "execute_result",
          "data": {
            "text/plain": [
              "array([[0.8793013 , 0.12290459, 0.21274705],\n",
              "       [0.19548388, 0.72928442, 0.8898084 ],\n",
              "       [0.07168844, 0.17742402, 0.96429347]])"
            ]
          },
          "metadata": {},
          "execution_count": 28
        }
      ],
      "source": [
        "#get an array as stated above\n",
        "\n",
        "np.random.random([3,3])\n"
      ]
    },
    {
      "cell_type": "markdown",
      "metadata": {
        "id": "YrY0GegxYulD"
      },
      "source": [
        "Smile! you got it how to create a numpy array with random numbers.\n",
        "\n",
        "## Numpy Reshape\n",
        "\n",
        "### Reference: **`Video 3: Numpy Array Reshaping`**\n",
        "\n",
        "reference doc: https://numpy.org/doc/stable/reference/generated/numpy.reshape.html\n",
        "\n",
        "Reshaping means changing the shape of an array.\n",
        "The shape of an array is the number of elements in each dimension.\n",
        "By reshaping we can add or remove dimensions or change number of elements in each dimension."
      ]
    },
    {
      "cell_type": "code",
      "execution_count": 29,
      "metadata": {
        "id": "rXpUyqTYYulD"
      },
      "outputs": [],
      "source": [
        "# Using arange() to generate numpy array x with numbers between 1 to 16\n",
        "x=np.arange(1,17)\n",
        "\n"
      ]
    },
    {
      "cell_type": "markdown",
      "metadata": {
        "id": "1oCbGuYkYulD"
      },
      "source": [
        "So here x is our 1-D array along with being sweet sixteen array ;). Lets reshape our x into 2-D and 3-D array using Reshape\n",
        "\n",
        "1. Reshaping 1-D to 2-D"
      ]
    },
    {
      "cell_type": "code",
      "execution_count": 30,
      "metadata": {
        "id": "JkQG8RyFYulE",
        "outputId": "33d13420-7df9-4f65-9d21-dbdf01d10b0f",
        "colab": {
          "base_uri": "https://localhost:8080/"
        }
      },
      "outputs": [
        {
          "output_type": "execute_result",
          "data": {
            "text/plain": [
              "array([[ 1,  2,  3,  4,  5,  6,  7,  8],\n",
              "       [ 9, 10, 11, 12, 13, 14, 15, 16]])"
            ]
          },
          "metadata": {},
          "execution_count": 30
        }
      ],
      "source": [
        "# Reshape x with 2 rows and 8 columns\n",
        "x.reshape(2,8)\n"
      ]
    },
    {
      "cell_type": "markdown",
      "metadata": {
        "id": "Eu-DgBCRYulE"
      },
      "source": [
        "As you can see above that our x changed into 2D matrix\n",
        "\n",
        "2. Reshaping 1-D to 3-D array\n"
      ]
    },
    {
      "cell_type": "code",
      "execution_count": 31,
      "metadata": {
        "id": "Ue760dxYYulE",
        "outputId": "bf4d4d3c-bac4-468a-9d93-dba1be4904d0",
        "colab": {
          "base_uri": "https://localhost:8080/"
        }
      },
      "outputs": [
        {
          "output_type": "execute_result",
          "data": {
            "text/plain": [
              "array([[[ 1,  2],\n",
              "        [ 3,  4],\n",
              "        [ 5,  6],\n",
              "        [ 7,  8]],\n",
              "\n",
              "       [[ 9, 10],\n",
              "        [11, 12],\n",
              "        [13, 14],\n",
              "        [15, 16]]])"
            ]
          },
          "metadata": {},
          "execution_count": 31
        }
      ],
      "source": [
        "# reshaoe x with dimension that will have 2 arrays that contains 4 arrays, each with 2 elements:\n",
        "x.reshape(2,4,2)\n",
        "\n"
      ]
    },
    {
      "cell_type": "markdown",
      "metadata": {
        "id": "crO_YY_XYulE"
      },
      "source": [
        "**Fun Fact:**\n",
        "\n",
        "<u>Unknown Dimension</u>\n",
        "\n",
        "You are allowed to have one \"unknown\" dimension.Meaning that you do not have to specify an exact number for one of the dimensions in the reshape method.\n",
        "Pass -1 as the value, and NumPy will calculate this number for you. Awesome right?\n"
      ]
    },
    {
      "cell_type": "code",
      "execution_count": 32,
      "metadata": {
        "id": "xlfI-eC2YulE",
        "outputId": "9f4ea98f-0ee0-4665-9fb2-113ce55e85c2",
        "colab": {
          "base_uri": "https://localhost:8080/"
        }
      },
      "outputs": [
        {
          "output_type": "execute_result",
          "data": {
            "text/plain": [
              "array([[ 1,  2,  3,  4],\n",
              "       [ 5,  6,  7,  8],\n",
              "       [ 9, 10, 11, 12],\n",
              "       [13, 14, 15, 16]])"
            ]
          },
          "metadata": {},
          "execution_count": 32
        }
      ],
      "source": [
        "# Use unknown dimention to reshape x into 2-D numpy array with shape 4*4\n",
        "x.reshape(4,-1)\n",
        "\n"
      ]
    },
    {
      "cell_type": "code",
      "execution_count": 33,
      "metadata": {
        "id": "NDRDRGkUYulE",
        "outputId": "c81427d7-98c3-4a79-9e1c-e504ad278601",
        "colab": {
          "base_uri": "https://localhost:8080/"
        }
      },
      "outputs": [
        {
          "output_type": "stream",
          "name": "stdout",
          "text": [
            "[[[ 1  2]\n",
            "  [ 3  4]\n",
            "  [ 5  6]\n",
            "  [ 7  8]]\n",
            "\n",
            " [[ 9 10]\n",
            "  [11 12]\n",
            "  [13 14]\n",
            "  [15 16]]]\n"
          ]
        }
      ],
      "source": [
        "# Use unknown dimention to  reshape x into 3-D numpy array with 2 arrays that contains 4 arrays\n",
        "y=x.reshape(2,4,-1)\n",
        "\n",
        "\n",
        "# print y\n",
        "print(y)\n"
      ]
    },
    {
      "cell_type": "markdown",
      "metadata": {
        "id": "bZjzi4A0YulE"
      },
      "source": [
        "Note: We can not pass -1 to more than one dimension.\n",
        "\n",
        "Another cool Fact: -1 can be used to flatten an array which means converting a multidimensional array into a 1D array.\n",
        "\n",
        "    Lets apply this technique on y which is 3-D array"
      ]
    },
    {
      "cell_type": "code",
      "execution_count": 34,
      "metadata": {
        "id": "iHuEimtTYulF",
        "outputId": "13f92fd5-155e-4e58-e608-9423288190ff",
        "colab": {
          "base_uri": "https://localhost:8080/"
        }
      },
      "outputs": [
        {
          "output_type": "execute_result",
          "data": {
            "text/plain": [
              "array([ 1,  2,  3,  4,  5,  6,  7,  8,  9, 10, 11, 12, 13, 14, 15, 16])"
            ]
          },
          "metadata": {},
          "execution_count": 34
        }
      ],
      "source": [
        "# Flattening y\n",
        "y.reshape(-1)\n",
        "\n"
      ]
    },
    {
      "cell_type": "markdown",
      "metadata": {
        "id": "ZdXFadQfYulF"
      },
      "source": [
        "Awesome work!\n",
        "\n",
        "## NumPy Array Indexing\n",
        "\n",
        "### Reference: **`Video 4: Numpy Array Indexing`**\n",
        "\n",
        "Array indexing is the same as accessing an array element. You can access an array element by referring to its index number.\n",
        "\n",
        "The indexes in NumPy arrays start with 0, meaning that the first element has index 0, and the second has index 1 etc."
      ]
    },
    {
      "cell_type": "code",
      "execution_count": 38,
      "metadata": {
        "id": "liRM5zN0YulF",
        "outputId": "b79abfbb-c912-4772-e0d4-0c34fc917196",
        "colab": {
          "base_uri": "https://localhost:8080/"
        }
      },
      "outputs": [
        {
          "output_type": "stream",
          "name": "stdout",
          "text": [
            "[ 2  4  6  8 10 12 14 16]\n"
          ]
        }
      ],
      "source": [
        "# Create an array a with all even numbers between 1 to 17\n",
        "a = np.arange(2,17,2)\n",
        "\n",
        "\n",
        "# print a\n",
        "print(a)"
      ]
    },
    {
      "cell_type": "code",
      "execution_count": 39,
      "metadata": {
        "id": "GysmjjOQYulF",
        "outputId": "10d5dac5-a860-4479-c14d-f7217f8b3c42",
        "colab": {
          "base_uri": "https://localhost:8080/"
        }
      },
      "outputs": [
        {
          "output_type": "execute_result",
          "data": {
            "text/plain": [
              "6"
            ]
          },
          "metadata": {},
          "execution_count": 39
        }
      ],
      "source": [
        "# Get third element in array a\n",
        "a[2]"
      ]
    },
    {
      "cell_type": "code",
      "execution_count": 40,
      "metadata": {
        "id": "QJDw7E2VYulF",
        "outputId": "be7ed0cc-c286-4e37-cddf-2b9832b269d7",
        "colab": {
          "base_uri": "https://localhost:8080/"
        }
      },
      "outputs": [
        {
          "output_type": "execute_result",
          "data": {
            "text/plain": [
              "array([ 8, 12, 16])"
            ]
          },
          "metadata": {},
          "execution_count": 40
        }
      ],
      "source": [
        "#Print 3rd, 5th, and 7th element in array a\n",
        "a[[3,5,7]]\n",
        "\n"
      ]
    },
    {
      "cell_type": "markdown",
      "metadata": {
        "id": "6FauyJCQYulF"
      },
      "source": [
        "Lets check the same for 2 D array"
      ]
    },
    {
      "cell_type": "code",
      "execution_count": 41,
      "metadata": {
        "id": "yomRzY6aYulF"
      },
      "outputs": [],
      "source": [
        "# Define an array 2-D a with [[1,2,3],[4,5,6],[7,8,9]] as its elements.\n",
        "a =np.array([[1,2,3],[4,5,6],[7,8,9]]) \n"
      ]
    },
    {
      "cell_type": "code",
      "execution_count": 42,
      "metadata": {
        "id": "VTGpLidrYulF",
        "outputId": "1d642bd3-0d38-45e8-e7cc-f20c4ceb9931",
        "colab": {
          "base_uri": "https://localhost:8080/"
        }
      },
      "outputs": [
        {
          "output_type": "execute_result",
          "data": {
            "text/plain": [
              "9"
            ]
          },
          "metadata": {},
          "execution_count": 42
        }
      ],
      "source": [
        "# print the 3rd element from the 3rd row of a\n",
        "a[2][2]\n"
      ]
    },
    {
      "cell_type": "markdown",
      "metadata": {
        "id": "-fPw_4ZBYulF"
      },
      "source": [
        "Well done!\n",
        "\n",
        "Now lets check indexing for 3 D array "
      ]
    },
    {
      "cell_type": "code",
      "execution_count": 43,
      "metadata": {
        "id": "VISPaw3PYulG"
      },
      "outputs": [],
      "source": [
        "# Define an array b again with [[[1, 2, 3], [4, 5, 6]], [[7, 8, 9], [10, 11, 12]]] as its elements.\n",
        "b = np.array([[[1, 2, 3], [4, 5, 6]], [[7, 8, 9], [10, 11, 12]]])\n",
        "\n"
      ]
    },
    {
      "cell_type": "code",
      "execution_count": 44,
      "metadata": {
        "id": "UrFj656mYulG",
        "outputId": "319ce031-4be8-48b0-e3bf-364c90473ac2",
        "colab": {
          "base_uri": "https://localhost:8080/"
        }
      },
      "outputs": [
        {
          "output_type": "execute_result",
          "data": {
            "text/plain": [
              "6"
            ]
          },
          "metadata": {},
          "execution_count": 44
        }
      ],
      "source": [
        "# Print 3rd element from 2nd list which is 1st list in nested list passed. Confusing right? 'a' have nested array.Understand the braket differences.\n",
        "b[0][1][2]\n",
        "\n"
      ]
    },
    {
      "cell_type": "markdown",
      "metadata": {
        "id": "2KH9uUABYulG"
      },
      "source": [
        "Well done.!\n",
        "\n",
        "Have you heared about **negative indexing?**\n",
        "\n",
        "\n",
        "We can use negative indexing to access an array from the end."
      ]
    },
    {
      "cell_type": "code",
      "execution_count": 45,
      "metadata": {
        "id": "a_5YgcInYulG",
        "outputId": "e3a92b15-27f5-4002-a1e0-d8a09b64822e",
        "colab": {
          "base_uri": "https://localhost:8080/"
        }
      },
      "outputs": [
        {
          "output_type": "execute_result",
          "data": {
            "text/plain": [
              "5"
            ]
          },
          "metadata": {},
          "execution_count": 45
        }
      ],
      "source": [
        "# Print the second last element from the 2nd dim using negative indexing\n",
        "\n",
        "b[0,-1,-2]\n"
      ]
    },
    {
      "cell_type": "markdown",
      "metadata": {
        "id": "vbmm4pVzYulG"
      },
      "source": [
        "Great job! \n",
        "So now you have learned how to to indexing on various dimentions of numpy array.\n",
        "\n",
        "## NumPy Array Slicing\n",
        "\n",
        "### Reference: **`Video 5: Numpy Slicing Operations`**\n",
        "\n",
        "Slicing in python means taking elements from one given index to another given index.\n",
        "\n",
        "    1. We pass slice instead of index like this: [start:end].\n",
        "    2. We can also define the step, like this: [start:end:step].\n",
        "    3. If we don't pass start its considered 0\n",
        "    4. If we don't pass end its considered length of array in that dimension\n",
        "    5. If we don't pass step its considered 1\n",
        "    \n",
        "1. **Array slicing in 1-D array.**"
      ]
    },
    {
      "cell_type": "code",
      "execution_count": 46,
      "metadata": {
        "id": "9ZadW42fYulG",
        "outputId": "17d6ca78-dcda-4e99-9801-aedce4c18dd3",
        "colab": {
          "base_uri": "https://localhost:8080/"
        }
      },
      "outputs": [
        {
          "output_type": "execute_result",
          "data": {
            "text/plain": [
              "array([ 1,  2,  3,  4,  5,  6,  7,  8,  9, 10])"
            ]
          },
          "metadata": {},
          "execution_count": 46
        }
      ],
      "source": [
        "arr=np.arange(1,11)\n",
        "arr\n",
        "\n"
      ]
    },
    {
      "cell_type": "code",
      "execution_count": 47,
      "metadata": {
        "id": "fm2dtL6EYulG",
        "outputId": "781d3a22-5a57-4147-ca80-0fcfa39ac38b",
        "colab": {
          "base_uri": "https://localhost:8080/"
        }
      },
      "outputs": [
        {
          "output_type": "execute_result",
          "data": {
            "text/plain": [
              "array([1, 2, 3, 4, 5])"
            ]
          },
          "metadata": {},
          "execution_count": 47
        }
      ],
      "source": [
        "# Slice elements from 1st to 5th element from the following array:\n",
        "arr[0:5]\n",
        "\n",
        "\n"
      ]
    },
    {
      "cell_type": "markdown",
      "metadata": {
        "id": "ghqluYgMYulG"
      },
      "source": [
        "Note: The result includes the start index, but excludes the end index.\n",
        "\n"
      ]
    },
    {
      "cell_type": "code",
      "execution_count": 48,
      "metadata": {
        "id": "g4uVBo1oYulH",
        "outputId": "08a6efba-d041-4e8e-c416-8e3397516f63",
        "colab": {
          "base_uri": "https://localhost:8080/"
        }
      },
      "outputs": [
        {
          "output_type": "execute_result",
          "data": {
            "text/plain": [
              "array([ 6,  7,  8,  9, 10])"
            ]
          },
          "metadata": {},
          "execution_count": 48
        }
      ],
      "source": [
        "# Slice elements from index 5 to the end of the array:\n",
        "arr[5:]\n",
        "\n"
      ]
    },
    {
      "cell_type": "code",
      "execution_count": 49,
      "metadata": {
        "id": "1t4V3OSaYulH",
        "outputId": "f59ce229-1621-4286-b0c1-e333e2b584bb",
        "colab": {
          "base_uri": "https://localhost:8080/"
        }
      },
      "outputs": [
        {
          "output_type": "execute_result",
          "data": {
            "text/plain": [
              "array([1, 2, 3, 4, 5])"
            ]
          },
          "metadata": {},
          "execution_count": 49
        }
      ],
      "source": [
        "# Slice elements from the beginning to index 5 (not included):\n",
        "arr[:5]\n",
        "\n",
        "\n"
      ]
    },
    {
      "cell_type": "markdown",
      "metadata": {
        "id": "o8csRulLYulH"
      },
      "source": [
        "Have you heared about **Negative Slicing?**\n",
        "\n",
        "We can use the minus operator to refer to an index from the end:\n",
        "\n"
      ]
    },
    {
      "cell_type": "code",
      "execution_count": 50,
      "metadata": {
        "id": "p8rngJgxYulH",
        "outputId": "9e64af42-19c3-4d6a-8e51-1545bad84a23",
        "colab": {
          "base_uri": "https://localhost:8080/"
        }
      },
      "outputs": [
        {
          "output_type": "execute_result",
          "data": {
            "text/plain": [
              "array([8, 9])"
            ]
          },
          "metadata": {},
          "execution_count": 50
        }
      ],
      "source": [
        "# Slice from the index 3 from the end to index 1 from the end:\n",
        "arr[-3:-1]\n",
        "\n",
        "\n"
      ]
    },
    {
      "cell_type": "markdown",
      "metadata": {
        "id": "_sk9yNamYulH"
      },
      "source": [
        "**STEP**\n",
        "\n",
        "Use the step value to determine the step of the slicing:"
      ]
    },
    {
      "cell_type": "code",
      "execution_count": 51,
      "metadata": {
        "id": "1OXANncfYulH",
        "outputId": "7e7fe39b-d269-49c9-a87b-3fef0be8274a",
        "colab": {
          "base_uri": "https://localhost:8080/"
        }
      },
      "outputs": [
        {
          "output_type": "execute_result",
          "data": {
            "text/plain": [
              "array([2, 4, 6])"
            ]
          },
          "metadata": {},
          "execution_count": 51
        }
      ],
      "source": [
        "# Print every other element from index 1 to index 7:\n",
        "arr[1:7:2]\n",
        "\n"
      ]
    },
    {
      "cell_type": "markdown",
      "metadata": {
        "id": "mpk1-Nd2YulH"
      },
      "source": [
        "Did you see? using step you were able to get alternate elements within specified index numbers."
      ]
    },
    {
      "cell_type": "code",
      "execution_count": 52,
      "metadata": {
        "id": "HxPLcXudYulH",
        "outputId": "c590fed2-6f7b-4fac-85b3-d8273f015a63",
        "colab": {
          "base_uri": "https://localhost:8080/"
        }
      },
      "outputs": [
        {
          "output_type": "execute_result",
          "data": {
            "text/plain": [
              "array([1, 3, 5, 7, 9])"
            ]
          },
          "metadata": {},
          "execution_count": 52
        }
      ],
      "source": [
        "# Return every other element from the entire array arr:\n",
        "arr[::2]\n",
        "\n"
      ]
    },
    {
      "cell_type": "markdown",
      "metadata": {
        "id": "d3m3TAVKYulH"
      },
      "source": [
        "well done!\n",
        "\n",
        "Lets do some slicing on 2-D array also. We already have 'a' as our 2-D array. We will use it here.\n",
        "\n",
        "**2. Array slicing in 2-D array.**"
      ]
    },
    {
      "cell_type": "code",
      "execution_count": 53,
      "metadata": {
        "id": "rPVvZ707YulI",
        "outputId": "e60641dc-4897-4579-ca09-4ef903ab009c",
        "colab": {
          "base_uri": "https://localhost:8080/"
        }
      },
      "outputs": [
        {
          "output_type": "execute_result",
          "data": {
            "text/plain": [
              "array([[1, 2, 3],\n",
              "       [4, 5, 6],\n",
              "       [7, 8, 9]])"
            ]
          },
          "metadata": {},
          "execution_count": 53
        }
      ],
      "source": [
        "# Print array a\n",
        "a\n"
      ]
    },
    {
      "cell_type": "code",
      "execution_count": 54,
      "metadata": {
        "id": "uGHClMHiYulI",
        "outputId": "ae926de0-578e-4487-a389-122588b89882",
        "colab": {
          "base_uri": "https://localhost:8080/"
        }
      },
      "outputs": [
        {
          "output_type": "execute_result",
          "data": {
            "text/plain": [
              "array([8, 9])"
            ]
          },
          "metadata": {},
          "execution_count": 54
        }
      ],
      "source": [
        "# From the third element, slice elements from index 1 to index 5 (not included) from array 'a'\n",
        "a[2,1:5]\n",
        "\n"
      ]
    },
    {
      "cell_type": "code",
      "execution_count": 55,
      "metadata": {
        "id": "mApmbts7YulI",
        "outputId": "19937e17-e6d1-4d9e-a37f-a169d4dc28bc",
        "colab": {
          "base_uri": "https://localhost:8080/"
        }
      },
      "outputs": [
        {
          "output_type": "execute_result",
          "data": {
            "text/plain": [
              "array([3, 6, 9])"
            ]
          },
          "metadata": {},
          "execution_count": 55
        }
      ],
      "source": [
        "# In array 'a' print index 2 from all the elements :\n",
        "\n",
        "a[0:3,2]\n"
      ]
    },
    {
      "cell_type": "code",
      "execution_count": 56,
      "metadata": {
        "id": "XupmT4oLYulI",
        "outputId": "3c429134-76af-46b3-c565-120f37ecb39b",
        "colab": {
          "base_uri": "https://localhost:8080/"
        }
      },
      "outputs": [
        {
          "output_type": "execute_result",
          "data": {
            "text/plain": [
              "array([[2, 3],\n",
              "       [5, 6],\n",
              "       [8, 9]])"
            ]
          },
          "metadata": {},
          "execution_count": 56
        }
      ],
      "source": [
        "# From all the elements in 'a', slice index 1 till end, this will return a 2-D array:\n",
        "a[:3,1:]\n",
        "\n"
      ]
    },
    {
      "cell_type": "markdown",
      "metadata": {
        "id": "3-YDc-LnYulI"
      },
      "source": [
        "Hurray! You have learned Slicing in Numpy array. Now you know to access any numpy array."
      ]
    },
    {
      "cell_type": "markdown",
      "metadata": {
        "id": "kCiQoJ7DYulI"
      },
      "source": [
        "## Numpy copy vs view\n",
        "\n",
        "### Reference: **`Video 6: Numpy  View Vs Copy`**"
      ]
    },
    {
      "cell_type": "code",
      "execution_count": 57,
      "metadata": {
        "id": "qMAPlnpnYulI"
      },
      "outputs": [],
      "source": [
        "x1= np.arange(10)\n",
        "\n"
      ]
    },
    {
      "cell_type": "code",
      "execution_count": 58,
      "metadata": {
        "id": "Fjjpvmw4YulI"
      },
      "outputs": [],
      "source": [
        "# assign x2 = x1\n",
        "x2=x1\n"
      ]
    },
    {
      "cell_type": "code",
      "execution_count": 59,
      "metadata": {
        "id": "CZ8h9KxSYulI",
        "outputId": "9b18b10a-7167-4a21-9b0c-52cff35a54fb",
        "colab": {
          "base_uri": "https://localhost:8080/"
        }
      },
      "outputs": [
        {
          "output_type": "stream",
          "name": "stdout",
          "text": [
            "[0 1 2 3 4 5 6 7 8 9]\n",
            "[0 1 2 3 4 5 6 7 8 9]\n"
          ]
        }
      ],
      "source": [
        "#print x1 and x2\n",
        "print(x1)\n",
        "print(x2)\n",
        "\n"
      ]
    },
    {
      "cell_type": "markdown",
      "metadata": {
        "id": "CAOn1lSVYulI"
      },
      "source": [
        "Ok now you have seen that both of them are same "
      ]
    },
    {
      "cell_type": "code",
      "execution_count": 61,
      "metadata": {
        "id": "H12TCKrSYulJ"
      },
      "outputs": [],
      "source": [
        "# change 1st element of x2 as 10\n",
        "x2[0]=10\n",
        "\n"
      ]
    },
    {
      "cell_type": "code",
      "execution_count": 62,
      "metadata": {
        "id": "jO5qSqZVYulJ",
        "outputId": "5679aeb4-36cd-4ed6-b099-3422707ddf79",
        "colab": {
          "base_uri": "https://localhost:8080/"
        }
      },
      "outputs": [
        {
          "output_type": "stream",
          "name": "stdout",
          "text": [
            "[10  1  2  3  4  5  6  7  8  9]\n",
            "[10  1  2  3  4  5  6  7  8  9]\n"
          ]
        }
      ],
      "source": [
        "#Again print x1 and x2\n",
        "print(x1)\n",
        "print(x2)\n",
        "\n"
      ]
    },
    {
      "cell_type": "markdown",
      "metadata": {
        "id": "I6f78s_QYulJ"
      },
      "source": [
        "Wait a minute. Just check your above result on change of x2, x1 also got changed. Why?\n",
        "\n",
        "Lets check if both the variables shares memory. Use numpy shares_memory() function to check if both x1 and x2 shares a  memory.\n",
        "\n",
        "Refer: https://numpy.org/doc/stable/reference/generated/numpy.shares_memory.html"
      ]
    },
    {
      "cell_type": "code",
      "execution_count": 63,
      "metadata": {
        "id": "wruaMhObYulJ",
        "outputId": "85508394-d99f-44a0-83fc-4e809798bdcf",
        "colab": {
          "base_uri": "https://localhost:8080/"
        }
      },
      "outputs": [
        {
          "output_type": "execute_result",
          "data": {
            "text/plain": [
              "True"
            ]
          },
          "metadata": {},
          "execution_count": 63
        }
      ],
      "source": [
        "# Check memory share between x1 and x2\n",
        "np.shares_memory(x1,x2)\n"
      ]
    },
    {
      "cell_type": "markdown",
      "metadata": {
        "id": "8FfiAWw_YulJ"
      },
      "source": [
        "Hey It's True they both share memory\n",
        "\n",
        "Shall we try **view()** function also likwise."
      ]
    },
    {
      "cell_type": "code",
      "execution_count": 64,
      "metadata": {
        "id": "ylweEJUtYulJ"
      },
      "outputs": [],
      "source": [
        "# Create a view of x1 and store it in x3.\n",
        "x3 =x1.view()\n"
      ]
    },
    {
      "cell_type": "code",
      "execution_count": 65,
      "metadata": {
        "id": "La-iF23VYulJ",
        "outputId": "fe285199-c8f1-44fe-c0c1-24621ad6be70",
        "colab": {
          "base_uri": "https://localhost:8080/"
        }
      },
      "outputs": [
        {
          "output_type": "execute_result",
          "data": {
            "text/plain": [
              "True"
            ]
          },
          "metadata": {},
          "execution_count": 65
        }
      ],
      "source": [
        "# Again check memory share between x1 and x3\n",
        "np.shares_memory(x1,x3)\n",
        "\n"
      ]
    },
    {
      "cell_type": "markdown",
      "metadata": {
        "id": "vkE_1h-5YulJ"
      },
      "source": [
        "Woh! simple assignment is similar to view. That means \n",
        "The view does not own the data and any changes made to the view will affect the original array, and any changes made to the original array will affect the view.\n",
        "\n",
        "Don't agree? ok lets change x3 and see if original array i.e. x1 also changes"
      ]
    },
    {
      "cell_type": "code",
      "execution_count": 66,
      "metadata": {
        "id": "34UnXXvwYulJ"
      },
      "outputs": [],
      "source": [
        "#Change 1st element of x3=100\n",
        "x3[0]=100\n"
      ]
    },
    {
      "cell_type": "code",
      "execution_count": 67,
      "metadata": {
        "id": "p64U7WsGYulJ",
        "outputId": "e57ceede-32d8-47bb-cf9a-3591bfed160e",
        "colab": {
          "base_uri": "https://localhost:8080/"
        }
      },
      "outputs": [
        {
          "output_type": "stream",
          "name": "stdout",
          "text": [
            "[100   1   2   3   4   5   6   7   8   9]\n",
            "[100   1   2   3   4   5   6   7   8   9]\n"
          ]
        }
      ],
      "source": [
        "#print x1 and x3 to check if changes reflected in both\n",
        "print(x1)\n",
        "print(x3)\n",
        "\n"
      ]
    },
    {
      "cell_type": "markdown",
      "metadata": {
        "id": "aPgZUErOYulK"
      },
      "source": [
        "Now its proved.\n",
        "\n",
        "Lets see how **Copy()** function works"
      ]
    },
    {
      "cell_type": "code",
      "execution_count": 68,
      "metadata": {
        "id": "AB_dXmMrYulK"
      },
      "outputs": [],
      "source": [
        "# Now create an array x4 which is copy of x1\n",
        "\n",
        "x4=x1.copy()\n",
        "\n"
      ]
    },
    {
      "cell_type": "code",
      "execution_count": 69,
      "metadata": {
        "id": "8_Ub7cuZYulK"
      },
      "outputs": [],
      "source": [
        "# Change the last element of x4 as 900\n",
        "x4[len(x4)-1]=900\n",
        "\n",
        "\n"
      ]
    },
    {
      "cell_type": "code",
      "execution_count": 70,
      "metadata": {
        "id": "xEUDBraHYulK",
        "outputId": "25f653b5-8cfc-4bb6-8685-c2aa41c92fb2",
        "colab": {
          "base_uri": "https://localhost:8080/"
        }
      },
      "outputs": [
        {
          "output_type": "stream",
          "name": "stdout",
          "text": [
            "[100   1   2   3   4   5   6   7   8   9]\n",
            "[100   1   2   3   4   5   6   7   8 900]\n"
          ]
        }
      ],
      "source": [
        "# print both x1 and x4 to check if changes reflected in both\n",
        "print(x1)\n",
        "print(x4)\n",
        "\n",
        "\n"
      ]
    },
    {
      "cell_type": "markdown",
      "metadata": {
        "id": "uMfFQMlNYulK"
      },
      "source": [
        "Hey! such an intresting output. You noticed buddy! your original array didn't get changed on change of its copy ie. x4.\n",
        "\n",
        "Still not convinced? Ok lets see if they both share memory or not"
      ]
    },
    {
      "cell_type": "code",
      "execution_count": 71,
      "metadata": {
        "id": "VZbJx19hYulK",
        "outputId": "867ffac3-0492-4cbb-8d3d-b2c2a3df9b0f",
        "colab": {
          "base_uri": "https://localhost:8080/"
        }
      },
      "outputs": [
        {
          "output_type": "execute_result",
          "data": {
            "text/plain": [
              "False"
            ]
          },
          "metadata": {},
          "execution_count": 71
        }
      ],
      "source": [
        "#Check memory share between x1 and x4\n",
        "np.shares_memory(x1,x4)\n",
        "\n"
      ]
    },
    {
      "cell_type": "markdown",
      "metadata": {
        "id": "RJ3WXKIjYulK"
      },
      "source": [
        "You see! x1 and x4 don't share its memory. \n",
        "\n",
        "So with all our outputs we can takeaway few points:\n",
        "\n",
        "    1. The main difference between a copy and a view of an array is that the copy is a new array, and the view is just a view of the original array.\n",
        "\n",
        "    2. The copy owns the data and any changes made to the copy will not affect original array, and any changes made to the original array will not affect the copy.\n",
        "\n",
        "    3. The view does not own the data and any changes made to the view will affect the original array, and any changes made to the original array will affect the view."
      ]
    },
    {
      "cell_type": "markdown",
      "metadata": {
        "id": "ByEnSeiBYulL"
      },
      "source": [
        "## More operations on Numpy\n",
        "\n",
        "**1. Applying conditions**\n",
        "\n",
        "Reference: https://thispointer.com/python-numpy-select-elements-or-indices-by-conditions-from-numpy-array/"
      ]
    },
    {
      "cell_type": "code",
      "execution_count": 72,
      "metadata": {
        "id": "XQJuDfwNYulL",
        "outputId": "03144051-0f74-495c-8057-22a97320597e",
        "colab": {
          "base_uri": "https://localhost:8080/"
        }
      },
      "outputs": [
        {
          "output_type": "execute_result",
          "data": {
            "text/plain": [
              "array([[1, 2, 3],\n",
              "       [4, 5, 6],\n",
              "       [7, 8, 9]])"
            ]
          },
          "metadata": {},
          "execution_count": 72
        }
      ],
      "source": [
        "#print a\n",
        "a"
      ]
    },
    {
      "cell_type": "markdown",
      "metadata": {
        "id": "2YTPBtyxYulL"
      },
      "source": [
        "We are going to use 'a' array for all our array condition operations.\n"
      ]
    },
    {
      "cell_type": "code",
      "execution_count": 73,
      "metadata": {
        "id": "JQSbD9JZYulL",
        "outputId": "35f87043-e4aa-4f9a-a775-3e8aed3df5e0",
        "colab": {
          "base_uri": "https://localhost:8080/"
        }
      },
      "outputs": [
        {
          "output_type": "execute_result",
          "data": {
            "text/plain": [
              "array([[False, False, False],\n",
              "       [ True,  True,  True],\n",
              "       [ True,  True,  True]])"
            ]
          },
          "metadata": {},
          "execution_count": 73
        }
      ],
      "source": [
        "# Check if every element in array a greater than 3 or not Using '>' notation\n",
        "a>3\n"
      ]
    },
    {
      "cell_type": "code",
      "execution_count": 74,
      "metadata": {
        "id": "TpfwOR_yYulL",
        "outputId": "61347a8e-eee2-4592-c25c-f774cf480505",
        "colab": {
          "base_uri": "https://localhost:8080/"
        }
      },
      "outputs": [
        {
          "output_type": "execute_result",
          "data": {
            "text/plain": [
              "array([4, 5, 6, 7, 8, 9])"
            ]
          },
          "metadata": {},
          "execution_count": 74
        }
      ],
      "source": [
        "# Get a list with all elements of array 'a' grater than 3\n",
        "a[a>3]\n",
        "\n",
        "\n"
      ]
    },
    {
      "cell_type": "code",
      "execution_count": 75,
      "metadata": {
        "id": "2GYqOEcBYulL",
        "outputId": "1d5af7fb-432c-44b1-b2d2-dde23e90c086",
        "colab": {
          "base_uri": "https://localhost:8080/"
        }
      },
      "outputs": [
        {
          "output_type": "execute_result",
          "data": {
            "text/plain": [
              "array([4, 5])"
            ]
          },
          "metadata": {},
          "execution_count": 75
        }
      ],
      "source": [
        "# Get a list with all elements of array 'a' greater than 3 but less than 6\n",
        "\n",
        "a[(a>3) & (a<6)]\n",
        "\n"
      ]
    },
    {
      "cell_type": "code",
      "execution_count": 76,
      "metadata": {
        "id": "x7Aa1gSQYulL",
        "outputId": "6f8ae60c-9de0-49d4-dbab-57fa2fd5f630",
        "colab": {
          "base_uri": "https://localhost:8080/"
        }
      },
      "outputs": [
        {
          "output_type": "execute_result",
          "data": {
            "text/plain": [
              "array([ True,  True,  True,  True,  True,  True,  True,  True,  True,\n",
              "       False])"
            ]
          },
          "metadata": {},
          "execution_count": 76
        }
      ],
      "source": [
        "# check if each elements in array 'x1' equals array 'x4' using '==' notation\n",
        "\n",
        "x1==x4\n"
      ]
    },
    {
      "cell_type": "markdown",
      "metadata": {
        "id": "TdNqXx9WYulM"
      },
      "source": [
        "You can see in above output that the last element is not same in both x1 and x4\n",
        "\n",
        "Well done so far.\n",
        "\n",
        "Lets check how to transpose an array\n",
        "\n",
        "**2. Transposing array**\n",
        "\n",
        "Reference: https://www.geeksforgeeks.org/python-numpy-numpy-transpose/\n",
        "           https://numpy.org/doc/stable/reference/generated/numpy.transpose.html\n",
        "           https://numpy.org/doc/stable/reference/generated/numpy.ndarray.T.html"
      ]
    },
    {
      "cell_type": "code",
      "execution_count": 77,
      "metadata": {
        "id": "grdPKy65YulM",
        "outputId": "02f53079-3dd0-4328-9bf3-ca90dfd03039",
        "colab": {
          "base_uri": "https://localhost:8080/"
        }
      },
      "outputs": [
        {
          "output_type": "stream",
          "name": "stdout",
          "text": [
            "[[1 4 7]\n",
            " [2 5 8]\n",
            " [3 6 9]]\n",
            "-----------------\n",
            "[[1 2 3]\n",
            " [4 5 6]\n",
            " [7 8 9]]\n"
          ]
        }
      ],
      "source": [
        "# Print Transpose of array 'a'\n",
        "print(a.T)\n",
        "\n",
        "#print array 'a'\n",
        "print(\"-----------------\")\n",
        "\n",
        "print(a)\n"
      ]
    },
    {
      "cell_type": "markdown",
      "metadata": {
        "id": "i8NBkK3OYulM"
      },
      "source": [
        "In above output all the rows became columns by transposing "
      ]
    },
    {
      "cell_type": "markdown",
      "metadata": {
        "id": "1vgtMyk8YulM"
      },
      "source": [
        "**3. hstack vs vstack function**\n",
        "\n",
        "### Reference: **`Video 7 : Numpy  Hstack Vs Vstack`**\n",
        "\n",
        "Stacking is same as concatenation, the only difference is that stacking is done along a new axis.\n",
        "\n",
        "NumPy provides a helper function: \n",
        "\n",
        "1. hstack() to stack along rows.\n",
        "2. vstack()  to stack along columns\n",
        "\n",
        "You wanna see how? Then here we go...!\n",
        "\n",
        "reference doc: https://scipython.com/book/chapter-6-numpy/examples/vstack-and-hstack/"
      ]
    },
    {
      "cell_type": "code",
      "execution_count": 78,
      "metadata": {
        "id": "8iXSmEsmYulM",
        "outputId": "a4e51ab3-15b6-4dcf-bd35-5979e471fb5a",
        "colab": {
          "base_uri": "https://localhost:8080/"
        }
      },
      "outputs": [
        {
          "output_type": "execute_result",
          "data": {
            "text/plain": [
              "array([[100,   1,   2,   3,   4,   5,   6,   7,   8,   9],\n",
              "       [100,   1,   2,   3,   4,   5,   6,   7,   8, 900]])"
            ]
          },
          "metadata": {},
          "execution_count": 78
        }
      ],
      "source": [
        "# stack x1 and x4 along columns.\n",
        "np.vstack((x1,x4))\n"
      ]
    },
    {
      "cell_type": "code",
      "execution_count": 79,
      "metadata": {
        "id": "VQpItcdCYulM",
        "outputId": "66791c91-090f-4b21-d74f-e0f43b09ce41",
        "colab": {
          "base_uri": "https://localhost:8080/"
        }
      },
      "outputs": [
        {
          "output_type": "execute_result",
          "data": {
            "text/plain": [
              "array([100,   1,   2,   3,   4,   5,   6,   7,   8,   9, 100,   1,   2,\n",
              "         3,   4,   5,   6,   7,   8, 900])"
            ]
          },
          "metadata": {},
          "execution_count": 79
        }
      ],
      "source": [
        "#stack x1 and x4 along rows\n",
        "np.hstack((x1,x4))\n"
      ]
    },
    {
      "cell_type": "markdown",
      "metadata": {
        "id": "YJD_N7B_YulM"
      },
      "source": [
        "We hope now you saw the difference between them.\n",
        "\n",
        "Fun fact! you can even use concatenate() function to join 2 arrays along with the axis. If axis is not explicitly passed, it is taken as 0 ie. along column\n",
        "\n",
        "Lets try this function as well\n",
        "\n",
        "### Reference: **`Video 8: Numpy Concatenation`**"
      ]
    },
    {
      "cell_type": "code",
      "execution_count": 82,
      "metadata": {
        "id": "P2SNMvTaYulM",
        "outputId": "c66e2c33-4ee4-451b-deef-01d20a429bd5",
        "colab": {
          "base_uri": "https://localhost:8080/"
        }
      },
      "outputs": [
        {
          "output_type": "execute_result",
          "data": {
            "text/plain": [
              "array([[1, 2, 5, 6],\n",
              "       [3, 4, 7, 8]])"
            ]
          },
          "metadata": {},
          "execution_count": 82
        }
      ],
      "source": [
        "arr1 = np.array([[1,2],[3,4]])\n",
        "\n",
        "\n",
        "arr2 = np.array([[5,6],[7,8]])\n",
        "\n",
        "\n",
        "##join arr1 and arr2 along rows using concatenate() function\n",
        "\n",
        "np.concatenate((arr1,arr2),axis=1)\n"
      ]
    },
    {
      "cell_type": "code",
      "execution_count": 83,
      "metadata": {
        "id": "dbf1xSfeYulN",
        "outputId": "d0b4f0c7-9d22-4ed9-c2ea-39e0f6cef6b8",
        "colab": {
          "base_uri": "https://localhost:8080/"
        }
      },
      "outputs": [
        {
          "output_type": "execute_result",
          "data": {
            "text/plain": [
              "array([[1, 2],\n",
              "       [3, 4],\n",
              "       [5, 6],\n",
              "       [7, 8]])"
            ]
          },
          "metadata": {},
          "execution_count": 83
        }
      ],
      "source": [
        "##join arr1 and arr2 along columns using concatenate() function\n",
        "np.concatenate((arr1,arr2),axis=0)\n"
      ]
    },
    {
      "cell_type": "markdown",
      "metadata": {
        "id": "WKy9Lu4vYulN"
      },
      "source": [
        "## Adding, Insert and delete Numpy array\n",
        "\n",
        "### Reference: **`Video 9: Numpy  Insert Append Delete`**"
      ]
    },
    {
      "cell_type": "markdown",
      "metadata": {
        "id": "_W4bZ70AYulN"
      },
      "source": [
        "You can also add 2 arrays using append() function also. This function appends values to end of array\n",
        "\n",
        "Lets see how"
      ]
    },
    {
      "cell_type": "code",
      "execution_count": 84,
      "metadata": {
        "id": "yC1yIKfPYulN",
        "outputId": "2a91f8ea-768c-4517-e841-d36562a5f9bf",
        "colab": {
          "base_uri": "https://localhost:8080/"
        }
      },
      "outputs": [
        {
          "output_type": "execute_result",
          "data": {
            "text/plain": [
              "array([1, 2, 3, 4, 5, 6, 7, 8])"
            ]
          },
          "metadata": {},
          "execution_count": 84
        }
      ],
      "source": [
        "# append arr2 to arr1\n",
        "np.append(arr1,arr2)"
      ]
    },
    {
      "cell_type": "markdown",
      "metadata": {
        "id": "Jb4EPxL4YulN"
      },
      "source": [
        "Lets use insert() function which Inserts values into array before specified index value"
      ]
    },
    {
      "cell_type": "code",
      "execution_count": 85,
      "metadata": {
        "id": "2pF_KctFYulN",
        "outputId": "9586a5b8-d10d-4053-b93f-5432c466bd98",
        "colab": {
          "base_uri": "https://localhost:8080/"
        }
      },
      "outputs": [
        {
          "output_type": "execute_result",
          "data": {
            "text/plain": [
              "array([100,   1,   2,   3, 100,   1,   2,   3,   4,   5,   6,   7,   8,\n",
              "       900,   4,   5,   6,   7,   8,   9])"
            ]
          },
          "metadata": {},
          "execution_count": 85
        }
      ],
      "source": [
        "# Inserts values into array x1 before index 4 with elements of x4\n",
        "np.insert(x1,4,x4)\n"
      ]
    },
    {
      "cell_type": "markdown",
      "metadata": {
        "id": "uTDcvWAPYulN"
      },
      "source": [
        "You can see in above output we have inserted all the elements of x4 before index 4 in array x1."
      ]
    },
    {
      "cell_type": "code",
      "execution_count": 86,
      "metadata": {
        "id": "btEqORsVYulN",
        "outputId": "a5e2f54f-6b72-45ba-bf21-8d0ae1c112a9",
        "colab": {
          "base_uri": "https://localhost:8080/"
        }
      },
      "outputs": [
        {
          "output_type": "execute_result",
          "data": {
            "text/plain": [
              "array([100,   1,   3,   4,   5,   6,   7,   8,   9])"
            ]
          },
          "metadata": {},
          "execution_count": 86
        }
      ],
      "source": [
        "# delete 2nd element from array x2\n",
        "np.delete(x2,2)\n",
        "\n"
      ]
    },
    {
      "cell_type": "markdown",
      "metadata": {
        "id": "HcSC-kfxYulO"
      },
      "source": [
        "Did you see? 2 value is deleted from x2 which was at index position 2"
      ]
    },
    {
      "cell_type": "markdown",
      "metadata": {
        "id": "4pOQseKpYulO"
      },
      "source": [
        "## Mathmatical operations on Numpy array\n",
        "\n",
        "Reference doc for Numpy Mathmatical functions: https://numpy.org/doc/stable/reference/routines.math.html"
      ]
    },
    {
      "cell_type": "code",
      "execution_count": 97,
      "metadata": {
        "id": "bNI8S0McYulO"
      },
      "outputs": [],
      "source": [
        "a= np.array([[1,2,3],[4,5,6],[7,8,9]])\n"
      ]
    },
    {
      "cell_type": "code",
      "execution_count": 88,
      "metadata": {
        "id": "Zr_V_3txYulO",
        "outputId": "ca402198-c30d-4a7f-88bc-3814457d2c86",
        "colab": {
          "base_uri": "https://localhost:8080/"
        }
      },
      "outputs": [
        {
          "output_type": "execute_result",
          "data": {
            "text/plain": [
              "array([[ 0.84147098,  0.90929743,  0.14112001],\n",
              "       [-0.7568025 , -0.95892427, -0.2794155 ],\n",
              "       [ 0.6569866 ,  0.98935825,  0.41211849]])"
            ]
          },
          "metadata": {},
          "execution_count": 88
        }
      ],
      "source": [
        "# print trigonometric sin value of each element of a\n",
        "np.sin(a)\n"
      ]
    },
    {
      "cell_type": "code",
      "execution_count": 89,
      "metadata": {
        "id": "PC1Tbwj9YulO",
        "outputId": "84c6d5f4-6e9c-4744-b5d8-b9fdaf917896",
        "colab": {
          "base_uri": "https://localhost:8080/"
        }
      },
      "outputs": [
        {
          "output_type": "execute_result",
          "data": {
            "text/plain": [
              "array([[ 0.54030231, -0.41614684, -0.9899925 ],\n",
              "       [-0.65364362,  0.28366219,  0.96017029],\n",
              "       [ 0.75390225, -0.14550003, -0.91113026]])"
            ]
          },
          "metadata": {},
          "execution_count": 89
        }
      ],
      "source": [
        "# print trigonometric cos value of each element of a\n",
        "np.cos(a)\n"
      ]
    },
    {
      "cell_type": "code",
      "execution_count": 90,
      "metadata": {
        "id": "63iIO3f9YulO",
        "outputId": "1cae143f-3227-44c2-979a-bc357e4b56d4",
        "colab": {
          "base_uri": "https://localhost:8080/"
        }
      },
      "outputs": [
        {
          "output_type": "execute_result",
          "data": {
            "text/plain": [
              "array([[2.71828183e+00, 7.38905610e+00, 2.00855369e+01],\n",
              "       [5.45981500e+01, 1.48413159e+02, 4.03428793e+02],\n",
              "       [1.09663316e+03, 2.98095799e+03, 8.10308393e+03]])"
            ]
          },
          "metadata": {},
          "execution_count": 90
        }
      ],
      "source": [
        "# Print exponential value of each elements of a\n",
        "np.exp(a)\n"
      ]
    },
    {
      "cell_type": "markdown",
      "metadata": {
        "id": "wm0g6ThYYulO"
      },
      "source": [
        "Referal: https://numpy.org/doc/stable/reference/generated/numpy.sum.html"
      ]
    },
    {
      "cell_type": "code",
      "execution_count": 91,
      "metadata": {
        "id": "s3B4bFujYulO",
        "outputId": "ef7322ee-bc5b-4e7b-9152-2451a307da5f",
        "colab": {
          "base_uri": "https://localhost:8080/"
        }
      },
      "outputs": [
        {
          "output_type": "execute_result",
          "data": {
            "text/plain": [
              "45"
            ]
          },
          "metadata": {},
          "execution_count": 91
        }
      ],
      "source": [
        "# print total sum of elements of a\n",
        "np.sum(a)\n"
      ]
    },
    {
      "cell_type": "code",
      "execution_count": 92,
      "metadata": {
        "id": "dUTtv9SqYulO",
        "outputId": "8d87fbeb-5cf5-479c-9dcc-fcb5e5dbeb64",
        "colab": {
          "base_uri": "https://localhost:8080/"
        }
      },
      "outputs": [
        {
          "output_type": "execute_result",
          "data": {
            "text/plain": [
              "array([ 6, 15, 24])"
            ]
          },
          "metadata": {},
          "execution_count": 92
        }
      ],
      "source": [
        "# Print sum in array a column wise\n",
        "\n",
        "a.sum(axis=1)"
      ]
    },
    {
      "cell_type": "code",
      "execution_count": 93,
      "metadata": {
        "id": "x0lJolWRYulP",
        "outputId": "ecb50a57-0b08-4599-fc8e-34acdddd6920",
        "colab": {
          "base_uri": "https://localhost:8080/"
        }
      },
      "outputs": [
        {
          "output_type": "execute_result",
          "data": {
            "text/plain": [
              "array([12, 15, 18])"
            ]
          },
          "metadata": {},
          "execution_count": 93
        }
      ],
      "source": [
        "# Print sum in array a row wise\n",
        "\n",
        "a.sum(axis=0)"
      ]
    },
    {
      "cell_type": "markdown",
      "metadata": {
        "id": "TXULCGQyYulP"
      },
      "source": [
        "Refrence doc: https://numpy.org/doc/stable/reference/generated/numpy.median.html"
      ]
    },
    {
      "cell_type": "code",
      "execution_count": 94,
      "metadata": {
        "id": "xOUP_dbpYulP",
        "outputId": "3e41229a-f30c-41f7-eb34-cc01babfec45",
        "colab": {
          "base_uri": "https://localhost:8080/"
        }
      },
      "outputs": [
        {
          "output_type": "execute_result",
          "data": {
            "text/plain": [
              "5.0"
            ]
          },
          "metadata": {},
          "execution_count": 94
        }
      ],
      "source": [
        "# print median of array a\n",
        "\n",
        "np.median(a)\n"
      ]
    },
    {
      "cell_type": "markdown",
      "metadata": {
        "id": "6tnsJXeMYulP"
      },
      "source": [
        "Refrence doc: https://numpy.org/doc/stable/reference/generated/numpy.std.html"
      ]
    },
    {
      "cell_type": "code",
      "execution_count": 95,
      "metadata": {
        "id": "ThkUIu5GYulP",
        "outputId": "7f5f5e39-8035-483c-d6cc-6e9c8d658bc2",
        "colab": {
          "base_uri": "https://localhost:8080/"
        }
      },
      "outputs": [
        {
          "output_type": "execute_result",
          "data": {
            "text/plain": [
              "2.581988897471611"
            ]
          },
          "metadata": {},
          "execution_count": 95
        }
      ],
      "source": [
        "# print standard deviation of array a\n",
        "a.std()\n",
        "\n"
      ]
    },
    {
      "cell_type": "markdown",
      "metadata": {
        "id": "ehT4vuIWYulP"
      },
      "source": [
        "Refrence doc: https://numpy.org/doc/stable/reference/generated/numpy.linalg.det.html"
      ]
    },
    {
      "cell_type": "code",
      "execution_count": 98,
      "metadata": {
        "id": "aDaeOUNxYulQ",
        "outputId": "ce3267c1-1c9f-4a26-b896-c2f500f37a22",
        "colab": {
          "base_uri": "https://localhost:8080/"
        }
      },
      "outputs": [
        {
          "output_type": "execute_result",
          "data": {
            "text/plain": [
              "0.0"
            ]
          },
          "metadata": {},
          "execution_count": 98
        }
      ],
      "source": [
        "# print the determinant of array a\n",
        "np.linalg.det(a)\n",
        "\n",
        "\n"
      ]
    },
    {
      "cell_type": "markdown",
      "source": [
        "### **`Note: If your output is zero, it's correct. Our value is negligible too.`**"
      ],
      "metadata": {
        "id": "iLO4Wqjvi81-"
      }
    },
    {
      "cell_type": "markdown",
      "metadata": {
        "id": "FCKIlHTLYulQ"
      },
      "source": [
        "reference doc: https://numpy.org/doc/stable/reference/generated/numpy.linalg.inv.html"
      ]
    },
    {
      "cell_type": "code",
      "execution_count": 99,
      "metadata": {
        "id": "x3O3hN-GYulQ",
        "outputId": "725720de-6e8b-4c3f-add6-41473dcfe2d5",
        "colab": {
          "base_uri": "https://localhost:8080/",
          "height": 328
        }
      },
      "outputs": [
        {
          "output_type": "error",
          "ename": "LinAlgError",
          "evalue": "ignored",
          "traceback": [
            "\u001b[0;31m---------------------------------------------------------------------------\u001b[0m",
            "\u001b[0;31mLinAlgError\u001b[0m                               Traceback (most recent call last)",
            "\u001b[0;32m<ipython-input-99-e19678cecfb1>\u001b[0m in \u001b[0;36m<cell line: 2>\u001b[0;34m()\u001b[0m\n\u001b[1;32m      1\u001b[0m \u001b[0;31m# print the (multiplicative) inverse of array a\u001b[0m\u001b[0;34m\u001b[0m\u001b[0;34m\u001b[0m\u001b[0m\n\u001b[0;32m----> 2\u001b[0;31m \u001b[0mnp\u001b[0m\u001b[0;34m.\u001b[0m\u001b[0mlinalg\u001b[0m\u001b[0;34m.\u001b[0m\u001b[0minv\u001b[0m\u001b[0;34m(\u001b[0m\u001b[0ma\u001b[0m\u001b[0;34m)\u001b[0m\u001b[0;34m\u001b[0m\u001b[0;34m\u001b[0m\u001b[0m\n\u001b[0m",
            "\u001b[0;32m/usr/local/lib/python3.10/dist-packages/numpy/core/overrides.py\u001b[0m in \u001b[0;36minv\u001b[0;34m(*args, **kwargs)\u001b[0m\n",
            "\u001b[0;32m/usr/local/lib/python3.10/dist-packages/numpy/linalg/linalg.py\u001b[0m in \u001b[0;36minv\u001b[0;34m(a)\u001b[0m\n\u001b[1;32m    543\u001b[0m     \u001b[0msignature\u001b[0m \u001b[0;34m=\u001b[0m \u001b[0;34m'D->D'\u001b[0m \u001b[0;32mif\u001b[0m \u001b[0misComplexType\u001b[0m\u001b[0;34m(\u001b[0m\u001b[0mt\u001b[0m\u001b[0;34m)\u001b[0m \u001b[0;32melse\u001b[0m \u001b[0;34m'd->d'\u001b[0m\u001b[0;34m\u001b[0m\u001b[0;34m\u001b[0m\u001b[0m\n\u001b[1;32m    544\u001b[0m     \u001b[0mextobj\u001b[0m \u001b[0;34m=\u001b[0m \u001b[0mget_linalg_error_extobj\u001b[0m\u001b[0;34m(\u001b[0m\u001b[0m_raise_linalgerror_singular\u001b[0m\u001b[0;34m)\u001b[0m\u001b[0;34m\u001b[0m\u001b[0;34m\u001b[0m\u001b[0m\n\u001b[0;32m--> 545\u001b[0;31m     \u001b[0mainv\u001b[0m \u001b[0;34m=\u001b[0m \u001b[0m_umath_linalg\u001b[0m\u001b[0;34m.\u001b[0m\u001b[0minv\u001b[0m\u001b[0;34m(\u001b[0m\u001b[0ma\u001b[0m\u001b[0;34m,\u001b[0m \u001b[0msignature\u001b[0m\u001b[0;34m=\u001b[0m\u001b[0msignature\u001b[0m\u001b[0;34m,\u001b[0m \u001b[0mextobj\u001b[0m\u001b[0;34m=\u001b[0m\u001b[0mextobj\u001b[0m\u001b[0;34m)\u001b[0m\u001b[0;34m\u001b[0m\u001b[0;34m\u001b[0m\u001b[0m\n\u001b[0m\u001b[1;32m    546\u001b[0m     \u001b[0;32mreturn\u001b[0m \u001b[0mwrap\u001b[0m\u001b[0;34m(\u001b[0m\u001b[0mainv\u001b[0m\u001b[0;34m.\u001b[0m\u001b[0mastype\u001b[0m\u001b[0;34m(\u001b[0m\u001b[0mresult_t\u001b[0m\u001b[0;34m,\u001b[0m \u001b[0mcopy\u001b[0m\u001b[0;34m=\u001b[0m\u001b[0;32mFalse\u001b[0m\u001b[0;34m)\u001b[0m\u001b[0;34m)\u001b[0m\u001b[0;34m\u001b[0m\u001b[0;34m\u001b[0m\u001b[0m\n\u001b[1;32m    547\u001b[0m \u001b[0;34m\u001b[0m\u001b[0m\n",
            "\u001b[0;32m/usr/local/lib/python3.10/dist-packages/numpy/linalg/linalg.py\u001b[0m in \u001b[0;36m_raise_linalgerror_singular\u001b[0;34m(err, flag)\u001b[0m\n\u001b[1;32m     86\u001b[0m \u001b[0;34m\u001b[0m\u001b[0m\n\u001b[1;32m     87\u001b[0m \u001b[0;32mdef\u001b[0m \u001b[0m_raise_linalgerror_singular\u001b[0m\u001b[0;34m(\u001b[0m\u001b[0merr\u001b[0m\u001b[0;34m,\u001b[0m \u001b[0mflag\u001b[0m\u001b[0;34m)\u001b[0m\u001b[0;34m:\u001b[0m\u001b[0;34m\u001b[0m\u001b[0;34m\u001b[0m\u001b[0m\n\u001b[0;32m---> 88\u001b[0;31m     \u001b[0;32mraise\u001b[0m \u001b[0mLinAlgError\u001b[0m\u001b[0;34m(\u001b[0m\u001b[0;34m\"Singular matrix\"\u001b[0m\u001b[0;34m)\u001b[0m\u001b[0;34m\u001b[0m\u001b[0;34m\u001b[0m\u001b[0m\n\u001b[0m\u001b[1;32m     89\u001b[0m \u001b[0;34m\u001b[0m\u001b[0m\n\u001b[1;32m     90\u001b[0m \u001b[0;32mdef\u001b[0m \u001b[0m_raise_linalgerror_nonposdef\u001b[0m\u001b[0;34m(\u001b[0m\u001b[0merr\u001b[0m\u001b[0;34m,\u001b[0m \u001b[0mflag\u001b[0m\u001b[0;34m)\u001b[0m\u001b[0;34m:\u001b[0m\u001b[0;34m\u001b[0m\u001b[0;34m\u001b[0m\u001b[0m\n",
            "\u001b[0;31mLinAlgError\u001b[0m: Singular matrix"
          ]
        }
      ],
      "source": [
        "# print the (multiplicative) inverse of array a\n",
        "np.linalg.inv(a)\n"
      ]
    },
    {
      "cell_type": "markdown",
      "source": [
        "### **`Note: If your output is throwing error, it's correct. Once determinant is zero, it's inverse does not exist. Our value is negligible too.`**"
      ],
      "metadata": {
        "id": "PSdNwhMCjG_8"
      }
    },
    {
      "cell_type": "markdown",
      "metadata": {
        "id": "8QDcUvZaYulQ"
      },
      "source": [
        "Reference doc: https://numpy.org/doc/stable/reference/generated/numpy.linalg.eig.html"
      ]
    },
    {
      "cell_type": "code",
      "execution_count": 100,
      "metadata": {
        "id": "pSsF337GYulQ",
        "outputId": "0b589f35-cc28-4227-f867-3dcfc0c00932",
        "colab": {
          "base_uri": "https://localhost:8080/"
        }
      },
      "outputs": [
        {
          "output_type": "execute_result",
          "data": {
            "text/plain": [
              "(array([ 1.61168440e+01, -1.11684397e+00, -1.30367773e-15]),\n",
              " array([[-0.23197069, -0.78583024,  0.40824829],\n",
              "        [-0.52532209, -0.08675134, -0.81649658],\n",
              "        [-0.8186735 ,  0.61232756,  0.40824829]]))"
            ]
          },
          "metadata": {},
          "execution_count": 100
        }
      ],
      "source": [
        "# Print the eigenvalues and right eigenvectors of array a.\n",
        "np.linalg.eig(a)\n"
      ]
    },
    {
      "cell_type": "markdown",
      "metadata": {
        "id": "90M-qatlYulQ"
      },
      "source": [
        "Reference doc: https://numpy.org/doc/stable/reference/generated/numpy.dot.html"
      ]
    },
    {
      "cell_type": "code",
      "execution_count": 101,
      "metadata": {
        "id": "YvK35W7xYulQ",
        "outputId": "5ffef0ea-4990-4cc0-ff1f-8c65835bd3a7",
        "colab": {
          "base_uri": "https://localhost:8080/"
        }
      },
      "outputs": [
        {
          "output_type": "execute_result",
          "data": {
            "text/plain": [
              "array([[19, 22],\n",
              "       [43, 50]])"
            ]
          },
          "metadata": {},
          "execution_count": 101
        }
      ],
      "source": [
        "# compute dot product of arr1 and arr2\n",
        "np.dot(arr1,arr2)\n",
        "\n"
      ]
    },
    {
      "cell_type": "markdown",
      "metadata": {
        "id": "7FtPtN2RYulR"
      },
      "source": [
        "reference doc: https://numpy.org/doc/stable/reference/generated/numpy.ndarray.max.html"
      ]
    },
    {
      "cell_type": "code",
      "execution_count": 102,
      "metadata": {
        "id": "puuomFoWYulR",
        "outputId": "0ee76d16-56de-4535-b179-9ea575ec16ba",
        "colab": {
          "base_uri": "https://localhost:8080/"
        }
      },
      "outputs": [
        {
          "output_type": "execute_result",
          "data": {
            "text/plain": [
              "9"
            ]
          },
          "metadata": {},
          "execution_count": 102
        }
      ],
      "source": [
        "#print largest element present in array a\n",
        "a.max()\n"
      ]
    },
    {
      "cell_type": "markdown",
      "metadata": {
        "id": "idjVls_yYulR"
      },
      "source": [
        "Reference doc: https://numpy.org/doc/stable/reference/generated/numpy.argmax.html"
      ]
    },
    {
      "cell_type": "code",
      "execution_count": 103,
      "metadata": {
        "id": "iPerydXGYulR",
        "outputId": "b7b17889-fb02-4484-c6d2-a480ee77d84a",
        "colab": {
          "base_uri": "https://localhost:8080/"
        }
      },
      "outputs": [
        {
          "output_type": "execute_result",
          "data": {
            "text/plain": [
              "8"
            ]
          },
          "metadata": {},
          "execution_count": 103
        }
      ],
      "source": [
        "#print index of largest element present in array a \n",
        "a.argmax()\n"
      ]
    },
    {
      "cell_type": "markdown",
      "metadata": {
        "id": "rdIfEac-YulR"
      },
      "source": [
        "Reference doc: https://numpy.org/doc/stable/reference/generated/numpy.sort.html"
      ]
    },
    {
      "cell_type": "code",
      "execution_count": 104,
      "metadata": {
        "id": "JgVZXhepYulR",
        "outputId": "7d4e7bdf-901c-4aba-fc59-4ef03b47e07d",
        "colab": {
          "base_uri": "https://localhost:8080/"
        }
      },
      "outputs": [
        {
          "output_type": "execute_result",
          "data": {
            "text/plain": [
              "array([  1,   2,   3,   4,   5,   6,   7,   8, 100, 900])"
            ]
          },
          "metadata": {},
          "execution_count": 104
        }
      ],
      "source": [
        "# print sorted x4 array\n",
        "np.sort(x4)\n"
      ]
    },
    {
      "cell_type": "markdown",
      "metadata": {
        "id": "1GXRAgFaYulR"
      },
      "source": [
        "Reference doc: https://numpy.org/doc/stable/reference/generated/numpy.argsort.html"
      ]
    },
    {
      "cell_type": "code",
      "execution_count": 105,
      "metadata": {
        "id": "cYG_VojYYulR",
        "outputId": "44f66a30-4e52-4d48-e041-85b0305de7cf",
        "colab": {
          "base_uri": "https://localhost:8080/"
        }
      },
      "outputs": [
        {
          "output_type": "execute_result",
          "data": {
            "text/plain": [
              "array([1, 2, 3, 4, 5, 6, 7, 8, 0, 9])"
            ]
          },
          "metadata": {},
          "execution_count": 105
        }
      ],
      "source": [
        "# print indices of each sorted element in x4 array\n",
        "\n",
        "np.argsort(x4)\n"
      ]
    },
    {
      "cell_type": "markdown",
      "metadata": {
        "id": "UqIBFqzqYulR"
      },
      "source": [
        "## Searching Arrays\n",
        "\n",
        "Reference: \n",
        "- https://www.geeksforgeeks.org/numpy-where-in-python/\n",
        "- https://numpy.org/doc/stable/reference/generated/numpy.where.html\n",
        "\n",
        "You can search an array for a certain value, and return the indexes that get a match.\n",
        "\n",
        "To search an array, use the where() method."
      ]
    },
    {
      "cell_type": "code",
      "execution_count": 106,
      "metadata": {
        "id": "Os0xU99BYulS",
        "outputId": "2b34f431-24f2-4420-d090-518aeadf1f7f",
        "colab": {
          "base_uri": "https://localhost:8080/"
        }
      },
      "outputs": [
        {
          "output_type": "execute_result",
          "data": {
            "text/plain": [
              "(array([4]),)"
            ]
          },
          "metadata": {},
          "execution_count": 106
        }
      ],
      "source": [
        "# print the indexes where the value is 4 in array x1\n",
        "\n",
        "np.where(x1==4)\n"
      ]
    },
    {
      "cell_type": "markdown",
      "metadata": {
        "id": "WzPpYWvJYulS"
      },
      "source": [
        "Which means that the value 4 is present at index 4\n",
        "\n",
        "You can check it by printing array x1"
      ]
    },
    {
      "cell_type": "code",
      "execution_count": 107,
      "metadata": {
        "id": "DnoJA3iQYulS",
        "outputId": "bb8f0404-f4f9-45a7-fd1c-240a813eec49",
        "colab": {
          "base_uri": "https://localhost:8080/"
        }
      },
      "outputs": [
        {
          "output_type": "stream",
          "name": "stdout",
          "text": [
            "[100   1   2   3   4   5   6   7   8   9]\n"
          ]
        }
      ],
      "source": [
        "#print array x1\n",
        "print(x1)\n"
      ]
    },
    {
      "cell_type": "code",
      "execution_count": 108,
      "metadata": {
        "id": "GGOLxwKAYulS",
        "outputId": "68c6d0bf-7754-438e-8ae9-f86c0a3cbdbc",
        "colab": {
          "base_uri": "https://localhost:8080/"
        }
      },
      "outputs": [
        {
          "output_type": "execute_result",
          "data": {
            "text/plain": [
              "(array([0, 2, 4, 6, 8]),)"
            ]
          },
          "metadata": {},
          "execution_count": 108
        }
      ],
      "source": [
        "# Print the indexes where the values are even in array x1\n",
        "np.where(x1%2==0)\n"
      ]
    },
    {
      "cell_type": "code",
      "execution_count": 109,
      "metadata": {
        "id": "ZVjXEAYQYulS",
        "outputId": "3d328538-732c-458d-ff9d-aa542c132a95",
        "colab": {
          "base_uri": "https://localhost:8080/"
        }
      },
      "outputs": [
        {
          "output_type": "execute_result",
          "data": {
            "text/plain": [
              "array([100,   0,   0,   0,   0,   0,   6,   7,   8,   9])"
            ]
          },
          "metadata": {},
          "execution_count": 109
        }
      ],
      "source": [
        "# Print x1 where x1 is greater than 5, also if number is less than 5 then replace it with 0\n",
        "np.where(x1>5,x1,0)\n"
      ]
    },
    {
      "cell_type": "markdown",
      "metadata": {
        "id": "3XDGaMkZYulS"
      },
      "source": [
        "Good Job learner! \n",
        "\n",
        "---------------------\n",
        "# Bam! Congratulations You have completed your 4th milestone challenge too!\n",
        "\n",
        "----------------------\n",
        "\n",
        "# FeedBack\n",
        "We hope you’ve enjoyed this course so far. We’re committed to help you use \"AI for All\" course to its full potential, so that you have a great learning experience. And that’s why we need your help in form of a feedback here.\n",
        "\n",
        "Please fill this feedback form https://docs.google.com/forms/d/e/1FAIpQLSfjBmH0yJSSA34IhSVx4h2eDMgOAeG4Dk-yHid__NMTk3Hq5g/viewform"
      ]
    }
  ],
  "metadata": {
    "kernelspec": {
      "display_name": "Python 3",
      "language": "python",
      "name": "python3"
    },
    "language_info": {
      "codemirror_mode": {
        "name": "ipython",
        "version": 3
      },
      "file_extension": ".py",
      "mimetype": "text/x-python",
      "name": "python",
      "nbconvert_exporter": "python",
      "pygments_lexer": "ipython3",
      "version": "3.8.5"
    },
    "colab": {
      "provenance": []
    }
  },
  "nbformat": 4,
  "nbformat_minor": 0
}