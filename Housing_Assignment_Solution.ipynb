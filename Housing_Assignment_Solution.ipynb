{
  "cells": [
    {
      "cell_type": "markdown",
      "source": [
        "# <center><u>Introduction</u> </center>"
      ],
      "metadata": {
        "id": "HBHXGeJhe4R6"
      },
      "id": "HBHXGeJhe4R6"
    },
    {
      "cell_type": "markdown",
      "source": [
        "This Jupyter notebook is part of your learning experience in finding patterns in the data\n",
        "\n",
        "You will work with a simple data set that contains the housing prices of a Neighborhood\n",
        "\n",
        "## In this exercise, you will perform the following tasks:\n",
        "\n",
        "1 - Load and study the data\n",
        "\n",
        "2 - View the distributions of the various features in the data set and also calculate various measures of dispersion"
      ],
      "metadata": {
        "id": "eV61-_D0fzml"
      },
      "id": "eV61-_D0fzml"
    },
    {
      "cell_type": "code",
      "source": [
        "###########################################################################"
      ],
      "metadata": {
        "id": "e6dyNxyOf3UC"
      },
      "id": "e6dyNxyOf3UC",
      "execution_count": 1,
      "outputs": []
    },
    {
      "cell_type": "markdown",
      "source": [
        "Load and study the data\n",
        "\n",
        "Load the data and study its features such as:\n",
        "\n",
        "1. The Year built i.e. in which year house was build\n",
        "\n",
        "2. Neighborhood i.e. location\n",
        "\n",
        "3. SalePrice i.e. the price of the house and so on"
      ],
      "metadata": {
        "id": "NEoxb8Gzf8XW"
      },
      "id": "NEoxb8Gzf8XW"
    },
    {
      "cell_type": "markdown",
      "source": [
        "Import the libraries that will be used in this notebook"
      ],
      "metadata": {
        "id": "o5hAEr-6gVET"
      },
      "id": "o5hAEr-6gVET"
    },
    {
      "cell_type": "code",
      "execution_count": 80,
      "id": "90e41924",
      "metadata": {
        "id": "90e41924"
      },
      "outputs": [],
      "source": [
        "# Loading \"numpy\" and \"pandas\" for manipulating numbers, vectors and data frames\n",
        "# Loading \"matplotlib.pyplot\" and \"seaborn\" for data visualisation\n",
        "########## CODE HERE #########\n",
        "import numpy as np\n",
        "import pandas as pd\n",
        "import matplotlib.pyplot as plt\n",
        "import seaborn as sns"
      ]
    },
    {
      "cell_type": "markdown",
      "source": [
        "Load the csv file as pandas dataframe. "
      ],
      "metadata": {
        "id": "WdD7aaWggfPk"
      },
      "id": "WdD7aaWggfPk"
    },
    {
      "cell_type": "code",
      "execution_count": 81,
      "id": "526ac115",
      "metadata": {
        "id": "526ac115"
      },
      "outputs": [],
      "source": [
        "# Reading in the \"Ames_Housing_Subset.csv\" file as a Pandas Data Frame\n",
        "########## CODE HERE #########\n",
        "df=pd.read_csv('/content/Ames_Housing_Subset.csv',index_col=0)"
      ]
    },
    {
      "cell_type": "markdown",
      "source": [
        "Reference:\n",
        "\n",
        "https://pandas.pydata.org/pandas-docs/stable/reference/api/pandas.DataFrame.head.html"
      ],
      "metadata": {
        "id": "rA3vI4Pugjvc"
      },
      "id": "rA3vI4Pugjvc"
    },
    {
      "cell_type": "code",
      "execution_count": 82,
      "id": "706ce1c5",
      "metadata": {
        "colab": {
          "base_uri": "https://localhost:8080/",
          "height": 237
        },
        "id": "706ce1c5",
        "outputId": "2b884d77-1415-4942-c69a-781554f30e8b"
      },
      "outputs": [
        {
          "output_type": "execute_result",
          "data": {
            "text/plain": [
              "          Neighborhood  Year Built  Overall Qual Kitchen Qual Exter Qual  \\\n",
              "PID                                                                        \n",
              "526301100        NAmes        1960             6           TA         TA   \n",
              "526350040        NAmes        1961             5           TA         TA   \n",
              "526351010        NAmes        1958             6           Gd         TA   \n",
              "526353030        NAmes        1968             7           Ex         Gd   \n",
              "527105010      Gilbert        1997             5           TA         TA   \n",
              "\n",
              "           Lot Area  SalePrice  \n",
              "PID                             \n",
              "526301100     31770     215000  \n",
              "526350040     11622     105000  \n",
              "526351010     14267     172000  \n",
              "526353030     11160     244000  \n",
              "527105010     13830     189900  "
            ],
            "text/html": [
              "\n",
              "  <div id=\"df-fe81fd41-13b2-4669-9280-a64443beb690\">\n",
              "    <div class=\"colab-df-container\">\n",
              "      <div>\n",
              "<style scoped>\n",
              "    .dataframe tbody tr th:only-of-type {\n",
              "        vertical-align: middle;\n",
              "    }\n",
              "\n",
              "    .dataframe tbody tr th {\n",
              "        vertical-align: top;\n",
              "    }\n",
              "\n",
              "    .dataframe thead th {\n",
              "        text-align: right;\n",
              "    }\n",
              "</style>\n",
              "<table border=\"1\" class=\"dataframe\">\n",
              "  <thead>\n",
              "    <tr style=\"text-align: right;\">\n",
              "      <th></th>\n",
              "      <th>Neighborhood</th>\n",
              "      <th>Year Built</th>\n",
              "      <th>Overall Qual</th>\n",
              "      <th>Kitchen Qual</th>\n",
              "      <th>Exter Qual</th>\n",
              "      <th>Lot Area</th>\n",
              "      <th>SalePrice</th>\n",
              "    </tr>\n",
              "    <tr>\n",
              "      <th>PID</th>\n",
              "      <th></th>\n",
              "      <th></th>\n",
              "      <th></th>\n",
              "      <th></th>\n",
              "      <th></th>\n",
              "      <th></th>\n",
              "      <th></th>\n",
              "    </tr>\n",
              "  </thead>\n",
              "  <tbody>\n",
              "    <tr>\n",
              "      <th>526301100</th>\n",
              "      <td>NAmes</td>\n",
              "      <td>1960</td>\n",
              "      <td>6</td>\n",
              "      <td>TA</td>\n",
              "      <td>TA</td>\n",
              "      <td>31770</td>\n",
              "      <td>215000</td>\n",
              "    </tr>\n",
              "    <tr>\n",
              "      <th>526350040</th>\n",
              "      <td>NAmes</td>\n",
              "      <td>1961</td>\n",
              "      <td>5</td>\n",
              "      <td>TA</td>\n",
              "      <td>TA</td>\n",
              "      <td>11622</td>\n",
              "      <td>105000</td>\n",
              "    </tr>\n",
              "    <tr>\n",
              "      <th>526351010</th>\n",
              "      <td>NAmes</td>\n",
              "      <td>1958</td>\n",
              "      <td>6</td>\n",
              "      <td>Gd</td>\n",
              "      <td>TA</td>\n",
              "      <td>14267</td>\n",
              "      <td>172000</td>\n",
              "    </tr>\n",
              "    <tr>\n",
              "      <th>526353030</th>\n",
              "      <td>NAmes</td>\n",
              "      <td>1968</td>\n",
              "      <td>7</td>\n",
              "      <td>Ex</td>\n",
              "      <td>Gd</td>\n",
              "      <td>11160</td>\n",
              "      <td>244000</td>\n",
              "    </tr>\n",
              "    <tr>\n",
              "      <th>527105010</th>\n",
              "      <td>Gilbert</td>\n",
              "      <td>1997</td>\n",
              "      <td>5</td>\n",
              "      <td>TA</td>\n",
              "      <td>TA</td>\n",
              "      <td>13830</td>\n",
              "      <td>189900</td>\n",
              "    </tr>\n",
              "  </tbody>\n",
              "</table>\n",
              "</div>\n",
              "      <button class=\"colab-df-convert\" onclick=\"convertToInteractive('df-fe81fd41-13b2-4669-9280-a64443beb690')\"\n",
              "              title=\"Convert this dataframe to an interactive table.\"\n",
              "              style=\"display:none;\">\n",
              "        \n",
              "  <svg xmlns=\"http://www.w3.org/2000/svg\" height=\"24px\"viewBox=\"0 0 24 24\"\n",
              "       width=\"24px\">\n",
              "    <path d=\"M0 0h24v24H0V0z\" fill=\"none\"/>\n",
              "    <path d=\"M18.56 5.44l.94 2.06.94-2.06 2.06-.94-2.06-.94-.94-2.06-.94 2.06-2.06.94zm-11 1L8.5 8.5l.94-2.06 2.06-.94-2.06-.94L8.5 2.5l-.94 2.06-2.06.94zm10 10l.94 2.06.94-2.06 2.06-.94-2.06-.94-.94-2.06-.94 2.06-2.06.94z\"/><path d=\"M17.41 7.96l-1.37-1.37c-.4-.4-.92-.59-1.43-.59-.52 0-1.04.2-1.43.59L10.3 9.45l-7.72 7.72c-.78.78-.78 2.05 0 2.83L4 21.41c.39.39.9.59 1.41.59.51 0 1.02-.2 1.41-.59l7.78-7.78 2.81-2.81c.8-.78.8-2.07 0-2.86zM5.41 20L4 18.59l7.72-7.72 1.47 1.35L5.41 20z\"/>\n",
              "  </svg>\n",
              "      </button>\n",
              "      \n",
              "  <style>\n",
              "    .colab-df-container {\n",
              "      display:flex;\n",
              "      flex-wrap:wrap;\n",
              "      gap: 12px;\n",
              "    }\n",
              "\n",
              "    .colab-df-convert {\n",
              "      background-color: #E8F0FE;\n",
              "      border: none;\n",
              "      border-radius: 50%;\n",
              "      cursor: pointer;\n",
              "      display: none;\n",
              "      fill: #1967D2;\n",
              "      height: 32px;\n",
              "      padding: 0 0 0 0;\n",
              "      width: 32px;\n",
              "    }\n",
              "\n",
              "    .colab-df-convert:hover {\n",
              "      background-color: #E2EBFA;\n",
              "      box-shadow: 0px 1px 2px rgba(60, 64, 67, 0.3), 0px 1px 3px 1px rgba(60, 64, 67, 0.15);\n",
              "      fill: #174EA6;\n",
              "    }\n",
              "\n",
              "    [theme=dark] .colab-df-convert {\n",
              "      background-color: #3B4455;\n",
              "      fill: #D2E3FC;\n",
              "    }\n",
              "\n",
              "    [theme=dark] .colab-df-convert:hover {\n",
              "      background-color: #434B5C;\n",
              "      box-shadow: 0px 1px 3px 1px rgba(0, 0, 0, 0.15);\n",
              "      filter: drop-shadow(0px 1px 2px rgba(0, 0, 0, 0.3));\n",
              "      fill: #FFFFFF;\n",
              "    }\n",
              "  </style>\n",
              "\n",
              "      <script>\n",
              "        const buttonEl =\n",
              "          document.querySelector('#df-fe81fd41-13b2-4669-9280-a64443beb690 button.colab-df-convert');\n",
              "        buttonEl.style.display =\n",
              "          google.colab.kernel.accessAllowed ? 'block' : 'none';\n",
              "\n",
              "        async function convertToInteractive(key) {\n",
              "          const element = document.querySelector('#df-fe81fd41-13b2-4669-9280-a64443beb690');\n",
              "          const dataTable =\n",
              "            await google.colab.kernel.invokeFunction('convertToInteractive',\n",
              "                                                     [key], {});\n",
              "          if (!dataTable) return;\n",
              "\n",
              "          const docLinkHtml = 'Like what you see? Visit the ' +\n",
              "            '<a target=\"_blank\" href=https://colab.research.google.com/notebooks/data_table.ipynb>data table notebook</a>'\n",
              "            + ' to learn more about interactive tables.';\n",
              "          element.innerHTML = '';\n",
              "          dataTable['output_type'] = 'display_data';\n",
              "          await google.colab.output.renderOutput(dataTable, element);\n",
              "          const docLink = document.createElement('div');\n",
              "          docLink.innerHTML = docLinkHtml;\n",
              "          element.appendChild(docLink);\n",
              "        }\n",
              "      </script>\n",
              "    </div>\n",
              "  </div>\n",
              "  "
            ]
          },
          "metadata": {},
          "execution_count": 82
        }
      ],
      "source": [
        "# Taking a brief look at the data using \".head()\"\n",
        "########## CODE HERE #########\n",
        "df.head()"
      ]
    },
    {
      "cell_type": "code",
      "execution_count": 83,
      "id": "6ae8f94c",
      "metadata": {
        "colab": {
          "base_uri": "https://localhost:8080/"
        },
        "id": "6ae8f94c",
        "outputId": "ac602f91-a114-44b2-ee5c-2aedb1b8886e"
      },
      "outputs": [
        {
          "output_type": "stream",
          "name": "stdout",
          "text": [
            "PID: Property ID of the house\n",
            "\n",
            "Neighborhood: Physical locations within Ames city limits\n",
            "\n",
            "       Blmngtn\tBloomington Heights\n",
            "       Blueste\tBluestem\n",
            "       BrDale\tBriardale\n",
            "       BrkSide\tBrookside\n",
            "       ClearCr\tClear Creek\n",
            "       CollgCr\tCollege Creek\n",
            "       Crawfor\tCrawford\n",
            "       Edwards\tEdwards\n",
            "       Gilbert\tGilbert\n",
            "       IDOTRR\tIowa DOT and Rail Road\n",
            "       MeadowV\tMeadow Village\n",
            "       Mitchel\tMitchell\n",
            "       Names\tNorth Ames\n",
            "       NoRidge\tNorthridge\n",
            "       NPkVill\tNorthpark Villa\n",
            "       NridgHt\tNorthridge Heights\n",
            "       NWAmes\tNorthwest Ames\n",
            "       OldTown\tOld Town\n",
            "       SWISU\tSouth & West of Iowa State University\n",
            "       Sawyer\tSawyer\n",
            "       SawyerW\tSawyer West\n",
            "       Somerst\tSomerset\n",
            "       StoneBr\tStone Brook\n",
            "       Timber\tTimberland\n",
            "       Veenker\tVeenker\n",
            "\n",
            "Year Built: Original construction date\n",
            "\n",
            "Overall Qual: Rates the overall material and finish of the house\n",
            "\n",
            "       10\tVery Excellent\n",
            "       9\tExcellent\n",
            "       8\tVery Good\n",
            "       7\tGood\n",
            "       6\tAbove Average\n",
            "       5\tAverage\n",
            "       4\tBelow Average\n",
            "       3\tFair\n",
            "       2\tPoor\n",
            "       1\tVery Poor\n",
            "\n",
            "Kitchen Qual: Quality of the kitchen\n",
            "\n",
            "       Ex\tExcellent\n",
            "       Gd\tGood\n",
            "       TA\tTypical/Average\n",
            "       Fa\tFair\n",
            "       Po\tPoor\n",
            "\n",
            "Exter Qual: Quality of exterior material of the house\n",
            "\t\t\n",
            "       Ex\tExcellent\n",
            "       Gd\tGood\n",
            "       TA\tAverage/Typical\n",
            "       Fa\tFair\n",
            "       Po\tPoor\n",
            "\n",
            "LotArea: Lot size in square feet\n",
            "\n",
            "SalePrice: Selling price of the propery in dollars\n",
            "\n"
          ]
        }
      ],
      "source": [
        "# Studying the description of the data\n",
        "with open('/content/Ames_Housing_Subset_Feature_Description.txt', 'r') as f:\n",
        "    print(f.read())"
      ]
    },
    {
      "cell_type": "markdown",
      "source": [
        "Reference:-https://pandas.pydata.org/pandas-docs/stable/reference/api/pandas.DataFrame.shape.html\n",
        "<p style='text-align: right;'></p>"
      ],
      "metadata": {
        "id": "dxJWfwaPgvay"
      },
      "id": "dxJWfwaPgvay"
    },
    {
      "cell_type": "code",
      "execution_count": 84,
      "id": "149ee23b",
      "metadata": {
        "colab": {
          "base_uri": "https://localhost:8080/"
        },
        "id": "149ee23b",
        "outputId": "1fc022fa-1fd8-4886-8fc1-47bbc8c26f03"
      },
      "outputs": [
        {
          "output_type": "execute_result",
          "data": {
            "text/plain": [
              "(2930, 7)"
            ]
          },
          "metadata": {},
          "execution_count": 84
        }
      ],
      "source": [
        "# Getting the dimensions of the data frame using \".shape\"\n",
        "########## CODE HERE #########\n",
        "df.shape"
      ]
    },
    {
      "cell_type": "markdown",
      "source": [
        "Reference:-https://pandas.pydata.org/pandas-docs/stable/reference/api/pandas.DataFrame.index.html"
      ],
      "metadata": {
        "id": "A7Zaj43xgz-V"
      },
      "id": "A7Zaj43xgz-V"
    },
    {
      "cell_type": "code",
      "execution_count": 85,
      "id": "868b4e43",
      "metadata": {
        "colab": {
          "base_uri": "https://localhost:8080/"
        },
        "id": "868b4e43",
        "outputId": "b604c0b8-595f-4435-9b35-6ec54c3890b3"
      },
      "outputs": [
        {
          "output_type": "execute_result",
          "data": {
            "text/plain": [
              "Int64Index([526301100, 526350040, 526351010, 526353030, 527105010, 527105030,\n",
              "            527127150, 527145080, 527146030, 527162130,\n",
              "            ...\n",
              "            923228310, 923229110, 923230040, 923250060, 923251180, 923275080,\n",
              "            923276100, 923400125, 924100070, 924151050],\n",
              "           dtype='int64', name='PID', length=2930)"
            ]
          },
          "metadata": {},
          "execution_count": 85
        }
      ],
      "source": [
        "# Getting the row names of the data frame using \".index\"\n",
        "########## CODE HERE #########\n",
        "df.index"
      ]
    },
    {
      "cell_type": "markdown",
      "source": [
        "Reference:-https://pandas.pydata.org/pandas-docs/stable/reference/api/pandas.DataFrame.columns.html"
      ],
      "metadata": {
        "id": "bPX0yKnmg4vW"
      },
      "id": "bPX0yKnmg4vW"
    },
    {
      "cell_type": "code",
      "execution_count": 86,
      "id": "a841f8fa",
      "metadata": {
        "colab": {
          "base_uri": "https://localhost:8080/"
        },
        "id": "a841f8fa",
        "outputId": "cb74df4c-4e54-48fb-e2f4-fe91714857da"
      },
      "outputs": [
        {
          "output_type": "execute_result",
          "data": {
            "text/plain": [
              "Index(['Neighborhood', 'Year Built', 'Overall Qual', 'Kitchen Qual',\n",
              "       'Exter Qual', 'Lot Area', 'SalePrice'],\n",
              "      dtype='object')"
            ]
          },
          "metadata": {},
          "execution_count": 86
        }
      ],
      "source": [
        "# Getting the column names of the data frame using \".columns\"\n",
        "########## CODE HERE #########\n",
        "df.columns"
      ]
    },
    {
      "cell_type": "markdown",
      "source": [
        "Reference:-https://www.w3schools.com/python/pandas/ref_df_info.asp"
      ],
      "metadata": {
        "id": "CNqK2eGYhQhG"
      },
      "id": "CNqK2eGYhQhG"
    },
    {
      "cell_type": "code",
      "execution_count": 87,
      "id": "f6a1e229",
      "metadata": {
        "colab": {
          "base_uri": "https://localhost:8080/"
        },
        "id": "f6a1e229",
        "outputId": "85b72798-f0f3-45ad-82c2-4fc416942c28"
      },
      "outputs": [
        {
          "output_type": "stream",
          "name": "stdout",
          "text": [
            "<class 'pandas.core.frame.DataFrame'>\n",
            "Int64Index: 2930 entries, 526301100 to 924151050\n",
            "Data columns (total 7 columns):\n",
            " #   Column        Non-Null Count  Dtype \n",
            "---  ------        --------------  ----- \n",
            " 0   Neighborhood  2930 non-null   object\n",
            " 1   Year Built    2930 non-null   int64 \n",
            " 2   Overall Qual  2930 non-null   int64 \n",
            " 3   Kitchen Qual  2930 non-null   object\n",
            " 4   Exter Qual    2930 non-null   object\n",
            " 5   Lot Area      2930 non-null   int64 \n",
            " 6   SalePrice     2930 non-null   int64 \n",
            "dtypes: int64(4), object(3)\n",
            "memory usage: 183.1+ KB\n"
          ]
        }
      ],
      "source": [
        "# Looking at the basic information about the data frame using \".info()\"\n",
        "########## CODE HERE #########\n",
        "df.info()"
      ]
    },
    {
      "cell_type": "markdown",
      "source": [
        "## Check the count of Null values"
      ],
      "metadata": {
        "id": "t3WUu1i2hm2V"
      },
      "id": "t3WUu1i2hm2V"
    },
    {
      "cell_type": "markdown",
      "source": [
        "Reference:-https://pandas.pydata.org/pandas-docs/stable/reference/api/pandas.DataFrame.isnull.html\n",
        "\n",
        "https://pandas.pydata.org/pandas-docs/stable/reference/api/pandas.DataFrame.sum.html"
      ],
      "metadata": {
        "id": "_TCxSy-ShtIC"
      },
      "id": "_TCxSy-ShtIC"
    },
    {
      "cell_type": "code",
      "execution_count": 88,
      "id": "c3d016a0",
      "metadata": {
        "colab": {
          "base_uri": "https://localhost:8080/"
        },
        "id": "c3d016a0",
        "outputId": "c7a384ca-2c61-4499-c7b4-9ecf7950d2dd"
      },
      "outputs": [
        {
          "output_type": "execute_result",
          "data": {
            "text/plain": [
              "Neighborhood    0\n",
              "Year Built      0\n",
              "Overall Qual    0\n",
              "Kitchen Qual    0\n",
              "Exter Qual      0\n",
              "Lot Area        0\n",
              "SalePrice       0\n",
              "dtype: int64"
            ]
          },
          "metadata": {},
          "execution_count": 88
        }
      ],
      "source": [
        "# Getting the number of missing values for the complete data frame using \".isnull()\" and \".sum()\"\n",
        "########## CODE HERE #########\n",
        "df.isnull().sum()"
      ]
    },
    {
      "cell_type": "markdown",
      "source": [
        "## Look at the distribution of columns one by one"
      ],
      "metadata": {
        "id": "qQrWz1CkiQf8"
      },
      "id": "qQrWz1CkiQf8"
    },
    {
      "cell_type": "code",
      "execution_count": 89,
      "id": "2dfed59c",
      "metadata": {
        "id": "2dfed59c",
        "outputId": "008f1183-b339-4b36-daed-5386b407dd84",
        "colab": {
          "base_uri": "https://localhost:8080/",
          "height": 386
        }
      },
      "outputs": [
        {
          "output_type": "display_data",
          "data": {
            "text/plain": [
              "<Figure size 900x300 with 1 Axes>"
            ],
            "image/png": "[encoded data removed]"
          },
          "metadata": {}
        }
      ],
      "source": [
        "# Creating a count plot of the \"Neighborhood\" feature\n",
        "########## CODE HERE #########\n",
        "plt.figure(figsize=(9,3),dpi=100)\n",
        "sns.countplot(data=df,x='Neighborhood')\n",
        "plt.title(\"Count Plot of Number of Houses Based on Neighnorhood\")\n",
        "plt.xlabel(\"Neighborhood\")\n",
        "plt.ylabel(\"Count\")\n",
        "plt.xticks(rotation=90);"
      ]
    },
    {
      "cell_type": "markdown",
      "source": [
        "**Observation**\n",
        "\n",
        "It is quite clear from the count plot that NAmes area has more number of houses while the least number of houses are in GrmHill and Landmrk."
      ],
      "metadata": {
        "id": "zrmL3RSwjJhi"
      },
      "id": "zrmL3RSwjJhi"
    },
    {
      "cell_type": "code",
      "execution_count": 90,
      "id": "d80839ae",
      "metadata": {
        "colab": {
          "base_uri": "https://localhost:8080/",
          "height": 333
        },
        "id": "d80839ae",
        "outputId": "373db5e1-fbef-4a55-abef-17417acfac16"
      },
      "outputs": [
        {
          "output_type": "display_data",
          "data": {
            "text/plain": [
              "<Figure size 900x300 with 1 Axes>"
            ],
            "image/png": "[encoded data removed]"
          },
          "metadata": {}
        }
      ],
      "source": [
        "# Creating a histogram of the \"Year Built\" feature and also showing the mean and the median\n",
        "########## CODE HERE #########\n",
        "plt.figure(figsize=(9,3),dpi=100)\n",
        "sns.histplot(data=df,x='Year Built',color='blue',edgecolor='black',alpha=0.5)\n",
        "plt.title(\"Histogram of Years in Which Houses Were Built\")\n",
        "plt.xlabel(\"Years in which House was Built\")\n",
        "plt.ylabel(\"Count\")\n",
        "plt.vlines(x=df['Year Built'].mean(),ymin=0,ymax=575,colors='black',label='Mean')\n",
        "plt.vlines(x=df['Year Built'].median(),ymin=0,ymax=575,colors='red',label='Median')\n",
        "plt.legend(loc='upper left');"
      ]
    },
    {
      "cell_type": "markdown",
      "source": [
        "**Observations**\n",
        "\n",
        "We can see that the data is highly skewed to the left i.e have a large tail towards the left end."
      ],
      "metadata": {
        "id": "9MAQH6sFjqeN"
      },
      "id": "9MAQH6sFjqeN"
    },
    {
      "cell_type": "markdown",
      "source": [
        "More about Skewness:\n",
        "\n",
        "Some distributions of data, such as the bell curve or normal distribution, are symmetric. This means that the right and the left of the distribution are perfect mirror images of one another. Not every distribution of data is symmetric. Sets of data that are not symmetric are said to be asymmetric. The measure of how asymmetric a distribution can be is called skewness.\n",
        "\n",
        "\n",
        "The mean, median and mode are all measures of the center of a set of data. The skewness of the data can be determined by how these quantities are related to one another.\n",
        "\n",
        "* If Skewness (S) = 0, then the distribution is normally distributed.\n",
        "\n",
        "* If Skewness (S) > 0, then the distribution is positively skewed.\n",
        "\n",
        "* If Skewness (S) < 0, then the distribution is negatively skewed."
      ],
      "metadata": {
        "id": "ih0vmXaOkG9N"
      },
      "id": "ih0vmXaOkG9N"
    },
    {
      "cell_type": "markdown",
      "source": [
        "Reference:-https://seaborn.pydata.org/generated/seaborn.distplot.html"
      ],
      "metadata": {
        "id": "KudPDmflk5I4"
      },
      "id": "KudPDmflk5I4"
    },
    {
      "cell_type": "code",
      "source": [
        "# Creating a distplot of the \"Year Built\" feature \n",
        "########## CODE HERE #########\n",
        "plt.figure(figsize=(9,3),dpi=100)\n",
        "sns.distplot(x=df[\"Year Built\"],color='blue')\n",
        "plt.title(\"Distplot of Years in Which Houses Were Built\")\n",
        "plt.xlabel(\"Years in which House was Built\")\n",
        "plt.ylabel(\"Count\")\n"
      ],
      "metadata": {
        "colab": {
          "base_uri": "https://localhost:8080/",
          "height": 552
        },
        "id": "MIJlR0GzkV8r",
        "outputId": "d5c54222-fc1c-41ca-a4fb-e5f7d6a7e70b"
      },
      "id": "MIJlR0GzkV8r",
      "execution_count": 94,
      "outputs": [
        {
          "output_type": "stream",
          "name": "stderr",
          "text": [
            "<ipython-input-94-64985796c29a>:4: UserWarning: \n",
            "\n",
            "`distplot` is a deprecated function and will be removed in seaborn v0.14.0.\n",
            "\n",
            "Please adapt your code to use either `displot` (a figure-level function with\n",
            "similar flexibility) or `histplot` (an axes-level function for histograms).\n",
            "\n",
            "For a guide to updating your code to use the new functions, please see\n",
            "https://gist.github.com/mwaskom/de44147ed2974457ad6372750bbe5751\n",
            "\n",
            "  sns.distplot(x=df[\"Year Built\"],color='blue')\n"
          ]
        },
        {
          "output_type": "execute_result",
          "data": {
            "text/plain": [
              "Text(0, 0.5, 'Count')"
            ]
          },
          "metadata": {},
          "execution_count": 94
        },
        {
          "output_type": "display_data",
          "data": {
            "text/plain": [
              "<Figure size 900x300 with 1 Axes>"
            ],
            "image/png": "[encoded data removed]"
          },
          "metadata": {}
        }
      ]
    },
    {
      "cell_type": "markdown",
      "source": [
        "We can calculate skewness too using skew() function in python.\n",
        "\n",
        "Reference:\n",
        "\n",
        "https://www.geeksforgeeks.org/python-pandas-dataframe-skew/"
      ],
      "metadata": {
        "id": "exE_l6HJlAvf"
      },
      "id": "exE_l6HJlAvf"
    },
    {
      "cell_type": "markdown",
      "source": [
        "Calculate skewness of 'Year Built' using \".skew()"
      ],
      "metadata": {
        "id": "aC3VqAntlDgJ"
      },
      "id": "aC3VqAntlDgJ"
    },
    {
      "cell_type": "code",
      "source": [
        "#Calculate skewness of \"Year Built\" using .skew()\n",
        "########## CODE HERE #########\n",
        "df['Year Built'].skew()"
      ],
      "metadata": {
        "colab": {
          "base_uri": "https://localhost:8080/"
        },
        "id": "97nUU1jilOXp",
        "outputId": "6455fb67-b523-4a32-8b42-48ad78fb5c9b"
      },
      "id": "97nUU1jilOXp",
      "execution_count": 95,
      "outputs": [
        {
          "output_type": "execute_result",
          "data": {
            "text/plain": [
              "-0.6044622213681587"
            ]
          },
          "metadata": {},
          "execution_count": 95
        }
      ]
    },
    {
      "cell_type": "markdown",
      "source": [
        "**Observation**\n",
        "\n",
        "We can clearly see that the skewness value is less than 0, hence it is negatively skewed."
      ],
      "metadata": {
        "id": "zFGChvkElqxv"
      },
      "id": "zFGChvkElqxv"
    },
    {
      "cell_type": "markdown",
      "source": [
        "Reference:-https://seaborn.pydata.org/generated/seaborn.boxplot.html"
      ],
      "metadata": {
        "id": "a3vKkLyJl0-g"
      },
      "id": "a3vKkLyJl0-g"
    },
    {
      "cell_type": "code",
      "execution_count": 96,
      "id": "b92194a7",
      "metadata": {
        "colab": {
          "base_uri": "https://localhost:8080/",
          "height": 337
        },
        "id": "b92194a7",
        "outputId": "777d10d3-a19c-4878-afc2-1d514304a4d9"
      },
      "outputs": [
        {
          "output_type": "execute_result",
          "data": {
            "text/plain": [
              "Text(0.5, 0, 'Years in which House was Built')"
            ]
          },
          "metadata": {},
          "execution_count": 96
        },
        {
          "output_type": "display_data",
          "data": {
            "text/plain": [
              "<Figure size 900x300 with 1 Axes>"
            ],
            "image/png": "[encoded data removed]"
          },
          "metadata": {}
        }
      ],
      "source": [
        "# Creating a box plot of the \"Year Built\" feature\n",
        "########## CODE HERE #########\n",
        "plt.figure(figsize=(9,3),dpi=100)\n",
        "sns.boxplot(data=df,y='Year Built',color='linen')\n",
        "plt.title(\"Boxplot of Years in Which Houses Were Built\")\n",
        "plt.xlabel(\"Years in which House was Built\")\n"
      ]
    },
    {
      "cell_type": "markdown",
      "source": [
        "Observation:\n",
        "\n",
        "The median value of Year is around 1973.\n",
        "\n",
        "There are some outliers below the minimum value."
      ],
      "metadata": {
        "id": "8ximKMCEmriD"
      },
      "id": "8ximKMCEmriD"
    },
    {
      "cell_type": "code",
      "execution_count": 97,
      "id": "aeac7af7",
      "metadata": {
        "colab": {
          "base_uri": "https://localhost:8080/",
          "height": 333
        },
        "id": "aeac7af7",
        "outputId": "769f89f3-5713-4dde-bad1-50e66678a1fd"
      },
      "outputs": [
        {
          "output_type": "display_data",
          "data": {
            "text/plain": [
              "<Figure size 900x300 with 1 Axes>"
            ],
            "image/png": "[encoded data removed]"
          },
          "metadata": {}
        }
      ],
      "source": [
        "# Creating a histogram of the \"SalePrice\" feature and also showing the mean and the median\n",
        "########## CODE HERE #########\n",
        "plt.figure(figsize=(9,3),dpi=100)\n",
        "sns.histplot(data=df,x='SalePrice',color='blue',edgecolor='black',alpha=0.5)\n",
        "plt.title(\"Histogram of Selling Price of Houses\")\n",
        "plt.xlabel(\"Selling price oh house in dollars\")\n",
        "plt.ylabel(\"Count\")\n",
        "plt.vlines(x=df['SalePrice'].mean(),ymin=0,ymax=575,colors='black',label='Mean')\n",
        "plt.vlines(x=df['SalePrice'].median(),ymin=0,ymax=575,colors='red',label='Median')\n",
        "plt.legend(loc='upper left');"
      ]
    },
    {
      "cell_type": "markdown",
      "source": [
        "Observation:\n",
        "\n",
        "The mean and median are different for SalePrice.\n",
        "\n",
        "The data is right skewed."
      ],
      "metadata": {
        "id": "IY6puZdvnQM-"
      },
      "id": "IY6puZdvnQM-"
    },
    {
      "cell_type": "markdown",
      "source": [
        "Again we can see the plot more clearly using distplot() in sns."
      ],
      "metadata": {
        "id": "cO5lbPHUnb-Y"
      },
      "id": "cO5lbPHUnb-Y"
    },
    {
      "cell_type": "code",
      "source": [
        "# Creating a distplot of the \"Sale Price\" feature \n",
        "########## CODE HERE #########\n",
        "plt.figure(figsize=(9,3),dpi=100)\n",
        "sns.distplot(x=df[\"SalePrice\"],color='blue')\n",
        "plt.title(\"Distplot of Selling Price of Houses\")\n",
        "plt.xlabel(\"Selling Price of Houses in dollars\")\n",
        "plt.ylabel(\"Count\")"
      ],
      "metadata": {
        "colab": {
          "base_uri": "https://localhost:8080/",
          "height": 552
        },
        "id": "Bdw4p95sngdN",
        "outputId": "94f62548-2145-4896-c385-b436385eb966"
      },
      "id": "Bdw4p95sngdN",
      "execution_count": 98,
      "outputs": [
        {
          "output_type": "stream",
          "name": "stderr",
          "text": [
            "<ipython-input-98-7f1fa9150432>:4: UserWarning: \n",
            "\n",
            "`distplot` is a deprecated function and will be removed in seaborn v0.14.0.\n",
            "\n",
            "Please adapt your code to use either `displot` (a figure-level function with\n",
            "similar flexibility) or `histplot` (an axes-level function for histograms).\n",
            "\n",
            "For a guide to updating your code to use the new functions, please see\n",
            "https://gist.github.com/mwaskom/de44147ed2974457ad6372750bbe5751\n",
            "\n",
            "  sns.distplot(x=df[\"SalePrice\"],color='blue')\n"
          ]
        },
        {
          "output_type": "execute_result",
          "data": {
            "text/plain": [
              "Text(0, 0.5, 'Count')"
            ]
          },
          "metadata": {},
          "execution_count": 98
        },
        {
          "output_type": "display_data",
          "data": {
            "text/plain": [
              "<Figure size 900x300 with 1 Axes>"
            ],
            "image/png": "[encoded data removed]"
          },
          "metadata": {}
        }
      ]
    },
    {
      "cell_type": "code",
      "source": [
        "# Calculate skewness of SalePrice\n",
        "########## CODE HERE #########\n",
        "df['SalePrice'].skew()"
      ],
      "metadata": {
        "colab": {
          "base_uri": "https://localhost:8080/"
        },
        "id": "FYRPNXO8n-qG",
        "outputId": "0a543d27-4f47-495a-df1e-7adab3ee1014"
      },
      "id": "FYRPNXO8n-qG",
      "execution_count": 99,
      "outputs": [
        {
          "output_type": "execute_result",
          "data": {
            "text/plain": [
              "1.7435000757376466"
            ]
          },
          "metadata": {},
          "execution_count": 99
        }
      ]
    },
    {
      "cell_type": "markdown",
      "source": [
        "**Observation**\n",
        "\n",
        "We can clearly see that the skewness value is greater than 0, hence it is positively skewed."
      ],
      "metadata": {
        "id": "itvVq3JGn9Mj"
      },
      "id": "itvVq3JGn9Mj"
    },
    {
      "cell_type": "code",
      "execution_count": 100,
      "id": "7ded8d3f",
      "metadata": {
        "colab": {
          "base_uri": "https://localhost:8080/",
          "height": 337
        },
        "id": "7ded8d3f",
        "outputId": "1e9d7749-e1b5-4622-de2a-4ede8861768b"
      },
      "outputs": [
        {
          "output_type": "execute_result",
          "data": {
            "text/plain": [
              "Text(0.5, 0, 'Selling Price of House in dollars')"
            ]
          },
          "metadata": {},
          "execution_count": 100
        },
        {
          "output_type": "display_data",
          "data": {
            "text/plain": [
              "<Figure size 900x300 with 1 Axes>"
            ],
            "image/png": "[encoded data removed]"
          },
          "metadata": {}
        }
      ],
      "source": [
        "# Creating a box plot of the \"SalePrice\" feature\n",
        "########## CODE HERE #########\n",
        "plt.figure(figsize=(9,3),dpi=100)\n",
        "sns.boxplot(data=df,y='SalePrice',color='linen')\n",
        "plt.title(\"Boxplot of Selling Price of Houses\")\n",
        "plt.xlabel(\"Selling Price of House in dollars\")"
      ]
    },
    {
      "cell_type": "markdown",
      "source": [
        "Observation:\n",
        "\n",
        "The median value of SalePrice is less than 200000.\n",
        "\n",
        "There are some outliers above the maximum value."
      ],
      "metadata": {
        "id": "ZpSSI3CAop69"
      },
      "id": "ZpSSI3CAop69"
    },
    {
      "cell_type": "code",
      "execution_count": 101,
      "id": "4e575677",
      "metadata": {
        "colab": {
          "base_uri": "https://localhost:8080/",
          "height": 333
        },
        "id": "4e575677",
        "outputId": "801e09e0-2ea1-43a1-f910-ddc6d6e6d0a9"
      },
      "outputs": [
        {
          "output_type": "display_data",
          "data": {
            "text/plain": [
              "<Figure size 900x300 with 1 Axes>"
            ],
            "image/png": "[encoded data removed]"
          },
          "metadata": {}
        }
      ],
      "source": [
        "# Creating a histogram of the \"Lot Area\" feature and also showing the mean and the median\n",
        "########## CODE HERE #########\n",
        "plt.figure(figsize=(9,3),dpi=100)\n",
        "sns.histplot(data=df,x='Lot Area',color='blue',edgecolor='black',alpha=0.5)\n",
        "plt.title(\"Histogram of Lot Area of Houses\")\n",
        "plt.xlabel(\"Lot Area of house in dollars\")\n",
        "plt.ylabel(\"Count\")\n",
        "plt.vlines(x=df['Lot Area'].mean(),ymin=0,ymax=575,colors='black',label='Mean')\n",
        "plt.vlines(x=df['Lot Area'].median(),ymin=0,ymax=575,colors='red',label='Median')\n",
        "plt.legend();"
      ]
    },
    {
      "cell_type": "markdown",
      "source": [
        "Observation:\n",
        "\n",
        "The data is rightly skewed.\n",
        "\n",
        "Simple task for you!\n",
        "\n",
        "You can plot a distplot of the above variable and check the skewness as previously done for Year Built and SalePrice features."
      ],
      "metadata": {
        "id": "sI3MTV42pM6f"
      },
      "id": "sI3MTV42pM6f"
    },
    {
      "cell_type": "code",
      "execution_count": 102,
      "id": "4e308b06",
      "metadata": {
        "colab": {
          "base_uri": "https://localhost:8080/",
          "height": 337
        },
        "id": "4e308b06",
        "outputId": "26d39380-ba62-4b46-b453-a05bd43465cc"
      },
      "outputs": [
        {
          "output_type": "execute_result",
          "data": {
            "text/plain": [
              "Text(0.5, 0, 'Lot Area of House in square feet')"
            ]
          },
          "metadata": {},
          "execution_count": 102
        },
        {
          "output_type": "display_data",
          "data": {
            "text/plain": [
              "<Figure size 900x300 with 1 Axes>"
            ],
            "image/png": "[encoded data removed]"
          },
          "metadata": {}
        }
      ],
      "source": [
        "# Creating a box plot of the \"Lot Area\" feature\n",
        "########## CODE HERE #########\n",
        "plt.figure(figsize=(9,3),dpi=100)\n",
        "sns.boxplot(data=df,y='Lot Area',color='linen')\n",
        "plt.title(\"Boxplot of Lot Area of Houses\")\n",
        "plt.xlabel(\"Lot Area of House in square feet\")"
      ]
    },
    {
      "cell_type": "markdown",
      "source": [
        "Observation:\n",
        "\n",
        "We can clearly see that there are outliers in the feature."
      ],
      "metadata": {
        "id": "tEnr-7Dspv7k"
      },
      "id": "tEnr-7Dspv7k"
    },
    {
      "cell_type": "markdown",
      "source": [
        "Reference:-https://seaborn.pydata.org/generated/seaborn.scatterplot.html"
      ],
      "metadata": {
        "id": "GrQm-3RBqLIE"
      },
      "id": "GrQm-3RBqLIE"
    },
    {
      "cell_type": "code",
      "execution_count": 103,
      "id": "7c1f882f",
      "metadata": {
        "id": "7c1f882f",
        "outputId": "8534110b-100c-4408-b661-9d38380e37fa",
        "colab": {
          "base_uri": "https://localhost:8080/",
          "height": 351
        }
      },
      "outputs": [
        {
          "output_type": "execute_result",
          "data": {
            "text/plain": [
              "Text(0, 0.5, 'Selling Price of Houses in dollars')"
            ]
          },
          "metadata": {},
          "execution_count": 103
        },
        {
          "output_type": "display_data",
          "data": {
            "text/plain": [
              "<Figure size 900x300 with 1 Axes>"
            ],
            "image/png": "[encoded data removed]"
          },
          "metadata": {}
        }
      ],
      "source": [
        "# Creating a scatter plot of the \"Lot Area\" and \"SalePrice\" features\n",
        "########## CODE HERE #########\n",
        "plt.figure(figsize=(9,3),dpi=100)\n",
        "sns.scatterplot(data=df,x='Lot Area',y='SalePrice',alpha=0.5)\n",
        "plt.title(\"Scatter Plot of Selling Price of Houses With Respect to Lot Area\")\n",
        "plt.xlabel(\"Lot Area of House in square feet\")\n",
        "plt.ylabel(\"Selling Price of Houses in dollars\")"
      ]
    },
    {
      "cell_type": "markdown",
      "source": [
        "Observations:\n",
        "\n",
        "We can see that as Lot Area is increasing the Selling Price is also increasing not much linearly, but the plot shows that there is a significant relationship between both the variables."
      ],
      "metadata": {
        "id": "9jZyyvZ1qr7S"
      },
      "id": "9jZyyvZ1qr7S"
    },
    {
      "cell_type": "markdown",
      "source": [
        "We can also create new features which we can think of being useful by using domain knowledge."
      ],
      "metadata": {
        "id": "nQN0iZg2rAP_"
      },
      "id": "nQN0iZg2rAP_"
    },
    {
      "cell_type": "code",
      "execution_count": 104,
      "id": "792d8609",
      "metadata": {
        "id": "792d8609"
      },
      "outputs": [],
      "source": [
        "# Creating a new feature in the data frame to contain ratio of \"SalePrice\" and \"Lot Area\" features\n",
        "########## CODE HERE #########\n",
        "df['Price per Area']=df['SalePrice']/df['Lot Area']"
      ]
    },
    {
      "cell_type": "markdown",
      "source": [
        "The above defined variable can play an important role in calculating the Sale Price."
      ],
      "metadata": {
        "id": "BWECRKherL1G"
      },
      "id": "BWECRKherL1G"
    },
    {
      "cell_type": "code",
      "execution_count": 105,
      "id": "ebc8f672",
      "metadata": {
        "id": "ebc8f672",
        "outputId": "0e540ba3-4774-4fd2-8901-808711af4ae2",
        "colab": {
          "base_uri": "https://localhost:8080/",
          "height": 237
        }
      },
      "outputs": [
        {
          "output_type": "execute_result",
          "data": {
            "text/plain": [
              "          Neighborhood  Year Built  Overall Qual Kitchen Qual Exter Qual  \\\n",
              "PID                                                                        \n",
              "526301100        NAmes        1960             6           TA         TA   \n",
              "526350040        NAmes        1961             5           TA         TA   \n",
              "526351010        NAmes        1958             6           Gd         TA   \n",
              "526353030        NAmes        1968             7           Ex         Gd   \n",
              "527105010      Gilbert        1997             5           TA         TA   \n",
              "\n",
              "           Lot Area  SalePrice  Price per Area  \n",
              "PID                                             \n",
              "526301100     31770     215000        6.767391  \n",
              "526350040     11622     105000        9.034590  \n",
              "526351010     14267     172000       12.055793  \n",
              "526353030     11160     244000       21.863799  \n",
              "527105010     13830     189900       13.731020  "
            ],
            "text/html": [
              "\n",
              "  <div id=\"df-634a344e-1b3d-4740-9f77-302f343d4333\">\n",
              "    <div class=\"colab-df-container\">\n",
              "      <div>\n",
              "<style scoped>\n",
              "    .dataframe tbody tr th:only-of-type {\n",
              "        vertical-align: middle;\n",
              "    }\n",
              "\n",
              "    .dataframe tbody tr th {\n",
              "        vertical-align: top;\n",
              "    }\n",
              "\n",
              "    .dataframe thead th {\n",
              "        text-align: right;\n",
              "    }\n",
              "</style>\n",
              "<table border=\"1\" class=\"dataframe\">\n",
              "  <thead>\n",
              "    <tr style=\"text-align: right;\">\n",
              "      <th></th>\n",
              "      <th>Neighborhood</th>\n",
              "      <th>Year Built</th>\n",
              "      <th>Overall Qual</th>\n",
              "      <th>Kitchen Qual</th>\n",
              "      <th>Exter Qual</th>\n",
              "      <th>Lot Area</th>\n",
              "      <th>SalePrice</th>\n",
              "      <th>Price per Area</th>\n",
              "    </tr>\n",
              "    <tr>\n",
              "      <th>PID</th>\n",
              "      <th></th>\n",
              "      <th></th>\n",
              "      <th></th>\n",
              "      <th></th>\n",
              "      <th></th>\n",
              "      <th></th>\n",
              "      <th></th>\n",
              "      <th></th>\n",
              "    </tr>\n",
              "  </thead>\n",
              "  <tbody>\n",
              "    <tr>\n",
              "      <th>526301100</th>\n",
              "      <td>NAmes</td>\n",
              "      <td>1960</td>\n",
              "      <td>6</td>\n",
              "      <td>TA</td>\n",
              "      <td>TA</td>\n",
              "      <td>31770</td>\n",
              "      <td>215000</td>\n",
              "      <td>6.767391</td>\n",
              "    </tr>\n",
              "    <tr>\n",
              "      <th>526350040</th>\n",
              "      <td>NAmes</td>\n",
              "      <td>1961</td>\n",
              "      <td>5</td>\n",
              "      <td>TA</td>\n",
              "      <td>TA</td>\n",
              "      <td>11622</td>\n",
              "      <td>105000</td>\n",
              "      <td>9.034590</td>\n",
              "    </tr>\n",
              "    <tr>\n",
              "      <th>526351010</th>\n",
              "      <td>NAmes</td>\n",
              "      <td>1958</td>\n",
              "      <td>6</td>\n",
              "      <td>Gd</td>\n",
              "      <td>TA</td>\n",
              "      <td>14267</td>\n",
              "      <td>172000</td>\n",
              "      <td>12.055793</td>\n",
              "    </tr>\n",
              "    <tr>\n",
              "      <th>526353030</th>\n",
              "      <td>NAmes</td>\n",
              "      <td>1968</td>\n",
              "      <td>7</td>\n",
              "      <td>Ex</td>\n",
              "      <td>Gd</td>\n",
              "      <td>11160</td>\n",
              "      <td>244000</td>\n",
              "      <td>21.863799</td>\n",
              "    </tr>\n",
              "    <tr>\n",
              "      <th>527105010</th>\n",
              "      <td>Gilbert</td>\n",
              "      <td>1997</td>\n",
              "      <td>5</td>\n",
              "      <td>TA</td>\n",
              "      <td>TA</td>\n",
              "      <td>13830</td>\n",
              "      <td>189900</td>\n",
              "      <td>13.731020</td>\n",
              "    </tr>\n",
              "  </tbody>\n",
              "</table>\n",
              "</div>\n",
              "      <button class=\"colab-df-convert\" onclick=\"convertToInteractive('df-634a344e-1b3d-4740-9f77-302f343d4333')\"\n",
              "              title=\"Convert this dataframe to an interactive table.\"\n",
              "              style=\"display:none;\">\n",
              "        \n",
              "  <svg xmlns=\"http://www.w3.org/2000/svg\" height=\"24px\"viewBox=\"0 0 24 24\"\n",
              "       width=\"24px\">\n",
              "    <path d=\"M0 0h24v24H0V0z\" fill=\"none\"/>\n",
              "    <path d=\"M18.56 5.44l.94 2.06.94-2.06 2.06-.94-2.06-.94-.94-2.06-.94 2.06-2.06.94zm-11 1L8.5 8.5l.94-2.06 2.06-.94-2.06-.94L8.5 2.5l-.94 2.06-2.06.94zm10 10l.94 2.06.94-2.06 2.06-.94-2.06-.94-.94-2.06-.94 2.06-2.06.94z\"/><path d=\"M17.41 7.96l-1.37-1.37c-.4-.4-.92-.59-1.43-.59-.52 0-1.04.2-1.43.59L10.3 9.45l-7.72 7.72c-.78.78-.78 2.05 0 2.83L4 21.41c.39.39.9.59 1.41.59.51 0 1.02-.2 1.41-.59l7.78-7.78 2.81-2.81c.8-.78.8-2.07 0-2.86zM5.41 20L4 18.59l7.72-7.72 1.47 1.35L5.41 20z\"/>\n",
              "  </svg>\n",
              "      </button>\n",
              "      \n",
              "  <style>\n",
              "    .colab-df-container {\n",
              "      display:flex;\n",
              "      flex-wrap:wrap;\n",
              "      gap: 12px;\n",
              "    }\n",
              "\n",
              "    .colab-df-convert {\n",
              "      background-color: #E8F0FE;\n",
              "      border: none;\n",
              "      border-radius: 50%;\n",
              "      cursor: pointer;\n",
              "      display: none;\n",
              "      fill: #1967D2;\n",
              "      height: 32px;\n",
              "      padding: 0 0 0 0;\n",
              "      width: 32px;\n",
              "    }\n",
              "\n",
              "    .colab-df-convert:hover {\n",
              "      background-color: #E2EBFA;\n",
              "      box-shadow: 0px 1px 2px rgba(60, 64, 67, 0.3), 0px 1px 3px 1px rgba(60, 64, 67, 0.15);\n",
              "      fill: #174EA6;\n",
              "    }\n",
              "\n",
              "    [theme=dark] .colab-df-convert {\n",
              "      background-color: #3B4455;\n",
              "      fill: #D2E3FC;\n",
              "    }\n",
              "\n",
              "    [theme=dark] .colab-df-convert:hover {\n",
              "      background-color: #434B5C;\n",
              "      box-shadow: 0px 1px 3px 1px rgba(0, 0, 0, 0.15);\n",
              "      filter: drop-shadow(0px 1px 2px rgba(0, 0, 0, 0.3));\n",
              "      fill: #FFFFFF;\n",
              "    }\n",
              "  </style>\n",
              "\n",
              "      <script>\n",
              "        const buttonEl =\n",
              "          document.querySelector('#df-634a344e-1b3d-4740-9f77-302f343d4333 button.colab-df-convert');\n",
              "        buttonEl.style.display =\n",
              "          google.colab.kernel.accessAllowed ? 'block' : 'none';\n",
              "\n",
              "        async function convertToInteractive(key) {\n",
              "          const element = document.querySelector('#df-634a344e-1b3d-4740-9f77-302f343d4333');\n",
              "          const dataTable =\n",
              "            await google.colab.kernel.invokeFunction('convertToInteractive',\n",
              "                                                     [key], {});\n",
              "          if (!dataTable) return;\n",
              "\n",
              "          const docLinkHtml = 'Like what you see? Visit the ' +\n",
              "            '<a target=\"_blank\" href=https://colab.research.google.com/notebooks/data_table.ipynb>data table notebook</a>'\n",
              "            + ' to learn more about interactive tables.';\n",
              "          element.innerHTML = '';\n",
              "          dataTable['output_type'] = 'display_data';\n",
              "          await google.colab.output.renderOutput(dataTable, element);\n",
              "          const docLink = document.createElement('div');\n",
              "          docLink.innerHTML = docLinkHtml;\n",
              "          element.appendChild(docLink);\n",
              "        }\n",
              "      </script>\n",
              "    </div>\n",
              "  </div>\n",
              "  "
            ]
          },
          "metadata": {},
          "execution_count": 105
        }
      ],
      "source": [
        "# Taking a brief look at the data using \".head()\"\n",
        "########## CODE HERE #########\n",
        "df.head()"
      ]
    },
    {
      "cell_type": "code",
      "execution_count": 106,
      "id": "6d6d6d75",
      "metadata": {
        "colab": {
          "base_uri": "https://localhost:8080/",
          "height": 333
        },
        "id": "6d6d6d75",
        "outputId": "77052948-d0eb-4a2d-9faf-02d39c882b1b"
      },
      "outputs": [
        {
          "output_type": "display_data",
          "data": {
            "text/plain": [
              "<Figure size 900x300 with 1 Axes>"
            ],
            "image/png": "[encoded data removed]"
          },
          "metadata": {}
        }
      ],
      "source": [
        "# Creating a histogram of the \"Price per Area\" feature and also showing the mean and the median\n",
        "########## CODE HERE #########\n",
        "plt.figure(figsize=(9,3),dpi=100)\n",
        "sns.histplot(data=df,x='Price per Area',color='blue',edgecolor='black',alpha=0.5)\n",
        "plt.title(\"Histogram of Price per Area of Houses\")\n",
        "plt.xlabel(\"Price per Area of house in dollars per square feet\")\n",
        "plt.ylabel(\"Count\")\n",
        "plt.vlines(x=df['Price per Area'].mean(),ymin=0,ymax=575,colors='black',label='Mean')\n",
        "plt.vlines(x=df['Price per Area'].median(),ymin=0,ymax=575,colors='red',label='Median')\n",
        "plt.legend();"
      ]
    },
    {
      "cell_type": "code",
      "execution_count": 107,
      "id": "5bf2b788",
      "metadata": {
        "colab": {
          "base_uri": "https://localhost:8080/",
          "height": 337
        },
        "id": "5bf2b788",
        "outputId": "75f0766f-ae51-4c7b-f67c-10de83dea55b"
      },
      "outputs": [
        {
          "output_type": "execute_result",
          "data": {
            "text/plain": [
              "Text(0.5, 0, 'Price per Area of House in dollars per square feet')"
            ]
          },
          "metadata": {},
          "execution_count": 107
        },
        {
          "output_type": "display_data",
          "data": {
            "text/plain": [
              "<Figure size 900x300 with 1 Axes>"
            ],
            "image/png": "[encoded data removed]"
          },
          "metadata": {}
        }
      ],
      "source": [
        "# Creating a box plot of the \"Price per Area\" feature\n",
        "########## CODE HERE #########\n",
        "plt.figure(figsize=(9,3),dpi=100)\n",
        "sns.boxplot(data=df,y='Price per Area',color='linen')\n",
        "plt.title(\"Boxplot of Price per Area  of Houses\")\n",
        "plt.xlabel(\"Price per Area of House in dollars per square feet\")"
      ]
    },
    {
      "cell_type": "markdown",
      "source": [
        "Observation:\n",
        "\n",
        "We can see a lot of outliers in the variable Price Per Area."
      ],
      "metadata": {
        "id": "RCAa_BuSrwdi"
      },
      "id": "RCAa_BuSrwdi"
    },
    {
      "cell_type": "markdown",
      "source": [
        "As we know Overall Qual is a categorical feature, therefore we can use a countplot to see the count of various categories in Overall Qual.\n",
        "\n",
        "If you forgot how to make a countplot, do check the code in the start of the notebook!"
      ],
      "metadata": {
        "id": "Pp4JgpfEr6ne"
      },
      "id": "Pp4JgpfEr6ne"
    },
    {
      "cell_type": "code",
      "execution_count": 108,
      "id": "c04e02ef",
      "metadata": {
        "id": "c04e02ef",
        "outputId": "9382e132-1b4e-4c2e-c10c-40cf42c2cca7",
        "colab": {
          "base_uri": "https://localhost:8080/",
          "height": 333
        }
      },
      "outputs": [
        {
          "output_type": "display_data",
          "data": {
            "text/plain": [
              "<Figure size 900x300 with 1 Axes>"
            ],
            "image/png": "[encoded data removed]"
          },
          "metadata": {}
        }
      ],
      "source": [
        "# Creating a count plot of the \"Overall Qual\" feature\n",
        "########## CODE HERE #########\n",
        "plt.figure(figsize=(9,3),dpi=100)\n",
        "sns.countplot(data=df,x='Overall Qual')\n",
        "plt.title(\"Count Plot of Number of Houses Based on Overall Quality\")\n",
        "plt.xlabel(\"Overall Quality of the House on a Scale of 1 to 10\")\n",
        "plt.ylabel(\"Count\");\n"
      ]
    },
    {
      "cell_type": "markdown",
      "source": [
        "Observations:\n",
        "\n",
        "The count of category 5 is the highest while the count of 1 being the smallest.\n",
        "\n",
        "Therefore, this indicates that most of the houses have average Quality."
      ],
      "metadata": {
        "id": "bFtul30-saTz"
      },
      "id": "bFtul30-saTz"
    },
    {
      "cell_type": "code",
      "execution_count": 109,
      "id": "20727693",
      "metadata": {
        "colab": {
          "base_uri": "https://localhost:8080/",
          "height": 351
        },
        "id": "20727693",
        "outputId": "bc6d4cc0-ffe4-45c0-89d2-600c1af555f6"
      },
      "outputs": [
        {
          "output_type": "execute_result",
          "data": {
            "text/plain": [
              "Text(0, 0.5, 'Count')"
            ]
          },
          "metadata": {},
          "execution_count": 109
        },
        {
          "output_type": "display_data",
          "data": {
            "text/plain": [
              "<Figure size 900x300 with 1 Axes>"
            ],
            "image/png": "[encoded data removed]"
          },
          "metadata": {}
        }
      ],
      "source": [
        "# Creating a count plot of the \"Kitchen Qual\" feature\n",
        "########## CODE HERE #########\n",
        "plt.figure(figsize=(9,3),dpi=100)\n",
        "sns.countplot(data=df,x='Kitchen Qual')\n",
        "plt.title(\"Count Plot of Number of Houses Based on Kitchen Quality\")\n",
        "plt.xlabel(\"Kitchen Quality\")\n",
        "plt.ylabel(\"Count\")\n"
      ]
    },
    {
      "cell_type": "markdown",
      "source": [
        "Observation:\n",
        "\n",
        "The TA Kitchen quality is maximum in the houses while Po being the least present kitchen quality in the houses."
      ],
      "metadata": {
        "id": "m28JAtApsy4x"
      },
      "id": "m28JAtApsy4x"
    },
    {
      "cell_type": "code",
      "execution_count": 110,
      "id": "d5319169",
      "metadata": {
        "colab": {
          "base_uri": "https://localhost:8080/",
          "height": 333
        },
        "id": "d5319169",
        "outputId": "9597b394-1209-44bc-dfef-94173e3a97f7"
      },
      "outputs": [
        {
          "output_type": "display_data",
          "data": {
            "text/plain": [
              "<Figure size 900x300 with 1 Axes>"
            ],
            "image/png": "[encoded data removed]"
          },
          "metadata": {}
        }
      ],
      "source": [
        "# Creating a count plot of the \"Exter Qual\" feature\n",
        "########## CODE HERE #########\n",
        "plt.figure(figsize=(9,3),dpi=100)\n",
        "sns.countplot(data=df,x='Exter Qual')\n",
        "plt.title(\"Count Plot of Number of Houses Based on Exterior Material Quality\")\n",
        "plt.xlabel(\"Exterior Material Quality\")\n",
        "plt.ylabel(\"Count\");\n"
      ]
    },
    {
      "cell_type": "markdown",
      "source": [
        "Observation:\n",
        "\n",
        "The mostly used exterior material quality is TA."
      ],
      "metadata": {
        "id": "l82n7hKbtA7l"
      },
      "id": "l82n7hKbtA7l"
    },
    {
      "cell_type": "markdown",
      "source": [
        "Let's filter the houses which are having 'Year Built' feature values greater than the median value."
      ],
      "metadata": {
        "id": "Ftj9aKeatR8V"
      },
      "id": "Ftj9aKeatR8V"
    },
    {
      "cell_type": "code",
      "execution_count": 111,
      "id": "5f1b6b87",
      "metadata": {
        "id": "5f1b6b87"
      },
      "outputs": [],
      "source": [
        "# Subsetting the data frame to contain only the houses whose \"Year Built\" feature is greater than the median\n",
        "########## CODE HERE #########\n",
        "yr_median=df['Year Built'].median()\n",
        "df=df[df['Year Built']>yr_median]"
      ]
    },
    {
      "cell_type": "markdown",
      "source": [
        "Let's filter the houses which are having 'Price per Area' feature values less than the median value."
      ],
      "metadata": {
        "id": "YeNEfUfStg-A"
      },
      "id": "YeNEfUfStg-A"
    },
    {
      "cell_type": "code",
      "execution_count": 112,
      "id": "bb7c75ae",
      "metadata": {
        "id": "bb7c75ae"
      },
      "outputs": [],
      "source": [
        "# Subsetting the data frame to contain only the houses whose \"Price per Area\" feature is less than the median\n",
        "########## CODE HERE #########\n",
        "ppa_median=df['Price per Area'].median()\n",
        "df=df[df['Price per Area']<ppa_median]"
      ]
    },
    {
      "cell_type": "markdown",
      "source": [
        "Let's filter the houses which are having 'Overall Qual' feature values greater than the mode value."
      ],
      "metadata": {
        "id": "9w4INMP-tnyN"
      },
      "id": "9w4INMP-tnyN"
    },
    {
      "cell_type": "code",
      "execution_count": 113,
      "id": "58c64675",
      "metadata": {
        "id": "58c64675"
      },
      "outputs": [],
      "source": [
        "# Subsetting the data frame to contain only the houses whose \"Overall Qual\" feature is greater than the mode\n",
        "########## CODE HERE #########\n",
        "ovq_mode=df['Overall Qual'].value_counts().index[0]\n",
        "df=df[df['Overall Qual']>ovq_mode]"
      ]
    },
    {
      "cell_type": "markdown",
      "source": [
        "Let's filter the houses which are having 'Kitchen Qual' feature values equal to typical, good or excellent."
      ],
      "metadata": {
        "id": "aE4iF7cEttDC"
      },
      "id": "aE4iF7cEttDC"
    },
    {
      "cell_type": "code",
      "execution_count": 114,
      "id": "814a6c98",
      "metadata": {
        "id": "814a6c98"
      },
      "outputs": [],
      "source": [
        "# Subsetting the data frame to contain only the houses whose \"Kitchen Qual\" feature is typical, good or excellent\n",
        "########## CODE HERE #########\n",
        "df=df[(df['Kitchen Qual'] !=\"Po\") & (df['Kitchen Qual'] != 'Fa')]"
      ]
    },
    {
      "cell_type": "markdown",
      "source": [
        "Let's filter the houses which are having 'Exter Qual' feature values equal to typical, good or excellent."
      ],
      "metadata": {
        "id": "I_VNSloat5i4"
      },
      "id": "I_VNSloat5i4"
    },
    {
      "cell_type": "code",
      "execution_count": 115,
      "id": "f751bafc",
      "metadata": {
        "id": "f751bafc"
      },
      "outputs": [],
      "source": [
        "# Subsetting the data frame to contain only the houses whose \"Exter Qual\" feature is typical, good or excellent\n",
        "########## CODE HERE #########\n",
        "df=df[(df['Exter Qual'] !=\"Po\") & (df['Exter Qual'] != 'Fa')]"
      ]
    },
    {
      "cell_type": "markdown",
      "source": [
        "Now check the shape!"
      ],
      "metadata": {
        "id": "3KEp-fvDt96H"
      },
      "id": "3KEp-fvDt96H"
    },
    {
      "cell_type": "code",
      "execution_count": 116,
      "id": "689d121f",
      "metadata": {
        "colab": {
          "base_uri": "https://localhost:8080/"
        },
        "id": "689d121f",
        "outputId": "0eb32286-53a3-49cc-e7a4-5ffeb0bbbe83"
      },
      "outputs": [
        {
          "output_type": "execute_result",
          "data": {
            "text/plain": [
              "(112, 8)"
            ]
          },
          "metadata": {},
          "execution_count": 116
        }
      ],
      "source": [
        "# Getting the dimensions of the data frame using \".shape\"\n",
        "########## CODE HERE #########\n",
        "df.shape"
      ]
    },
    {
      "cell_type": "code",
      "execution_count": 117,
      "id": "2a176a97",
      "metadata": {
        "colab": {
          "base_uri": "https://localhost:8080/",
          "height": 237
        },
        "id": "2a176a97",
        "outputId": "37e391d7-08e5-446e-d51f-ab979b3654d0"
      },
      "outputs": [
        {
          "output_type": "execute_result",
          "data": {
            "text/plain": [
              "          Neighborhood  Year Built  Overall Qual Kitchen Qual Exter Qual  \\\n",
              "PID                                                                        \n",
              "527216070      StoneBr        2003             8           Ex         Ex   \n",
              "527225035      Gilbert        1988             8           TA         Gd   \n",
              "528138020      NridgHt        2005             8           Ex         Gd   \n",
              "528344070      NoRidge        1998             8           Gd         Gd   \n",
              "533238045      Somerst        2010             8           Gd         Gd   \n",
              "\n",
              "           Lot Area  SalePrice  Price per Area  \n",
              "PID                                             \n",
              "527216070     53504     538000       10.055323  \n",
              "527225035     12134     164000       13.515741  \n",
              "528138020     14122     259000       18.340178  \n",
              "528344070     17433     355000       20.363678  \n",
              "533238045     12853     267916       20.844628  "
            ],
            "text/html": [
              "\n",
              "  <div id=\"df-c8610bc4-c4ba-441f-93e7-a95e7bb3bdea\">\n",
              "    <div class=\"colab-df-container\">\n",
              "      <div>\n",
              "<style scoped>\n",
              "    .dataframe tbody tr th:only-of-type {\n",
              "        vertical-align: middle;\n",
              "    }\n",
              "\n",
              "    .dataframe tbody tr th {\n",
              "        vertical-align: top;\n",
              "    }\n",
              "\n",
              "    .dataframe thead th {\n",
              "        text-align: right;\n",
              "    }\n",
              "</style>\n",
              "<table border=\"1\" class=\"dataframe\">\n",
              "  <thead>\n",
              "    <tr style=\"text-align: right;\">\n",
              "      <th></th>\n",
              "      <th>Neighborhood</th>\n",
              "      <th>Year Built</th>\n",
              "      <th>Overall Qual</th>\n",
              "      <th>Kitchen Qual</th>\n",
              "      <th>Exter Qual</th>\n",
              "      <th>Lot Area</th>\n",
              "      <th>SalePrice</th>\n",
              "      <th>Price per Area</th>\n",
              "    </tr>\n",
              "    <tr>\n",
              "      <th>PID</th>\n",
              "      <th></th>\n",
              "      <th></th>\n",
              "      <th></th>\n",
              "      <th></th>\n",
              "      <th></th>\n",
              "      <th></th>\n",
              "      <th></th>\n",
              "      <th></th>\n",
              "    </tr>\n",
              "  </thead>\n",
              "  <tbody>\n",
              "    <tr>\n",
              "      <th>527216070</th>\n",
              "      <td>StoneBr</td>\n",
              "      <td>2003</td>\n",
              "      <td>8</td>\n",
              "      <td>Ex</td>\n",
              "      <td>Ex</td>\n",
              "      <td>53504</td>\n",
              "      <td>538000</td>\n",
              "      <td>10.055323</td>\n",
              "    </tr>\n",
              "    <tr>\n",
              "      <th>527225035</th>\n",
              "      <td>Gilbert</td>\n",
              "      <td>1988</td>\n",
              "      <td>8</td>\n",
              "      <td>TA</td>\n",
              "      <td>Gd</td>\n",
              "      <td>12134</td>\n",
              "      <td>164000</td>\n",
              "      <td>13.515741</td>\n",
              "    </tr>\n",
              "    <tr>\n",
              "      <th>528138020</th>\n",
              "      <td>NridgHt</td>\n",
              "      <td>2005</td>\n",
              "      <td>8</td>\n",
              "      <td>Ex</td>\n",
              "      <td>Gd</td>\n",
              "      <td>14122</td>\n",
              "      <td>259000</td>\n",
              "      <td>18.340178</td>\n",
              "    </tr>\n",
              "    <tr>\n",
              "      <th>528344070</th>\n",
              "      <td>NoRidge</td>\n",
              "      <td>1998</td>\n",
              "      <td>8</td>\n",
              "      <td>Gd</td>\n",
              "      <td>Gd</td>\n",
              "      <td>17433</td>\n",
              "      <td>355000</td>\n",
              "      <td>20.363678</td>\n",
              "    </tr>\n",
              "    <tr>\n",
              "      <th>533238045</th>\n",
              "      <td>Somerst</td>\n",
              "      <td>2010</td>\n",
              "      <td>8</td>\n",
              "      <td>Gd</td>\n",
              "      <td>Gd</td>\n",
              "      <td>12853</td>\n",
              "      <td>267916</td>\n",
              "      <td>20.844628</td>\n",
              "    </tr>\n",
              "  </tbody>\n",
              "</table>\n",
              "</div>\n",
              "      <button class=\"colab-df-convert\" onclick=\"convertToInteractive('df-c8610bc4-c4ba-441f-93e7-a95e7bb3bdea')\"\n",
              "              title=\"Convert this dataframe to an interactive table.\"\n",
              "              style=\"display:none;\">\n",
              "        \n",
              "  <svg xmlns=\"http://www.w3.org/2000/svg\" height=\"24px\"viewBox=\"0 0 24 24\"\n",
              "       width=\"24px\">\n",
              "    <path d=\"M0 0h24v24H0V0z\" fill=\"none\"/>\n",
              "    <path d=\"M18.56 5.44l.94 2.06.94-2.06 2.06-.94-2.06-.94-.94-2.06-.94 2.06-2.06.94zm-11 1L8.5 8.5l.94-2.06 2.06-.94-2.06-.94L8.5 2.5l-.94 2.06-2.06.94zm10 10l.94 2.06.94-2.06 2.06-.94-2.06-.94-.94-2.06-.94 2.06-2.06.94z\"/><path d=\"M17.41 7.96l-1.37-1.37c-.4-.4-.92-.59-1.43-.59-.52 0-1.04.2-1.43.59L10.3 9.45l-7.72 7.72c-.78.78-.78 2.05 0 2.83L4 21.41c.39.39.9.59 1.41.59.51 0 1.02-.2 1.41-.59l7.78-7.78 2.81-2.81c.8-.78.8-2.07 0-2.86zM5.41 20L4 18.59l7.72-7.72 1.47 1.35L5.41 20z\"/>\n",
              "  </svg>\n",
              "      </button>\n",
              "      \n",
              "  <style>\n",
              "    .colab-df-container {\n",
              "      display:flex;\n",
              "      flex-wrap:wrap;\n",
              "      gap: 12px;\n",
              "    }\n",
              "\n",
              "    .colab-df-convert {\n",
              "      background-color: #E8F0FE;\n",
              "      border: none;\n",
              "      border-radius: 50%;\n",
              "      cursor: pointer;\n",
              "      display: none;\n",
              "      fill: #1967D2;\n",
              "      height: 32px;\n",
              "      padding: 0 0 0 0;\n",
              "      width: 32px;\n",
              "    }\n",
              "\n",
              "    .colab-df-convert:hover {\n",
              "      background-color: #E2EBFA;\n",
              "      box-shadow: 0px 1px 2px rgba(60, 64, 67, 0.3), 0px 1px 3px 1px rgba(60, 64, 67, 0.15);\n",
              "      fill: #174EA6;\n",
              "    }\n",
              "\n",
              "    [theme=dark] .colab-df-convert {\n",
              "      background-color: #3B4455;\n",
              "      fill: #D2E3FC;\n",
              "    }\n",
              "\n",
              "    [theme=dark] .colab-df-convert:hover {\n",
              "      background-color: #434B5C;\n",
              "      box-shadow: 0px 1px 3px 1px rgba(0, 0, 0, 0.15);\n",
              "      filter: drop-shadow(0px 1px 2px rgba(0, 0, 0, 0.3));\n",
              "      fill: #FFFFFF;\n",
              "    }\n",
              "  </style>\n",
              "\n",
              "      <script>\n",
              "        const buttonEl =\n",
              "          document.querySelector('#df-c8610bc4-c4ba-441f-93e7-a95e7bb3bdea button.colab-df-convert');\n",
              "        buttonEl.style.display =\n",
              "          google.colab.kernel.accessAllowed ? 'block' : 'none';\n",
              "\n",
              "        async function convertToInteractive(key) {\n",
              "          const element = document.querySelector('#df-c8610bc4-c4ba-441f-93e7-a95e7bb3bdea');\n",
              "          const dataTable =\n",
              "            await google.colab.kernel.invokeFunction('convertToInteractive',\n",
              "                                                     [key], {});\n",
              "          if (!dataTable) return;\n",
              "\n",
              "          const docLinkHtml = 'Like what you see? Visit the ' +\n",
              "            '<a target=\"_blank\" href=https://colab.research.google.com/notebooks/data_table.ipynb>data table notebook</a>'\n",
              "            + ' to learn more about interactive tables.';\n",
              "          element.innerHTML = '';\n",
              "          dataTable['output_type'] = 'display_data';\n",
              "          await google.colab.output.renderOutput(dataTable, element);\n",
              "          const docLink = document.createElement('div');\n",
              "          docLink.innerHTML = docLinkHtml;\n",
              "          element.appendChild(docLink);\n",
              "        }\n",
              "      </script>\n",
              "    </div>\n",
              "  </div>\n",
              "  "
            ]
          },
          "metadata": {},
          "execution_count": 117
        }
      ],
      "source": [
        "# Taking a brief look at the data using \".head()\"\n",
        "########## CODE HERE #########\n",
        "df.head()"
      ]
    },
    {
      "cell_type": "code",
      "execution_count": 118,
      "id": "21b6d769",
      "metadata": {
        "colab": {
          "base_uri": "https://localhost:8080/",
          "height": 384
        },
        "id": "21b6d769",
        "outputId": "e438f42d-fe80-463a-8f62-5f0b5a027088"
      },
      "outputs": [
        {
          "output_type": "display_data",
          "data": {
            "text/plain": [
              "<Figure size 900x300 with 1 Axes>"
            ],
            "image/png": "[encoded data removed]"
          },
          "metadata": {}
        }
      ],
      "source": [
        "# Creating a count plot of the \"Neighborhood\" feature\n",
        "########## CODE HERE #########\n",
        "plt.figure(figsize=(9,3),dpi=100)\n",
        "sns.countplot(data=df,x='Neighborhood')\n",
        "plt.title(\"Count Plot of Number of Houses Based on Neighnorhood\")\n",
        "plt.xlabel(\"Neighborhood\")\n",
        "plt.ylabel(\"Count\")\n",
        "plt.xticks(rotation=90);"
      ]
    },
    {
      "cell_type": "markdown",
      "source": [
        "We can clearly see the changes in the Neighborhood column as previously the maximum number of houses were present in NAmes but now the maximum number of houses are present in CollgCr."
      ],
      "metadata": {
        "id": "OE5DELTcuJ2L"
      },
      "id": "OE5DELTcuJ2L"
    },
    {
      "cell_type": "code",
      "execution_count": 119,
      "id": "cda96923",
      "metadata": {
        "id": "cda96923"
      },
      "outputs": [],
      "source": [
        "# Storing the unique neighbourhood names in the data frame as a list\n",
        "########## CODE HERE #########\n",
        "nbd_names=df['Neighborhood'].unique()"
      ]
    },
    {
      "cell_type": "markdown",
      "source": [
        "Reference:-https://www.w3schools.com/python/python_lambda.asp"
      ],
      "metadata": {
        "id": "I_QjDpDMul18"
      },
      "id": "I_QjDpDMul18"
    },
    {
      "cell_type": "code",
      "execution_count": 120,
      "id": "949e7384",
      "metadata": {
        "id": "949e7384"
      },
      "outputs": [],
      "source": [
        "# Storing the number of houses for each neighbourhood\n",
        "########## CODE HERE #########\n",
        "nbd_houses=df.groupby('Neighborhood').apply(lambda x: x.shape[0])\n",
        "nbd_houses=nbd_houses.reindex(index=nbd_names)"
      ]
    },
    {
      "cell_type": "code",
      "execution_count": 121,
      "id": "a0111450",
      "metadata": {
        "id": "a0111450"
      },
      "outputs": [],
      "source": [
        "# Storing the median \"Year Built\" feature for each neighbourhood\n",
        "########## CODE HERE #########\n",
        "nbd_year=df.groupby('Neighborhood')['Year Built'].median()\n",
        "nbd_year=nbd_year.reindex(index=nbd_names)"
      ]
    },
    {
      "cell_type": "code",
      "execution_count": 122,
      "id": "51d4c97f",
      "metadata": {
        "id": "51d4c97f"
      },
      "outputs": [],
      "source": [
        "# Storing the mean \"Overall Qual\" feature for each neighbourhood\n",
        "########## CODE HERE #########\n",
        "nbd_ovq=df.groupby('Neighborhood')[\"Overall Qual\"].mean()\n",
        "nbd_ovq=nbd_ovq.reindex(index=nbd_names)"
      ]
    },
    {
      "cell_type": "code",
      "execution_count": 123,
      "id": "a93dca57",
      "metadata": {
        "id": "a93dca57"
      },
      "outputs": [],
      "source": [
        "# Storing the modal \"Kitchen Qual\" feature for each neighbourhood\n",
        "########## CODE HERE #########\n",
        "nbd_kcq=df.groupby('Neighborhood')[\"Kitchen Qual\"].apply(lambda x: x.value_counts().index[0])\n",
        "nbd_kcq=nbd_kcq.reindex(index=nbd_names)"
      ]
    },
    {
      "cell_type": "code",
      "execution_count": 124,
      "id": "8ed078bc",
      "metadata": {
        "id": "8ed078bc"
      },
      "outputs": [],
      "source": [
        "# Storing the modal \"Exter Qual\" feature for each neighbourhood\n",
        "########## CODE HERE #########\n",
        "nbd_exq=df.groupby('Neighborhood')[\"Exter Qual\"].apply(lambda x: x.value_counts().index[0])\n",
        "nbd_exq=nbd_exq.reindex(index=nbd_names)"
      ]
    },
    {
      "cell_type": "code",
      "execution_count": 125,
      "id": "9c904d79",
      "metadata": {
        "id": "9c904d79"
      },
      "outputs": [],
      "source": [
        "# Storing the mean \"Lot Area\" feature for each neighbourhood\n",
        "########## CODE HERE #########\n",
        "nbd_lot=df.groupby('Neighborhood')[\"Lot Area\"].mean()\n",
        "nbd_lot=nbd_lot.reindex(index=nbd_names)"
      ]
    },
    {
      "cell_type": "code",
      "execution_count": 126,
      "id": "0fc7c9c1",
      "metadata": {
        "id": "0fc7c9c1"
      },
      "outputs": [],
      "source": [
        "# Storing the mean \"SalePrice\" feature for each neighbourhood\n",
        "########## CODE HERE #########\n",
        "nbd_sp=df.groupby('Neighborhood')[\"SalePrice\"].mean()\n",
        "nbd_sp=nbd_sp.reindex(index=nbd_names)"
      ]
    },
    {
      "cell_type": "code",
      "execution_count": 127,
      "id": "f79b7215",
      "metadata": {
        "id": "f79b7215"
      },
      "outputs": [],
      "source": [
        "# Storing the mean \"Price per Area\" feature for each neighbourhood\n",
        "########## CODE HERE #########\n",
        "nbd_ppa=df.groupby('Neighborhood')[\"Price per Area\"].mean()\n",
        "nbd_ppa=nbd_ppa.reindex(index=nbd_names)"
      ]
    },
    {
      "cell_type": "code",
      "execution_count": 128,
      "id": "0bf25b25",
      "metadata": {
        "id": "0bf25b25",
        "colab": {
          "base_uri": "https://localhost:8080/"
        },
        "outputId": "37a2a122-be12-45bb-8479-387045ea7741"
      },
      "outputs": [
        {
          "output_type": "stream",
          "name": "stderr",
          "text": [
            "<ipython-input-128-ab44e0b4d4e5>:3: FutureWarning: The 'mad' method is deprecated and will be removed in a future version. To compute the same result, you may do `(df - df.mean()).abs().mean()`.\n",
            "  nbd_ppa_mad=df.groupby('Neighborhood')[\"Price per Area\"].mad()\n",
            "<ipython-input-128-ab44e0b4d4e5>:3: FutureWarning: The 'mad' method is deprecated and will be removed in a future version. To compute the same result, you may do `(df - df.mean()).abs().mean()`.\n",
            "  nbd_ppa_mad=df.groupby('Neighborhood')[\"Price per Area\"].mad()\n",
            "<ipython-input-128-ab44e0b4d4e5>:3: FutureWarning: The 'mad' method is deprecated and will be removed in a future version. To compute the same result, you may do `(df - df.mean()).abs().mean()`.\n",
            "  nbd_ppa_mad=df.groupby('Neighborhood')[\"Price per Area\"].mad()\n",
            "<ipython-input-128-ab44e0b4d4e5>:3: FutureWarning: The 'mad' method is deprecated and will be removed in a future version. To compute the same result, you may do `(df - df.mean()).abs().mean()`.\n",
            "  nbd_ppa_mad=df.groupby('Neighborhood')[\"Price per Area\"].mad()\n",
            "<ipython-input-128-ab44e0b4d4e5>:3: FutureWarning: The 'mad' method is deprecated and will be removed in a future version. To compute the same result, you may do `(df - df.mean()).abs().mean()`.\n",
            "  nbd_ppa_mad=df.groupby('Neighborhood')[\"Price per Area\"].mad()\n",
            "<ipython-input-128-ab44e0b4d4e5>:3: FutureWarning: The 'mad' method is deprecated and will be removed in a future version. To compute the same result, you may do `(df - df.mean()).abs().mean()`.\n",
            "  nbd_ppa_mad=df.groupby('Neighborhood')[\"Price per Area\"].mad()\n",
            "<ipython-input-128-ab44e0b4d4e5>:3: FutureWarning: The 'mad' method is deprecated and will be removed in a future version. To compute the same result, you may do `(df - df.mean()).abs().mean()`.\n",
            "  nbd_ppa_mad=df.groupby('Neighborhood')[\"Price per Area\"].mad()\n",
            "<ipython-input-128-ab44e0b4d4e5>:3: FutureWarning: The 'mad' method is deprecated and will be removed in a future version. To compute the same result, you may do `(df - df.mean()).abs().mean()`.\n",
            "  nbd_ppa_mad=df.groupby('Neighborhood')[\"Price per Area\"].mad()\n",
            "<ipython-input-128-ab44e0b4d4e5>:3: FutureWarning: The 'mad' method is deprecated and will be removed in a future version. To compute the same result, you may do `(df - df.mean()).abs().mean()`.\n",
            "  nbd_ppa_mad=df.groupby('Neighborhood')[\"Price per Area\"].mad()\n",
            "<ipython-input-128-ab44e0b4d4e5>:3: FutureWarning: The 'mad' method is deprecated and will be removed in a future version. To compute the same result, you may do `(df - df.mean()).abs().mean()`.\n",
            "  nbd_ppa_mad=df.groupby('Neighborhood')[\"Price per Area\"].mad()\n",
            "<ipython-input-128-ab44e0b4d4e5>:3: FutureWarning: The 'mad' method is deprecated and will be removed in a future version. To compute the same result, you may do `(df - df.mean()).abs().mean()`.\n",
            "  nbd_ppa_mad=df.groupby('Neighborhood')[\"Price per Area\"].mad()\n",
            "<ipython-input-128-ab44e0b4d4e5>:3: FutureWarning: The 'mad' method is deprecated and will be removed in a future version. To compute the same result, you may do `(df - df.mean()).abs().mean()`.\n",
            "  nbd_ppa_mad=df.groupby('Neighborhood')[\"Price per Area\"].mad()\n",
            "<ipython-input-128-ab44e0b4d4e5>:3: FutureWarning: The 'mad' method is deprecated and will be removed in a future version. To compute the same result, you may do `(df - df.mean()).abs().mean()`.\n",
            "  nbd_ppa_mad=df.groupby('Neighborhood')[\"Price per Area\"].mad()\n",
            "<ipython-input-128-ab44e0b4d4e5>:3: FutureWarning: The 'mad' method is deprecated and will be removed in a future version. To compute the same result, you may do `(df - df.mean()).abs().mean()`.\n",
            "  nbd_ppa_mad=df.groupby('Neighborhood')[\"Price per Area\"].mad()\n"
          ]
        }
      ],
      "source": [
        "# Calculating and storing the mean absolute deviation values for the \"Price per Area\" feature about its mean for each neighbourhood\n",
        "########## CODE HERE #########\n",
        "nbd_ppa_mad=df.groupby('Neighborhood')[\"Price per Area\"].mad()\n",
        "nbd_ppa_mad=nbd_ppa_mad.reindex(index=nbd_names)"
      ]
    },
    {
      "cell_type": "code",
      "execution_count": 129,
      "id": "68c714ae",
      "metadata": {
        "id": "68c714ae"
      },
      "outputs": [],
      "source": [
        "# Creating a data frame to store the representative values for each neighbourhood\n",
        "########## CODE HERE #########\n",
        "nbd=pd.DataFrame(data={\"Number of Houses\":nbd_houses,\n",
        "                       \"Median Year Built\":nbd_year,\n",
        "                       \"Mean overall Quality\":nbd_ovq,\n",
        "                       \"Modal Kitchen Quality\":nbd_kcq,\n",
        "                       \"Modal Exter Quality\":nbd_exq,\n",
        "                       \"Mean Lot Area\":nbd_lot,\n",
        "                       \"Mean Sale Price\":nbd_sp,\n",
        "                       \"Mean Price Per Area\":nbd_ppa,\n",
        "                       \"Deviation in Price Per Area\":nbd_ppa_mad},\n",
        "                 index=nbd_names)"
      ]
    },
    {
      "cell_type": "code",
      "execution_count": 130,
      "id": "247baaa6",
      "metadata": {
        "colab": {
          "base_uri": "https://localhost:8080/",
          "height": 549
        },
        "id": "247baaa6",
        "outputId": "88b46626-a36b-4b78-d4d7-4ab690f6e16e"
      },
      "outputs": [
        {
          "output_type": "execute_result",
          "data": {
            "text/plain": [
              "         Number of Houses  Median Year Built  Mean overall Quality  \\\n",
              "StoneBr                 3             2003.0              8.333333   \n",
              "Gilbert                 6             2003.0              8.000000   \n",
              "NridgHt                19             2005.0              8.263158   \n",
              "NoRidge                12             1994.0              8.166667   \n",
              "Somerst                17             2006.0              8.117647   \n",
              "CollgCr                21             2002.0              8.047619   \n",
              "Timber                 14             2005.5              8.142857   \n",
              "SawyerW                 4             1994.0              8.000000   \n",
              "Veenker                 9             1980.0              8.222222   \n",
              "NWAmes                  1             1996.0              8.000000   \n",
              "Edwards                 3             2008.0             10.000000   \n",
              "Mitchel                 1             2002.0              8.000000   \n",
              "ClearCr                 1             1976.0              8.000000   \n",
              "Crawfor                 1             1986.0              8.000000   \n",
              "\n",
              "        Modal Kitchen Quality Modal Exter Quality  Mean Lot Area  \\\n",
              "StoneBr                    Gd                  Ex   39528.666667   \n",
              "Gilbert                    Gd                  Gd   11672.333333   \n",
              "NridgHt                    Gd                  Gd   15466.157895   \n",
              "NoRidge                    Gd                  Gd   18624.583333   \n",
              "Somerst                    Gd                  Gd   12867.823529   \n",
              "CollgCr                    Gd                  Gd   12782.809524   \n",
              "Timber                     Gd                  Gd   13445.214286   \n",
              "SawyerW                    Gd                  Gd   10297.500000   \n",
              "Veenker                    Gd                  Gd   19433.111111   \n",
              "NWAmes                     Gd                  Gd   14311.000000   \n",
              "Edwards                    Ex                  Ex   47757.000000   \n",
              "Mitchel                    Gd                  Gd   13265.000000   \n",
              "ClearCr                    Gd                  Gd   20064.000000   \n",
              "Crawfor                    Gd                  Gd   18044.000000   \n",
              "\n",
              "         Mean Sale Price  Mean Price Per Area  Deviation in Price Per Area  \n",
              "StoneBr    466529.000000            14.011932                     4.390784  \n",
              "Gilbert    223000.000000            19.160525                     1.920681  \n",
              "NridgHt    302021.368421            19.692874                     1.994279  \n",
              "NoRidge    324170.833333            19.200591                     2.829039  \n",
              "Somerst    256204.647059            19.868429                     1.358809  \n",
              "CollgCr    241956.190476            19.207571                     2.119454  \n",
              "Timber     264538.714286            19.939039                     2.300928  \n",
              "SawyerW    215750.000000            21.018843                     1.188072  \n",
              "Veenker    270583.333333            16.295566                     4.184029  \n",
              "NWAmes     306000.000000            21.382154                     0.000000  \n",
              "Edwards    176200.000000             3.930550                     0.950752  \n",
              "Mitchel    271000.000000            20.429702                     0.000000  \n",
              "ClearCr    279000.000000            13.905502                     0.000000  \n",
              "Crawfor    315000.000000            17.457327                     0.000000  "
            ],
            "text/html": [
              "\n",
              "  <div id=\"df-6d926af8-69c8-444a-ac02-96e6553c9f43\">\n",
              "    <div class=\"colab-df-container\">\n",
              "      <div>\n",
              "<style scoped>\n",
              "    .dataframe tbody tr th:only-of-type {\n",
              "        vertical-align: middle;\n",
              "    }\n",
              "\n",
              "    .dataframe tbody tr th {\n",
              "        vertical-align: top;\n",
              "    }\n",
              "\n",
              "    .dataframe thead th {\n",
              "        text-align: right;\n",
              "    }\n",
              "</style>\n",
              "<table border=\"1\" class=\"dataframe\">\n",
              "  <thead>\n",
              "    <tr style=\"text-align: right;\">\n",
              "      <th></th>\n",
              "      <th>Number of Houses</th>\n",
              "      <th>Median Year Built</th>\n",
              "      <th>Mean overall Quality</th>\n",
              "      <th>Modal Kitchen Quality</th>\n",
              "      <th>Modal Exter Quality</th>\n",
              "      <th>Mean Lot Area</th>\n",
              "      <th>Mean Sale Price</th>\n",
              "      <th>Mean Price Per Area</th>\n",
              "      <th>Deviation in Price Per Area</th>\n",
              "    </tr>\n",
              "  </thead>\n",
              "  <tbody>\n",
              "    <tr>\n",
              "      <th>StoneBr</th>\n",
              "      <td>3</td>\n",
              "      <td>2003.0</td>\n",
              "      <td>8.333333</td>\n",
              "      <td>Gd</td>\n",
              "      <td>Ex</td>\n",
              "      <td>39528.666667</td>\n",
              "      <td>466529.000000</td>\n",
              "      <td>14.011932</td>\n",
              "      <td>4.390784</td>\n",
              "    </tr>\n",
              "    <tr>\n",
              "      <th>Gilbert</th>\n",
              "      <td>6</td>\n",
              "      <td>2003.0</td>\n",
              "      <td>8.000000</td>\n",
              "      <td>Gd</td>\n",
              "      <td>Gd</td>\n",
              "      <td>11672.333333</td>\n",
              "      <td>223000.000000</td>\n",
              "      <td>19.160525</td>\n",
              "      <td>1.920681</td>\n",
              "    </tr>\n",
              "    <tr>\n",
              "      <th>NridgHt</th>\n",
              "      <td>19</td>\n",
              "      <td>2005.0</td>\n",
              "      <td>8.263158</td>\n",
              "      <td>Gd</td>\n",
              "      <td>Gd</td>\n",
              "      <td>15466.157895</td>\n",
              "      <td>302021.368421</td>\n",
              "      <td>19.692874</td>\n",
              "      <td>1.994279</td>\n",
              "    </tr>\n",
              "    <tr>\n",
              "      <th>NoRidge</th>\n",
              "      <td>12</td>\n",
              "      <td>1994.0</td>\n",
              "      <td>8.166667</td>\n",
              "      <td>Gd</td>\n",
              "      <td>Gd</td>\n",
              "      <td>18624.583333</td>\n",
              "      <td>324170.833333</td>\n",
              "      <td>19.200591</td>\n",
              "      <td>2.829039</td>\n",
              "    </tr>\n",
              "    <tr>\n",
              "      <th>Somerst</th>\n",
              "      <td>17</td>\n",
              "      <td>2006.0</td>\n",
              "      <td>8.117647</td>\n",
              "      <td>Gd</td>\n",
              "      <td>Gd</td>\n",
              "      <td>12867.823529</td>\n",
              "      <td>256204.647059</td>\n",
              "      <td>19.868429</td>\n",
              "      <td>1.358809</td>\n",
              "    </tr>\n",
              "    <tr>\n",
              "      <th>CollgCr</th>\n",
              "      <td>21</td>\n",
              "      <td>2002.0</td>\n",
              "      <td>8.047619</td>\n",
              "      <td>Gd</td>\n",
              "      <td>Gd</td>\n",
              "      <td>12782.809524</td>\n",
              "      <td>241956.190476</td>\n",
              "      <td>19.207571</td>\n",
              "      <td>2.119454</td>\n",
              "    </tr>\n",
              "    <tr>\n",
              "      <th>Timber</th>\n",
              "      <td>14</td>\n",
              "      <td>2005.5</td>\n",
              "      <td>8.142857</td>\n",
              "      <td>Gd</td>\n",
              "      <td>Gd</td>\n",
              "      <td>13445.214286</td>\n",
              "      <td>264538.714286</td>\n",
              "      <td>19.939039</td>\n",
              "      <td>2.300928</td>\n",
              "    </tr>\n",
              "    <tr>\n",
              "      <th>SawyerW</th>\n",
              "      <td>4</td>\n",
              "      <td>1994.0</td>\n",
              "      <td>8.000000</td>\n",
              "      <td>Gd</td>\n",
              "      <td>Gd</td>\n",
              "      <td>10297.500000</td>\n",
              "      <td>215750.000000</td>\n",
              "      <td>21.018843</td>\n",
              "      <td>1.188072</td>\n",
              "    </tr>\n",
              "    <tr>\n",
              "      <th>Veenker</th>\n",
              "      <td>9</td>\n",
              "      <td>1980.0</td>\n",
              "      <td>8.222222</td>\n",
              "      <td>Gd</td>\n",
              "      <td>Gd</td>\n",
              "      <td>19433.111111</td>\n",
              "      <td>270583.333333</td>\n",
              "      <td>16.295566</td>\n",
              "      <td>4.184029</td>\n",
              "    </tr>\n",
              "    <tr>\n",
              "      <th>NWAmes</th>\n",
              "      <td>1</td>\n",
              "      <td>1996.0</td>\n",
              "      <td>8.000000</td>\n",
              "      <td>Gd</td>\n",
              "      <td>Gd</td>\n",
              "      <td>14311.000000</td>\n",
              "      <td>306000.000000</td>\n",
              "      <td>21.382154</td>\n",
              "      <td>0.000000</td>\n",
              "    </tr>\n",
              "    <tr>\n",
              "      <th>Edwards</th>\n",
              "      <td>3</td>\n",
              "      <td>2008.0</td>\n",
              "      <td>10.000000</td>\n",
              "      <td>Ex</td>\n",
              "      <td>Ex</td>\n",
              "      <td>47757.000000</td>\n",
              "      <td>176200.000000</td>\n",
              "      <td>3.930550</td>\n",
              "      <td>0.950752</td>\n",
              "    </tr>\n",
              "    <tr>\n",
              "      <th>Mitchel</th>\n",
              "      <td>1</td>\n",
              "      <td>2002.0</td>\n",
              "      <td>8.000000</td>\n",
              "      <td>Gd</td>\n",
              "      <td>Gd</td>\n",
              "      <td>13265.000000</td>\n",
              "      <td>271000.000000</td>\n",
              "      <td>20.429702</td>\n",
              "      <td>0.000000</td>\n",
              "    </tr>\n",
              "    <tr>\n",
              "      <th>ClearCr</th>\n",
              "      <td>1</td>\n",
              "      <td>1976.0</td>\n",
              "      <td>8.000000</td>\n",
              "      <td>Gd</td>\n",
              "      <td>Gd</td>\n",
              "      <td>20064.000000</td>\n",
              "      <td>279000.000000</td>\n",
              "      <td>13.905502</td>\n",
              "      <td>0.000000</td>\n",
              "    </tr>\n",
              "    <tr>\n",
              "      <th>Crawfor</th>\n",
              "      <td>1</td>\n",
              "      <td>1986.0</td>\n",
              "      <td>8.000000</td>\n",
              "      <td>Gd</td>\n",
              "      <td>Gd</td>\n",
              "      <td>18044.000000</td>\n",
              "      <td>315000.000000</td>\n",
              "      <td>17.457327</td>\n",
              "      <td>0.000000</td>\n",
              "    </tr>\n",
              "  </tbody>\n",
              "</table>\n",
              "</div>\n",
              "      <button class=\"colab-df-convert\" onclick=\"convertToInteractive('df-6d926af8-69c8-444a-ac02-96e6553c9f43')\"\n",
              "              title=\"Convert this dataframe to an interactive table.\"\n",
              "              style=\"display:none;\">\n",
              "        \n",
              "  <svg xmlns=\"http://www.w3.org/2000/svg\" height=\"24px\"viewBox=\"0 0 24 24\"\n",
              "       width=\"24px\">\n",
              "    <path d=\"M0 0h24v24H0V0z\" fill=\"none\"/>\n",
              "    <path d=\"M18.56 5.44l.94 2.06.94-2.06 2.06-.94-2.06-.94-.94-2.06-.94 2.06-2.06.94zm-11 1L8.5 8.5l.94-2.06 2.06-.94-2.06-.94L8.5 2.5l-.94 2.06-2.06.94zm10 10l.94 2.06.94-2.06 2.06-.94-2.06-.94-.94-2.06-.94 2.06-2.06.94z\"/><path d=\"M17.41 7.96l-1.37-1.37c-.4-.4-.92-.59-1.43-.59-.52 0-1.04.2-1.43.59L10.3 9.45l-7.72 7.72c-.78.78-.78 2.05 0 2.83L4 21.41c.39.39.9.59 1.41.59.51 0 1.02-.2 1.41-.59l7.78-7.78 2.81-2.81c.8-.78.8-2.07 0-2.86zM5.41 20L4 18.59l7.72-7.72 1.47 1.35L5.41 20z\"/>\n",
              "  </svg>\n",
              "      </button>\n",
              "      \n",
              "  <style>\n",
              "    .colab-df-container {\n",
              "      display:flex;\n",
              "      flex-wrap:wrap;\n",
              "      gap: 12px;\n",
              "    }\n",
              "\n",
              "    .colab-df-convert {\n",
              "      background-color: #E8F0FE;\n",
              "      border: none;\n",
              "      border-radius: 50%;\n",
              "      cursor: pointer;\n",
              "      display: none;\n",
              "      fill: #1967D2;\n",
              "      height: 32px;\n",
              "      padding: 0 0 0 0;\n",
              "      width: 32px;\n",
              "    }\n",
              "\n",
              "    .colab-df-convert:hover {\n",
              "      background-color: #E2EBFA;\n",
              "      box-shadow: 0px 1px 2px rgba(60, 64, 67, 0.3), 0px 1px 3px 1px rgba(60, 64, 67, 0.15);\n",
              "      fill: #174EA6;\n",
              "    }\n",
              "\n",
              "    [theme=dark] .colab-df-convert {\n",
              "      background-color: #3B4455;\n",
              "      fill: #D2E3FC;\n",
              "    }\n",
              "\n",
              "    [theme=dark] .colab-df-convert:hover {\n",
              "      background-color: #434B5C;\n",
              "      box-shadow: 0px 1px 3px 1px rgba(0, 0, 0, 0.15);\n",
              "      filter: drop-shadow(0px 1px 2px rgba(0, 0, 0, 0.3));\n",
              "      fill: #FFFFFF;\n",
              "    }\n",
              "  </style>\n",
              "\n",
              "      <script>\n",
              "        const buttonEl =\n",
              "          document.querySelector('#df-6d926af8-69c8-444a-ac02-96e6553c9f43 button.colab-df-convert');\n",
              "        buttonEl.style.display =\n",
              "          google.colab.kernel.accessAllowed ? 'block' : 'none';\n",
              "\n",
              "        async function convertToInteractive(key) {\n",
              "          const element = document.querySelector('#df-6d926af8-69c8-444a-ac02-96e6553c9f43');\n",
              "          const dataTable =\n",
              "            await google.colab.kernel.invokeFunction('convertToInteractive',\n",
              "                                                     [key], {});\n",
              "          if (!dataTable) return;\n",
              "\n",
              "          const docLinkHtml = 'Like what you see? Visit the ' +\n",
              "            '<a target=\"_blank\" href=https://colab.research.google.com/notebooks/data_table.ipynb>data table notebook</a>'\n",
              "            + ' to learn more about interactive tables.';\n",
              "          element.innerHTML = '';\n",
              "          dataTable['output_type'] = 'display_data';\n",
              "          await google.colab.output.renderOutput(dataTable, element);\n",
              "          const docLink = document.createElement('div');\n",
              "          docLink.innerHTML = docLinkHtml;\n",
              "          element.appendChild(docLink);\n",
              "        }\n",
              "      </script>\n",
              "    </div>\n",
              "  </div>\n",
              "  "
            ]
          },
          "metadata": {},
          "execution_count": 130
        }
      ],
      "source": [
        "# Viewing a summary of the relevant values for each neighbourhood using the data frame \"nbd\"\n",
        "########## CODE HERE #########\n",
        "nbd"
      ]
    },
    {
      "cell_type": "code",
      "execution_count": 131,
      "id": "663e5117",
      "metadata": {
        "id": "663e5117"
      },
      "outputs": [],
      "source": [
        "# Retaining only those neighbourhoods that have more than one house\n",
        "########## CODE HERE #########\n",
        "nbd=nbd[nbd['Number of Houses']>1]"
      ]
    },
    {
      "cell_type": "markdown",
      "source": [
        "Reference:-https://pandas.pydata.org/pandas-docs/stable/reference/api/pandas.DataFrame.sort_values.html"
      ],
      "metadata": {
        "id": "R3KqYwTWu6Pp"
      },
      "id": "R3KqYwTWu6Pp"
    },
    {
      "cell_type": "code",
      "execution_count": 132,
      "id": "2959ab10",
      "metadata": {
        "colab": {
          "base_uri": "https://localhost:8080/",
          "height": 424
        },
        "id": "2959ab10",
        "outputId": "9ca38b56-4793-43c2-88b5-940502212a86"
      },
      "outputs": [
        {
          "output_type": "execute_result",
          "data": {
            "text/plain": [
              "         Number of Houses  Median Year Built  Mean overall Quality  \\\n",
              "Edwards                 3             2008.0             10.000000   \n",
              "StoneBr                 3             2003.0              8.333333   \n",
              "Veenker                 9             1980.0              8.222222   \n",
              "Gilbert                 6             2003.0              8.000000   \n",
              "NoRidge                12             1994.0              8.166667   \n",
              "CollgCr                21             2002.0              8.047619   \n",
              "NridgHt                19             2005.0              8.263158   \n",
              "Somerst                17             2006.0              8.117647   \n",
              "Timber                 14             2005.5              8.142857   \n",
              "SawyerW                 4             1994.0              8.000000   \n",
              "\n",
              "        Modal Kitchen Quality Modal Exter Quality  Mean Lot Area  \\\n",
              "Edwards                    Ex                  Ex   47757.000000   \n",
              "StoneBr                    Gd                  Ex   39528.666667   \n",
              "Veenker                    Gd                  Gd   19433.111111   \n",
              "Gilbert                    Gd                  Gd   11672.333333   \n",
              "NoRidge                    Gd                  Gd   18624.583333   \n",
              "CollgCr                    Gd                  Gd   12782.809524   \n",
              "NridgHt                    Gd                  Gd   15466.157895   \n",
              "Somerst                    Gd                  Gd   12867.823529   \n",
              "Timber                     Gd                  Gd   13445.214286   \n",
              "SawyerW                    Gd                  Gd   10297.500000   \n",
              "\n",
              "         Mean Sale Price  Mean Price Per Area  Deviation in Price Per Area  \n",
              "Edwards    176200.000000             3.930550                     0.950752  \n",
              "StoneBr    466529.000000            14.011932                     4.390784  \n",
              "Veenker    270583.333333            16.295566                     4.184029  \n",
              "Gilbert    223000.000000            19.160525                     1.920681  \n",
              "NoRidge    324170.833333            19.200591                     2.829039  \n",
              "CollgCr    241956.190476            19.207571                     2.119454  \n",
              "NridgHt    302021.368421            19.692874                     1.994279  \n",
              "Somerst    256204.647059            19.868429                     1.358809  \n",
              "Timber     264538.714286            19.939039                     2.300928  \n",
              "SawyerW    215750.000000            21.018843                     1.188072  "
            ],
            "text/html": [
              "\n",
              "  <div id=\"df-4624c367-7471-4e01-ae01-af02b204de24\">\n",
              "    <div class=\"colab-df-container\">\n",
              "      <div>\n",
              "<style scoped>\n",
              "    .dataframe tbody tr th:only-of-type {\n",
              "        vertical-align: middle;\n",
              "    }\n",
              "\n",
              "    .dataframe tbody tr th {\n",
              "        vertical-align: top;\n",
              "    }\n",
              "\n",
              "    .dataframe thead th {\n",
              "        text-align: right;\n",
              "    }\n",
              "</style>\n",
              "<table border=\"1\" class=\"dataframe\">\n",
              "  <thead>\n",
              "    <tr style=\"text-align: right;\">\n",
              "      <th></th>\n",
              "      <th>Number of Houses</th>\n",
              "      <th>Median Year Built</th>\n",
              "      <th>Mean overall Quality</th>\n",
              "      <th>Modal Kitchen Quality</th>\n",
              "      <th>Modal Exter Quality</th>\n",
              "      <th>Mean Lot Area</th>\n",
              "      <th>Mean Sale Price</th>\n",
              "      <th>Mean Price Per Area</th>\n",
              "      <th>Deviation in Price Per Area</th>\n",
              "    </tr>\n",
              "  </thead>\n",
              "  <tbody>\n",
              "    <tr>\n",
              "      <th>Edwards</th>\n",
              "      <td>3</td>\n",
              "      <td>2008.0</td>\n",
              "      <td>10.000000</td>\n",
              "      <td>Ex</td>\n",
              "      <td>Ex</td>\n",
              "      <td>47757.000000</td>\n",
              "      <td>176200.000000</td>\n",
              "      <td>3.930550</td>\n",
              "      <td>0.950752</td>\n",
              "    </tr>\n",
              "    <tr>\n",
              "      <th>StoneBr</th>\n",
              "      <td>3</td>\n",
              "      <td>2003.0</td>\n",
              "      <td>8.333333</td>\n",
              "      <td>Gd</td>\n",
              "      <td>Ex</td>\n",
              "      <td>39528.666667</td>\n",
              "      <td>466529.000000</td>\n",
              "      <td>14.011932</td>\n",
              "      <td>4.390784</td>\n",
              "    </tr>\n",
              "    <tr>\n",
              "      <th>Veenker</th>\n",
              "      <td>9</td>\n",
              "      <td>1980.0</td>\n",
              "      <td>8.222222</td>\n",
              "      <td>Gd</td>\n",
              "      <td>Gd</td>\n",
              "      <td>19433.111111</td>\n",
              "      <td>270583.333333</td>\n",
              "      <td>16.295566</td>\n",
              "      <td>4.184029</td>\n",
              "    </tr>\n",
              "    <tr>\n",
              "      <th>Gilbert</th>\n",
              "      <td>6</td>\n",
              "      <td>2003.0</td>\n",
              "      <td>8.000000</td>\n",
              "      <td>Gd</td>\n",
              "      <td>Gd</td>\n",
              "      <td>11672.333333</td>\n",
              "      <td>223000.000000</td>\n",
              "      <td>19.160525</td>\n",
              "      <td>1.920681</td>\n",
              "    </tr>\n",
              "    <tr>\n",
              "      <th>NoRidge</th>\n",
              "      <td>12</td>\n",
              "      <td>1994.0</td>\n",
              "      <td>8.166667</td>\n",
              "      <td>Gd</td>\n",
              "      <td>Gd</td>\n",
              "      <td>18624.583333</td>\n",
              "      <td>324170.833333</td>\n",
              "      <td>19.200591</td>\n",
              "      <td>2.829039</td>\n",
              "    </tr>\n",
              "    <tr>\n",
              "      <th>CollgCr</th>\n",
              "      <td>21</td>\n",
              "      <td>2002.0</td>\n",
              "      <td>8.047619</td>\n",
              "      <td>Gd</td>\n",
              "      <td>Gd</td>\n",
              "      <td>12782.809524</td>\n",
              "      <td>241956.190476</td>\n",
              "      <td>19.207571</td>\n",
              "      <td>2.119454</td>\n",
              "    </tr>\n",
              "    <tr>\n",
              "      <th>NridgHt</th>\n",
              "      <td>19</td>\n",
              "      <td>2005.0</td>\n",
              "      <td>8.263158</td>\n",
              "      <td>Gd</td>\n",
              "      <td>Gd</td>\n",
              "      <td>15466.157895</td>\n",
              "      <td>302021.368421</td>\n",
              "      <td>19.692874</td>\n",
              "      <td>1.994279</td>\n",
              "    </tr>\n",
              "    <tr>\n",
              "      <th>Somerst</th>\n",
              "      <td>17</td>\n",
              "      <td>2006.0</td>\n",
              "      <td>8.117647</td>\n",
              "      <td>Gd</td>\n",
              "      <td>Gd</td>\n",
              "      <td>12867.823529</td>\n",
              "      <td>256204.647059</td>\n",
              "      <td>19.868429</td>\n",
              "      <td>1.358809</td>\n",
              "    </tr>\n",
              "    <tr>\n",
              "      <th>Timber</th>\n",
              "      <td>14</td>\n",
              "      <td>2005.5</td>\n",
              "      <td>8.142857</td>\n",
              "      <td>Gd</td>\n",
              "      <td>Gd</td>\n",
              "      <td>13445.214286</td>\n",
              "      <td>264538.714286</td>\n",
              "      <td>19.939039</td>\n",
              "      <td>2.300928</td>\n",
              "    </tr>\n",
              "    <tr>\n",
              "      <th>SawyerW</th>\n",
              "      <td>4</td>\n",
              "      <td>1994.0</td>\n",
              "      <td>8.000000</td>\n",
              "      <td>Gd</td>\n",
              "      <td>Gd</td>\n",
              "      <td>10297.500000</td>\n",
              "      <td>215750.000000</td>\n",
              "      <td>21.018843</td>\n",
              "      <td>1.188072</td>\n",
              "    </tr>\n",
              "  </tbody>\n",
              "</table>\n",
              "</div>\n",
              "      <button class=\"colab-df-convert\" onclick=\"convertToInteractive('df-4624c367-7471-4e01-ae01-af02b204de24')\"\n",
              "              title=\"Convert this dataframe to an interactive table.\"\n",
              "              style=\"display:none;\">\n",
              "        \n",
              "  <svg xmlns=\"http://www.w3.org/2000/svg\" height=\"24px\"viewBox=\"0 0 24 24\"\n",
              "       width=\"24px\">\n",
              "    <path d=\"M0 0h24v24H0V0z\" fill=\"none\"/>\n",
              "    <path d=\"M18.56 5.44l.94 2.06.94-2.06 2.06-.94-2.06-.94-.94-2.06-.94 2.06-2.06.94zm-11 1L8.5 8.5l.94-2.06 2.06-.94-2.06-.94L8.5 2.5l-.94 2.06-2.06.94zm10 10l.94 2.06.94-2.06 2.06-.94-2.06-.94-.94-2.06-.94 2.06-2.06.94z\"/><path d=\"M17.41 7.96l-1.37-1.37c-.4-.4-.92-.59-1.43-.59-.52 0-1.04.2-1.43.59L10.3 9.45l-7.72 7.72c-.78.78-.78 2.05 0 2.83L4 21.41c.39.39.9.59 1.41.59.51 0 1.02-.2 1.41-.59l7.78-7.78 2.81-2.81c.8-.78.8-2.07 0-2.86zM5.41 20L4 18.59l7.72-7.72 1.47 1.35L5.41 20z\"/>\n",
              "  </svg>\n",
              "      </button>\n",
              "      \n",
              "  <style>\n",
              "    .colab-df-container {\n",
              "      display:flex;\n",
              "      flex-wrap:wrap;\n",
              "      gap: 12px;\n",
              "    }\n",
              "\n",
              "    .colab-df-convert {\n",
              "      background-color: #E8F0FE;\n",
              "      border: none;\n",
              "      border-radius: 50%;\n",
              "      cursor: pointer;\n",
              "      display: none;\n",
              "      fill: #1967D2;\n",
              "      height: 32px;\n",
              "      padding: 0 0 0 0;\n",
              "      width: 32px;\n",
              "    }\n",
              "\n",
              "    .colab-df-convert:hover {\n",
              "      background-color: #E2EBFA;\n",
              "      box-shadow: 0px 1px 2px rgba(60, 64, 67, 0.3), 0px 1px 3px 1px rgba(60, 64, 67, 0.15);\n",
              "      fill: #174EA6;\n",
              "    }\n",
              "\n",
              "    [theme=dark] .colab-df-convert {\n",
              "      background-color: #3B4455;\n",
              "      fill: #D2E3FC;\n",
              "    }\n",
              "\n",
              "    [theme=dark] .colab-df-convert:hover {\n",
              "      background-color: #434B5C;\n",
              "      box-shadow: 0px 1px 3px 1px rgba(0, 0, 0, 0.15);\n",
              "      filter: drop-shadow(0px 1px 2px rgba(0, 0, 0, 0.3));\n",
              "      fill: #FFFFFF;\n",
              "    }\n",
              "  </style>\n",
              "\n",
              "      <script>\n",
              "        const buttonEl =\n",
              "          document.querySelector('#df-4624c367-7471-4e01-ae01-af02b204de24 button.colab-df-convert');\n",
              "        buttonEl.style.display =\n",
              "          google.colab.kernel.accessAllowed ? 'block' : 'none';\n",
              "\n",
              "        async function convertToInteractive(key) {\n",
              "          const element = document.querySelector('#df-4624c367-7471-4e01-ae01-af02b204de24');\n",
              "          const dataTable =\n",
              "            await google.colab.kernel.invokeFunction('convertToInteractive',\n",
              "                                                     [key], {});\n",
              "          if (!dataTable) return;\n",
              "\n",
              "          const docLinkHtml = 'Like what you see? Visit the ' +\n",
              "            '<a target=\"_blank\" href=https://colab.research.google.com/notebooks/data_table.ipynb>data table notebook</a>'\n",
              "            + ' to learn more about interactive tables.';\n",
              "          element.innerHTML = '';\n",
              "          dataTable['output_type'] = 'display_data';\n",
              "          await google.colab.output.renderOutput(dataTable, element);\n",
              "          const docLink = document.createElement('div');\n",
              "          docLink.innerHTML = docLinkHtml;\n",
              "          element.appendChild(docLink);\n",
              "        }\n",
              "      </script>\n",
              "    </div>\n",
              "  </div>\n",
              "  "
            ]
          },
          "metadata": {},
          "execution_count": 132
        }
      ],
      "source": [
        "# Sorting the data frame \"nbd\" based on the \"Mean Price per Area\" feature\n",
        "########## CODE HERE #########\n",
        "nbd.sort_values(by=\"Mean Price Per Area\",ascending=True)"
      ]
    },
    {
      "cell_type": "code",
      "execution_count": 133,
      "id": "8661151f",
      "metadata": {
        "colab": {
          "base_uri": "https://localhost:8080/",
          "height": 424
        },
        "id": "8661151f",
        "outputId": "a7129e23-6c50-4534-9eb2-d9ddb682d0f5"
      },
      "outputs": [
        {
          "output_type": "execute_result",
          "data": {
            "text/plain": [
              "         Number of Houses  Median Year Built  Mean overall Quality  \\\n",
              "Edwards                 3             2008.0             10.000000   \n",
              "SawyerW                 4             1994.0              8.000000   \n",
              "Somerst                17             2006.0              8.117647   \n",
              "Gilbert                 6             2003.0              8.000000   \n",
              "NridgHt                19             2005.0              8.263158   \n",
              "CollgCr                21             2002.0              8.047619   \n",
              "Timber                 14             2005.5              8.142857   \n",
              "NoRidge                12             1994.0              8.166667   \n",
              "Veenker                 9             1980.0              8.222222   \n",
              "StoneBr                 3             2003.0              8.333333   \n",
              "\n",
              "        Modal Kitchen Quality Modal Exter Quality  Mean Lot Area  \\\n",
              "Edwards                    Ex                  Ex   47757.000000   \n",
              "SawyerW                    Gd                  Gd   10297.500000   \n",
              "Somerst                    Gd                  Gd   12867.823529   \n",
              "Gilbert                    Gd                  Gd   11672.333333   \n",
              "NridgHt                    Gd                  Gd   15466.157895   \n",
              "CollgCr                    Gd                  Gd   12782.809524   \n",
              "Timber                     Gd                  Gd   13445.214286   \n",
              "NoRidge                    Gd                  Gd   18624.583333   \n",
              "Veenker                    Gd                  Gd   19433.111111   \n",
              "StoneBr                    Gd                  Ex   39528.666667   \n",
              "\n",
              "         Mean Sale Price  Mean Price Per Area  Deviation in Price Per Area  \n",
              "Edwards    176200.000000             3.930550                     0.950752  \n",
              "SawyerW    215750.000000            21.018843                     1.188072  \n",
              "Somerst    256204.647059            19.868429                     1.358809  \n",
              "Gilbert    223000.000000            19.160525                     1.920681  \n",
              "NridgHt    302021.368421            19.692874                     1.994279  \n",
              "CollgCr    241956.190476            19.207571                     2.119454  \n",
              "Timber     264538.714286            19.939039                     2.300928  \n",
              "NoRidge    324170.833333            19.200591                     2.829039  \n",
              "Veenker    270583.333333            16.295566                     4.184029  \n",
              "StoneBr    466529.000000            14.011932                     4.390784  "
            ],
            "text/html": [
              "\n",
              "  <div id=\"df-b363d731-6c70-4936-b5c8-001eac234cad\">\n",
              "    <div class=\"colab-df-container\">\n",
              "      <div>\n",
              "<style scoped>\n",
              "    .dataframe tbody tr th:only-of-type {\n",
              "        vertical-align: middle;\n",
              "    }\n",
              "\n",
              "    .dataframe tbody tr th {\n",
              "        vertical-align: top;\n",
              "    }\n",
              "\n",
              "    .dataframe thead th {\n",
              "        text-align: right;\n",
              "    }\n",
              "</style>\n",
              "<table border=\"1\" class=\"dataframe\">\n",
              "  <thead>\n",
              "    <tr style=\"text-align: right;\">\n",
              "      <th></th>\n",
              "      <th>Number of Houses</th>\n",
              "      <th>Median Year Built</th>\n",
              "      <th>Mean overall Quality</th>\n",
              "      <th>Modal Kitchen Quality</th>\n",
              "      <th>Modal Exter Quality</th>\n",
              "      <th>Mean Lot Area</th>\n",
              "      <th>Mean Sale Price</th>\n",
              "      <th>Mean Price Per Area</th>\n",
              "      <th>Deviation in Price Per Area</th>\n",
              "    </tr>\n",
              "  </thead>\n",
              "  <tbody>\n",
              "    <tr>\n",
              "      <th>Edwards</th>\n",
              "      <td>3</td>\n",
              "      <td>2008.0</td>\n",
              "      <td>10.000000</td>\n",
              "      <td>Ex</td>\n",
              "      <td>Ex</td>\n",
              "      <td>47757.000000</td>\n",
              "      <td>176200.000000</td>\n",
              "      <td>3.930550</td>\n",
              "      <td>0.950752</td>\n",
              "    </tr>\n",
              "    <tr>\n",
              "      <th>SawyerW</th>\n",
              "      <td>4</td>\n",
              "      <td>1994.0</td>\n",
              "      <td>8.000000</td>\n",
              "      <td>Gd</td>\n",
              "      <td>Gd</td>\n",
              "      <td>10297.500000</td>\n",
              "      <td>215750.000000</td>\n",
              "      <td>21.018843</td>\n",
              "      <td>1.188072</td>\n",
              "    </tr>\n",
              "    <tr>\n",
              "      <th>Somerst</th>\n",
              "      <td>17</td>\n",
              "      <td>2006.0</td>\n",
              "      <td>8.117647</td>\n",
              "      <td>Gd</td>\n",
              "      <td>Gd</td>\n",
              "      <td>12867.823529</td>\n",
              "      <td>256204.647059</td>\n",
              "      <td>19.868429</td>\n",
              "      <td>1.358809</td>\n",
              "    </tr>\n",
              "    <tr>\n",
              "      <th>Gilbert</th>\n",
              "      <td>6</td>\n",
              "      <td>2003.0</td>\n",
              "      <td>8.000000</td>\n",
              "      <td>Gd</td>\n",
              "      <td>Gd</td>\n",
              "      <td>11672.333333</td>\n",
              "      <td>223000.000000</td>\n",
              "      <td>19.160525</td>\n",
              "      <td>1.920681</td>\n",
              "    </tr>\n",
              "    <tr>\n",
              "      <th>NridgHt</th>\n",
              "      <td>19</td>\n",
              "      <td>2005.0</td>\n",
              "      <td>8.263158</td>\n",
              "      <td>Gd</td>\n",
              "      <td>Gd</td>\n",
              "      <td>15466.157895</td>\n",
              "      <td>302021.368421</td>\n",
              "      <td>19.692874</td>\n",
              "      <td>1.994279</td>\n",
              "    </tr>\n",
              "    <tr>\n",
              "      <th>CollgCr</th>\n",
              "      <td>21</td>\n",
              "      <td>2002.0</td>\n",
              "      <td>8.047619</td>\n",
              "      <td>Gd</td>\n",
              "      <td>Gd</td>\n",
              "      <td>12782.809524</td>\n",
              "      <td>241956.190476</td>\n",
              "      <td>19.207571</td>\n",
              "      <td>2.119454</td>\n",
              "    </tr>\n",
              "    <tr>\n",
              "      <th>Timber</th>\n",
              "      <td>14</td>\n",
              "      <td>2005.5</td>\n",
              "      <td>8.142857</td>\n",
              "      <td>Gd</td>\n",
              "      <td>Gd</td>\n",
              "      <td>13445.214286</td>\n",
              "      <td>264538.714286</td>\n",
              "      <td>19.939039</td>\n",
              "      <td>2.300928</td>\n",
              "    </tr>\n",
              "    <tr>\n",
              "      <th>NoRidge</th>\n",
              "      <td>12</td>\n",
              "      <td>1994.0</td>\n",
              "      <td>8.166667</td>\n",
              "      <td>Gd</td>\n",
              "      <td>Gd</td>\n",
              "      <td>18624.583333</td>\n",
              "      <td>324170.833333</td>\n",
              "      <td>19.200591</td>\n",
              "      <td>2.829039</td>\n",
              "    </tr>\n",
              "    <tr>\n",
              "      <th>Veenker</th>\n",
              "      <td>9</td>\n",
              "      <td>1980.0</td>\n",
              "      <td>8.222222</td>\n",
              "      <td>Gd</td>\n",
              "      <td>Gd</td>\n",
              "      <td>19433.111111</td>\n",
              "      <td>270583.333333</td>\n",
              "      <td>16.295566</td>\n",
              "      <td>4.184029</td>\n",
              "    </tr>\n",
              "    <tr>\n",
              "      <th>StoneBr</th>\n",
              "      <td>3</td>\n",
              "      <td>2003.0</td>\n",
              "      <td>8.333333</td>\n",
              "      <td>Gd</td>\n",
              "      <td>Ex</td>\n",
              "      <td>39528.666667</td>\n",
              "      <td>466529.000000</td>\n",
              "      <td>14.011932</td>\n",
              "      <td>4.390784</td>\n",
              "    </tr>\n",
              "  </tbody>\n",
              "</table>\n",
              "</div>\n",
              "      <button class=\"colab-df-convert\" onclick=\"convertToInteractive('df-b363d731-6c70-4936-b5c8-001eac234cad')\"\n",
              "              title=\"Convert this dataframe to an interactive table.\"\n",
              "              style=\"display:none;\">\n",
              "        \n",
              "  <svg xmlns=\"http://www.w3.org/2000/svg\" height=\"24px\"viewBox=\"0 0 24 24\"\n",
              "       width=\"24px\">\n",
              "    <path d=\"M0 0h24v24H0V0z\" fill=\"none\"/>\n",
              "    <path d=\"M18.56 5.44l.94 2.06.94-2.06 2.06-.94-2.06-.94-.94-2.06-.94 2.06-2.06.94zm-11 1L8.5 8.5l.94-2.06 2.06-.94-2.06-.94L8.5 2.5l-.94 2.06-2.06.94zm10 10l.94 2.06.94-2.06 2.06-.94-2.06-.94-.94-2.06-.94 2.06-2.06.94z\"/><path d=\"M17.41 7.96l-1.37-1.37c-.4-.4-.92-.59-1.43-.59-.52 0-1.04.2-1.43.59L10.3 9.45l-7.72 7.72c-.78.78-.78 2.05 0 2.83L4 21.41c.39.39.9.59 1.41.59.51 0 1.02-.2 1.41-.59l7.78-7.78 2.81-2.81c.8-.78.8-2.07 0-2.86zM5.41 20L4 18.59l7.72-7.72 1.47 1.35L5.41 20z\"/>\n",
              "  </svg>\n",
              "      </button>\n",
              "      \n",
              "  <style>\n",
              "    .colab-df-container {\n",
              "      display:flex;\n",
              "      flex-wrap:wrap;\n",
              "      gap: 12px;\n",
              "    }\n",
              "\n",
              "    .colab-df-convert {\n",
              "      background-color: #E8F0FE;\n",
              "      border: none;\n",
              "      border-radius: 50%;\n",
              "      cursor: pointer;\n",
              "      display: none;\n",
              "      fill: #1967D2;\n",
              "      height: 32px;\n",
              "      padding: 0 0 0 0;\n",
              "      width: 32px;\n",
              "    }\n",
              "\n",
              "    .colab-df-convert:hover {\n",
              "      background-color: #E2EBFA;\n",
              "      box-shadow: 0px 1px 2px rgba(60, 64, 67, 0.3), 0px 1px 3px 1px rgba(60, 64, 67, 0.15);\n",
              "      fill: #174EA6;\n",
              "    }\n",
              "\n",
              "    [theme=dark] .colab-df-convert {\n",
              "      background-color: #3B4455;\n",
              "      fill: #D2E3FC;\n",
              "    }\n",
              "\n",
              "    [theme=dark] .colab-df-convert:hover {\n",
              "      background-color: #434B5C;\n",
              "      box-shadow: 0px 1px 3px 1px rgba(0, 0, 0, 0.15);\n",
              "      filter: drop-shadow(0px 1px 2px rgba(0, 0, 0, 0.3));\n",
              "      fill: #FFFFFF;\n",
              "    }\n",
              "  </style>\n",
              "\n",
              "      <script>\n",
              "        const buttonEl =\n",
              "          document.querySelector('#df-b363d731-6c70-4936-b5c8-001eac234cad button.colab-df-convert');\n",
              "        buttonEl.style.display =\n",
              "          google.colab.kernel.accessAllowed ? 'block' : 'none';\n",
              "\n",
              "        async function convertToInteractive(key) {\n",
              "          const element = document.querySelector('#df-b363d731-6c70-4936-b5c8-001eac234cad');\n",
              "          const dataTable =\n",
              "            await google.colab.kernel.invokeFunction('convertToInteractive',\n",
              "                                                     [key], {});\n",
              "          if (!dataTable) return;\n",
              "\n",
              "          const docLinkHtml = 'Like what you see? Visit the ' +\n",
              "            '<a target=\"_blank\" href=https://colab.research.google.com/notebooks/data_table.ipynb>data table notebook</a>'\n",
              "            + ' to learn more about interactive tables.';\n",
              "          element.innerHTML = '';\n",
              "          dataTable['output_type'] = 'display_data';\n",
              "          await google.colab.output.renderOutput(dataTable, element);\n",
              "          const docLink = document.createElement('div');\n",
              "          docLink.innerHTML = docLinkHtml;\n",
              "          element.appendChild(docLink);\n",
              "        }\n",
              "      </script>\n",
              "    </div>\n",
              "  </div>\n",
              "  "
            ]
          },
          "metadata": {},
          "execution_count": 133
        }
      ],
      "source": [
        "# Sorting the data frame \"nbd\" based on the \"Deviation in Price per Area\" feature\n",
        "########## CODE HERE #########\n",
        "nbd.sort_values(by=\"Deviation in Price Per Area\",ascending=True)"
      ]
    },
    {
      "cell_type": "code",
      "execution_count": 134,
      "id": "0d7c5508",
      "metadata": {
        "colab": {
          "base_uri": "https://localhost:8080/",
          "height": 142
        },
        "id": "0d7c5508",
        "outputId": "7c129a81-be6f-47da-97c2-305f1f29d724"
      },
      "outputs": [
        {
          "output_type": "execute_result",
          "data": {
            "text/plain": [
              "         Number of Houses  Median Year Built  Mean overall Quality  \\\n",
              "Gilbert                 6             2003.0                   8.0   \n",
              "\n",
              "        Modal Kitchen Quality Modal Exter Quality  Mean Lot Area  \\\n",
              "Gilbert                    Gd                  Gd   11672.333333   \n",
              "\n",
              "         Mean Sale Price  Mean Price Per Area  Deviation in Price Per Area  \n",
              "Gilbert         223000.0            19.160525                     1.920681  "
            ],
            "text/html": [
              "\n",
              "  <div id=\"df-32406679-846a-4628-b4ae-c9499e9dc3e6\">\n",
              "    <div class=\"colab-df-container\">\n",
              "      <div>\n",
              "<style scoped>\n",
              "    .dataframe tbody tr th:only-of-type {\n",
              "        vertical-align: middle;\n",
              "    }\n",
              "\n",
              "    .dataframe tbody tr th {\n",
              "        vertical-align: top;\n",
              "    }\n",
              "\n",
              "    .dataframe thead th {\n",
              "        text-align: right;\n",
              "    }\n",
              "</style>\n",
              "<table border=\"1\" class=\"dataframe\">\n",
              "  <thead>\n",
              "    <tr style=\"text-align: right;\">\n",
              "      <th></th>\n",
              "      <th>Number of Houses</th>\n",
              "      <th>Median Year Built</th>\n",
              "      <th>Mean overall Quality</th>\n",
              "      <th>Modal Kitchen Quality</th>\n",
              "      <th>Modal Exter Quality</th>\n",
              "      <th>Mean Lot Area</th>\n",
              "      <th>Mean Sale Price</th>\n",
              "      <th>Mean Price Per Area</th>\n",
              "      <th>Deviation in Price Per Area</th>\n",
              "    </tr>\n",
              "  </thead>\n",
              "  <tbody>\n",
              "    <tr>\n",
              "      <th>Gilbert</th>\n",
              "      <td>6</td>\n",
              "      <td>2003.0</td>\n",
              "      <td>8.0</td>\n",
              "      <td>Gd</td>\n",
              "      <td>Gd</td>\n",
              "      <td>11672.333333</td>\n",
              "      <td>223000.0</td>\n",
              "      <td>19.160525</td>\n",
              "      <td>1.920681</td>\n",
              "    </tr>\n",
              "  </tbody>\n",
              "</table>\n",
              "</div>\n",
              "      <button class=\"colab-df-convert\" onclick=\"convertToInteractive('df-32406679-846a-4628-b4ae-c9499e9dc3e6')\"\n",
              "              title=\"Convert this dataframe to an interactive table.\"\n",
              "              style=\"display:none;\">\n",
              "        \n",
              "  <svg xmlns=\"http://www.w3.org/2000/svg\" height=\"24px\"viewBox=\"0 0 24 24\"\n",
              "       width=\"24px\">\n",
              "    <path d=\"M0 0h24v24H0V0z\" fill=\"none\"/>\n",
              "    <path d=\"M18.56 5.44l.94 2.06.94-2.06 2.06-.94-2.06-.94-.94-2.06-.94 2.06-2.06.94zm-11 1L8.5 8.5l.94-2.06 2.06-.94-2.06-.94L8.5 2.5l-.94 2.06-2.06.94zm10 10l.94 2.06.94-2.06 2.06-.94-2.06-.94-.94-2.06-.94 2.06-2.06.94z\"/><path d=\"M17.41 7.96l-1.37-1.37c-.4-.4-.92-.59-1.43-.59-.52 0-1.04.2-1.43.59L10.3 9.45l-7.72 7.72c-.78.78-.78 2.05 0 2.83L4 21.41c.39.39.9.59 1.41.59.51 0 1.02-.2 1.41-.59l7.78-7.78 2.81-2.81c.8-.78.8-2.07 0-2.86zM5.41 20L4 18.59l7.72-7.72 1.47 1.35L5.41 20z\"/>\n",
              "  </svg>\n",
              "      </button>\n",
              "      \n",
              "  <style>\n",
              "    .colab-df-container {\n",
              "      display:flex;\n",
              "      flex-wrap:wrap;\n",
              "      gap: 12px;\n",
              "    }\n",
              "\n",
              "    .colab-df-convert {\n",
              "      background-color: #E8F0FE;\n",
              "      border: none;\n",
              "      border-radius: 50%;\n",
              "      cursor: pointer;\n",
              "      display: none;\n",
              "      fill: #1967D2;\n",
              "      height: 32px;\n",
              "      padding: 0 0 0 0;\n",
              "      width: 32px;\n",
              "    }\n",
              "\n",
              "    .colab-df-convert:hover {\n",
              "      background-color: #E2EBFA;\n",
              "      box-shadow: 0px 1px 2px rgba(60, 64, 67, 0.3), 0px 1px 3px 1px rgba(60, 64, 67, 0.15);\n",
              "      fill: #174EA6;\n",
              "    }\n",
              "\n",
              "    [theme=dark] .colab-df-convert {\n",
              "      background-color: #3B4455;\n",
              "      fill: #D2E3FC;\n",
              "    }\n",
              "\n",
              "    [theme=dark] .colab-df-convert:hover {\n",
              "      background-color: #434B5C;\n",
              "      box-shadow: 0px 1px 3px 1px rgba(0, 0, 0, 0.15);\n",
              "      filter: drop-shadow(0px 1px 2px rgba(0, 0, 0, 0.3));\n",
              "      fill: #FFFFFF;\n",
              "    }\n",
              "  </style>\n",
              "\n",
              "      <script>\n",
              "        const buttonEl =\n",
              "          document.querySelector('#df-32406679-846a-4628-b4ae-c9499e9dc3e6 button.colab-df-convert');\n",
              "        buttonEl.style.display =\n",
              "          google.colab.kernel.accessAllowed ? 'block' : 'none';\n",
              "\n",
              "        async function convertToInteractive(key) {\n",
              "          const element = document.querySelector('#df-32406679-846a-4628-b4ae-c9499e9dc3e6');\n",
              "          const dataTable =\n",
              "            await google.colab.kernel.invokeFunction('convertToInteractive',\n",
              "                                                     [key], {});\n",
              "          if (!dataTable) return;\n",
              "\n",
              "          const docLinkHtml = 'Like what you see? Visit the ' +\n",
              "            '<a target=\"_blank\" href=https://colab.research.google.com/notebooks/data_table.ipynb>data table notebook</a>'\n",
              "            + ' to learn more about interactive tables.';\n",
              "          element.innerHTML = '';\n",
              "          dataTable['output_type'] = 'display_data';\n",
              "          await google.colab.output.renderOutput(dataTable, element);\n",
              "          const docLink = document.createElement('div');\n",
              "          docLink.innerHTML = docLinkHtml;\n",
              "          element.appendChild(docLink);\n",
              "        }\n",
              "      </script>\n",
              "    </div>\n",
              "  </div>\n",
              "  "
            ]
          },
          "metadata": {},
          "execution_count": 134
        }
      ],
      "source": [
        "# Getting the top neighbourhoods in which to invest based on \"Price per Area\" and \"Deviation in Price per Area\"\n",
        "########## CODE HERE #########\n",
        "nbd[(nbd[\"Mean Price Per Area\"]<nbd[\"Mean Price Per Area\"].median()) & (nbd[\"Deviation in Price Per Area\"]<nbd[\"Deviation in Price Per Area\"].median())].head(1)"
      ]
    },
    {
      "cell_type": "code",
      "execution_count": 135,
      "id": "a8d954de",
      "metadata": {
        "colab": {
          "base_uri": "https://localhost:8080/",
          "height": 205
        },
        "id": "a8d954de",
        "outputId": "1ad00fb5-0d2f-49e1-af3f-62db299d58a5"
      },
      "outputs": [
        {
          "output_type": "execute_result",
          "data": {
            "text/plain": [
              "         Number of Houses  Median Year Built  Mean overall Quality  \\\n",
              "Gilbert                 6             2003.0              8.000000   \n",
              "NridgHt                19             2005.0              8.263158   \n",
              "Somerst                17             2006.0              8.117647   \n",
              "\n",
              "        Modal Kitchen Quality Modal Exter Quality  Mean Lot Area  \\\n",
              "Gilbert                    Gd                  Gd   11672.333333   \n",
              "NridgHt                    Gd                  Gd   15466.157895   \n",
              "Somerst                    Gd                  Gd   12867.823529   \n",
              "\n",
              "         Mean Sale Price  Mean Price Per Area  Deviation in Price Per Area  \n",
              "Gilbert    223000.000000            19.160525                     1.920681  \n",
              "NridgHt    302021.368421            19.692874                     1.994279  \n",
              "Somerst    256204.647059            19.868429                     1.358809  "
            ],
            "text/html": [
              "\n",
              "  <div id=\"df-cbdc2775-8c43-40ee-bab8-e300446ff597\">\n",
              "    <div class=\"colab-df-container\">\n",
              "      <div>\n",
              "<style scoped>\n",
              "    .dataframe tbody tr th:only-of-type {\n",
              "        vertical-align: middle;\n",
              "    }\n",
              "\n",
              "    .dataframe tbody tr th {\n",
              "        vertical-align: top;\n",
              "    }\n",
              "\n",
              "    .dataframe thead th {\n",
              "        text-align: right;\n",
              "    }\n",
              "</style>\n",
              "<table border=\"1\" class=\"dataframe\">\n",
              "  <thead>\n",
              "    <tr style=\"text-align: right;\">\n",
              "      <th></th>\n",
              "      <th>Number of Houses</th>\n",
              "      <th>Median Year Built</th>\n",
              "      <th>Mean overall Quality</th>\n",
              "      <th>Modal Kitchen Quality</th>\n",
              "      <th>Modal Exter Quality</th>\n",
              "      <th>Mean Lot Area</th>\n",
              "      <th>Mean Sale Price</th>\n",
              "      <th>Mean Price Per Area</th>\n",
              "      <th>Deviation in Price Per Area</th>\n",
              "    </tr>\n",
              "  </thead>\n",
              "  <tbody>\n",
              "    <tr>\n",
              "      <th>Gilbert</th>\n",
              "      <td>6</td>\n",
              "      <td>2003.0</td>\n",
              "      <td>8.000000</td>\n",
              "      <td>Gd</td>\n",
              "      <td>Gd</td>\n",
              "      <td>11672.333333</td>\n",
              "      <td>223000.000000</td>\n",
              "      <td>19.160525</td>\n",
              "      <td>1.920681</td>\n",
              "    </tr>\n",
              "    <tr>\n",
              "      <th>NridgHt</th>\n",
              "      <td>19</td>\n",
              "      <td>2005.0</td>\n",
              "      <td>8.263158</td>\n",
              "      <td>Gd</td>\n",
              "      <td>Gd</td>\n",
              "      <td>15466.157895</td>\n",
              "      <td>302021.368421</td>\n",
              "      <td>19.692874</td>\n",
              "      <td>1.994279</td>\n",
              "    </tr>\n",
              "    <tr>\n",
              "      <th>Somerst</th>\n",
              "      <td>17</td>\n",
              "      <td>2006.0</td>\n",
              "      <td>8.117647</td>\n",
              "      <td>Gd</td>\n",
              "      <td>Gd</td>\n",
              "      <td>12867.823529</td>\n",
              "      <td>256204.647059</td>\n",
              "      <td>19.868429</td>\n",
              "      <td>1.358809</td>\n",
              "    </tr>\n",
              "  </tbody>\n",
              "</table>\n",
              "</div>\n",
              "      <button class=\"colab-df-convert\" onclick=\"convertToInteractive('df-cbdc2775-8c43-40ee-bab8-e300446ff597')\"\n",
              "              title=\"Convert this dataframe to an interactive table.\"\n",
              "              style=\"display:none;\">\n",
              "        \n",
              "  <svg xmlns=\"http://www.w3.org/2000/svg\" height=\"24px\"viewBox=\"0 0 24 24\"\n",
              "       width=\"24px\">\n",
              "    <path d=\"M0 0h24v24H0V0z\" fill=\"none\"/>\n",
              "    <path d=\"M18.56 5.44l.94 2.06.94-2.06 2.06-.94-2.06-.94-.94-2.06-.94 2.06-2.06.94zm-11 1L8.5 8.5l.94-2.06 2.06-.94-2.06-.94L8.5 2.5l-.94 2.06-2.06.94zm10 10l.94 2.06.94-2.06 2.06-.94-2.06-.94-.94-2.06-.94 2.06-2.06.94z\"/><path d=\"M17.41 7.96l-1.37-1.37c-.4-.4-.92-.59-1.43-.59-.52 0-1.04.2-1.43.59L10.3 9.45l-7.72 7.72c-.78.78-.78 2.05 0 2.83L4 21.41c.39.39.9.59 1.41.59.51 0 1.02-.2 1.41-.59l7.78-7.78 2.81-2.81c.8-.78.8-2.07 0-2.86zM5.41 20L4 18.59l7.72-7.72 1.47 1.35L5.41 20z\"/>\n",
              "  </svg>\n",
              "      </button>\n",
              "      \n",
              "  <style>\n",
              "    .colab-df-container {\n",
              "      display:flex;\n",
              "      flex-wrap:wrap;\n",
              "      gap: 12px;\n",
              "    }\n",
              "\n",
              "    .colab-df-convert {\n",
              "      background-color: #E8F0FE;\n",
              "      border: none;\n",
              "      border-radius: 50%;\n",
              "      cursor: pointer;\n",
              "      display: none;\n",
              "      fill: #1967D2;\n",
              "      height: 32px;\n",
              "      padding: 0 0 0 0;\n",
              "      width: 32px;\n",
              "    }\n",
              "\n",
              "    .colab-df-convert:hover {\n",
              "      background-color: #E2EBFA;\n",
              "      box-shadow: 0px 1px 2px rgba(60, 64, 67, 0.3), 0px 1px 3px 1px rgba(60, 64, 67, 0.15);\n",
              "      fill: #174EA6;\n",
              "    }\n",
              "\n",
              "    [theme=dark] .colab-df-convert {\n",
              "      background-color: #3B4455;\n",
              "      fill: #D2E3FC;\n",
              "    }\n",
              "\n",
              "    [theme=dark] .colab-df-convert:hover {\n",
              "      background-color: #434B5C;\n",
              "      box-shadow: 0px 1px 3px 1px rgba(0, 0, 0, 0.15);\n",
              "      filter: drop-shadow(0px 1px 2px rgba(0, 0, 0, 0.3));\n",
              "      fill: #FFFFFF;\n",
              "    }\n",
              "  </style>\n",
              "\n",
              "      <script>\n",
              "        const buttonEl =\n",
              "          document.querySelector('#df-cbdc2775-8c43-40ee-bab8-e300446ff597 button.colab-df-convert');\n",
              "        buttonEl.style.display =\n",
              "          google.colab.kernel.accessAllowed ? 'block' : 'none';\n",
              "\n",
              "        async function convertToInteractive(key) {\n",
              "          const element = document.querySelector('#df-cbdc2775-8c43-40ee-bab8-e300446ff597');\n",
              "          const dataTable =\n",
              "            await google.colab.kernel.invokeFunction('convertToInteractive',\n",
              "                                                     [key], {});\n",
              "          if (!dataTable) return;\n",
              "\n",
              "          const docLinkHtml = 'Like what you see? Visit the ' +\n",
              "            '<a target=\"_blank\" href=https://colab.research.google.com/notebooks/data_table.ipynb>data table notebook</a>'\n",
              "            + ' to learn more about interactive tables.';\n",
              "          element.innerHTML = '';\n",
              "          dataTable['output_type'] = 'display_data';\n",
              "          await google.colab.output.renderOutput(dataTable, element);\n",
              "          const docLink = document.createElement('div');\n",
              "          docLink.innerHTML = docLinkHtml;\n",
              "          element.appendChild(docLink);\n",
              "        }\n",
              "      </script>\n",
              "    </div>\n",
              "  </div>\n",
              "  "
            ]
          },
          "metadata": {},
          "execution_count": 135
        }
      ],
      "source": [
        "# Getting the top three neighbourhoods in which to invest based on \"Price per Area\" and \"Deviation in Price per Area\"\n",
        "# Considering neighbourhoods with \"Mean Price per Area\" less than 20 dollars per square feet\n",
        "# Considering neighbourhoods with \"Deviation in Price per Area\" less than 2 dollars per square feet\n",
        "########## CODE HERE #########\n",
        "nbd[(nbd[\"Mean Price Per Area\"]<20) & (nbd[\"Deviation in Price Per Area\"]<2)].head(3)"
      ]
    },
    {
      "cell_type": "markdown",
      "source": [
        "Observations:\n",
        "\n",
        "The top 3 neighbourhoods in which to invest based on \"Price per Area\" and \"Deviation in Price per Area\" are found based upon some conditions.\n",
        "\n",
        "The top 3 neighbourhoods to be invested came out to be:\n",
        "\n",
        "1. NridgHt\n",
        "\n",
        "2. Somerst\n",
        "\n",
        "3. NAmes"
      ],
      "metadata": {
        "id": "1ly2zbMovK5t"
      },
      "id": "1ly2zbMovK5t"
    },
    {
      "cell_type": "markdown",
      "source": [
        "# <center><u>Conclusions</u> </center>"
      ],
      "metadata": {
        "id": "X8XkdzQZv_sP"
      },
      "id": "X8XkdzQZv_sP"
    },
    {
      "cell_type": "markdown",
      "source": [
        "From the given data, we can use simple visualisations to get a sense of how data are distributed.\n",
        "\n",
        "We can use various plots to see the distribution of the variables.\n",
        "\n",
        "We can clearly come up to a conclusion of selecting top neighbouhoods in which one can invest. "
      ],
      "metadata": {
        "id": "zsOh1eTnv7cc"
      },
      "id": "zsOh1eTnv7cc"
    },
    {
      "cell_type": "code",
      "execution_count": 55,
      "id": "bcf85000",
      "metadata": {
        "id": "bcf85000"
      },
      "outputs": [],
      "source": [
        "###########################################################################"
      ]
    },
    {
      "cell_type": "markdown",
      "source": [
        "**FEEDBACK**\n",
        "\n",
        "We hope you’ve enjoyed this course so far. We’re committed to help you use \"Stats and maths for data science\" course to its full potential, so that you have a great learning experience. And that’s why we need your help in form of a feedback here.\n",
        "\n",
        "Please fill this feedback form https://forms.zohopublic.in/cloudyml/form/CloudyMLStatisticsFeedbackForm/formperma/WV946wnf0sDM_tOlH87RxZR9yMceKWGrtuPOyXzzCRc"
      ],
      "metadata": {
        "id": "rGNAX9eTvv4y"
      },
      "id": "rGNAX9eTvv4y"
    }
  ],
  "metadata": {
    "kernelspec": {
      "display_name": "Python 3",
      "language": "python",
      "name": "python3"
    },
    "language_info": {
      "codemirror_mode": {
        "name": "ipython",
        "version": 3
      },
      "file_extension": ".py",
      "mimetype": "text/x-python",
      "name": "python",
      "nbconvert_exporter": "python",
      "pygments_lexer": "ipython3",
      "version": "3.8.8"
    },
    "colab": {
      "provenance": []
    }
  },
  "nbformat": 4,
  "nbformat_minor": 5
}